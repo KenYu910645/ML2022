{
 "cells": [
  {
   "cell_type": "code",
   "execution_count": 29,
   "metadata": {},
   "outputs": [
    {
     "name": "stdout",
     "output_type": "stream",
     "text": [
      "['./results/hello_gan_multigpu/kenyu-6.jpg', './results/hello_gan_multigpu/kenyu-14.jpg', './results/hello_gan_multigpu/kenyu-3.jpg', './results/hello_gan_multigpu/kenyu-2.jpg', './results/hello_gan_multigpu/kenyu-11.jpg', './results/hello_gan_multigpu/kenyu-13.jpg', './results/hello_gan_multigpu/kenyu-15.jpg', './results/hello_gan_multigpu/kenyu-1.jpg', './results/hello_gan_multigpu/kenyu-4.jpg', './results/hello_gan_multigpu/kenyu-9.jpg', './results/hello_gan_multigpu/kenyu-8.jpg', './results/hello_gan_multigpu/kenyu-7.jpg', './results/hello_gan_multigpu/kenyu-10.jpg', './results/hello_gan_multigpu/kenyu-12.jpg', './results/hello_gan_multigpu/kenyu-0.jpg', './results/hello_gan_multigpu/kenyu-5.jpg']\n"
     ]
    }
   ],
   "source": [
    "import os \n",
    "import cv2\n",
    "import shutil\n",
    "import glob \n",
    "# \n",
    "# 18 + 8*128 = 1042\n",
    "\n",
    "L_BORDER = 2 # pixels\n",
    "ORI_IMG_SIZE = 128\n",
    "OUTPUT_SIZE = 96\n",
    "OUTPUT_DIR = \"./output/\"\n",
    "STYLE_GAN_RESULT_DIR = \"./results/hello_gan_multigpu/\"\n",
    "img_list = glob.glob(STYLE_GAN_RESULT_DIR + \"kenyu*.jpg\")\n",
    "img_list = list(set(img_list) - set(glob.glob(STYLE_GAN_RESULT_DIR + \"kenyu*-ema.jpg\")) \\\n",
    "                              - set(glob.glob(STYLE_GAN_RESULT_DIR + \"kenyu*-mr.jpg\" )))\n",
    "\n",
    "crop_img = []\n",
    "for img_fn in img_list:\n",
    "    img = cv2.imread(img_fn)\n",
    "    for i_row in range(8):\n",
    "        for i_col in range(8):\n",
    "            x_s = L_BORDER*(i_row+1) + i_row*ORI_IMG_SIZE\n",
    "            y_s = L_BORDER*(i_col+1) + i_col*ORI_IMG_SIZE\n",
    "            img_resize = cv2.resize(img[x_s:x_s+ORI_IMG_SIZE, y_s:y_s+ORI_IMG_SIZE],\n",
    "                                    (OUTPUT_SIZE, OUTPUT_SIZE), \n",
    "                                    interpolation=cv2.INTER_AREA)\n",
    "            crop_img.append(img_resize)\n",
    "\n",
    "# clean output directory \n",
    "if os.path.isdir(OUTPUT_DIR):\n",
    "    shutil.rmtree(OUTPUT_DIR)\n",
    "os.mkdir(OUTPUT_DIR)\n",
    "\n",
    "for i, img_arr in enumerate(crop_img[:1000]):\n",
    "    cv2.imwrite(f\"{OUTPUT_DIR}{i+1}.jpg\", img_arr, [int(cv2.IMWRITE_JPEG_QUALITY), 73]) # 0~100\n",
    "\n"
   ]
  },
  {
   "cell_type": "code",
   "execution_count": null,
   "metadata": {},
   "outputs": [],
   "source": []
  }
 ],
 "metadata": {
  "interpreter": {
   "hash": "58a2bb2f2f0589613178fb8723fda4f1596a63005fc909a520ec58826900afed"
  },
  "kernelspec": {
   "display_name": "Python 3.7.11 ('KenYuML')",
   "language": "python",
   "name": "python3"
  },
  "language_info": {
   "codemirror_mode": {
    "name": "ipython",
    "version": 3
   },
   "file_extension": ".py",
   "mimetype": "text/x-python",
   "name": "python",
   "nbconvert_exporter": "python",
   "pygments_lexer": "ipython3",
   "version": "3.7.11"
  },
  "orig_nbformat": 4
 },
 "nbformat": 4,
 "nbformat_minor": 2
}
