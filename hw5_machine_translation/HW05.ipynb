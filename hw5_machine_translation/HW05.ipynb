{
  "cells": [
    {
      "cell_type": "markdown",
      "metadata": {
        "id": "AFEKWoh3p1Mv"
      },
      "source": [
        "# Homework Description\n",
        "- English to Chinese (Traditional) Translation\n",
        "  - Input: an English sentence         (e.g.\t\ttom is a student .)\n",
        "  - Output: the Chinese translation  (e.g. \t\t湯姆 是 個 學生 。)\n",
        "\n",
        "- TODO\n",
        "    - Train a simple RNN seq2seq to acheive translation\n",
        "    - Switch to transformer model to boost performance\n",
        "    - Apply Back-translation to furthur boost performance"
      ]
    },
    {
      "cell_type": "code",
      "execution_count": 94,
      "metadata": {
        "id": "3Vf1Q79XPQ3D"
      },
      "outputs": [],
      "source": [
        "# !nvidia-smi"
      ]
    },
    {
      "cell_type": "markdown",
      "metadata": {
        "id": "59neB_Sxp5Ub"
      },
      "source": [
        "# Download and import required packages"
      ]
    },
    {
      "cell_type": "code",
      "execution_count": 95,
      "metadata": {
        "id": "rRlFbfFRpZYT"
      },
      "outputs": [],
      "source": [
        "# !pip install 'torch>=1.6.0' editdistance matplotlib sacrebleu sacremoses sentencepiece tqdm wandb\n",
        "# !pip install --upgrade jupyter    "
      ]
    },
    {
      "cell_type": "code",
      "execution_count": 96,
      "metadata": {
        "id": "fSksMTdmp-Wt"
      },
      "outputs": [],
      "source": [
        "# !git clone https://github.com/pytorch/fairseq.git\n",
        "# !cd fairseq && git checkout 9a1c497\n",
        "# !pip install --upgrade ./fairseq/"
      ]
    },
    {
      "cell_type": "code",
      "execution_count": 97,
      "metadata": {
        "id": "uRLTiuIuqGNc"
      },
      "outputs": [],
      "source": [
        "import sys\n",
        "import pdb\n",
        "import pprint\n",
        "import logging\n",
        "import os\n",
        "import random\n",
        "\n",
        "import torch\n",
        "import torch.nn as nn\n",
        "import torch.nn.functional as F\n",
        "from torch.utils import data\n",
        "import numpy as np\n",
        "import tqdm.auto as tqdm\n",
        "from pathlib import Path\n",
        "from argparse import Namespace\n",
        "from fairseq import utils\n",
        "\n",
        "import matplotlib.pyplot as plt"
      ]
    },
    {
      "cell_type": "markdown",
      "metadata": {
        "id": "0n07Za1XqJzA"
      },
      "source": [
        "# Fix random seed"
      ]
    },
    {
      "cell_type": "code",
      "execution_count": 98,
      "metadata": {
        "id": "xllxxyWxqI7s"
      },
      "outputs": [],
      "source": [
        "seed = 73\n",
        "random.seed(seed)\n",
        "torch.manual_seed(seed)\n",
        "if torch.cuda.is_available():\n",
        "    torch.cuda.manual_seed(seed)\n",
        "    torch.cuda.manual_seed_all(seed)  \n",
        "np.random.seed(seed)  \n",
        "torch.backends.cudnn.benchmark = False\n",
        "torch.backends.cudnn.deterministic = True"
      ]
    },
    {
      "cell_type": "markdown",
      "metadata": {
        "id": "N5ORDJ-2qdYw"
      },
      "source": [
        "# Dataset\n",
        "\n",
        "## En-Zh Bilingual Parallel Corpus\n",
        "* [TED2020](#reimers-2020-multilingual-sentence-bert)\n",
        "    - Raw: 398,066 (sentences)   \n",
        "    - Processed: 393,980 (sentences)\n",
        "    \n",
        "\n",
        "## Testdata\n",
        "- Size: 4,000 (sentences)\n",
        "- **Chinese translation is undisclosed. The provided (.zh) file is psuedo translation, each line is a '。'**"
      ]
    },
    {
      "cell_type": "markdown",
      "metadata": {
        "id": "GQw2mY4Dqkzd"
      },
      "source": [
        "## Dataset Download"
      ]
    },
    {
      "cell_type": "code",
      "execution_count": 99,
      "metadata": {
        "id": "SXT42xQtqijD"
      },
      "outputs": [],
      "source": [
        "# data_dir = './DATA/rawdata'\n",
        "# dataset_name = 'ted2020'\n",
        "# urls = (\n",
        "#     \"https://github.com/yuhsinchan/ML2022-HW5Dataset/releases/download/v1.0.2/ted2020.tgz\",\n",
        "#     \"https://github.com/yuhsinchan/ML2022-HW5Dataset/releases/download/v1.0.2/test.tgz\",\n",
        "# )\n",
        "# file_names = (\n",
        "#     'ted2020.tgz', # train & dev\n",
        "#     'test.tgz', # test\n",
        "# )\n",
        "# prefix = Path(data_dir).absolute() / dataset_name\n",
        "\n",
        "# prefix.mkdir(parents=True, exist_ok=True)\n",
        "# for u, f in zip(urls, file_names):\n",
        "#     path = prefix/f\n",
        "#     if not path.exists():\n",
        "#         !wget {u} -O {path}\n",
        "#     if path.suffix == \".tgz\":\n",
        "#         !tar -xvf {path} -C {prefix}\n",
        "#     elif path.suffix == \".zip\":\n",
        "#         !unzip -o {path} -d {prefix}\n",
        "# !mv {prefix/'raw.en'} {prefix/'train_dev.raw.en'}\n",
        "# !mv {prefix/'raw.zh'} {prefix/'train_dev.raw.zh'}\n",
        "# !mv {prefix/'test/test.en'} {prefix/'test.raw.en'}\n",
        "# !mv {prefix/'test/test.zh'} {prefix/'test.raw.zh'}\n",
        "# !rm -rf {prefix/'test'}"
      ]
    },
    {
      "cell_type": "markdown",
      "metadata": {
        "id": "YLkJwNiFrIwZ"
      },
      "source": [
        "## Language"
      ]
    },
    {
      "cell_type": "code",
      "execution_count": 100,
      "metadata": {
        "id": "_uJYkCncrKJb"
      },
      "outputs": [],
      "source": [
        "# src_lang = 'en'\n",
        "# tgt_lang = 'zh'\n",
        "\n",
        "# data_prefix = f'{prefix}/train_dev.raw'\n",
        "# test_prefix = f'{prefix}/test.raw'"
      ]
    },
    {
      "cell_type": "code",
      "execution_count": 101,
      "metadata": {
        "id": "0t2CPt1brOT3"
      },
      "outputs": [],
      "source": [
        "# !head {data_prefix+'.'+src_lang} -n 5\n",
        "# !head {data_prefix+'.'+tgt_lang} -n 5"
      ]
    },
    {
      "cell_type": "markdown",
      "metadata": {
        "id": "pRoE9UK7r1gY"
      },
      "source": [
        "## Preprocess files"
      ]
    },
    {
      "cell_type": "code",
      "execution_count": 102,
      "metadata": {
        "id": "3tzFwtnFrle3"
      },
      "outputs": [],
      "source": [
        "# import re\n",
        "\n",
        "# def strQ2B(ustring):\n",
        "#     \"\"\"Full width -> half width\"\"\"\n",
        "#     # reference:https://ithelp.ithome.com.tw/articles/10233122\n",
        "#     ss = []\n",
        "#     for s in ustring:\n",
        "#         rstring = \"\"\n",
        "#         for uchar in s:\n",
        "#             inside_code = ord(uchar)\n",
        "#             if inside_code == 12288:  # Full width space: direct conversion\n",
        "#                 inside_code = 32\n",
        "#             elif (inside_code >= 65281 and inside_code <= 65374):  # Full width chars (except space) conversion\n",
        "#                 inside_code -= 65248\n",
        "#             rstring += chr(inside_code)\n",
        "#         ss.append(rstring)\n",
        "#     return ''.join(ss)\n",
        "                \n",
        "# def clean_s(s, lang):\n",
        "#     if lang == 'en':\n",
        "#         s = re.sub(r\"\\([^()]*\\)\", \"\", s) # remove ([text])\n",
        "#         s = s.replace('-', '') # remove '-'\n",
        "#         s = re.sub('([.,;!?()\\\"])', r' \\1 ', s) # keep punctuation\n",
        "#     elif lang == 'zh':\n",
        "#         s = strQ2B(s) # Q2B\n",
        "#         s = re.sub(r\"\\([^()]*\\)\", \"\", s) # remove ([text])\n",
        "#         s = s.replace(' ', '')\n",
        "#         s = s.replace('—', '')\n",
        "#         s = s.replace('“', '\"')\n",
        "#         s = s.replace('”', '\"')\n",
        "#         s = s.replace('_', '')\n",
        "#         s = re.sub('([。,;!?()\\\"~「」])', r' \\1 ', s) # keep punctuation\n",
        "#     s = ' '.join(s.strip().split())\n",
        "#     return s\n",
        "\n",
        "# def len_s(s, lang):\n",
        "#     if lang == 'zh':\n",
        "#         return len(s)\n",
        "#     return len(s.split())\n",
        "\n",
        "# def clean_corpus(prefix, l1, l2, ratio=9, max_len=1000, min_len=1):\n",
        "#     if Path(f'{prefix}.clean.{l1}').exists() and Path(f'{prefix}.clean.{l2}').exists():\n",
        "#         print(f'{prefix}.clean.{l1} & {l2} exists. skipping clean.')\n",
        "#         return\n",
        "#     with open(f'{prefix}.{l1}', 'r') as l1_in_f:\n",
        "#         with open(f'{prefix}.{l2}', 'r') as l2_in_f:\n",
        "#             with open(f'{prefix}.clean.{l1}', 'w') as l1_out_f:\n",
        "#                 with open(f'{prefix}.clean.{l2}', 'w') as l2_out_f:\n",
        "#                     for s1 in l1_in_f:\n",
        "#                         s1 = s1.strip()\n",
        "#                         s2 = l2_in_f.readline().strip()\n",
        "#                         s1 = clean_s(s1, l1)\n",
        "#                         s2 = clean_s(s2, l2)\n",
        "#                         s1_len = len_s(s1, l1)\n",
        "#                         s2_len = len_s(s2, l2)\n",
        "#                         if min_len > 0: # remove short sentence\n",
        "#                             if s1_len < min_len or s2_len < min_len:\n",
        "#                                 continue\n",
        "#                         if max_len > 0: # remove long sentence\n",
        "#                             if s1_len > max_len or s2_len > max_len:\n",
        "#                                 continue\n",
        "#                         if ratio > 0: # remove by ratio of length\n",
        "#                             if s1_len/s2_len > ratio or s2_len/s1_len > ratio:\n",
        "#                                 continue\n",
        "#                         print(s1, file=l1_out_f)\n",
        "#                         print(s2, file=l2_out_f)"
      ]
    },
    {
      "cell_type": "code",
      "execution_count": 103,
      "metadata": {
        "id": "h_i8b1PRr9Nf"
      },
      "outputs": [],
      "source": [
        "# clean_corpus(data_prefix, src_lang, tgt_lang)\n",
        "# clean_corpus(test_prefix, src_lang, tgt_lang, ratio=-1, min_len=-1, max_len=-1)"
      ]
    },
    {
      "cell_type": "code",
      "execution_count": 104,
      "metadata": {
        "id": "gjT3XCy9r_rj"
      },
      "outputs": [],
      "source": [
        "# !head {data_prefix+'.clean.'+src_lang} -n 5\n",
        "# !head {data_prefix+'.clean.'+tgt_lang} -n 5"
      ]
    },
    {
      "cell_type": "markdown",
      "metadata": {
        "id": "nKb4u67-sT_Z"
      },
      "source": [
        "## Split into train/valid"
      ]
    },
    {
      "cell_type": "code",
      "execution_count": 105,
      "metadata": {
        "id": "AuFKeDz3sGHL"
      },
      "outputs": [],
      "source": [
        "# valid_ratio = 0.01 # 3000~4000 would suffice\n",
        "# train_ratio = 1 - valid_ratio"
      ]
    },
    {
      "cell_type": "code",
      "execution_count": 106,
      "metadata": {
        "id": "QR2NVldqsXyY"
      },
      "outputs": [],
      "source": [
        "# if (prefix/f'train.clean.{src_lang}').exists() \\\n",
        "# and (prefix/f'train.clean.{tgt_lang}').exists() \\\n",
        "# and (prefix/f'valid.clean.{src_lang}').exists() \\\n",
        "# and (prefix/f'valid.clean.{tgt_lang}').exists():\n",
        "#     print(f'train/valid splits exists. skipping split.')\n",
        "# else:\n",
        "#     line_num = sum(1 for line in open(f'{data_prefix}.clean.{src_lang}'))\n",
        "#     labels = list(range(line_num))\n",
        "#     random.shuffle(labels)\n",
        "#     for lang in [src_lang, tgt_lang]:\n",
        "#         train_f = open(os.path.join(data_dir, dataset_name, f'train.clean.{lang}'), 'w')\n",
        "#         valid_f = open(os.path.join(data_dir, dataset_name, f'valid.clean.{lang}'), 'w')\n",
        "#         count = 0\n",
        "#         for line in open(f'{data_prefix}.clean.{lang}', 'r'):\n",
        "#             if labels[count]/line_num < train_ratio:\n",
        "#                 train_f.write(line)\n",
        "#             else:\n",
        "#                 valid_f.write(line)\n",
        "#             count += 1\n",
        "#         train_f.close()\n",
        "#         valid_f.close()"
      ]
    },
    {
      "cell_type": "markdown",
      "metadata": {
        "id": "n1rwQysTsdJq"
      },
      "source": [
        "## Subword Units \n",
        "Out of vocabulary (OOV) has been a major problem in machine translation. This can be alleviated by using subword units.\n",
        "- We will use the [sentencepiece](#kudo-richardson-2018-sentencepiece) package\n",
        "- select 'unigram' or 'byte-pair encoding (BPE)' algorithm"
      ]
    },
    {
      "cell_type": "code",
      "execution_count": 107,
      "metadata": {
        "id": "Ecwllsa7sZRA"
      },
      "outputs": [],
      "source": [
        "# import sentencepiece as spm\n",
        "# vocab_size = 8000\n",
        "# if (prefix/f'spm{vocab_size}.model').exists():\n",
        "#     print(f'{prefix}/spm{vocab_size}.model exists. skipping spm_train.')\n",
        "# else:\n",
        "#     spm.SentencePieceTrainer.train(\n",
        "#         input=','.join([f'{prefix}/train.clean.{src_lang}',\n",
        "#                         f'{prefix}/valid.clean.{src_lang}',\n",
        "#                         f'{prefix}/train.clean.{tgt_lang}',\n",
        "#                         f'{prefix}/valid.clean.{tgt_lang}']),\n",
        "#         model_prefix=prefix/f'spm{vocab_size}',\n",
        "#         vocab_size=vocab_size,\n",
        "#         character_coverage=1,\n",
        "#         model_type='unigram', # 'bpe' works as well\n",
        "#         input_sentence_size=1e6,\n",
        "#         shuffle_input_sentence=True,\n",
        "#         normalization_rule_name='nmt_nfkc_cf',\n",
        "#     )"
      ]
    },
    {
      "cell_type": "code",
      "execution_count": 108,
      "metadata": {
        "id": "lQPRNldqse_V"
      },
      "outputs": [],
      "source": [
        "# spm_model = spm.SentencePieceProcessor(model_file=str(prefix/f'spm{vocab_size}.model'))\n",
        "# in_tag = {\n",
        "#     'train': 'train.clean',\n",
        "#     'valid': 'valid.clean',\n",
        "#     'test': 'test.raw.clean',\n",
        "# }\n",
        "# for split in ['train', 'valid', 'test']:\n",
        "#     for lang in [src_lang, tgt_lang]:\n",
        "#         out_path = prefix/f'{split}.{lang}'\n",
        "#         if out_path.exists():\n",
        "#             print(f\"{out_path} exists. skipping spm_encode.\")\n",
        "#         else:\n",
        "#             with open(prefix/f'{split}.{lang}', 'w') as out_f:\n",
        "#                 with open(prefix/f'{in_tag[split]}.{lang}', 'r') as in_f:\n",
        "#                     for line in in_f:\n",
        "#                         line = line.strip()\n",
        "#                         tok = spm_model.encode(line, out_type=str)\n",
        "#                         print(' '.join(tok), file=out_f)"
      ]
    },
    {
      "cell_type": "code",
      "execution_count": 109,
      "metadata": {
        "id": "4j6lXHjAsjXa"
      },
      "outputs": [],
      "source": [
        "# !head {data_dir+'/'+dataset_name+'/train.'+src_lang} -n 5\n",
        "# !head {data_dir+'/'+dataset_name+'/train.'+tgt_lang} -n 5"
      ]
    },
    {
      "cell_type": "markdown",
      "metadata": {
        "id": "59si_C0Wsms7"
      },
      "source": [
        "## Binarize the data with fairseq"
      ]
    },
    {
      "cell_type": "code",
      "execution_count": 110,
      "metadata": {
        "id": "w-cHVLSpsknh"
      },
      "outputs": [],
      "source": [
        "# binpath = Path('./DATA/data-bin', dataset_name)\n",
        "# if binpath.exists():\n",
        "#     print(binpath, \"exists, will not overwrite!\")\n",
        "# else:\n",
        "#     !python -m fairseq_cli.preprocess \\\n",
        "#         --source-lang {src_lang}\\\n",
        "#         --target-lang {tgt_lang}\\\n",
        "#         --trainpref {prefix/'train'}\\\n",
        "#         --validpref {prefix/'valid'}\\\n",
        "#         --testpref {prefix/'test'}\\\n",
        "#         --destdir {binpath}\\\n",
        "#         --joined-dictionary\\\n",
        "#         --workers 2"
      ]
    },
    {
      "cell_type": "markdown",
      "metadata": {
        "id": "szMuH1SWLPWA"
      },
      "source": [
        "# Configuration for experiments"
      ]
    },
    {
      "cell_type": "code",
      "execution_count": 111,
      "metadata": {
        "id": "5Luz3_tVLUxs"
      },
      "outputs": [],
      "source": [
        "config = Namespace(\n",
        "    datadir = \"./DATA/data-bin/ted2020\",\n",
        "    savedir = \"./checkpoints/rnn\",\n",
        "    source_lang = \"en\",\n",
        "    target_lang = \"zh\",\n",
        "    \n",
        "    # cpu threads when fetching & processing data.\n",
        "    num_workers=2,  \n",
        "    # batch size in terms of tokens. gradient accumulation increases the effective batchsize.\n",
        "    max_tokens=8192,\n",
        "    accum_steps=2,\n",
        "    \n",
        "    # the lr s calculated from Noam lr scheduler. you can tune the maximum lr by this factor.\n",
        "    lr_factor=2.,\n",
        "    lr_warmup=4000,\n",
        "    \n",
        "    # clipping gradient norm helps alleviate gradient exploding\n",
        "    clip_norm=1.0,\n",
        "    \n",
        "    # maximum epochs for training\n",
        "    max_epoch=300,\n",
        "    start_epoch=1,\n",
        "    \n",
        "    # beam size for beam search\n",
        "    beam=5, \n",
        "    # generate sequences of maximum length ax + b, where x is the source length\n",
        "    max_len_a=1.2, \n",
        "    max_len_b=10, \n",
        "    # when decoding, post process sentence by removing sentencepiece symbols and jieba tokenization.\n",
        "    post_process = \"sentencepiece\",\n",
        "    \n",
        "    # checkpoints\n",
        "    keep_last_epochs=5,\n",
        "    resume=None, # if resume from checkpoint name (under config.savedir)\n",
        "    \n",
        "    # logging\n",
        "    use_wandb=False,\n",
        ")"
      ]
    },
    {
      "cell_type": "markdown",
      "metadata": {
        "id": "cjrJFvyQLg86"
      },
      "source": [
        "# Logging\n",
        "- logging package logs ordinary messages\n",
        "- wandb logs the loss, bleu, etc. in the training process"
      ]
    },
    {
      "cell_type": "code",
      "execution_count": 112,
      "metadata": {
        "id": "-ZiMyDWALbDk"
      },
      "outputs": [],
      "source": [
        "logging.basicConfig(\n",
        "    format=\"%(asctime)s | %(levelname)s | %(name)s | %(message)s\",\n",
        "    datefmt=\"%Y-%m-%d %H:%M:%S\",\n",
        "    level=\"INFO\", # \"DEBUG\" \"WARNING\" \"ERROR\"\n",
        "    stream=sys.stdout,\n",
        ")\n",
        "proj = \"hw5.seq2seq\"\n",
        "logger = logging.getLogger(proj)\n",
        "if config.use_wandb:\n",
        "    import wandb\n",
        "    wandb.init(project=proj, name=Path(config.savedir).stem, config=config)"
      ]
    },
    {
      "cell_type": "markdown",
      "metadata": {
        "id": "BNoSkK45Lmqc"
      },
      "source": [
        "# CUDA Environments"
      ]
    },
    {
      "cell_type": "code",
      "execution_count": 113,
      "metadata": {
        "id": "oqrsbmcoLqMl"
      },
      "outputs": [
        {
          "name": "stdout",
          "output_type": "stream",
          "text": [
            "2022-04-03 01:08:10 | INFO | fairseq.utils | ***********************CUDA enviroments for all 1 workers***********************\n",
            "2022-04-03 01:08:10 | INFO | fairseq.utils | rank   0: capabilities =  8.6  ; total memory = 9.999 GB ; name = NVIDIA GeForce RTX 3080                 \n",
            "2022-04-03 01:08:10 | INFO | fairseq.utils | ***********************CUDA enviroments for all 1 workers***********************\n"
          ]
        }
      ],
      "source": [
        "cuda_env = utils.CudaEnvironment()\n",
        "utils.CudaEnvironment.pretty_print_cuda_env_list([cuda_env])\n",
        "device = torch.device('cuda:0' if torch.cuda.is_available() else 'cpu')"
      ]
    },
    {
      "cell_type": "markdown",
      "metadata": {
        "id": "TbJuBIHLLt2D"
      },
      "source": [
        "# Dataloading"
      ]
    },
    {
      "cell_type": "markdown",
      "metadata": {
        "id": "oOpG4EBRLwe_"
      },
      "source": [
        "## We borrow the TranslationTask from fairseq\n",
        "* used to load the binarized data created above\n",
        "* well-implemented data iterator (dataloader)\n",
        "* built-in task.source_dictionary and task.target_dictionary are also handy\n",
        "* well-implemented beach search decoder"
      ]
    },
    {
      "cell_type": "code",
      "execution_count": 114,
      "metadata": {
        "id": "3gSEy1uFLvVs"
      },
      "outputs": [
        {
          "name": "stdout",
          "output_type": "stream",
          "text": [
            "2022-04-03 01:08:10 | INFO | fairseq.tasks.translation | [en] dictionary: 8000 types\n",
            "2022-04-03 01:08:10 | INFO | fairseq.tasks.translation | [zh] dictionary: 8000 types\n"
          ]
        }
      ],
      "source": [
        "from fairseq.tasks.translation import TranslationConfig, TranslationTask\n",
        "\n",
        "## setup task\n",
        "task_cfg = TranslationConfig(\n",
        "    data=config.datadir,\n",
        "    source_lang=config.source_lang,\n",
        "    target_lang=config.target_lang,\n",
        "    train_subset=\"train\",\n",
        "    required_seq_len_multiple=8,\n",
        "    dataset_impl=\"mmap\",\n",
        "    upsample_primary=1,\n",
        ")\n",
        "task = TranslationTask.setup_task(task_cfg)"
      ]
    },
    {
      "cell_type": "code",
      "execution_count": 115,
      "metadata": {
        "id": "mR7Bhov7L4IU"
      },
      "outputs": [
        {
          "name": "stdout",
          "output_type": "stream",
          "text": [
            "2022-04-03 01:08:10 | INFO | hw5.seq2seq | loading data for epoch 1\n",
            "2022-04-03 01:08:10 | INFO | fairseq.data.data_utils | loaded 390,041 examples from: ./DATA/data-bin/ted2020/train.en-zh.en\n",
            "2022-04-03 01:08:10 | INFO | fairseq.data.data_utils | loaded 390,041 examples from: ./DATA/data-bin/ted2020/train.en-zh.zh\n",
            "2022-04-03 01:08:10 | INFO | fairseq.tasks.translation | ./DATA/data-bin/ted2020 train en-zh 390041 examples\n",
            "2022-04-03 01:08:10 | INFO | fairseq.data.data_utils | loaded 3,939 examples from: ./DATA/data-bin/ted2020/valid.en-zh.en\n",
            "2022-04-03 01:08:10 | INFO | fairseq.data.data_utils | loaded 3,939 examples from: ./DATA/data-bin/ted2020/valid.en-zh.zh\n",
            "2022-04-03 01:08:10 | INFO | fairseq.tasks.translation | ./DATA/data-bin/ted2020 valid en-zh 3939 examples\n"
          ]
        }
      ],
      "source": [
        "logger.info(\"loading data for epoch 1\")\n",
        "task.load_dataset(split=\"train\", epoch=1, combine=True) # combine if you have back-translation data.\n",
        "task.load_dataset(split=\"valid\", epoch=1)"
      ]
    },
    {
      "cell_type": "code",
      "execution_count": 116,
      "metadata": {
        "id": "P0BCEm_9L6ig"
      },
      "outputs": [
        {
          "name": "stdout",
          "output_type": "stream",
          "text": [
            "{'id': 1,\n",
            " 'source': tensor([  18,   14,    6, 2234,   60,   19,   80,    5,  256,   16,  405, 1407,\n",
            "        1706,    7,    2]),\n",
            " 'target': tensor([ 140,  690,   28,  270,   45,  151, 1142,  660,  606,  369, 3114, 2434,\n",
            "        1434,  192,    2])}\n",
            "\"Source: that's exactly what i do optical mind control .\"\n",
            "'Target: 這實在就是我所做的--光學操控思想'\n"
          ]
        }
      ],
      "source": [
        "sample = task.dataset(\"valid\")[1]\n",
        "pprint.pprint(sample)\n",
        "pprint.pprint(\n",
        "    \"Source: \" + \\\n",
        "    task.source_dictionary.string(\n",
        "        sample['source'],\n",
        "        config.post_process,\n",
        "    )\n",
        ")\n",
        "pprint.pprint(\n",
        "    \"Target: \" + \\\n",
        "    task.target_dictionary.string(\n",
        "        sample['target'],\n",
        "        config.post_process,\n",
        "    )\n",
        ")"
      ]
    },
    {
      "cell_type": "markdown",
      "metadata": {
        "id": "UcfCVa2FMBSE"
      },
      "source": [
        "# Dataset iterator"
      ]
    },
    {
      "cell_type": "markdown",
      "metadata": {
        "id": "yBvc-B_6MKZM"
      },
      "source": [
        "* Controls every batch to contain no more than N tokens, which optimizes GPU memory efficiency\n",
        "* Shuffles the training set for every epoch\n",
        "* Ignore sentences exceeding maximum length\n",
        "* Pad all sentences in a batch to the same length, which enables parallel computing by GPU\n",
        "* Add eos and shift one token\n",
        "    - teacher forcing: to train the model to predict the next token based on prefix, we feed the right shifted target sequence as the decoder input.\n",
        "    - generally, prepending bos to the target would do the job (as shown below)\n",
        "![seq2seq](https://i.imgur.com/0zeDyuI.png)\n",
        "    - in fairseq however, this is done by moving the eos token to the begining. Empirically, this has the same effect. For instance:\n",
        "    ```\n",
        "    # output target (target) and Decoder input (prev_output_tokens): \n",
        "                   eos = 2\n",
        "                target = 419,  711,  238,  888,  792,   60,  968,    8,    2\n",
        "    prev_output_tokens = 2,  419,  711,  238,  888,  792,   60,  968,    8\n",
        "    ```\n",
        "\n"
      ]
    },
    {
      "cell_type": "code",
      "execution_count": 117,
      "metadata": {
        "id": "OWFJFmCnMDXW"
      },
      "outputs": [
        {
          "name": "stdout",
          "output_type": "stream",
          "text": [
            "2022-04-03 01:08:11 | WARNING | fairseq.tasks.fairseq_task | 2,532 samples have invalid sizes and will be skipped, max_positions=(20, 20), first few sample ids=[29, 135, 2444, 3058, 682, 731, 235, 1558, 3383, 559]\n"
          ]
        },
        {
          "data": {
            "text/plain": [
              "{'id': tensor([723]),\n",
              " 'nsentences': 1,\n",
              " 'ntokens': 18,\n",
              " 'net_input': {'src_tokens': tensor([[   1,    1,    1,    1,    1,   18,   26,   82,    8,  480,   15,  651,\n",
              "           1361,   38,    6,  176, 2696,   39,    5,  822,   92,  260,    7,    2]]),\n",
              "  'src_lengths': tensor([19]),\n",
              "  'prev_output_tokens': tensor([[   2,  140,  296,  318, 1560,   51,  568,  316,  225, 1952,  254,   78,\n",
              "            151, 2691,    9,  215, 1680,   10,    1,    1,    1,    1,    1,    1]])},\n",
              " 'target': tensor([[ 140,  296,  318, 1560,   51,  568,  316,  225, 1952,  254,   78,  151,\n",
              "          2691,    9,  215, 1680,   10,    2,    1,    1,    1,    1,    1,    1]])}"
            ]
          },
          "execution_count": 117,
          "metadata": {},
          "output_type": "execute_result"
        }
      ],
      "source": [
        "def load_data_iterator(task, split, epoch=1, max_tokens=4000, num_workers=1, cached=True):\n",
        "    batch_iterator = task.get_batch_iterator(\n",
        "        dataset=task.dataset(split),\n",
        "        max_tokens=max_tokens,\n",
        "        max_sentences=None,\n",
        "        max_positions=utils.resolve_max_positions(\n",
        "            task.max_positions(),\n",
        "            max_tokens,\n",
        "        ),\n",
        "        ignore_invalid_inputs=True,\n",
        "        seed=seed,\n",
        "        num_workers=num_workers,\n",
        "        epoch=epoch,\n",
        "        disable_iterator_cache=not cached,\n",
        "        # Set this to False to speed up. However, if set to False, changing max_tokens beyond \n",
        "        # first call of this method has no effect. \n",
        "    )\n",
        "    return batch_iterator\n",
        "\n",
        "demo_epoch_obj = load_data_iterator(task, \"valid\", epoch=1, max_tokens=20, num_workers=1, cached=False)\n",
        "demo_iter = demo_epoch_obj.next_epoch_itr(shuffle=True)\n",
        "sample = next(demo_iter)\n",
        "sample"
      ]
    },
    {
      "cell_type": "markdown",
      "metadata": {
        "id": "p86K-0g7Me4M"
      },
      "source": [
        "* each batch is a python dict, with string key and Tensor value. Contents are described below:\n",
        "```python\n",
        "batch = {\n",
        "    \"id\": id, # id for each example \n",
        "    \"nsentences\": len(samples), # batch size (sentences)\n",
        "    \"ntokens\": ntokens, # batch size (tokens)\n",
        "    \"net_input\": {\n",
        "        \"src_tokens\": src_tokens, # sequence in source language\n",
        "        \"src_lengths\": src_lengths, # sequence length of each example before padding\n",
        "        \"prev_output_tokens\": prev_output_tokens, # right shifted target, as mentioned above.\n",
        "    },\n",
        "    \"target\": target, # target sequence\n",
        "}\n",
        "```"
      ]
    },
    {
      "cell_type": "markdown",
      "metadata": {
        "id": "9EyDBE5ZMkFZ"
      },
      "source": [
        "# Model Architecture\n",
        "* We again inherit fairseq's encoder, decoder and model, so that in the testing phase we can directly leverage fairseq's beam search decoder."
      ]
    },
    {
      "cell_type": "code",
      "execution_count": 118,
      "metadata": {
        "id": "Hzh74qLIMfW_"
      },
      "outputs": [],
      "source": [
        "from fairseq.models import (\n",
        "    FairseqEncoder, \n",
        "    FairseqIncrementalDecoder,\n",
        "    FairseqEncoderDecoderModel\n",
        ")"
      ]
    },
    {
      "cell_type": "markdown",
      "metadata": {
        "id": "OI46v1z7MotH"
      },
      "source": [
        "# Encoder"
      ]
    },
    {
      "cell_type": "markdown",
      "metadata": {
        "id": "Wn0wSeLLMrbc"
      },
      "source": [
        "- The Encoder is a RNN or Transformer Encoder. The following description is for RNN. For every input token, Encoder will generate a output vector and a hidden states vector, and the hidden states vector is passed on to the next step. In other words, the Encoder sequentially reads in the input sequence, and outputs a single vector at each timestep, then finally outputs the final hidden states, or content vector, at the last timestep.\n",
        "- Parameters:\n",
        "  - *args*\n",
        "      - encoder_embed_dim: the dimension of embeddings, this compresses the one-hot vector into fixed dimensions, which achieves dimension reduction\n",
        "      - encoder_ffn_embed_dim is the dimension of hidden states and output vectors\n",
        "      - encoder_layers is the number of layers for Encoder RNN\n",
        "      - dropout determines the probability of a neuron's activation being set to 0, in order to prevent overfitting. Generally this is applied in training, and removed in testing.\n",
        "  - *dictionary*: the dictionary provided by fairseq. it's used to obtain the padding index, and in turn the encoder padding mask. \n",
        "  - *embed_tokens*: an instance of token embeddings (nn.Embedding)\n",
        "\n",
        "- Inputs: \n",
        "    - *src_tokens*: integer sequence representing english e.g. 1, 28, 29, 205, 2 \n",
        "- Outputs: \n",
        "    - *outputs*: the output of RNN at each timestep, can be furthur processed by Attention\n",
        "    - *final_hiddens*: the hidden states of each timestep, will be passed to decoder for decoding\n",
        "    - *encoder_padding_mask*: this tells the decoder which position to ignore\n"
      ]
    },
    {
      "cell_type": "code",
      "execution_count": 119,
      "metadata": {
        "id": "WcX3W4iGMq-S"
      },
      "outputs": [],
      "source": [
        "class RNNEncoder(FairseqEncoder):\n",
        "    def __init__(self, args, dictionary, embed_tokens):\n",
        "        super().__init__(dictionary)\n",
        "        self.embed_tokens = embed_tokens\n",
        "        \n",
        "        self.embed_dim = args.encoder_embed_dim\n",
        "        self.hidden_dim = args.encoder_ffn_embed_dim\n",
        "        self.num_layers = args.encoder_layers\n",
        "        \n",
        "        self.dropout_in_module = nn.Dropout(args.dropout)\n",
        "        self.rnn = nn.GRU(\n",
        "            self.embed_dim, \n",
        "            self.hidden_dim, \n",
        "            self.num_layers, \n",
        "            dropout=args.dropout, \n",
        "            batch_first=False, \n",
        "            bidirectional=True\n",
        "        )\n",
        "        self.dropout_out_module = nn.Dropout(args.dropout)\n",
        "        \n",
        "        self.padding_idx = dictionary.pad()\n",
        "        \n",
        "    def combine_bidir(self, outs, bsz: int):\n",
        "        out = outs.view(self.num_layers, 2, bsz, -1).transpose(1, 2).contiguous()\n",
        "        return out.view(self.num_layers, bsz, -1)\n",
        "\n",
        "    def forward(self, src_tokens, **unused):\n",
        "        bsz, seqlen = src_tokens.size()\n",
        "        \n",
        "        # get embeddings\n",
        "        x = self.embed_tokens(src_tokens)\n",
        "        x = self.dropout_in_module(x)\n",
        "\n",
        "        # B x T x C -> T x B x C\n",
        "        x = x.transpose(0, 1)\n",
        "        \n",
        "        # pass thru bidirectional RNN\n",
        "        h0 = x.new_zeros(2 * self.num_layers, bsz, self.hidden_dim)\n",
        "        x, final_hiddens = self.rnn(x, h0)\n",
        "        outputs = self.dropout_out_module(x)\n",
        "        # outputs = [sequence len, batch size, hid dim * directions]\n",
        "        # hidden =  [num_layers * directions, batch size  , hid dim]\n",
        "        \n",
        "        # Since Encoder is bidirectional, we need to concatenate the hidden states of two directions\n",
        "        final_hiddens = self.combine_bidir(final_hiddens, bsz)\n",
        "        # hidden =  [num_layers x batch x num_directions*hidden]\n",
        "        \n",
        "        encoder_padding_mask = src_tokens.eq(self.padding_idx).t()\n",
        "        return tuple(\n",
        "            (\n",
        "                outputs,  # seq_len x batch x hidden\n",
        "                final_hiddens,  # num_layers x batch x num_directions*hidden\n",
        "                encoder_padding_mask,  # seq_len x batch\n",
        "            )\n",
        "        )\n",
        "    \n",
        "    def reorder_encoder_out(self, encoder_out, new_order):\n",
        "        # This is used by fairseq's beam search. How and why is not particularly important here.\n",
        "        return tuple(\n",
        "            (\n",
        "                encoder_out[0].index_select(1, new_order),\n",
        "                encoder_out[1].index_select(1, new_order),\n",
        "                encoder_out[2].index_select(1, new_order),\n",
        "            )\n",
        "        )"
      ]
    },
    {
      "cell_type": "markdown",
      "metadata": {
        "id": "6ZlE_1JnMv56"
      },
      "source": [
        "## Attention"
      ]
    },
    {
      "cell_type": "markdown",
      "metadata": {
        "id": "ZSFSKt_ZMzgh"
      },
      "source": [
        "- When the input sequence is long, \"content vector\" alone cannot accurately represent the whole sequence, attention mechanism can provide the Decoder more information.\n",
        "- According to the **Decoder embeddings** of the current timestep, match the **Encoder outputs** with decoder embeddings to determine correlation, and then sum the Encoder outputs weighted by the correlation as the input to **Decoder** RNN.\n",
        "- Common attention implementations use neural network / dot product as the correlation between **query** (decoder embeddings) and **key** (Encoder outputs), followed by **softmax**  to obtain a distribution, and finally **values** (Encoder outputs) is **weighted sum**-ed by said distribution.\n",
        "\n",
        "- Parameters:\n",
        "  - *input_embed_dim*: dimensionality of key, should be that of the vector in decoder to attend others\n",
        "  - *source_embed_dim*: dimensionality of query, should be that of the vector to be attended to (encoder outputs)\n",
        "  - *output_embed_dim*: dimensionality of value, should be that of the vector after attention, expected by the next layer\n",
        "\n",
        "- Inputs: \n",
        "    - *inputs*: is the key, the vector to attend to others\n",
        "    - *encoder_outputs*:  is the query/value, the vector to be attended to\n",
        "    - *encoder_padding_mask*: this tells the decoder which position to ignore\n",
        "- Outputs: \n",
        "    - *output*: the context vector after attention\n",
        "    - *attention score*: the attention distribution\n"
      ]
    },
    {
      "cell_type": "code",
      "execution_count": 120,
      "metadata": {
        "id": "1Atf_YuCMyyF"
      },
      "outputs": [],
      "source": [
        "class AttentionLayer(nn.Module):\n",
        "    def __init__(self, input_embed_dim, source_embed_dim, output_embed_dim, bias=False):\n",
        "        super().__init__()\n",
        "\n",
        "        self.input_proj = nn.Linear(input_embed_dim, source_embed_dim, bias=bias)\n",
        "        self.output_proj = nn.Linear(\n",
        "            input_embed_dim + source_embed_dim, output_embed_dim, bias=bias\n",
        "        )\n",
        "\n",
        "    def forward(self, inputs, encoder_outputs, encoder_padding_mask):\n",
        "        # inputs: T, B, dim\n",
        "        # encoder_outputs: S x B x dim\n",
        "        # padding mask:  S x B\n",
        "        \n",
        "        # convert all to batch first\n",
        "        inputs = inputs.transpose(1,0) # B, T, dim\n",
        "        encoder_outputs = encoder_outputs.transpose(1,0) # B, S, dim\n",
        "        encoder_padding_mask = encoder_padding_mask.transpose(1,0) # B, S\n",
        "        \n",
        "        # project to the dimensionality of encoder_outputs\n",
        "        x = self.input_proj(inputs)\n",
        "\n",
        "        # compute attention\n",
        "        # (B, T, dim) x (B, dim, S) = (B, T, S)\n",
        "        attn_scores = torch.bmm(x, encoder_outputs.transpose(1,2))\n",
        "\n",
        "        # cancel the attention at positions corresponding to padding\n",
        "        if encoder_padding_mask is not None:\n",
        "            # leveraging broadcast  B, S -> (B, 1, S)\n",
        "            encoder_padding_mask = encoder_padding_mask.unsqueeze(1)\n",
        "            attn_scores = (\n",
        "                attn_scores.float()\n",
        "                .masked_fill_(encoder_padding_mask, float(\"-inf\"))\n",
        "                .type_as(attn_scores)\n",
        "            )  # FP16 support: cast to float and back\n",
        "\n",
        "        # softmax on the dimension corresponding to source sequence\n",
        "        attn_scores = F.softmax(attn_scores, dim=-1)\n",
        "\n",
        "        # shape (B, T, S) x (B, S, dim) = (B, T, dim) weighted sum\n",
        "        x = torch.bmm(attn_scores, encoder_outputs)\n",
        "\n",
        "        # (B, T, dim)\n",
        "        x = torch.cat((x, inputs), dim=-1)\n",
        "        x = torch.tanh(self.output_proj(x)) # concat + linear + tanh\n",
        "        \n",
        "        # restore shape (B, T, dim) -> (T, B, dim)\n",
        "        return x.transpose(1,0), attn_scores"
      ]
    },
    {
      "cell_type": "markdown",
      "metadata": {
        "id": "doSCOA2gM7fK"
      },
      "source": [
        "# Decoder"
      ]
    },
    {
      "cell_type": "markdown",
      "metadata": {
        "id": "2M8Vod2gNABR"
      },
      "source": [
        "* The hidden states of **Decoder** will be initialized by the final hidden states of **Encoder** (the content vector)\n",
        "* At the same time, **Decoder** will change its hidden states based on the input of the current timestep (the outputs of previous timesteps), and generates an output\n",
        "* Attention improves the performance\n",
        "* The seq2seq steps are implemented in decoder, so that later the Seq2Seq class can accept RNN and Transformer, without furthur modification.\n",
        "- Parameters:\n",
        "  - *args*\n",
        "      - decoder_embed_dim: is the dimensionality of the decoder embeddings, similar to encoder_embed_dim，\n",
        "      - decoder_ffn_embed_dim: is the dimensionality of the decoder RNN hidden states, similar to encoder_ffn_embed_dim\n",
        "      - decoder_layers: number of layers of RNN decoder\n",
        "      - share_decoder_input_output_embed: usually, the projection matrix of the decoder will share weights with the decoder input embeddings\n",
        "  - *dictionary*: the dictionary provided by fairseq\n",
        "  - *embed_tokens*: an instance of token embeddings (nn.Embedding)\n",
        "- Inputs: \n",
        "    - *prev_output_tokens*: integer sequence representing the right-shifted target e.g. 1, 28, 29, 205, 2 \n",
        "    - *encoder_out*: encoder's output.\n",
        "    - *incremental_state*: in order to speed up decoding during test time, we will save the hidden state of each timestep. see forward() for details.\n",
        "- Outputs: \n",
        "    - *outputs*: the logits (before softmax) output of decoder for each timesteps\n",
        "    - *extra*: unsused"
      ]
    },
    {
      "cell_type": "code",
      "execution_count": 121,
      "metadata": {
        "id": "QfvgqHYDM6Lp"
      },
      "outputs": [],
      "source": [
        "class RNNDecoder(FairseqIncrementalDecoder):\n",
        "    def __init__(self, args, dictionary, embed_tokens):\n",
        "        super().__init__(dictionary)\n",
        "        self.embed_tokens = embed_tokens\n",
        "        \n",
        "        assert args.decoder_layers == args.encoder_layers, f\"\"\"seq2seq rnn requires that encoder \n",
        "        and decoder have same layers of rnn. got: {args.encoder_layers, args.decoder_layers}\"\"\"\n",
        "        assert args.decoder_ffn_embed_dim == args.encoder_ffn_embed_dim*2, f\"\"\"seq2seq-rnn requires \n",
        "        that decoder hidden to be 2*encoder hidden dim. got: {args.decoder_ffn_embed_dim, args.encoder_ffn_embed_dim*2}\"\"\"\n",
        "        \n",
        "        self.embed_dim = args.decoder_embed_dim\n",
        "        self.hidden_dim = args.decoder_ffn_embed_dim\n",
        "        self.num_layers = args.decoder_layers\n",
        "        \n",
        "        \n",
        "        self.dropout_in_module = nn.Dropout(args.dropout)\n",
        "        self.rnn = nn.GRU(\n",
        "            self.embed_dim, \n",
        "            self.hidden_dim, \n",
        "            self.num_layers, \n",
        "            dropout=args.dropout, \n",
        "            batch_first=False, \n",
        "            bidirectional=False\n",
        "        )\n",
        "        self.attention = AttentionLayer(\n",
        "            self.embed_dim, self.hidden_dim, self.embed_dim, bias=False\n",
        "        ) \n",
        "        # self.attention = None\n",
        "        self.dropout_out_module = nn.Dropout(args.dropout)\n",
        "        \n",
        "        if self.hidden_dim != self.embed_dim:\n",
        "            self.project_out_dim = nn.Linear(self.hidden_dim, self.embed_dim)\n",
        "        else:\n",
        "            self.project_out_dim = None\n",
        "        \n",
        "        if args.share_decoder_input_output_embed:\n",
        "            self.output_projection = nn.Linear(\n",
        "                self.embed_tokens.weight.shape[1],\n",
        "                self.embed_tokens.weight.shape[0],\n",
        "                bias=False,\n",
        "            )\n",
        "            self.output_projection.weight = self.embed_tokens.weight\n",
        "        else:\n",
        "            self.output_projection = nn.Linear(\n",
        "                self.output_embed_dim, len(dictionary), bias=False\n",
        "            )\n",
        "            nn.init.normal_(\n",
        "                self.output_projection.weight, mean=0, std=self.output_embed_dim ** -0.5\n",
        "            )\n",
        "        \n",
        "    def forward(self, prev_output_tokens, encoder_out, incremental_state=None, **unused):\n",
        "        # extract the outputs from encoder\n",
        "        encoder_outputs, encoder_hiddens, encoder_padding_mask = encoder_out\n",
        "        # outputs:          seq_len x batch x num_directions*hidden\n",
        "        # encoder_hiddens:  num_layers x batch x num_directions*encoder_hidden\n",
        "        # padding_mask:     seq_len x batch\n",
        "        \n",
        "        if incremental_state is not None and len(incremental_state) > 0:\n",
        "            # if the information from last timestep is retained, we can continue from there instead of starting from bos\n",
        "            prev_output_tokens = prev_output_tokens[:, -1:]\n",
        "            cache_state = self.get_incremental_state(incremental_state, \"cached_state\")\n",
        "            prev_hiddens = cache_state[\"prev_hiddens\"]\n",
        "        else:\n",
        "            # incremental state does not exist, either this is training time, or the first timestep of test time\n",
        "            # prepare for seq2seq: pass the encoder_hidden to the decoder hidden states\n",
        "            prev_hiddens = encoder_hiddens\n",
        "        \n",
        "        bsz, seqlen = prev_output_tokens.size()\n",
        "        \n",
        "        # embed tokens\n",
        "        x = self.embed_tokens(prev_output_tokens)\n",
        "        x = self.dropout_in_module(x)\n",
        "\n",
        "        # B x T x C -> T x B x C\n",
        "        x = x.transpose(0, 1)\n",
        "                \n",
        "        # decoder-to-encoder attention\n",
        "        if self.attention is not None:\n",
        "            x, attn = self.attention(x, encoder_outputs, encoder_padding_mask)\n",
        "                        \n",
        "        # pass thru unidirectional RNN\n",
        "        x, final_hiddens = self.rnn(x, prev_hiddens)\n",
        "        # outputs = [sequence len, batch size, hid dim]\n",
        "        # hidden =  [num_layers * directions, batch size  , hid dim]\n",
        "        x = self.dropout_out_module(x)\n",
        "                \n",
        "        # project to embedding size (if hidden differs from embed size, and share_embedding is True, \n",
        "        # we need to do an extra projection)\n",
        "        if self.project_out_dim != None:\n",
        "            x = self.project_out_dim(x)\n",
        "        \n",
        "        # project to vocab size\n",
        "        x = self.output_projection(x)\n",
        "        \n",
        "        # T x B x C -> B x T x C\n",
        "        x = x.transpose(1, 0)\n",
        "        \n",
        "        # if incremental, record the hidden states of current timestep, which will be restored in the next timestep\n",
        "        cache_state = {\n",
        "            \"prev_hiddens\": final_hiddens,\n",
        "        }\n",
        "        self.set_incremental_state(incremental_state, \"cached_state\", cache_state)\n",
        "        \n",
        "        return x, None\n",
        "    \n",
        "    def reorder_incremental_state(\n",
        "        self,\n",
        "        incremental_state,\n",
        "        new_order,\n",
        "    ):\n",
        "        # This is used by fairseq's beam search. How and why is not particularly important here.\n",
        "        cache_state = self.get_incremental_state(incremental_state, \"cached_state\")\n",
        "        prev_hiddens = cache_state[\"prev_hiddens\"]\n",
        "        prev_hiddens = [p.index_select(0, new_order) for p in prev_hiddens]\n",
        "        cache_state = {\n",
        "            \"prev_hiddens\": torch.stack(prev_hiddens),\n",
        "        }\n",
        "        self.set_incremental_state(incremental_state, \"cached_state\", cache_state)\n",
        "        return"
      ]
    },
    {
      "cell_type": "markdown",
      "metadata": {
        "id": "UDAPmxjRNEEL"
      },
      "source": [
        "## Seq2Seq\n",
        "- Composed of **Encoder** and **Decoder**\n",
        "- Recieves inputs and pass to **Encoder** \n",
        "- Pass the outputs from **Encoder** to **Decoder**\n",
        "- **Decoder** will decode according to outputs of previous timesteps as well as **Encoder** outputs  \n",
        "- Once done decoding, return the **Decoder** outputs"
      ]
    },
    {
      "cell_type": "code",
      "execution_count": 122,
      "metadata": {
        "id": "oRwKdLa0NEU6"
      },
      "outputs": [],
      "source": [
        "class Seq2Seq(FairseqEncoderDecoderModel):\n",
        "    def __init__(self, args, encoder, decoder):\n",
        "        super().__init__(encoder, decoder)\n",
        "        self.args = args\n",
        "    \n",
        "    def forward(\n",
        "        self,\n",
        "        src_tokens,\n",
        "        src_lengths,\n",
        "        prev_output_tokens,\n",
        "        return_all_hiddens: bool = True,\n",
        "    ):\n",
        "        \"\"\"\n",
        "        Run the forward pass for an encoder-decoder model.\n",
        "        \"\"\"\n",
        "        encoder_out = self.encoder(\n",
        "            src_tokens, src_lengths=src_lengths, return_all_hiddens=return_all_hiddens\n",
        "        )\n",
        "        logits, extra = self.decoder(\n",
        "            prev_output_tokens,\n",
        "            encoder_out=encoder_out,\n",
        "            src_lengths=src_lengths,\n",
        "            return_all_hiddens=return_all_hiddens,\n",
        "        )\n",
        "        return logits, extra"
      ]
    },
    {
      "cell_type": "markdown",
      "metadata": {
        "id": "zu3C2JfqNHzk"
      },
      "source": [
        "# Model Initialization"
      ]
    },
    {
      "cell_type": "code",
      "execution_count": 123,
      "metadata": {
        "id": "nyI9FOx-NJ2m"
      },
      "outputs": [],
      "source": [
        "# # HINT: transformer architecture\n",
        "from fairseq.models.transformer import (\n",
        "    TransformerEncoder, \n",
        "    TransformerDecoder,\n",
        ")\n",
        "\n",
        "def build_model(args, task):\n",
        "    \"\"\" build a model instance based on hyperparameters \"\"\"\n",
        "    src_dict, tgt_dict = task.source_dictionary, task.target_dictionary\n",
        "\n",
        "    # token embeddings\n",
        "    encoder_embed_tokens = nn.Embedding(len(src_dict), args.encoder_embed_dim, src_dict.pad())\n",
        "    decoder_embed_tokens = nn.Embedding(len(tgt_dict), args.decoder_embed_dim, tgt_dict.pad())\n",
        "    \n",
        "    # encoder decoder\n",
        "    # HINT: switch to TransformerEncoder & TransformerDecoder\n",
        "    # encoder = RNNEncoder(args, src_dict, encoder_embed_tokens)\n",
        "    # decoder = RNNDecoder(args, tgt_dict, decoder_embed_tokens)\n",
        "    encoder = TransformerEncoder(args, src_dict, encoder_embed_tokens)\n",
        "    decoder = TransformerDecoder(args, tgt_dict, decoder_embed_tokens)\n",
        "\n",
        "    # sequence to sequence model\n",
        "    model = Seq2Seq(args, encoder, decoder)\n",
        "    \n",
        "    # initialization for seq2seq model is important, requires extra handling\n",
        "    def init_params(module):\n",
        "        from fairseq.modules import MultiheadAttention\n",
        "        if isinstance(module, nn.Linear):\n",
        "            module.weight.data.normal_(mean=0.0, std=0.02)\n",
        "            if module.bias is not None:\n",
        "                module.bias.data.zero_()\n",
        "        if isinstance(module, nn.Embedding):\n",
        "            module.weight.data.normal_(mean=0.0, std=0.02)\n",
        "            if module.padding_idx is not None:\n",
        "                module.weight.data[module.padding_idx].zero_()\n",
        "        if isinstance(module, MultiheadAttention):\n",
        "            module.q_proj.weight.data.normal_(mean=0.0, std=0.02)\n",
        "            module.k_proj.weight.data.normal_(mean=0.0, std=0.02)\n",
        "            module.v_proj.weight.data.normal_(mean=0.0, std=0.02)\n",
        "        if isinstance(module, nn.RNNBase):\n",
        "            for name, param in module.named_parameters():\n",
        "                if \"weight\" in name or \"bias\" in name:\n",
        "                    param.data.uniform_(-0.1, 0.1)\n",
        "            \n",
        "    # weight initialization\n",
        "    model.apply(init_params)\n",
        "    return model"
      ]
    },
    {
      "cell_type": "markdown",
      "metadata": {
        "id": "ce5n4eS7NQNy"
      },
      "source": [
        "## Architecture Related Configuration\n",
        "\n",
        "For strong baseline, please refer to the hyperparameters for *transformer-base* in Table 3 in [Attention is all you need](#vaswani2017)"
      ]
    },
    {
      "cell_type": "code",
      "execution_count": 124,
      "metadata": {
        "id": "Cyn30VoGNT6N"
      },
      "outputs": [],
      "source": [
        "arch_args = Namespace(\n",
        "    encoder_embed_dim=256,\n",
        "    encoder_ffn_embed_dim=512,\n",
        "    encoder_layers=1,\n",
        "    decoder_embed_dim=256,\n",
        "    decoder_ffn_embed_dim=1024,\n",
        "    decoder_layers=1,\n",
        "    share_decoder_input_output_embed=True,\n",
        "    dropout=0.3,\n",
        ")\n",
        "\n",
        "# HINT: these patches on parameters for Transformer\n",
        "def add_transformer_args(args):\n",
        "    args.encoder_attention_heads=4\n",
        "    args.encoder_normalize_before=True\n",
        "    \n",
        "    args.decoder_attention_heads=4\n",
        "    args.decoder_normalize_before=True\n",
        "    \n",
        "    args.activation_fn=\"relu\"\n",
        "    args.max_source_positions=1024\n",
        "    args.max_target_positions=1024\n",
        "    \n",
        "    # patches on default parameters for Transformer (those not set above)\n",
        "    from fairseq.models.transformer import base_architecture\n",
        "    base_architecture(arch_args)\n",
        "\n",
        "add_transformer_args(arch_args)"
      ]
    },
    {
      "cell_type": "code",
      "execution_count": 125,
      "metadata": {
        "id": "Nbb76QLCNZZZ"
      },
      "outputs": [],
      "source": [
        "if config.use_wandb:\n",
        "    wandb.config.update(vars(arch_args))"
      ]
    },
    {
      "cell_type": "code",
      "execution_count": 126,
      "metadata": {
        "id": "7ZWfxsCDNatH"
      },
      "outputs": [
        {
          "name": "stdout",
          "output_type": "stream",
          "text": [
            "2022-04-03 01:08:12 | INFO | hw5.seq2seq | Seq2Seq(\n",
            "  (encoder): TransformerEncoder(\n",
            "    (dropout_module): FairseqDropout()\n",
            "    (embed_tokens): Embedding(8000, 256, padding_idx=1)\n",
            "    (embed_positions): SinusoidalPositionalEmbedding()\n",
            "    (layers): ModuleList(\n",
            "      (0): TransformerEncoderLayer(\n",
            "        (self_attn): MultiheadAttention(\n",
            "          (dropout_module): FairseqDropout()\n",
            "          (k_proj): Linear(in_features=256, out_features=256, bias=True)\n",
            "          (v_proj): Linear(in_features=256, out_features=256, bias=True)\n",
            "          (q_proj): Linear(in_features=256, out_features=256, bias=True)\n",
            "          (out_proj): Linear(in_features=256, out_features=256, bias=True)\n",
            "        )\n",
            "        (self_attn_layer_norm): LayerNorm((256,), eps=1e-05, elementwise_affine=True)\n",
            "        (dropout_module): FairseqDropout()\n",
            "        (activation_dropout_module): FairseqDropout()\n",
            "        (fc1): Linear(in_features=256, out_features=512, bias=True)\n",
            "        (fc2): Linear(in_features=512, out_features=256, bias=True)\n",
            "        (final_layer_norm): LayerNorm((256,), eps=1e-05, elementwise_affine=True)\n",
            "      )\n",
            "    )\n",
            "    (layer_norm): LayerNorm((256,), eps=1e-05, elementwise_affine=True)\n",
            "  )\n",
            "  (decoder): TransformerDecoder(\n",
            "    (dropout_module): FairseqDropout()\n",
            "    (embed_tokens): Embedding(8000, 256, padding_idx=1)\n",
            "    (embed_positions): SinusoidalPositionalEmbedding()\n",
            "    (layers): ModuleList(\n",
            "      (0): TransformerDecoderLayer(\n",
            "        (dropout_module): FairseqDropout()\n",
            "        (self_attn): MultiheadAttention(\n",
            "          (dropout_module): FairseqDropout()\n",
            "          (k_proj): Linear(in_features=256, out_features=256, bias=True)\n",
            "          (v_proj): Linear(in_features=256, out_features=256, bias=True)\n",
            "          (q_proj): Linear(in_features=256, out_features=256, bias=True)\n",
            "          (out_proj): Linear(in_features=256, out_features=256, bias=True)\n",
            "        )\n",
            "        (activation_dropout_module): FairseqDropout()\n",
            "        (self_attn_layer_norm): LayerNorm((256,), eps=1e-05, elementwise_affine=True)\n",
            "        (encoder_attn): MultiheadAttention(\n",
            "          (dropout_module): FairseqDropout()\n",
            "          (k_proj): Linear(in_features=256, out_features=256, bias=True)\n",
            "          (v_proj): Linear(in_features=256, out_features=256, bias=True)\n",
            "          (q_proj): Linear(in_features=256, out_features=256, bias=True)\n",
            "          (out_proj): Linear(in_features=256, out_features=256, bias=True)\n",
            "        )\n",
            "        (encoder_attn_layer_norm): LayerNorm((256,), eps=1e-05, elementwise_affine=True)\n",
            "        (fc1): Linear(in_features=256, out_features=1024, bias=True)\n",
            "        (fc2): Linear(in_features=1024, out_features=256, bias=True)\n",
            "        (final_layer_norm): LayerNorm((256,), eps=1e-05, elementwise_affine=True)\n",
            "      )\n",
            "    )\n",
            "    (layer_norm): LayerNorm((256,), eps=1e-05, elementwise_affine=True)\n",
            "    (output_projection): Linear(in_features=256, out_features=8000, bias=False)\n",
            "  )\n",
            ")\n"
          ]
        }
      ],
      "source": [
        "model = build_model(arch_args, task)\n",
        "logger.info(model)"
      ]
    },
    {
      "cell_type": "markdown",
      "metadata": {
        "id": "aHll7GRNNdqc"
      },
      "source": [
        "# Optimization"
      ]
    },
    {
      "cell_type": "markdown",
      "metadata": {
        "id": "rUB9f1WCNgMH"
      },
      "source": [
        "## Loss: Label Smoothing Regularization\n",
        "* let the model learn to generate less concentrated distribution, and prevent over-confidence\n",
        "* sometimes the ground truth may not be the only answer. thus, when calculating loss, we reserve some probability for incorrect labels\n",
        "* avoids overfitting\n",
        "\n",
        "code [source](https://fairseq.readthedocs.io/en/latest/_modules/fairseq/criterions/label_smoothed_cross_entropy.html)"
      ]
    },
    {
      "cell_type": "code",
      "execution_count": 127,
      "metadata": {
        "id": "IgspdJn0NdYF"
      },
      "outputs": [],
      "source": [
        "class LabelSmoothedCrossEntropyCriterion(nn.Module):\n",
        "    def __init__(self, smoothing, ignore_index=None, reduce=True):\n",
        "        super().__init__()\n",
        "        self.smoothing = smoothing\n",
        "        self.ignore_index = ignore_index\n",
        "        self.reduce = reduce\n",
        "    \n",
        "    def forward(self, lprobs, target):\n",
        "        if target.dim() == lprobs.dim() - 1:\n",
        "            target = target.unsqueeze(-1)\n",
        "        # nll: Negative log likelihood，the cross-entropy when target is one-hot. following line is same as F.nll_loss\n",
        "        nll_loss = -lprobs.gather(dim=-1, index=target)\n",
        "        #  reserve some probability for other labels. thus when calculating cross-entropy, \n",
        "        # equivalent to summing the log probs of all labels\n",
        "        smooth_loss = -lprobs.sum(dim=-1, keepdim=True)\n",
        "        if self.ignore_index is not None:\n",
        "            pad_mask = target.eq(self.ignore_index)\n",
        "            nll_loss.masked_fill_(pad_mask, 0.0)\n",
        "            smooth_loss.masked_fill_(pad_mask, 0.0)\n",
        "        else:\n",
        "            nll_loss = nll_loss.squeeze(-1)\n",
        "            smooth_loss = smooth_loss.squeeze(-1)\n",
        "        if self.reduce:\n",
        "            nll_loss = nll_loss.sum()\n",
        "            smooth_loss = smooth_loss.sum()\n",
        "        # when calculating cross-entropy, add the loss of other labels\n",
        "        eps_i = self.smoothing / lprobs.size(-1)\n",
        "        loss = (1.0 - self.smoothing) * nll_loss + eps_i * smooth_loss\n",
        "        return loss\n",
        "\n",
        "# generally, 0.1 is good enough\n",
        "criterion = LabelSmoothedCrossEntropyCriterion(\n",
        "    smoothing=0.1,\n",
        "    ignore_index=task.target_dictionary.pad(),\n",
        ")"
      ]
    },
    {
      "cell_type": "markdown",
      "metadata": {
        "id": "aRalDto2NkJJ"
      },
      "source": [
        "## Optimizer: Adam + lr scheduling\n",
        "Inverse square root scheduling is important to the stability when training Transformer. It's later used on RNN as well.\n",
        "Update the learning rate according to the following equation. Linearly increase the first stage, then decay proportionally to the inverse square root of timestep.\n",
        "$$lrate = d_{\\text{model}}^{-0.5}\\cdot\\min({step\\_num}^{-0.5},{step\\_num}\\cdot{warmup\\_steps}^{-1.5})$$"
      ]
    },
    {
      "cell_type": "code",
      "execution_count": 128,
      "metadata": {
        "id": "sS7tQj1ROBYm"
      },
      "outputs": [],
      "source": [
        "def get_rate(d_model, step_num, warmup_step):\n",
        "    # lr = 0.001\n",
        "    # Change lr from constant to the equation shown above\n",
        "    lr = d_model**-0.5 * min(step_num**-0.5, step_num*warmup_step**-1.5)\n",
        "    return lr"
      ]
    },
    {
      "cell_type": "code",
      "execution_count": 129,
      "metadata": {
        "id": "J8hoAjHPNkh3"
      },
      "outputs": [],
      "source": [
        "class NoamOpt:\n",
        "    \"Optim wrapper that implements rate.\"\n",
        "    def __init__(self, model_size, factor, warmup, optimizer):\n",
        "        self.optimizer = optimizer\n",
        "        self._step = 0\n",
        "        self.warmup = warmup\n",
        "        self.factor = factor\n",
        "        self.model_size = model_size\n",
        "        self._rate = 0\n",
        "    \n",
        "    @property\n",
        "    def param_groups(self):\n",
        "        return self.optimizer.param_groups\n",
        "        \n",
        "    def multiply_grads(self, c):\n",
        "        \"\"\"Multiplies grads by a constant *c*.\"\"\"                \n",
        "        for group in self.param_groups:\n",
        "            for p in group['params']:\n",
        "                if p.grad is not None:\n",
        "                    p.grad.data.mul_(c)\n",
        "        \n",
        "    def step(self):\n",
        "        \"Update parameters and rate\"\n",
        "        self._step += 1\n",
        "        rate = self.rate()\n",
        "        for p in self.param_groups:\n",
        "            p['lr'] = rate\n",
        "        self._rate = rate\n",
        "        self.optimizer.step()\n",
        "        \n",
        "    def rate(self, step = None):\n",
        "        \"Implement `lrate` above\"\n",
        "        if step is None:\n",
        "            step = self._step\n",
        "        return 0 if not step else self.factor * get_rate(self.model_size, step, self.warmup)"
      ]
    },
    {
      "cell_type": "markdown",
      "metadata": {
        "id": "VFJlkOMONsc6"
      },
      "source": [
        "## Scheduling Visualized"
      ]
    },
    {
      "cell_type": "code",
      "execution_count": 130,
      "metadata": {
        "id": "A135fwPCNrQs"
      },
      "outputs": [
        {
          "data": {
            "image/png": "[encoded data removed]",
            "text/plain": [
              "<Figure size 432x288 with 1 Axes>"
            ]
          },
          "metadata": {
            "needs_background": "light"
          },
          "output_type": "display_data"
        }
      ],
      "source": [
        "optimizer = NoamOpt(\n",
        "    model_size=arch_args.encoder_embed_dim, \n",
        "    factor=config.lr_factor, \n",
        "    warmup=config.lr_warmup, \n",
        "    optimizer=torch.optim.AdamW(model.parameters(), lr=0, betas=(0.9, 0.98), eps=1e-9, weight_decay=0.0001))\n",
        "plt.plot(np.arange(1, 100000), [optimizer.rate(i) for i in range(1, 100000)])\n",
        "plt.legend([f\"{optimizer.model_size}:{optimizer.warmup}\"])\n",
        "None"
      ]
    },
    {
      "cell_type": "markdown",
      "metadata": {
        "id": "TOR0g-cVO5ZO"
      },
      "source": [
        "# Training Procedure"
      ]
    },
    {
      "cell_type": "markdown",
      "metadata": {
        "id": "f-0ZjbK3O8Iv"
      },
      "source": [
        "## Training"
      ]
    },
    {
      "cell_type": "code",
      "execution_count": 131,
      "metadata": {
        "id": "foal3xM1O404"
      },
      "outputs": [],
      "source": [
        "from fairseq.data import iterators\n",
        "from torch.cuda.amp import GradScaler, autocast\n",
        "\n",
        "def train_one_epoch(epoch_itr, model, task, criterion, optimizer, accum_steps=1):\n",
        "    itr = epoch_itr.next_epoch_itr(shuffle=True)\n",
        "    itr = iterators.GroupedIterator(itr, accum_steps) # gradient accumulation: update every accum_steps samples\n",
        "    \n",
        "    stats = {\"loss\": []}\n",
        "    scaler = GradScaler() # automatic mixed precision (amp) \n",
        "    \n",
        "    model.train()\n",
        "    progress = tqdm.tqdm(itr, desc=f\"train epoch {epoch_itr.epoch}\", leave=False)\n",
        "    for samples in progress:\n",
        "        model.zero_grad()\n",
        "        accum_loss = 0\n",
        "        sample_size = 0\n",
        "        # gradient accumulation: update every accum_steps samples\n",
        "        for i, sample in enumerate(samples):\n",
        "            if i == 1:\n",
        "                # emptying the CUDA cache after the first step can reduce the chance of OOM\n",
        "                torch.cuda.empty_cache()\n",
        "\n",
        "            sample = utils.move_to_cuda(sample, device=device)\n",
        "            target = sample[\"target\"]\n",
        "            sample_size_i = sample[\"ntokens\"]\n",
        "            sample_size += sample_size_i\n",
        "            \n",
        "            # mixed precision training\n",
        "            with autocast():\n",
        "                net_output = model.forward(**sample[\"net_input\"])\n",
        "                lprobs = F.log_softmax(net_output[0], -1)            \n",
        "                loss = criterion(lprobs.view(-1, lprobs.size(-1)), target.view(-1))\n",
        "                \n",
        "                # logging\n",
        "                accum_loss += loss.item()\n",
        "                # back-prop\n",
        "                scaler.scale(loss).backward()                \n",
        "        \n",
        "        scaler.unscale_(optimizer)\n",
        "        optimizer.multiply_grads(1 / (sample_size or 1.0)) # (sample_size or 1.0) handles the case of a zero gradient\n",
        "        gnorm = nn.utils.clip_grad_norm_(model.parameters(), config.clip_norm) # grad norm clipping prevents gradient exploding\n",
        "        \n",
        "        scaler.step(optimizer)\n",
        "        scaler.update()\n",
        "        \n",
        "        # logging\n",
        "        loss_print = accum_loss/sample_size\n",
        "        stats[\"loss\"].append(loss_print)\n",
        "        progress.set_postfix(loss=loss_print)\n",
        "        if config.use_wandb:\n",
        "            wandb.log({\n",
        "                \"train/loss\": loss_print,\n",
        "                \"train/grad_norm\": gnorm.item(),\n",
        "                \"train/lr\": optimizer.rate(),\n",
        "                \"train/sample_size\": sample_size,\n",
        "            })\n",
        "        \n",
        "    loss_print = np.mean(stats[\"loss\"])\n",
        "    logger.info(f\"training loss: {loss_print:.4f}\")\n",
        "    return stats"
      ]
    },
    {
      "cell_type": "markdown",
      "metadata": {
        "id": "Gt1lX3DRO_yU"
      },
      "source": [
        "## Validation & Inference\n",
        "To prevent overfitting, validation is required every epoch to validate the performance on unseen data.\n",
        "- the procedure is essensially same as training, with the addition of inference step\n",
        "- after validation we can save the model weights\n",
        "\n",
        "Validation loss alone cannot describe the actual performance of the model\n",
        "- Directly produce translation hypotheses based on current model, then calculate BLEU with the reference translation\n",
        "- We can also manually examine the hypotheses' quality\n",
        "- We use fairseq's sequence generator for beam search to generate translation hypotheses"
      ]
    },
    {
      "cell_type": "code",
      "execution_count": 132,
      "metadata": {
        "id": "2og80HYQPAKq"
      },
      "outputs": [],
      "source": [
        "# fairseq's beam search generator\n",
        "# given model and input seqeunce, produce translation hypotheses by beam search\n",
        "sequence_generator = task.build_generator([model], config)\n",
        "\n",
        "def decode(toks, dictionary):\n",
        "    # convert from Tensor to human readable sentence\n",
        "    s = dictionary.string(\n",
        "        toks.int().cpu(),\n",
        "        config.post_process,\n",
        "    )\n",
        "    return s if s else \"<unk>\"\n",
        "\n",
        "def inference_step(sample, model):\n",
        "    gen_out = sequence_generator.generate([model], sample)\n",
        "    srcs = []\n",
        "    hyps = []\n",
        "    refs = []\n",
        "    for i in range(len(gen_out)):\n",
        "        # for each sample, collect the input, hypothesis and reference, later be used to calculate BLEU\n",
        "        srcs.append(decode(\n",
        "            utils.strip_pad(sample[\"net_input\"][\"src_tokens\"][i], task.source_dictionary.pad()), \n",
        "            task.source_dictionary,\n",
        "        ))\n",
        "        hyps.append(decode(\n",
        "            gen_out[i][0][\"tokens\"], # 0 indicates using the top hypothesis in beam\n",
        "            task.target_dictionary,\n",
        "        ))\n",
        "        refs.append(decode(\n",
        "            utils.strip_pad(sample[\"target\"][i], task.target_dictionary.pad()), \n",
        "            task.target_dictionary,\n",
        "        ))\n",
        "    return srcs, hyps, refs"
      ]
    },
    {
      "cell_type": "code",
      "execution_count": 133,
      "metadata": {
        "id": "y1o7LeDkPDsd"
      },
      "outputs": [],
      "source": [
        "import shutil\n",
        "import sacrebleu\n",
        "\n",
        "def validate(model, task, criterion, log_to_wandb=True):\n",
        "    logger.info('begin validation')\n",
        "    itr = load_data_iterator(task, \"valid\", 1, config.max_tokens, config.num_workers).next_epoch_itr(shuffle=False)\n",
        "    \n",
        "    stats = {\"loss\":[], \"bleu\": 0, \"srcs\":[], \"hyps\":[], \"refs\":[]}\n",
        "    srcs = []\n",
        "    hyps = []\n",
        "    refs = []\n",
        "    \n",
        "    model.eval()\n",
        "    progress = tqdm.tqdm(itr, desc=f\"validation\", leave=False)\n",
        "    with torch.no_grad():\n",
        "        for i, sample in enumerate(progress):\n",
        "            # validation loss\n",
        "            sample = utils.move_to_cuda(sample, device=device)\n",
        "            net_output = model.forward(**sample[\"net_input\"])\n",
        "\n",
        "            lprobs = F.log_softmax(net_output[0], -1)\n",
        "            target = sample[\"target\"]\n",
        "            sample_size = sample[\"ntokens\"]\n",
        "            loss = criterion(lprobs.view(-1, lprobs.size(-1)), target.view(-1)) / sample_size\n",
        "            progress.set_postfix(valid_loss=loss.item())\n",
        "            stats[\"loss\"].append(loss)\n",
        "            \n",
        "            # do inference\n",
        "            s, h, r = inference_step(sample, model)\n",
        "            srcs.extend(s)\n",
        "            hyps.extend(h)\n",
        "            refs.extend(r)\n",
        "            \n",
        "    tok = 'zh' if task.cfg.target_lang == 'zh' else '13a'\n",
        "    stats[\"loss\"] = torch.stack(stats[\"loss\"]).mean().item()\n",
        "    stats[\"bleu\"] = sacrebleu.corpus_bleu(hyps, [refs], tokenize=tok) # 計算BLEU score\n",
        "    stats[\"srcs\"] = srcs\n",
        "    stats[\"hyps\"] = hyps\n",
        "    stats[\"refs\"] = refs\n",
        "    \n",
        "    if config.use_wandb and log_to_wandb:\n",
        "        wandb.log({\n",
        "            \"valid/loss\": stats[\"loss\"],\n",
        "            \"valid/bleu\": stats[\"bleu\"].score,\n",
        "        }, commit=False)\n",
        "    \n",
        "    showid = np.random.randint(len(hyps))\n",
        "    logger.info(\"example source: \" + srcs[showid])\n",
        "    logger.info(\"example hypothesis: \" + hyps[showid])\n",
        "    logger.info(\"example reference: \" + refs[showid])\n",
        "    \n",
        "    # show bleu results\n",
        "    logger.info(f\"validation loss:\\t{stats['loss']:.4f}\")\n",
        "    logger.info(stats[\"bleu\"].format())\n",
        "    return stats"
      ]
    },
    {
      "cell_type": "markdown",
      "metadata": {
        "id": "1sRF6nd4PGEE"
      },
      "source": [
        "# Save and Load Model Weights\n"
      ]
    },
    {
      "cell_type": "code",
      "execution_count": 134,
      "metadata": {
        "id": "edBuLlkuPGr9"
      },
      "outputs": [],
      "source": [
        "def validate_and_save(model, task, criterion, optimizer, epoch, save=True):   \n",
        "    stats = validate(model, task, criterion)\n",
        "    bleu = stats['bleu']\n",
        "    loss = stats['loss']\n",
        "    if save:\n",
        "        # save epoch checkpoints\n",
        "        savedir = Path(config.savedir).absolute()\n",
        "        savedir.mkdir(parents=True, exist_ok=True)\n",
        "        \n",
        "        check = {\n",
        "            \"model\": model.state_dict(),\n",
        "            \"stats\": {\"bleu\": bleu.score, \"loss\": loss},\n",
        "            \"optim\": {\"step\": optimizer._step}\n",
        "        }\n",
        "        torch.save(check, savedir/f\"checkpoint{epoch}.pt\")\n",
        "        shutil.copy(savedir/f\"checkpoint{epoch}.pt\", savedir/f\"checkpoint_last.pt\")\n",
        "        logger.info(f\"saved epoch checkpoint: {savedir}/checkpoint{epoch}.pt\")\n",
        "    \n",
        "        # save epoch samples\n",
        "        with open(savedir/f\"samples{epoch}.{config.source_lang}-{config.target_lang}.txt\", \"w\") as f:\n",
        "            for s, h in zip(stats[\"srcs\"], stats[\"hyps\"]):\n",
        "                f.write(f\"{s}\\t{h}\\n\")\n",
        "\n",
        "        # get best valid bleu    \n",
        "        if getattr(validate_and_save, \"best_bleu\", 0) < bleu.score:\n",
        "            validate_and_save.best_bleu = bleu.score\n",
        "            torch.save(check, savedir/f\"checkpoint_best.pt\")\n",
        "            \n",
        "        del_file = savedir / f\"checkpoint{epoch - config.keep_last_epochs}.pt\"\n",
        "        if del_file.exists():\n",
        "            del_file.unlink()\n",
        "    \n",
        "    return stats\n",
        "\n",
        "def try_load_checkpoint(model, optimizer=None, name=None):\n",
        "    name = name if name else \"checkpoint_last.pt\"\n",
        "    checkpath = Path(config.savedir)/name\n",
        "    if checkpath.exists():\n",
        "        check = torch.load(checkpath)\n",
        "        model.load_state_dict(check[\"model\"])\n",
        "        stats = check[\"stats\"]\n",
        "        step = \"unknown\"\n",
        "        if optimizer != None:\n",
        "            optimizer._step = step = check[\"optim\"][\"step\"]\n",
        "        logger.info(f\"loaded checkpoint {checkpath}: step={step} loss={stats['loss']} bleu={stats['bleu']}\")\n",
        "    else:\n",
        "        logger.info(f\"no checkpoints found at {checkpath}!\")"
      ]
    },
    {
      "cell_type": "markdown",
      "metadata": {
        "id": "KyIFpibfPJ5u"
      },
      "source": [
        "# Main\n",
        "## Training loop"
      ]
    },
    {
      "cell_type": "code",
      "execution_count": 135,
      "metadata": {
        "id": "hu7RZbCUPKQr"
      },
      "outputs": [],
      "source": [
        "model = model.to(device=device)\n",
        "criterion = criterion.to(device=device)"
      ]
    },
    {
      "cell_type": "code",
      "execution_count": 136,
      "metadata": {
        "id": "5xxlJxU2PeAo"
      },
      "outputs": [
        {
          "name": "stdout",
          "output_type": "stream",
          "text": [
            "2022-04-03 01:08:14 | INFO | hw5.seq2seq | task: TranslationTask\n",
            "2022-04-03 01:08:14 | INFO | hw5.seq2seq | encoder: TransformerEncoder\n",
            "2022-04-03 01:08:14 | INFO | hw5.seq2seq | decoder: TransformerDecoder\n",
            "2022-04-03 01:08:14 | INFO | hw5.seq2seq | criterion: LabelSmoothedCrossEntropyCriterion\n",
            "2022-04-03 01:08:14 | INFO | hw5.seq2seq | optimizer: NoamOpt\n",
            "2022-04-03 01:08:14 | INFO | hw5.seq2seq | num. model params: 5,677,568 (num. trained: 5,677,568)\n",
            "2022-04-03 01:08:14 | INFO | hw5.seq2seq | max tokens per batch = 8192, accumulate steps = 2\n"
          ]
        }
      ],
      "source": [
        "logger.info(\"task: {}\".format(task.__class__.__name__))\n",
        "logger.info(\"encoder: {}\".format(model.encoder.__class__.__name__))\n",
        "logger.info(\"decoder: {}\".format(model.decoder.__class__.__name__))\n",
        "logger.info(\"criterion: {}\".format(criterion.__class__.__name__))\n",
        "logger.info(\"optimizer: {}\".format(optimizer.__class__.__name__))\n",
        "logger.info(\n",
        "    \"num. model params: {:,} (num. trained: {:,})\".format(\n",
        "        sum(p.numel() for p in model.parameters()),\n",
        "        sum(p.numel() for p in model.parameters() if p.requires_grad),\n",
        "    )\n",
        ")\n",
        "logger.info(f\"max tokens per batch = {config.max_tokens}, accumulate steps = {config.accum_steps}\")"
      ]
    },
    {
      "cell_type": "code",
      "execution_count": 137,
      "metadata": {
        "id": "MSPRqpQUPfaX"
      },
      "outputs": [
        {
          "name": "stdout",
          "output_type": "stream",
          "text": [
            "2022-04-03 01:08:14 | WARNING | fairseq.tasks.fairseq_task | 1 samples have invalid sizes and will be skipped, max_positions=(1024, 1024), first few sample ids=[326674]\n",
            "2022-04-03 01:08:14 | INFO | hw5.seq2seq | loaded checkpoint checkpoints/rnn/checkpoint_last.pt: step=11697 loss=4.267194747924805 bleu=15.171087108884214\n"
          ]
        },
        {
          "data": {
            "application/vnd.jupyter.widget-view+json": {
              "model_id": "2d3be8d54cb54b81a67670a30c2b55ff",
              "version_major": 2,
              "version_minor": 0
            },
            "text/plain": [
              "train epoch 1:   0%|          | 0/791 [00:00<?, ?it/s]"
            ]
          },
          "metadata": {},
          "output_type": "display_data"
        },
        {
          "name": "stdout",
          "output_type": "stream",
          "text": [
            "2022-04-03 01:09:39 | INFO | hw5.seq2seq | training loss: 4.4621\n",
            "2022-04-03 01:09:39 | INFO | hw5.seq2seq | begin validation\n"
          ]
        },
        {
          "data": {
            "application/vnd.jupyter.widget-view+json": {
              "model_id": "f37a0c4570234099a889b644351851be",
              "version_major": 2,
              "version_minor": 0
            },
            "text/plain": [
              "validation:   0%|          | 0/22 [00:00<?, ?it/s]"
            ]
          },
          "metadata": {},
          "output_type": "display_data"
        },
        {
          "name": "stderr",
          "output_type": "stream",
          "text": [
            "/home/spiderkiller/miniconda3/envs/ml_hw5/lib/python3.7/site-packages/fairseq/search.py:140: UserWarning: __floordiv__ is deprecated, and its behavior will change in a future version of pytorch. It currently rounds toward 0 (like the 'trunc' function NOT 'floor'). This results in incorrect rounding for negative values. To keep the current behavior, use torch.div(a, b, rounding_mode='trunc'), or for actual floor division, use torch.div(a, b, rounding_mode='floor').\n",
            "  beams_buf = indices_buf // vocab_size\n",
            "/home/spiderkiller/miniconda3/envs/ml_hw5/lib/python3.7/site-packages/fairseq/sequence_generator.py:657: UserWarning: __floordiv__ is deprecated, and its behavior will change in a future version of pytorch. It currently rounds toward 0 (like the 'trunc' function NOT 'floor'). This results in incorrect rounding for negative values. To keep the current behavior, use torch.div(a, b, rounding_mode='trunc'), or for actual floor division, use torch.div(a, b, rounding_mode='floor').\n",
            "  unfin_idx = idx // beam_size\n"
          ]
        },
        {
          "name": "stdout",
          "output_type": "stream",
          "text": [
            "2022-04-03 01:10:03 | INFO | hw5.seq2seq | example source: but the point is , it doesn't feel that way .\n",
            "2022-04-03 01:10:03 | INFO | hw5.seq2seq | example hypothesis: 但重點是 , 它並不感覺 。\n",
            "2022-04-03 01:10:03 | INFO | hw5.seq2seq | example reference: 但重點是 , 感覺起來卻不是那麼回事呀\n",
            "2022-04-03 01:10:03 | INFO | hw5.seq2seq | validation loss:\t4.2667\n",
            "2022-04-03 01:10:03 | INFO | hw5.seq2seq | BLEU = 15.53 50.7/25.2/13.2/7.3 (BP = 0.829 ratio = 0.842 hyp_len = 94173 ref_len = 111811)\n",
            "2022-04-03 01:10:03 | INFO | hw5.seq2seq | saved epoch checkpoint: /home/spiderkiller/ML2022/hw5_machine_translation/checkpoints/rnn/checkpoint1.pt\n",
            "2022-04-03 01:10:03 | INFO | hw5.seq2seq | end of epoch 1\n"
          ]
        },
        {
          "data": {
            "application/vnd.jupyter.widget-view+json": {
              "model_id": "29b873d5d90c4112ac515c3743638f47",
              "version_major": 2,
              "version_minor": 0
            },
            "text/plain": [
              "train epoch 2:   0%|          | 0/791 [00:00<?, ?it/s]"
            ]
          },
          "metadata": {},
          "output_type": "display_data"
        },
        {
          "name": "stderr",
          "output_type": "stream",
          "text": [
            "Exception ignored in: <function _MultiProcessingDataLoaderIter.__del__ at 0x7fd5c189aa70>\n",
            "Traceback (most recent call last):\n",
            "  File \"/home/spiderkiller/miniconda3/envs/ml_hw5/lib/python3.7/site-packages/torch/utils/data/dataloader.py\", line 1328, in __del__\n",
            "    self._shutdown_workers()\n",
            "  File \"/home/spiderkiller/miniconda3/envs/ml_hw5/lib/python3.7/site-packages/torch/utils/data/dataloader.py\", line 1320, in _shutdown_workers\n",
            "    if w.is_alive():\n",
            "  File \"/home/spiderkiller/miniconda3/envs/ml_hw5/lib/python3.7/multiprocessing/process.py\", line 151, in is_alive\n",
            "    assert self._parent_pid == os.getpid(), 'can only test a child process'\n",
            "AssertionError: can only test a child process\n",
            "Exception ignored in: <function _MultiProcessingDataLoaderIter.__del__ at 0x7fd5c189aa70>\n",
            "Traceback (most recent call last):\n",
            "  File \"/home/spiderkiller/miniconda3/envs/ml_hw5/lib/python3.7/site-packages/torch/utils/data/dataloader.py\", line 1328, in __del__\n",
            "    self._shutdown_workers()\n",
            "  File \"/home/spiderkiller/miniconda3/envs/ml_hw5/lib/python3.7/site-packages/torch/utils/data/dataloader.py\", line 1320, in _shutdown_workers\n",
            "    if w.is_alive():\n",
            "  File \"/home/spiderkiller/miniconda3/envs/ml_hw5/lib/python3.7/multiprocessing/process.py\", line 151, in is_alive\n",
            "    assert self._parent_pid == os.getpid(), 'can only test a child process'\n",
            "AssertionError: can only test a child process\n"
          ]
        },
        {
          "name": "stdout",
          "output_type": "stream",
          "text": [
            "2022-04-03 01:11:28 | INFO | hw5.seq2seq | training loss: 4.4506\n",
            "2022-04-03 01:11:28 | INFO | hw5.seq2seq | begin validation\n"
          ]
        },
        {
          "data": {
            "application/vnd.jupyter.widget-view+json": {
              "model_id": "511b0cbf69b84b38b5c9a4c70890d22f",
              "version_major": 2,
              "version_minor": 0
            },
            "text/plain": [
              "validation:   0%|          | 0/22 [00:00<?, ?it/s]"
            ]
          },
          "metadata": {},
          "output_type": "display_data"
        },
        {
          "name": "stdout",
          "output_type": "stream",
          "text": [
            "2022-04-03 01:11:55 | INFO | hw5.seq2seq | example source: we can push through that .\n",
            "2022-04-03 01:11:55 | INFO | hw5.seq2seq | example hypothesis: 我們可以透過這一點 。\n",
            "2022-04-03 01:11:55 | INFO | hw5.seq2seq | example reference: 我們可以衝破這些限制 。\n",
            "2022-04-03 01:11:55 | INFO | hw5.seq2seq | validation loss:\t4.2517\n",
            "2022-04-03 01:11:55 | INFO | hw5.seq2seq | BLEU = 15.41 50.5/25.1/13.3/7.3 (BP = 0.822 ratio = 0.836 hyp_len = 93443 ref_len = 111811)\n",
            "2022-04-03 01:11:55 | INFO | hw5.seq2seq | saved epoch checkpoint: /home/spiderkiller/ML2022/hw5_machine_translation/checkpoints/rnn/checkpoint2.pt\n",
            "2022-04-03 01:11:55 | INFO | hw5.seq2seq | end of epoch 2\n"
          ]
        },
        {
          "data": {
            "application/vnd.jupyter.widget-view+json": {
              "model_id": "4106f5060ecf432395dcc6a58ae907c2",
              "version_major": 2,
              "version_minor": 0
            },
            "text/plain": [
              "train epoch 3:   0%|          | 0/791 [00:00<?, ?it/s]"
            ]
          },
          "metadata": {},
          "output_type": "display_data"
        },
        {
          "name": "stdout",
          "output_type": "stream",
          "text": [
            "2022-04-03 01:13:22 | INFO | hw5.seq2seq | training loss: 4.4421\n",
            "2022-04-03 01:13:22 | INFO | hw5.seq2seq | begin validation\n"
          ]
        },
        {
          "data": {
            "application/vnd.jupyter.widget-view+json": {
              "model_id": "39802bc8cb5848cc8dd805af038a8481",
              "version_major": 2,
              "version_minor": 0
            },
            "text/plain": [
              "validation:   0%|          | 0/22 [00:00<?, ?it/s]"
            ]
          },
          "metadata": {},
          "output_type": "display_data"
        },
        {
          "name": "stdout",
          "output_type": "stream",
          "text": [
            "2022-04-03 01:13:47 | INFO | hw5.seq2seq | example source: thank you .\n",
            "2022-04-03 01:13:47 | INFO | hw5.seq2seq | example hypothesis: 謝謝 。\n",
            "2022-04-03 01:13:47 | INFO | hw5.seq2seq | example reference: 謝謝 。\n",
            "2022-04-03 01:13:47 | INFO | hw5.seq2seq | validation loss:\t4.2329\n",
            "2022-04-03 01:13:47 | INFO | hw5.seq2seq | BLEU = 16.35 47.4/23.5/12.3/6.8 (BP = 0.937 ratio = 0.939 hyp_len = 104981 ref_len = 111811)\n",
            "2022-04-03 01:13:48 | INFO | hw5.seq2seq | saved epoch checkpoint: /home/spiderkiller/ML2022/hw5_machine_translation/checkpoints/rnn/checkpoint3.pt\n",
            "2022-04-03 01:13:48 | INFO | hw5.seq2seq | end of epoch 3\n"
          ]
        },
        {
          "data": {
            "application/vnd.jupyter.widget-view+json": {
              "model_id": "49af3aad3a9c406b9f0853f887d6c28f",
              "version_major": 2,
              "version_minor": 0
            },
            "text/plain": [
              "train epoch 4:   0%|          | 0/791 [00:00<?, ?it/s]"
            ]
          },
          "metadata": {},
          "output_type": "display_data"
        },
        {
          "name": "stdout",
          "output_type": "stream",
          "text": [
            "2022-04-03 01:15:13 | INFO | hw5.seq2seq | training loss: 4.4320\n",
            "2022-04-03 01:15:13 | INFO | hw5.seq2seq | begin validation\n"
          ]
        },
        {
          "data": {
            "application/vnd.jupyter.widget-view+json": {
              "model_id": "b9f02863aeb443269d3d65d199349f52",
              "version_major": 2,
              "version_minor": 0
            },
            "text/plain": [
              "validation:   0%|          | 0/22 [00:00<?, ?it/s]"
            ]
          },
          "metadata": {},
          "output_type": "display_data"
        },
        {
          "name": "stdout",
          "output_type": "stream",
          "text": [
            "2022-04-03 01:15:41 | INFO | hw5.seq2seq | example source: those men would eventually be convicted of placing a van filled with 1 , 500 pounds of explosives into the sublevel parking lot of the world trade center's north tower , causing an explosion that killed six people and injured over 1 , 000 others .\n",
            "2022-04-03 01:15:41 | INFO | hw5.seq2seq | example hypothesis: 那些男人最終被告知 , 把一千五百磅的探索 , 在南方 , 有一千五百磅的探索中心 , 將許多世界貿易中心的探索中心 , 將殺害六個人和傷了一千磅 。\n",
            "2022-04-03 01:15:41 | INFO | hw5.seq2seq | example reference: 這群男人最終被指控將滿載1500磅重的炸彈的廂式貨車停在世界貿易中心北塔的地下停車場 , 爆炸造成6人死亡 , 同時致使超過1000人受傷 。\n",
            "2022-04-03 01:15:41 | INFO | hw5.seq2seq | validation loss:\t4.2161\n",
            "2022-04-03 01:15:41 | INFO | hw5.seq2seq | BLEU = 16.10 48.0/23.8/12.5/6.8 (BP = 0.912 ratio = 0.915 hyp_len = 102337 ref_len = 111811)\n",
            "2022-04-03 01:15:41 | INFO | hw5.seq2seq | saved epoch checkpoint: /home/spiderkiller/ML2022/hw5_machine_translation/checkpoints/rnn/checkpoint4.pt\n",
            "2022-04-03 01:15:41 | INFO | hw5.seq2seq | end of epoch 4\n"
          ]
        },
        {
          "data": {
            "application/vnd.jupyter.widget-view+json": {
              "model_id": "443d69c9c4f54ee294d53c34637b44ed",
              "version_major": 2,
              "version_minor": 0
            },
            "text/plain": [
              "train epoch 5:   0%|          | 0/791 [00:00<?, ?it/s]"
            ]
          },
          "metadata": {},
          "output_type": "display_data"
        },
        {
          "name": "stdout",
          "output_type": "stream",
          "text": [
            "2022-04-03 01:17:09 | INFO | hw5.seq2seq | training loss: 4.4186\n",
            "2022-04-03 01:17:09 | INFO | hw5.seq2seq | begin validation\n"
          ]
        },
        {
          "data": {
            "application/vnd.jupyter.widget-view+json": {
              "model_id": "f6c1c0f5ccaa4dbba37dfa75cb4ec78f",
              "version_major": 2,
              "version_minor": 0
            },
            "text/plain": [
              "validation:   0%|          | 0/22 [00:00<?, ?it/s]"
            ]
          },
          "metadata": {},
          "output_type": "display_data"
        },
        {
          "name": "stdout",
          "output_type": "stream",
          "text": [
            "2022-04-03 01:17:34 | INFO | hw5.seq2seq | example source: but this is really how i go about creating these photographs .\n",
            "2022-04-03 01:17:34 | INFO | hw5.seq2seq | example hypothesis: 但這是我要如何在創造這些照片中 。\n",
            "2022-04-03 01:17:34 | INFO | hw5.seq2seq | example reference: 但是我真的是這樣做出這些相片的 。\n",
            "2022-04-03 01:17:34 | INFO | hw5.seq2seq | validation loss:\t4.2099\n",
            "2022-04-03 01:17:34 | INFO | hw5.seq2seq | BLEU = 16.74 46.9/23.1/12.1/6.7 (BP = 0.971 ratio = 0.972 hyp_len = 108664 ref_len = 111811)\n",
            "2022-04-03 01:17:34 | INFO | hw5.seq2seq | saved epoch checkpoint: /home/spiderkiller/ML2022/hw5_machine_translation/checkpoints/rnn/checkpoint5.pt\n",
            "2022-04-03 01:17:34 | INFO | hw5.seq2seq | end of epoch 5\n"
          ]
        },
        {
          "data": {
            "application/vnd.jupyter.widget-view+json": {
              "model_id": "53444f9c9e7f44a79bddb5fb11bc2267",
              "version_major": 2,
              "version_minor": 0
            },
            "text/plain": [
              "train epoch 6:   0%|          | 0/791 [00:00<?, ?it/s]"
            ]
          },
          "metadata": {},
          "output_type": "display_data"
        },
        {
          "name": "stdout",
          "output_type": "stream",
          "text": [
            "2022-04-03 01:19:00 | INFO | hw5.seq2seq | training loss: 4.4112\n",
            "2022-04-03 01:19:00 | INFO | hw5.seq2seq | begin validation\n"
          ]
        },
        {
          "data": {
            "application/vnd.jupyter.widget-view+json": {
              "model_id": "aae6fd7ff7ad4bea993699301a85f7d7",
              "version_major": 2,
              "version_minor": 0
            },
            "text/plain": [
              "validation:   0%|          | 0/22 [00:00<?, ?it/s]"
            ]
          },
          "metadata": {},
          "output_type": "display_data"
        },
        {
          "name": "stdout",
          "output_type": "stream",
          "text": [
            "2022-04-03 01:19:26 | INFO | hw5.seq2seq | example source: so that is a fact .\n",
            "2022-04-03 01:19:26 | INFO | hw5.seq2seq | example hypothesis: 這是事實 。\n",
            "2022-04-03 01:19:26 | INFO | hw5.seq2seq | example reference: 這就是事實\n",
            "2022-04-03 01:19:26 | INFO | hw5.seq2seq | validation loss:\t4.2115\n",
            "2022-04-03 01:19:26 | INFO | hw5.seq2seq | BLEU = 16.49 49.4/24.6/13.0/7.2 (BP = 0.898 ratio = 0.903 hyp_len = 100941 ref_len = 111811)\n",
            "2022-04-03 01:19:26 | INFO | hw5.seq2seq | saved epoch checkpoint: /home/spiderkiller/ML2022/hw5_machine_translation/checkpoints/rnn/checkpoint6.pt\n",
            "2022-04-03 01:19:26 | INFO | hw5.seq2seq | end of epoch 6\n"
          ]
        },
        {
          "data": {
            "application/vnd.jupyter.widget-view+json": {
              "model_id": "ee76efd9ffc640e0948d48ea45f5149f",
              "version_major": 2,
              "version_minor": 0
            },
            "text/plain": [
              "train epoch 7:   0%|          | 0/791 [00:00<?, ?it/s]"
            ]
          },
          "metadata": {},
          "output_type": "display_data"
        },
        {
          "name": "stdout",
          "output_type": "stream",
          "text": [
            "2022-04-03 01:20:51 | INFO | hw5.seq2seq | training loss: 4.4064\n",
            "2022-04-03 01:20:51 | INFO | hw5.seq2seq | begin validation\n"
          ]
        },
        {
          "data": {
            "application/vnd.jupyter.widget-view+json": {
              "model_id": "812401f199834789b7be77a45b0b7831",
              "version_major": 2,
              "version_minor": 0
            },
            "text/plain": [
              "validation:   0%|          | 0/22 [00:00<?, ?it/s]"
            ]
          },
          "metadata": {},
          "output_type": "display_data"
        },
        {
          "name": "stdout",
          "output_type": "stream",
          "text": [
            "2022-04-03 01:21:18 | INFO | hw5.seq2seq | example source: thank you so much everyone .\n",
            "2022-04-03 01:21:18 | INFO | hw5.seq2seq | example hypothesis: 謝謝大家\n",
            "2022-04-03 01:21:18 | INFO | hw5.seq2seq | example reference: 謝謝大家 !\n",
            "2022-04-03 01:21:18 | INFO | hw5.seq2seq | validation loss:\t4.1964\n",
            "2022-04-03 01:21:18 | INFO | hw5.seq2seq | BLEU = 15.74 49.9/24.8/13.1/7.2 (BP = 0.852 ratio = 0.862 hyp_len = 96367 ref_len = 111811)\n",
            "2022-04-03 01:21:18 | INFO | hw5.seq2seq | saved epoch checkpoint: /home/spiderkiller/ML2022/hw5_machine_translation/checkpoints/rnn/checkpoint7.pt\n",
            "2022-04-03 01:21:18 | INFO | hw5.seq2seq | end of epoch 7\n"
          ]
        },
        {
          "data": {
            "application/vnd.jupyter.widget-view+json": {
              "model_id": "d189b37c0b98435f92af6a0c8f155c64",
              "version_major": 2,
              "version_minor": 0
            },
            "text/plain": [
              "train epoch 8:   0%|          | 0/791 [00:00<?, ?it/s]"
            ]
          },
          "metadata": {},
          "output_type": "display_data"
        },
        {
          "name": "stdout",
          "output_type": "stream",
          "text": [
            "2022-04-03 01:22:43 | INFO | hw5.seq2seq | training loss: 4.3987\n",
            "2022-04-03 01:22:43 | INFO | hw5.seq2seq | begin validation\n"
          ]
        },
        {
          "data": {
            "application/vnd.jupyter.widget-view+json": {
              "model_id": "4a7ad291ba674617a2a51c53e4183cdd",
              "version_major": 2,
              "version_minor": 0
            },
            "text/plain": [
              "validation:   0%|          | 0/22 [00:00<?, ?it/s]"
            ]
          },
          "metadata": {},
          "output_type": "display_data"
        },
        {
          "name": "stdout",
          "output_type": "stream",
          "text": [
            "2022-04-03 01:23:11 | INFO | hw5.seq2seq | example source: these differences became a source of inspired artistic celebration .\n",
            "2022-04-03 01:23:11 | INFO | hw5.seq2seq | example hypothesis: 這些差異變得很大 。\n",
            "2022-04-03 01:23:11 | INFO | hw5.seq2seq | example reference: 這些差異變成了一個源頭 , 富有靈感之藝術讚頌的源頭 。\n",
            "2022-04-03 01:23:11 | INFO | hw5.seq2seq | validation loss:\t4.1956\n",
            "2022-04-03 01:23:11 | INFO | hw5.seq2seq | BLEU = 15.83 49.7/24.8/13.2/7.3 (BP = 0.851 ratio = 0.861 hyp_len = 96324 ref_len = 111811)\n",
            "2022-04-03 01:23:11 | INFO | hw5.seq2seq | saved epoch checkpoint: /home/spiderkiller/ML2022/hw5_machine_translation/checkpoints/rnn/checkpoint8.pt\n",
            "2022-04-03 01:23:11 | INFO | hw5.seq2seq | end of epoch 8\n"
          ]
        },
        {
          "data": {
            "application/vnd.jupyter.widget-view+json": {
              "model_id": "e068a407cf8a40c6a344b14250a47e78",
              "version_major": 2,
              "version_minor": 0
            },
            "text/plain": [
              "train epoch 9:   0%|          | 0/791 [00:00<?, ?it/s]"
            ]
          },
          "metadata": {},
          "output_type": "display_data"
        },
        {
          "name": "stdout",
          "output_type": "stream",
          "text": [
            "2022-04-03 01:24:37 | INFO | hw5.seq2seq | training loss: 4.3942\n",
            "2022-04-03 01:24:37 | INFO | hw5.seq2seq | begin validation\n"
          ]
        },
        {
          "data": {
            "application/vnd.jupyter.widget-view+json": {
              "model_id": "d6fe3a26069041499f85684a605b0c80",
              "version_major": 2,
              "version_minor": 0
            },
            "text/plain": [
              "validation:   0%|          | 0/22 [00:00<?, ?it/s]"
            ]
          },
          "metadata": {},
          "output_type": "display_data"
        },
        {
          "name": "stdout",
          "output_type": "stream",
          "text": [
            "2022-04-03 01:25:04 | INFO | hw5.seq2seq | example source: it's not .\n",
            "2022-04-03 01:25:04 | INFO | hw5.seq2seq | example hypothesis: 這不是 。\n",
            "2022-04-03 01:25:04 | INFO | hw5.seq2seq | example reference: 不是\n",
            "2022-04-03 01:25:04 | INFO | hw5.seq2seq | validation loss:\t4.1956\n",
            "2022-04-03 01:25:04 | INFO | hw5.seq2seq | BLEU = 16.29 49.2/24.4/12.8/7.1 (BP = 0.897 ratio = 0.902 hyp_len = 100884 ref_len = 111811)\n",
            "2022-04-03 01:25:05 | INFO | hw5.seq2seq | saved epoch checkpoint: /home/spiderkiller/ML2022/hw5_machine_translation/checkpoints/rnn/checkpoint9.pt\n",
            "2022-04-03 01:25:05 | INFO | hw5.seq2seq | end of epoch 9\n"
          ]
        },
        {
          "data": {
            "application/vnd.jupyter.widget-view+json": {
              "model_id": "0a44b01f32684d7eb260e33ad83881af",
              "version_major": 2,
              "version_minor": 0
            },
            "text/plain": [
              "train epoch 10:   0%|          | 0/791 [00:00<?, ?it/s]"
            ]
          },
          "metadata": {},
          "output_type": "display_data"
        },
        {
          "name": "stdout",
          "output_type": "stream",
          "text": [
            "2022-04-03 01:26:29 | INFO | hw5.seq2seq | training loss: 4.3876\n",
            "2022-04-03 01:26:29 | INFO | hw5.seq2seq | begin validation\n"
          ]
        },
        {
          "data": {
            "application/vnd.jupyter.widget-view+json": {
              "model_id": "c41185b458784be8995f639babad4243",
              "version_major": 2,
              "version_minor": 0
            },
            "text/plain": [
              "validation:   0%|          | 0/22 [00:00<?, ?it/s]"
            ]
          },
          "metadata": {},
          "output_type": "display_data"
        },
        {
          "name": "stdout",
          "output_type": "stream",
          "text": [
            "2022-04-03 01:26:53 | INFO | hw5.seq2seq | example source: so think about when you have friends , families and coworkers in california , on the west coast or in other parts of the world .\n",
            "2022-04-03 01:26:53 | INFO | hw5.seq2seq | example hypothesis: 所以想想看 , 當你有朋友時 , 家庭和牛津的西方 , 在加州或其他地區的其他部分 。\n",
            "2022-04-03 01:26:53 | INFO | hw5.seq2seq | example reference: 所以 , 想像當你嘗試聯繫在加州 , 在西海岸或者在世界的另一面\n",
            "2022-04-03 01:26:53 | INFO | hw5.seq2seq | validation loss:\t4.1827\n",
            "2022-04-03 01:26:53 | INFO | hw5.seq2seq | BLEU = 16.02 50.5/25.3/13.4/7.4 (BP = 0.848 ratio = 0.859 hyp_len = 96006 ref_len = 111811)\n",
            "2022-04-03 01:26:54 | INFO | hw5.seq2seq | saved epoch checkpoint: /home/spiderkiller/ML2022/hw5_machine_translation/checkpoints/rnn/checkpoint10.pt\n",
            "2022-04-03 01:26:54 | INFO | hw5.seq2seq | end of epoch 10\n"
          ]
        },
        {
          "data": {
            "application/vnd.jupyter.widget-view+json": {
              "model_id": "60a0be972a424bd2ac19c377cf33fb0a",
              "version_major": 2,
              "version_minor": 0
            },
            "text/plain": [
              "train epoch 11:   0%|          | 0/791 [00:00<?, ?it/s]"
            ]
          },
          "metadata": {},
          "output_type": "display_data"
        },
        {
          "name": "stdout",
          "output_type": "stream",
          "text": [
            "2022-04-03 01:28:20 | INFO | hw5.seq2seq | training loss: 4.3841\n",
            "2022-04-03 01:28:20 | INFO | hw5.seq2seq | begin validation\n"
          ]
        },
        {
          "data": {
            "application/vnd.jupyter.widget-view+json": {
              "model_id": "1efa005b2dd44946ba801cd977f155c1",
              "version_major": 2,
              "version_minor": 0
            },
            "text/plain": [
              "validation:   0%|          | 0/22 [00:00<?, ?it/s]"
            ]
          },
          "metadata": {},
          "output_type": "display_data"
        },
        {
          "name": "stdout",
          "output_type": "stream",
          "text": [
            "2022-04-03 01:28:47 | INFO | hw5.seq2seq | example source: and i was asked to move out because one of my roommates had shared my status with her parents .\n",
            "2022-04-03 01:28:47 | INFO | hw5.seq2seq | example hypothesis: 我被要求搬出去 , 因為我的房間和她的父母分享我的信任之一 。\n",
            "2022-04-03 01:28:47 | INFO | hw5.seq2seq | example reference: 我會被要求搬出去 , 是因為其中一名室友和她的父母談了我的狀況 。\n",
            "2022-04-03 01:28:47 | INFO | hw5.seq2seq | validation loss:\t4.1845\n",
            "2022-04-03 01:28:47 | INFO | hw5.seq2seq | BLEU = 16.45 50.0/24.9/13.2/7.4 (BP = 0.881 ratio = 0.887 hyp_len = 99229 ref_len = 111811)\n",
            "2022-04-03 01:28:47 | INFO | hw5.seq2seq | saved epoch checkpoint: /home/spiderkiller/ML2022/hw5_machine_translation/checkpoints/rnn/checkpoint11.pt\n",
            "2022-04-03 01:28:47 | INFO | hw5.seq2seq | end of epoch 11\n"
          ]
        },
        {
          "data": {
            "application/vnd.jupyter.widget-view+json": {
              "model_id": "d9228e93ecbe4483878d59e52ebd801d",
              "version_major": 2,
              "version_minor": 0
            },
            "text/plain": [
              "train epoch 12:   0%|          | 0/791 [00:00<?, ?it/s]"
            ]
          },
          "metadata": {},
          "output_type": "display_data"
        },
        {
          "name": "stdout",
          "output_type": "stream",
          "text": [
            "2022-04-03 01:30:11 | INFO | hw5.seq2seq | training loss: 4.3811\n",
            "2022-04-03 01:30:11 | INFO | hw5.seq2seq | begin validation\n"
          ]
        },
        {
          "data": {
            "application/vnd.jupyter.widget-view+json": {
              "model_id": "72498a8b9b494bdb89d8cdf6ed49c4eb",
              "version_major": 2,
              "version_minor": 0
            },
            "text/plain": [
              "validation:   0%|          | 0/22 [00:00<?, ?it/s]"
            ]
          },
          "metadata": {},
          "output_type": "display_data"
        },
        {
          "name": "stdout",
          "output_type": "stream",
          "text": [
            "2022-04-03 01:30:35 | INFO | hw5.seq2seq | example source: and i want to share with you a quick video from our facility that gives you a sense of how this looks at scale .\n",
            "2022-04-03 01:30:35 | INFO | hw5.seq2seq | example hypothesis: 我想跟各位分享一個很快的影片 , 給你們看一下這個看法有多大 。\n",
            "2022-04-03 01:30:35 | INFO | hw5.seq2seq | example reference: 我想與你們快速分享一段關於我們設備的影片可以瞭解一下它的規模\n",
            "2022-04-03 01:30:35 | INFO | hw5.seq2seq | validation loss:\t4.1781\n",
            "2022-04-03 01:30:35 | INFO | hw5.seq2seq | BLEU = 16.62 49.6/24.8/13.1/7.3 (BP = 0.898 ratio = 0.903 hyp_len = 100927 ref_len = 111811)\n",
            "2022-04-03 01:30:35 | INFO | hw5.seq2seq | saved epoch checkpoint: /home/spiderkiller/ML2022/hw5_machine_translation/checkpoints/rnn/checkpoint12.pt\n",
            "2022-04-03 01:30:35 | INFO | hw5.seq2seq | end of epoch 12\n"
          ]
        },
        {
          "data": {
            "application/vnd.jupyter.widget-view+json": {
              "model_id": "4331a2e6707f4253af59b2bb8646bb88",
              "version_major": 2,
              "version_minor": 0
            },
            "text/plain": [
              "train epoch 13:   0%|          | 0/791 [00:00<?, ?it/s]"
            ]
          },
          "metadata": {},
          "output_type": "display_data"
        },
        {
          "name": "stdout",
          "output_type": "stream",
          "text": [
            "2022-04-03 01:32:00 | INFO | hw5.seq2seq | training loss: 4.3766\n",
            "2022-04-03 01:32:00 | INFO | hw5.seq2seq | begin validation\n"
          ]
        },
        {
          "data": {
            "application/vnd.jupyter.widget-view+json": {
              "model_id": "1358d8ec05a34236890ea1f8e0d420d0",
              "version_major": 2,
              "version_minor": 0
            },
            "text/plain": [
              "validation:   0%|          | 0/22 [00:00<?, ?it/s]"
            ]
          },
          "metadata": {},
          "output_type": "display_data"
        },
        {
          "name": "stdout",
          "output_type": "stream",
          "text": [
            "2022-04-03 01:32:27 | INFO | hw5.seq2seq | example source: it's a distinction perhaps we might make between two nobel laureates , richard feynman and john nash .\n",
            "2022-04-03 01:32:27 | INFO | hw5.seq2seq | example hypothesis: 或許我們可能在兩個諾貝爾曼和約翰納納德曼和約翰納納納什 。\n",
            "2022-04-03 01:32:27 | INFO | hw5.seq2seq | example reference: 我們或許可以從兩位諾貝爾獎得主 , 理查費曼和約翰奈許之間看出這樣的差異 。\n",
            "2022-04-03 01:32:27 | INFO | hw5.seq2seq | validation loss:\t4.1791\n",
            "2022-04-03 01:32:27 | INFO | hw5.seq2seq | BLEU = 16.08 50.3/25.3/13.3/7.3 (BP = 0.856 ratio = 0.865 hyp_len = 96768 ref_len = 111811)\n",
            "2022-04-03 01:32:27 | INFO | hw5.seq2seq | saved epoch checkpoint: /home/spiderkiller/ML2022/hw5_machine_translation/checkpoints/rnn/checkpoint13.pt\n",
            "2022-04-03 01:32:27 | INFO | hw5.seq2seq | end of epoch 13\n"
          ]
        },
        {
          "data": {
            "application/vnd.jupyter.widget-view+json": {
              "model_id": "bd2f0bdbd6b84a4f994c750cc677a862",
              "version_major": 2,
              "version_minor": 0
            },
            "text/plain": [
              "train epoch 14:   0%|          | 0/791 [00:00<?, ?it/s]"
            ]
          },
          "metadata": {},
          "output_type": "display_data"
        },
        {
          "name": "stdout",
          "output_type": "stream",
          "text": [
            "2022-04-03 01:33:54 | INFO | hw5.seq2seq | training loss: 4.3734\n",
            "2022-04-03 01:33:54 | INFO | hw5.seq2seq | begin validation\n"
          ]
        },
        {
          "data": {
            "application/vnd.jupyter.widget-view+json": {
              "model_id": "9ca3c9b3fd6a474780577d53e5d35d64",
              "version_major": 2,
              "version_minor": 0
            },
            "text/plain": [
              "validation:   0%|          | 0/22 [00:00<?, ?it/s]"
            ]
          },
          "metadata": {},
          "output_type": "display_data"
        },
        {
          "name": "stdout",
          "output_type": "stream",
          "text": [
            "2022-04-03 01:34:20 | INFO | hw5.seq2seq | example source: and therein lie the words of wisdom of a young girl whose brief life forever impacted mine .\n",
            "2022-04-03 01:34:20 | INFO | hw5.seq2seq | example hypothesis: 有一個有謊言的年輕女孩 , 永遠影響了我的生活的年輕女孩 , 永遠影響我 。\n",
            "2022-04-03 01:34:20 | INFO | hw5.seq2seq | example reference: 她說的話對我有很大啟發 。 這一個年幼女孩短暫的一生永遠影響著我 。\n",
            "2022-04-03 01:34:20 | INFO | hw5.seq2seq | validation loss:\t4.1758\n",
            "2022-04-03 01:34:20 | INFO | hw5.seq2seq | BLEU = 16.17 50.4/25.1/13.3/7.3 (BP = 0.862 ratio = 0.871 hyp_len = 97381 ref_len = 111811)\n",
            "2022-04-03 01:34:20 | INFO | hw5.seq2seq | saved epoch checkpoint: /home/spiderkiller/ML2022/hw5_machine_translation/checkpoints/rnn/checkpoint14.pt\n",
            "2022-04-03 01:34:20 | INFO | hw5.seq2seq | end of epoch 14\n"
          ]
        },
        {
          "data": {
            "application/vnd.jupyter.widget-view+json": {
              "model_id": "c5db867c5ac54cde859cfd4084325814",
              "version_major": 2,
              "version_minor": 0
            },
            "text/plain": [
              "train epoch 15:   0%|          | 0/791 [00:00<?, ?it/s]"
            ]
          },
          "metadata": {},
          "output_type": "display_data"
        },
        {
          "name": "stdout",
          "output_type": "stream",
          "text": [
            "2022-04-03 01:35:46 | INFO | hw5.seq2seq | training loss: 4.3734\n",
            "2022-04-03 01:35:46 | INFO | hw5.seq2seq | begin validation\n"
          ]
        },
        {
          "data": {
            "application/vnd.jupyter.widget-view+json": {
              "model_id": "b705c8d6f6a5471eb1db80cb7994ab8f",
              "version_major": 2,
              "version_minor": 0
            },
            "text/plain": [
              "validation:   0%|          | 0/22 [00:00<?, ?it/s]"
            ]
          },
          "metadata": {},
          "output_type": "display_data"
        },
        {
          "name": "stdout",
          "output_type": "stream",
          "text": [
            "2022-04-03 01:36:11 | INFO | hw5.seq2seq | example source: and we've started making curtains , and not only is it beautiful , but people can see status that you care about your children .\n",
            "2022-04-03 01:36:11 | INFO | hw5.seq2seq | example hypothesis: 我們開始做曲線 , 不僅是美麗的 , 但人們可以看到你的孩子 。\n",
            "2022-04-03 01:36:11 | INFO | hw5.seq2seq | example reference: 我們也開始生産窗簾不止因爲窗簾看起來漂亮 , 人們也可以看到你的地位看得出你很關心小孩\n",
            "2022-04-03 01:36:11 | INFO | hw5.seq2seq | validation loss:\t4.1810\n",
            "2022-04-03 01:36:11 | INFO | hw5.seq2seq | BLEU = 16.15 51.0/25.6/13.7/7.6 (BP = 0.841 ratio = 0.853 hyp_len = 95342 ref_len = 111811)\n",
            "2022-04-03 01:36:11 | INFO | hw5.seq2seq | saved epoch checkpoint: /home/spiderkiller/ML2022/hw5_machine_translation/checkpoints/rnn/checkpoint15.pt\n",
            "2022-04-03 01:36:11 | INFO | hw5.seq2seq | end of epoch 15\n"
          ]
        },
        {
          "data": {
            "application/vnd.jupyter.widget-view+json": {
              "model_id": "d6b2c38520534c229d07ce897537009d",
              "version_major": 2,
              "version_minor": 0
            },
            "text/plain": [
              "train epoch 16:   0%|          | 0/791 [00:00<?, ?it/s]"
            ]
          },
          "metadata": {},
          "output_type": "display_data"
        },
        {
          "name": "stdout",
          "output_type": "stream",
          "text": [
            "2022-04-03 01:37:38 | INFO | hw5.seq2seq | training loss: 4.3704\n",
            "2022-04-03 01:37:38 | INFO | hw5.seq2seq | begin validation\n"
          ]
        },
        {
          "data": {
            "application/vnd.jupyter.widget-view+json": {
              "model_id": "3b6e3ba97cc540eeb0a2077f2b8b16be",
              "version_major": 2,
              "version_minor": 0
            },
            "text/plain": [
              "validation:   0%|          | 0/22 [00:00<?, ?it/s]"
            ]
          },
          "metadata": {},
          "output_type": "display_data"
        },
        {
          "name": "stdout",
          "output_type": "stream",
          "text": [
            "2022-04-03 01:38:06 | INFO | hw5.seq2seq | example source: now , i'm not suggesting we want to raise our babies in our stomach , but i am suggesting it's possible we might want to manage gastric secretion in the gut .\n",
            "2022-04-03 01:38:06 | INFO | hw5.seq2seq | example hypothesis: 現在 , 我不是建議我們要把我們的嬰兒放到我們的胃裡 , 但我建議是有可能想管理氣體安全的秘密 。\n",
            "2022-04-03 01:38:06 | INFO | hw5.seq2seq | example reference: 我並不是說要把嬰兒養在胃裡而是我們可能可以了解胃在內臟裡的分泌物\n",
            "2022-04-03 01:38:06 | INFO | hw5.seq2seq | validation loss:\t4.1702\n",
            "2022-04-03 01:38:06 | INFO | hw5.seq2seq | BLEU = 16.43 49.6/24.8/13.0/7.2 (BP = 0.894 ratio = 0.899 hyp_len = 100506 ref_len = 111811)\n",
            "2022-04-03 01:38:06 | INFO | hw5.seq2seq | saved epoch checkpoint: /home/spiderkiller/ML2022/hw5_machine_translation/checkpoints/rnn/checkpoint16.pt\n",
            "2022-04-03 01:38:06 | INFO | hw5.seq2seq | end of epoch 16\n"
          ]
        },
        {
          "data": {
            "application/vnd.jupyter.widget-view+json": {
              "model_id": "1bb2d8527c3b4ba8b75314511d89210b",
              "version_major": 2,
              "version_minor": 0
            },
            "text/plain": [
              "train epoch 17:   0%|          | 0/791 [00:00<?, ?it/s]"
            ]
          },
          "metadata": {},
          "output_type": "display_data"
        },
        {
          "name": "stdout",
          "output_type": "stream",
          "text": [
            "2022-04-03 01:39:32 | INFO | hw5.seq2seq | training loss: 4.3695\n",
            "2022-04-03 01:39:32 | INFO | hw5.seq2seq | begin validation\n"
          ]
        },
        {
          "data": {
            "application/vnd.jupyter.widget-view+json": {
              "model_id": "43d66fea1a4d4ba6b4d34b562cdb97b9",
              "version_major": 2,
              "version_minor": 0
            },
            "text/plain": [
              "validation:   0%|          | 0/22 [00:00<?, ?it/s]"
            ]
          },
          "metadata": {},
          "output_type": "display_data"
        },
        {
          "name": "stdout",
          "output_type": "stream",
          "text": [
            "2022-04-03 01:40:00 | INFO | hw5.seq2seq | example source: so we're hoping that's what they'll do .\n",
            "2022-04-03 01:40:00 | INFO | hw5.seq2seq | example hypothesis: 所以我們希望這就是他們所做的 。\n",
            "2022-04-03 01:40:00 | INFO | hw5.seq2seq | example reference: 所以 , 我們希望它們能夠幫忙 。\n",
            "2022-04-03 01:40:00 | INFO | hw5.seq2seq | validation loss:\t4.1581\n",
            "2022-04-03 01:40:00 | INFO | hw5.seq2seq | BLEU = 16.70 48.3/24.0/12.6/7.0 (BP = 0.934 ratio = 0.936 hyp_len = 104662 ref_len = 111811)\n",
            "2022-04-03 01:40:00 | INFO | hw5.seq2seq | saved epoch checkpoint: /home/spiderkiller/ML2022/hw5_machine_translation/checkpoints/rnn/checkpoint17.pt\n",
            "2022-04-03 01:40:00 | INFO | hw5.seq2seq | end of epoch 17\n"
          ]
        },
        {
          "data": {
            "application/vnd.jupyter.widget-view+json": {
              "model_id": "f59fc029623b40058a4485aab7648ead",
              "version_major": 2,
              "version_minor": 0
            },
            "text/plain": [
              "train epoch 18:   0%|          | 0/791 [00:00<?, ?it/s]"
            ]
          },
          "metadata": {},
          "output_type": "display_data"
        },
        {
          "name": "stdout",
          "output_type": "stream",
          "text": [
            "2022-04-03 01:41:24 | INFO | hw5.seq2seq | training loss: 4.3654\n",
            "2022-04-03 01:41:24 | INFO | hw5.seq2seq | begin validation\n"
          ]
        },
        {
          "data": {
            "application/vnd.jupyter.widget-view+json": {
              "model_id": "fa43630e93e140f2b1243ace7b7fe674",
              "version_major": 2,
              "version_minor": 0
            },
            "text/plain": [
              "validation:   0%|          | 0/22 [00:00<?, ?it/s]"
            ]
          },
          "metadata": {},
          "output_type": "display_data"
        },
        {
          "name": "stdout",
          "output_type": "stream",
          "text": [
            "2022-04-03 01:41:52 | INFO | hw5.seq2seq | example source: i remember so vividly that day .\n",
            "2022-04-03 01:41:52 | INFO | hw5.seq2seq | example hypothesis: 我記得這麼幸運的是 ,\n",
            "2022-04-03 01:41:52 | INFO | hw5.seq2seq | example reference: 我對那一天還記憶猶新 。\n",
            "2022-04-03 01:41:52 | INFO | hw5.seq2seq | validation loss:\t4.1611\n",
            "2022-04-03 01:41:52 | INFO | hw5.seq2seq | BLEU = 16.86 48.9/24.5/13.1/7.3 (BP = 0.918 ratio = 0.921 hyp_len = 103000 ref_len = 111811)\n",
            "2022-04-03 01:41:52 | INFO | hw5.seq2seq | saved epoch checkpoint: /home/spiderkiller/ML2022/hw5_machine_translation/checkpoints/rnn/checkpoint18.pt\n",
            "2022-04-03 01:41:52 | INFO | hw5.seq2seq | end of epoch 18\n"
          ]
        },
        {
          "data": {
            "application/vnd.jupyter.widget-view+json": {
              "model_id": "5effa342228849199014ba9458175198",
              "version_major": 2,
              "version_minor": 0
            },
            "text/plain": [
              "train epoch 19:   0%|          | 0/791 [00:00<?, ?it/s]"
            ]
          },
          "metadata": {},
          "output_type": "display_data"
        },
        {
          "name": "stdout",
          "output_type": "stream",
          "text": [
            "2022-04-03 01:43:18 | INFO | hw5.seq2seq | training loss: 4.3611\n",
            "2022-04-03 01:43:18 | INFO | hw5.seq2seq | begin validation\n"
          ]
        },
        {
          "data": {
            "application/vnd.jupyter.widget-view+json": {
              "model_id": "2fcbc2fba8fa4edc829d90ed8d2c4ae6",
              "version_major": 2,
              "version_minor": 0
            },
            "text/plain": [
              "validation:   0%|          | 0/22 [00:00<?, ?it/s]"
            ]
          },
          "metadata": {},
          "output_type": "display_data"
        },
        {
          "name": "stdout",
          "output_type": "stream",
          "text": [
            "2022-04-03 01:43:43 | INFO | hw5.seq2seq | example source: the next step is to make compliant toes , and try to add spines and claws and set it for dry adhesives .\n",
            "2022-04-03 01:43:43 | INFO | hw5.seq2seq | example hypothesis: 下一步是要做出複雜的工具 , 試著加入脊椎和爪子 , 把它放進去 。\n",
            "2022-04-03 01:43:43 | INFO | hw5.seq2seq | example reference: 下一步是要製造順從聽話的腳趾頭 。 然後加上刺和爪子 , 再加上乾膠 。\n",
            "2022-04-03 01:43:43 | INFO | hw5.seq2seq | validation loss:\t4.1650\n",
            "2022-04-03 01:43:43 | INFO | hw5.seq2seq | BLEU = 16.74 50.0/25.1/13.4/7.5 (BP = 0.889 ratio = 0.895 hyp_len = 100020 ref_len = 111811)\n",
            "2022-04-03 01:43:43 | INFO | hw5.seq2seq | saved epoch checkpoint: /home/spiderkiller/ML2022/hw5_machine_translation/checkpoints/rnn/checkpoint19.pt\n",
            "2022-04-03 01:43:43 | INFO | hw5.seq2seq | end of epoch 19\n"
          ]
        },
        {
          "data": {
            "application/vnd.jupyter.widget-view+json": {
              "model_id": "e26c7a427efe4237ad1d65a74e4283a9",
              "version_major": 2,
              "version_minor": 0
            },
            "text/plain": [
              "train epoch 20:   0%|          | 0/791 [00:00<?, ?it/s]"
            ]
          },
          "metadata": {},
          "output_type": "display_data"
        },
        {
          "name": "stdout",
          "output_type": "stream",
          "text": [
            "2022-04-03 01:45:10 | INFO | hw5.seq2seq | training loss: 4.3580\n",
            "2022-04-03 01:45:10 | INFO | hw5.seq2seq | begin validation\n"
          ]
        },
        {
          "data": {
            "application/vnd.jupyter.widget-view+json": {
              "model_id": "a2ffd20678e24ad09668e6e82dc457a6",
              "version_major": 2,
              "version_minor": 0
            },
            "text/plain": [
              "validation:   0%|          | 0/22 [00:00<?, ?it/s]"
            ]
          },
          "metadata": {},
          "output_type": "display_data"
        },
        {
          "name": "stdout",
          "output_type": "stream",
          "text": [
            "2022-04-03 01:45:37 | INFO | hw5.seq2seq | example source: and got the cord off of the baby's neck , and a healthy screaming , kicking baby arrived , just as the dad ran in from the parking lot , \" hi , you have a son , i'm dr . darria .\n",
            "2022-04-03 01:45:37 | INFO | hw5.seq2seq | example hypothesis: 然後在嬰兒的脖子裡 , 健康螢幕上有健康的螢幕 , 就像從公園裡走到公園裡的爸爸爸 , 說: 「 嗨 , 你有兒子 , 爸 , 你有兒子 。 」\n",
            "2022-04-03 01:45:37 | INFO | hw5.seq2seq | example reference: 我把臍帶從嬰兒的脖子繞開 , 接著 , 一個健康哭鬧的嬰兒誕生了 。 同時 , 他的父親剛從停車場趕來 。 「 你好 , 是一個男孩 。 我是達里亞醫生 。\n",
            "2022-04-03 01:45:37 | INFO | hw5.seq2seq | validation loss:\t4.1626\n",
            "2022-04-03 01:45:37 | INFO | hw5.seq2seq | BLEU = 16.09 51.1/25.6/13.5/7.4 (BP = 0.846 ratio = 0.857 hyp_len = 95809 ref_len = 111811)\n",
            "2022-04-03 01:45:37 | INFO | hw5.seq2seq | saved epoch checkpoint: /home/spiderkiller/ML2022/hw5_machine_translation/checkpoints/rnn/checkpoint20.pt\n",
            "2022-04-03 01:45:37 | INFO | hw5.seq2seq | end of epoch 20\n"
          ]
        },
        {
          "data": {
            "application/vnd.jupyter.widget-view+json": {
              "model_id": "626092edc2bc48d5b4aea9e905d8f779",
              "version_major": 2,
              "version_minor": 0
            },
            "text/plain": [
              "train epoch 21:   0%|          | 0/791 [00:00<?, ?it/s]"
            ]
          },
          "metadata": {},
          "output_type": "display_data"
        },
        {
          "name": "stdout",
          "output_type": "stream",
          "text": [
            "2022-04-03 01:47:03 | INFO | hw5.seq2seq | training loss: 4.3593\n",
            "2022-04-03 01:47:03 | INFO | hw5.seq2seq | begin validation\n"
          ]
        },
        {
          "data": {
            "application/vnd.jupyter.widget-view+json": {
              "model_id": "0a66a1cc36f44f269e8fc519420005ac",
              "version_major": 2,
              "version_minor": 0
            },
            "text/plain": [
              "validation:   0%|          | 0/22 [00:00<?, ?it/s]"
            ]
          },
          "metadata": {},
          "output_type": "display_data"
        },
        {
          "name": "stdout",
          "output_type": "stream",
          "text": [
            "2022-04-03 01:47:28 | INFO | hw5.seq2seq | example source: no , but the issue of city building in democracy is interesting because it creates chaos , right ?\n",
            "2022-04-03 01:47:28 | INFO | hw5.seq2seq | example hypothesis: 不 , 但民主的議題是很有趣的 , 因為它創造了混亂 , 對吧 ?\n",
            "2022-04-03 01:47:28 | INFO | hw5.seq2seq | example reference: 不 , 但民主的城市建設很有趣 , 因為會造成混亂 , 是嗎 ?\n",
            "2022-04-03 01:47:28 | INFO | hw5.seq2seq | validation loss:\t4.1600\n",
            "2022-04-03 01:47:28 | INFO | hw5.seq2seq | BLEU = 16.34 51.1/25.6/13.6/7.5 (BP = 0.854 ratio = 0.864 hyp_len = 96576 ref_len = 111811)\n",
            "2022-04-03 01:47:28 | INFO | hw5.seq2seq | saved epoch checkpoint: /home/spiderkiller/ML2022/hw5_machine_translation/checkpoints/rnn/checkpoint21.pt\n",
            "2022-04-03 01:47:28 | INFO | hw5.seq2seq | end of epoch 21\n"
          ]
        },
        {
          "data": {
            "application/vnd.jupyter.widget-view+json": {
              "model_id": "a3f86a5d72b64a519dac5d75230b462b",
              "version_major": 2,
              "version_minor": 0
            },
            "text/plain": [
              "train epoch 22:   0%|          | 0/791 [00:00<?, ?it/s]"
            ]
          },
          "metadata": {},
          "output_type": "display_data"
        },
        {
          "name": "stdout",
          "output_type": "stream",
          "text": [
            "2022-04-03 01:48:54 | INFO | hw5.seq2seq | training loss: 4.3501\n",
            "2022-04-03 01:48:54 | INFO | hw5.seq2seq | begin validation\n"
          ]
        },
        {
          "data": {
            "application/vnd.jupyter.widget-view+json": {
              "model_id": "6d6649f4cf604393bb52de57de2aaa74",
              "version_major": 2,
              "version_minor": 0
            },
            "text/plain": [
              "validation:   0%|          | 0/22 [00:00<?, ?it/s]"
            ]
          },
          "metadata": {},
          "output_type": "display_data"
        },
        {
          "name": "stdout",
          "output_type": "stream",
          "text": [
            "2022-04-03 01:49:20 | INFO | hw5.seq2seq | example source: so i'm going to show you a demo of this .\n",
            "2022-04-03 01:49:20 | INFO | hw5.seq2seq | example hypothesis: 所以 , 我要給各位看一下 。\n",
            "2022-04-03 01:49:20 | INFO | hw5.seq2seq | example reference: 現在請各位看示範\n",
            "2022-04-03 01:49:20 | INFO | hw5.seq2seq | validation loss:\t4.1752\n",
            "2022-04-03 01:49:20 | INFO | hw5.seq2seq | BLEU = 16.23 51.5/25.9/13.7/7.6 (BP = 0.840 ratio = 0.852 hyp_len = 95228 ref_len = 111811)\n",
            "2022-04-03 01:49:20 | INFO | hw5.seq2seq | saved epoch checkpoint: /home/spiderkiller/ML2022/hw5_machine_translation/checkpoints/rnn/checkpoint22.pt\n",
            "2022-04-03 01:49:20 | INFO | hw5.seq2seq | end of epoch 22\n"
          ]
        },
        {
          "data": {
            "application/vnd.jupyter.widget-view+json": {
              "model_id": "aab65e90f716428190f1c6b5c6415ad4",
              "version_major": 2,
              "version_minor": 0
            },
            "text/plain": [
              "train epoch 23:   0%|          | 0/791 [00:00<?, ?it/s]"
            ]
          },
          "metadata": {},
          "output_type": "display_data"
        },
        {
          "name": "stdout",
          "output_type": "stream",
          "text": [
            "2022-04-03 01:50:46 | INFO | hw5.seq2seq | training loss: 4.3499\n",
            "2022-04-03 01:50:46 | INFO | hw5.seq2seq | begin validation\n"
          ]
        },
        {
          "data": {
            "application/vnd.jupyter.widget-view+json": {
              "model_id": "cf36666107db4e228fa1863dce368f1c",
              "version_major": 2,
              "version_minor": 0
            },
            "text/plain": [
              "validation:   0%|          | 0/22 [00:00<?, ?it/s]"
            ]
          },
          "metadata": {},
          "output_type": "display_data"
        },
        {
          "name": "stdout",
          "output_type": "stream",
          "text": [
            "2022-04-03 01:51:12 | INFO | hw5.seq2seq | example source: you see , in every country where you hear about armed jihadis targeting civilians , there are also unarmed people defying those militants that you don't hear about , and those people need our support to succeed .\n",
            "2022-04-03 01:51:12 | INFO | hw5.seq2seq | example hypothesis: 你知道 , 在每個國家都聽過軍事約翰·塔迪斯人 , 還有你不聽過那些軍隊的軍隊 , 而那些人需要我們的支持這些軍隊 。\n",
            "2022-04-03 01:51:12 | INFO | hw5.seq2seq | example reference: 你看 , 不管在哪個國家你都會聽到武裝聖戰者針對平民百姓 , 也有很多手無寸鐵的人民公然反抗那些激進分子 , 只是你沒聽過 , 那些人需要我們的支持才能成功 。\n",
            "2022-04-03 01:51:12 | INFO | hw5.seq2seq | validation loss:\t4.1547\n",
            "2022-04-03 01:51:12 | INFO | hw5.seq2seq | BLEU = 16.56 50.0/25.1/13.3/7.4 (BP = 0.884 ratio = 0.891 hyp_len = 99577 ref_len = 111811)\n",
            "2022-04-03 01:51:12 | INFO | hw5.seq2seq | saved epoch checkpoint: /home/spiderkiller/ML2022/hw5_machine_translation/checkpoints/rnn/checkpoint23.pt\n",
            "2022-04-03 01:51:12 | INFO | hw5.seq2seq | end of epoch 23\n"
          ]
        },
        {
          "data": {
            "application/vnd.jupyter.widget-view+json": {
              "model_id": "38f88ebb6268449180eb19d504bfaa29",
              "version_major": 2,
              "version_minor": 0
            },
            "text/plain": [
              "train epoch 24:   0%|          | 0/791 [00:00<?, ?it/s]"
            ]
          },
          "metadata": {},
          "output_type": "display_data"
        },
        {
          "name": "stdout",
          "output_type": "stream",
          "text": [
            "2022-04-03 01:52:38 | INFO | hw5.seq2seq | training loss: 4.3463\n",
            "2022-04-03 01:52:38 | INFO | hw5.seq2seq | begin validation\n"
          ]
        },
        {
          "data": {
            "application/vnd.jupyter.widget-view+json": {
              "model_id": "a1dfa724a38649f2877145cc94cfa7c1",
              "version_major": 2,
              "version_minor": 0
            },
            "text/plain": [
              "validation:   0%|          | 0/22 [00:00<?, ?it/s]"
            ]
          },
          "metadata": {},
          "output_type": "display_data"
        },
        {
          "name": "stdout",
          "output_type": "stream",
          "text": [
            "2022-04-03 01:53:04 | INFO | hw5.seq2seq | example source: from gezi to tahrir to elsewhere , i've seen people put their lives and livelihoods on the line .\n",
            "2022-04-03 01:53:04 | INFO | hw5.seq2seq | example hypothesis: 從喬治到其他地方 , 我見過人們把生活放在線上 。\n",
            "2022-04-03 01:53:04 | INFO | hw5.seq2seq | example reference: 從格濟公園 , 到解放廣場 , 再到其它地方 , 我見過許多人用他們的生命和生計做賭注 。\n",
            "2022-04-03 01:53:04 | INFO | hw5.seq2seq | validation loss:\t4.1554\n",
            "2022-04-03 01:53:04 | INFO | hw5.seq2seq | BLEU = 16.48 51.3/25.9/13.8/7.6 (BP = 0.851 ratio = 0.861 hyp_len = 96312 ref_len = 111811)\n",
            "2022-04-03 01:53:04 | INFO | hw5.seq2seq | saved epoch checkpoint: /home/spiderkiller/ML2022/hw5_machine_translation/checkpoints/rnn/checkpoint24.pt\n",
            "2022-04-03 01:53:04 | INFO | hw5.seq2seq | end of epoch 24\n"
          ]
        },
        {
          "data": {
            "application/vnd.jupyter.widget-view+json": {
              "model_id": "7c431f09955f48159d217878cdc00bb6",
              "version_major": 2,
              "version_minor": 0
            },
            "text/plain": [
              "train epoch 25:   0%|          | 0/791 [00:00<?, ?it/s]"
            ]
          },
          "metadata": {},
          "output_type": "display_data"
        },
        {
          "name": "stdout",
          "output_type": "stream",
          "text": [
            "2022-04-03 01:54:31 | INFO | hw5.seq2seq | training loss: 4.3451\n",
            "2022-04-03 01:54:31 | INFO | hw5.seq2seq | begin validation\n"
          ]
        },
        {
          "data": {
            "application/vnd.jupyter.widget-view+json": {
              "model_id": "d240c2d3c9134317a12f04c16a406412",
              "version_major": 2,
              "version_minor": 0
            },
            "text/plain": [
              "validation:   0%|          | 0/22 [00:00<?, ?it/s]"
            ]
          },
          "metadata": {},
          "output_type": "display_data"
        },
        {
          "name": "stdout",
          "output_type": "stream",
          "text": [
            "2022-04-03 01:54:58 | INFO | hw5.seq2seq | example source: and every project before that had been completely personal and it was a revelation when people just started commenting , started giving feedback on your code .\n",
            "2022-04-03 01:54:58 | INFO | hw5.seq2seq | example hypothesis: 在這個計畫之前 , 每個計畫都完全個人 , 而當人們開始評論時 , 開始給你回饋 。\n",
            "2022-04-03 01:54:58 | INFO | hw5.seq2seq | example reference: 在那之前每一件計劃都是我個人的東西 , 所以當大家開始評論 , 開始對你的程式給意見時 , 真的是一種啟示 。\n",
            "2022-04-03 01:54:58 | INFO | hw5.seq2seq | validation loss:\t4.1453\n",
            "2022-04-03 01:54:58 | INFO | hw5.seq2seq | BLEU = 16.55 51.1/25.7/13.8/7.7 (BP = 0.857 ratio = 0.867 hyp_len = 96894 ref_len = 111811)\n",
            "2022-04-03 01:54:58 | INFO | hw5.seq2seq | saved epoch checkpoint: /home/spiderkiller/ML2022/hw5_machine_translation/checkpoints/rnn/checkpoint25.pt\n",
            "2022-04-03 01:54:58 | INFO | hw5.seq2seq | end of epoch 25\n"
          ]
        },
        {
          "data": {
            "application/vnd.jupyter.widget-view+json": {
              "model_id": "3e06bf3a6f3d4dfebf40176fcd1df42a",
              "version_major": 2,
              "version_minor": 0
            },
            "text/plain": [
              "train epoch 26:   0%|          | 0/791 [00:00<?, ?it/s]"
            ]
          },
          "metadata": {},
          "output_type": "display_data"
        },
        {
          "name": "stdout",
          "output_type": "stream",
          "text": [
            "2022-04-03 01:56:22 | INFO | hw5.seq2seq | training loss: 4.3447\n",
            "2022-04-03 01:56:22 | INFO | hw5.seq2seq | begin validation\n"
          ]
        },
        {
          "data": {
            "application/vnd.jupyter.widget-view+json": {
              "model_id": "b8e293d7cc614e6f863e91409d314385",
              "version_major": 2,
              "version_minor": 0
            },
            "text/plain": [
              "validation:   0%|          | 0/22 [00:00<?, ?it/s]"
            ]
          },
          "metadata": {},
          "output_type": "display_data"
        },
        {
          "name": "stdout",
          "output_type": "stream",
          "text": [
            "2022-04-03 01:56:48 | INFO | hw5.seq2seq | example source: thank you so much .\n",
            "2022-04-03 01:56:48 | INFO | hw5.seq2seq | example hypothesis: 謝謝大家 。\n",
            "2022-04-03 01:56:48 | INFO | hw5.seq2seq | example reference: 感謝各位.\n",
            "2022-04-03 01:56:48 | INFO | hw5.seq2seq | validation loss:\t4.1555\n",
            "2022-04-03 01:56:48 | INFO | hw5.seq2seq | BLEU = 16.32 51.1/25.8/13.7/7.6 (BP = 0.847 ratio = 0.858 hyp_len = 95900 ref_len = 111811)\n",
            "2022-04-03 01:56:48 | INFO | hw5.seq2seq | saved epoch checkpoint: /home/spiderkiller/ML2022/hw5_machine_translation/checkpoints/rnn/checkpoint26.pt\n",
            "2022-04-03 01:56:48 | INFO | hw5.seq2seq | end of epoch 26\n"
          ]
        },
        {
          "data": {
            "application/vnd.jupyter.widget-view+json": {
              "model_id": "58ef2130fa3149fe8d2a6b69a6bacc04",
              "version_major": 2,
              "version_minor": 0
            },
            "text/plain": [
              "train epoch 27:   0%|          | 0/791 [00:00<?, ?it/s]"
            ]
          },
          "metadata": {},
          "output_type": "display_data"
        },
        {
          "name": "stdout",
          "output_type": "stream",
          "text": [
            "2022-04-03 01:58:15 | INFO | hw5.seq2seq | training loss: 4.3430\n",
            "2022-04-03 01:58:15 | INFO | hw5.seq2seq | begin validation\n"
          ]
        },
        {
          "data": {
            "application/vnd.jupyter.widget-view+json": {
              "model_id": "7ae7c346c05c471aaf26b21ebed7ec2a",
              "version_major": 2,
              "version_minor": 0
            },
            "text/plain": [
              "validation:   0%|          | 0/22 [00:00<?, ?it/s]"
            ]
          },
          "metadata": {},
          "output_type": "display_data"
        },
        {
          "name": "stdout",
          "output_type": "stream",
          "text": [
            "2022-04-03 01:58:40 | INFO | hw5.seq2seq | example source: at the age of six months , virtually every one of us is able to differentiate between animate and inanimate objects .\n",
            "2022-04-03 01:58:40 | INFO | hw5.seq2seq | example hypothesis: 在六個月內 , 最終 , 我們每一個人都能夠與物體之間的不同 。\n",
            "2022-04-03 01:58:40 | INFO | hw5.seq2seq | example reference: 在六個月大時 , 幾乎每個人都能辨別東西是否有生命 。\n",
            "2022-04-03 01:58:40 | INFO | hw5.seq2seq | validation loss:\t4.1524\n",
            "2022-04-03 01:58:40 | INFO | hw5.seq2seq | BLEU = 16.01 52.3/26.4/14.1/7.8 (BP = 0.810 ratio = 0.826 hyp_len = 92351 ref_len = 111811)\n",
            "2022-04-03 01:58:40 | INFO | hw5.seq2seq | saved epoch checkpoint: /home/spiderkiller/ML2022/hw5_machine_translation/checkpoints/rnn/checkpoint27.pt\n",
            "2022-04-03 01:58:40 | INFO | hw5.seq2seq | end of epoch 27\n"
          ]
        },
        {
          "data": {
            "application/vnd.jupyter.widget-view+json": {
              "model_id": "89777a6eda124a948a16d752104c8fb7",
              "version_major": 2,
              "version_minor": 0
            },
            "text/plain": [
              "train epoch 28:   0%|          | 0/791 [00:00<?, ?it/s]"
            ]
          },
          "metadata": {},
          "output_type": "display_data"
        },
        {
          "name": "stdout",
          "output_type": "stream",
          "text": [
            "2022-04-03 02:00:07 | INFO | hw5.seq2seq | training loss: 4.3384\n",
            "2022-04-03 02:00:07 | INFO | hw5.seq2seq | begin validation\n"
          ]
        },
        {
          "data": {
            "application/vnd.jupyter.widget-view+json": {
              "model_id": "5ffabb9264cb4279ac45a2f873c0a1f4",
              "version_major": 2,
              "version_minor": 0
            },
            "text/plain": [
              "validation:   0%|          | 0/22 [00:00<?, ?it/s]"
            ]
          },
          "metadata": {},
          "output_type": "display_data"
        },
        {
          "name": "stdout",
          "output_type": "stream",
          "text": [
            "2022-04-03 02:00:36 | INFO | hw5.seq2seq | example source: the problem is there is no such thing as a viable democracy made up of experts , zealots , politicians and spectators .\n",
            "2022-04-03 02:00:36 | INFO | hw5.seq2seq | example hypothesis: 問題是 , 沒有像可行民主組成了專家、零、政治家和尊重者 。\n",
            "2022-04-03 02:00:36 | INFO | hw5.seq2seq | example reference: 事實上 , 根本沒有一種民主制度是由專家 , 狂熱分子 , 政治家和旁觀者組成的\n",
            "2022-04-03 02:00:36 | INFO | hw5.seq2seq | validation loss:\t4.1339\n",
            "2022-04-03 02:00:36 | INFO | hw5.seq2seq | BLEU = 17.02 49.5/24.9/13.3/7.4 (BP = 0.911 ratio = 0.915 hyp_len = 102312 ref_len = 111811)\n",
            "2022-04-03 02:00:36 | INFO | hw5.seq2seq | saved epoch checkpoint: /home/spiderkiller/ML2022/hw5_machine_translation/checkpoints/rnn/checkpoint28.pt\n",
            "2022-04-03 02:00:36 | INFO | hw5.seq2seq | end of epoch 28\n"
          ]
        },
        {
          "data": {
            "application/vnd.jupyter.widget-view+json": {
              "model_id": "28a0c8e20ff845af8930b003105d147b",
              "version_major": 2,
              "version_minor": 0
            },
            "text/plain": [
              "train epoch 29:   0%|          | 0/791 [00:00<?, ?it/s]"
            ]
          },
          "metadata": {},
          "output_type": "display_data"
        },
        {
          "name": "stdout",
          "output_type": "stream",
          "text": [
            "2022-04-03 02:02:02 | INFO | hw5.seq2seq | training loss: 4.3361\n",
            "2022-04-03 02:02:02 | INFO | hw5.seq2seq | begin validation\n"
          ]
        },
        {
          "data": {
            "application/vnd.jupyter.widget-view+json": {
              "model_id": "c8a5fedb5e714e08a6bb788f2fcf3eff",
              "version_major": 2,
              "version_minor": 0
            },
            "text/plain": [
              "validation:   0%|          | 0/22 [00:00<?, ?it/s]"
            ]
          },
          "metadata": {},
          "output_type": "display_data"
        },
        {
          "name": "stdout",
          "output_type": "stream",
          "text": [
            "2022-04-03 02:02:29 | INFO | hw5.seq2seq | example source: they're learning our culture , our language , our heritage and realizing we're just as different and just the same as each other .\n",
            "2022-04-03 02:02:29 | INFO | hw5.seq2seq | example hypothesis: 他們在學習我們的文化、我們的語言、她的編輯 , 了解我們只是與彼此相同 。\n",
            "2022-04-03 02:02:29 | INFO | hw5.seq2seq | example reference: 他們正在習知我們的文化、語言、傳統 , 並意識到彼此不同及相同之處 。\n",
            "2022-04-03 02:02:29 | INFO | hw5.seq2seq | validation loss:\t4.1458\n",
            "2022-04-03 02:02:29 | INFO | hw5.seq2seq | BLEU = 16.95 50.8/25.5/13.6/7.6 (BP = 0.887 ratio = 0.893 hyp_len = 99858 ref_len = 111811)\n",
            "2022-04-03 02:02:29 | INFO | hw5.seq2seq | saved epoch checkpoint: /home/spiderkiller/ML2022/hw5_machine_translation/checkpoints/rnn/checkpoint29.pt\n",
            "2022-04-03 02:02:29 | INFO | hw5.seq2seq | end of epoch 29\n"
          ]
        },
        {
          "data": {
            "application/vnd.jupyter.widget-view+json": {
              "model_id": "0f201a1761e14df3b93aa3e9be9f1ca9",
              "version_major": 2,
              "version_minor": 0
            },
            "text/plain": [
              "train epoch 30:   0%|          | 0/791 [00:00<?, ?it/s]"
            ]
          },
          "metadata": {},
          "output_type": "display_data"
        },
        {
          "name": "stdout",
          "output_type": "stream",
          "text": [
            "2022-04-03 02:03:55 | INFO | hw5.seq2seq | training loss: 4.3347\n",
            "2022-04-03 02:03:55 | INFO | hw5.seq2seq | begin validation\n"
          ]
        },
        {
          "data": {
            "application/vnd.jupyter.widget-view+json": {
              "model_id": "37b72451f9874ebd9a4fe4281b790e9d",
              "version_major": 2,
              "version_minor": 0
            },
            "text/plain": [
              "validation:   0%|          | 0/22 [00:00<?, ?it/s]"
            ]
          },
          "metadata": {},
          "output_type": "display_data"
        },
        {
          "name": "stdout",
          "output_type": "stream",
          "text": [
            "2022-04-03 02:04:22 | INFO | hw5.seq2seq | example source: but did you know that only two percent of that funding went to rebuild haitian public institutions , including its health sector ?\n",
            "2022-04-03 02:04:22 | INFO | hw5.seq2seq | example hypothesis: 但你知道 , 只有百分之二的資金公共機構 , 包括健康部門的公共機構 ?\n",
            "2022-04-03 02:04:22 | INFO | hw5.seq2seq | example reference: 但你知不知道國際社會捐款中只有2%用去重建海地的公共體制 , 包括衞生部門 ?\n",
            "2022-04-03 02:04:22 | INFO | hw5.seq2seq | validation loss:\t4.1357\n",
            "2022-04-03 02:04:22 | INFO | hw5.seq2seq | BLEU = 16.81 50.4/25.4/13.6/7.6 (BP = 0.882 ratio = 0.888 hyp_len = 99322 ref_len = 111811)\n",
            "2022-04-03 02:04:22 | INFO | hw5.seq2seq | saved epoch checkpoint: /home/spiderkiller/ML2022/hw5_machine_translation/checkpoints/rnn/checkpoint30.pt\n",
            "2022-04-03 02:04:22 | INFO | hw5.seq2seq | end of epoch 30\n"
          ]
        },
        {
          "data": {
            "application/vnd.jupyter.widget-view+json": {
              "model_id": "e7626bc96027453482127fc272cd43b6",
              "version_major": 2,
              "version_minor": 0
            },
            "text/plain": [
              "train epoch 31:   0%|          | 0/791 [00:00<?, ?it/s]"
            ]
          },
          "metadata": {},
          "output_type": "display_data"
        },
        {
          "name": "stdout",
          "output_type": "stream",
          "text": [
            "2022-04-03 02:05:48 | INFO | hw5.seq2seq | training loss: 4.3302\n",
            "2022-04-03 02:05:48 | INFO | hw5.seq2seq | begin validation\n"
          ]
        },
        {
          "data": {
            "application/vnd.jupyter.widget-view+json": {
              "model_id": "ef44441657914828989b92d014a5250c",
              "version_major": 2,
              "version_minor": 0
            },
            "text/plain": [
              "validation:   0%|          | 0/22 [00:00<?, ?it/s]"
            ]
          },
          "metadata": {},
          "output_type": "display_data"
        },
        {
          "name": "stdout",
          "output_type": "stream",
          "text": [
            "2022-04-03 02:06:13 | INFO | hw5.seq2seq | example source: thank you .\n",
            "2022-04-03 02:06:13 | INFO | hw5.seq2seq | example hypothesis: 謝謝 。\n",
            "2022-04-03 02:06:13 | INFO | hw5.seq2seq | example reference: 謝謝 。\n",
            "2022-04-03 02:06:13 | INFO | hw5.seq2seq | validation loss:\t4.1393\n",
            "2022-04-03 02:06:13 | INFO | hw5.seq2seq | BLEU = 16.81 51.1/25.8/13.8/7.7 (BP = 0.868 ratio = 0.876 hyp_len = 97912 ref_len = 111811)\n",
            "2022-04-03 02:06:13 | INFO | hw5.seq2seq | saved epoch checkpoint: /home/spiderkiller/ML2022/hw5_machine_translation/checkpoints/rnn/checkpoint31.pt\n",
            "2022-04-03 02:06:13 | INFO | hw5.seq2seq | end of epoch 31\n"
          ]
        },
        {
          "data": {
            "application/vnd.jupyter.widget-view+json": {
              "model_id": "5df8b2ecf3c64377bc8219ad487eff59",
              "version_major": 2,
              "version_minor": 0
            },
            "text/plain": [
              "train epoch 32:   0%|          | 0/791 [00:00<?, ?it/s]"
            ]
          },
          "metadata": {},
          "output_type": "display_data"
        },
        {
          "name": "stdout",
          "output_type": "stream",
          "text": [
            "2022-04-03 02:07:38 | INFO | hw5.seq2seq | training loss: 4.3316\n",
            "2022-04-03 02:07:38 | INFO | hw5.seq2seq | begin validation\n"
          ]
        },
        {
          "data": {
            "application/vnd.jupyter.widget-view+json": {
              "model_id": "efac29f73a7b48368c971c2266fbda75",
              "version_major": 2,
              "version_minor": 0
            },
            "text/plain": [
              "validation:   0%|          | 0/22 [00:00<?, ?it/s]"
            ]
          },
          "metadata": {},
          "output_type": "display_data"
        },
        {
          "name": "stdout",
          "output_type": "stream",
          "text": [
            "2022-04-03 02:08:05 | INFO | hw5.seq2seq | example source: and i think the answer is a lot of different people are going to have to do a lot of different things .\n",
            "2022-04-03 02:08:05 | INFO | hw5.seq2seq | example hypothesis: 我認為答案是很多不同的人會需要做很多不同的事 。\n",
            "2022-04-03 02:08:05 | INFO | hw5.seq2seq | example reference: 我的回答是 , 我們所有人各盡其責 。\n",
            "2022-04-03 02:08:05 | INFO | hw5.seq2seq | validation loss:\t4.1390\n",
            "2022-04-03 02:08:05 | INFO | hw5.seq2seq | BLEU = 16.48 50.7/25.6/13.6/7.6 (BP = 0.861 ratio = 0.870 hyp_len = 97285 ref_len = 111811)\n",
            "2022-04-03 02:08:06 | INFO | hw5.seq2seq | saved epoch checkpoint: /home/spiderkiller/ML2022/hw5_machine_translation/checkpoints/rnn/checkpoint32.pt\n",
            "2022-04-03 02:08:06 | INFO | hw5.seq2seq | end of epoch 32\n"
          ]
        },
        {
          "data": {
            "application/vnd.jupyter.widget-view+json": {
              "model_id": "4e6a92b1b2fe4af89b6c969d82fa105a",
              "version_major": 2,
              "version_minor": 0
            },
            "text/plain": [
              "train epoch 33:   0%|          | 0/791 [00:00<?, ?it/s]"
            ]
          },
          "metadata": {},
          "output_type": "display_data"
        },
        {
          "name": "stdout",
          "output_type": "stream",
          "text": [
            "2022-04-03 02:09:31 | INFO | hw5.seq2seq | training loss: 4.3288\n",
            "2022-04-03 02:09:31 | INFO | hw5.seq2seq | begin validation\n"
          ]
        },
        {
          "data": {
            "application/vnd.jupyter.widget-view+json": {
              "model_id": "4fe326f1200744d589262196e6de0c55",
              "version_major": 2,
              "version_minor": 0
            },
            "text/plain": [
              "validation:   0%|          | 0/22 [00:00<?, ?it/s]"
            ]
          },
          "metadata": {},
          "output_type": "display_data"
        },
        {
          "name": "stdout",
          "output_type": "stream",
          "text": [
            "2022-04-03 02:09:55 | INFO | hw5.seq2seq | example source: that ambition that had allowed him to laboriously educate himself by himself , to go through that string of political failures and the darkest days of the war .\n",
            "2022-04-03 02:09:55 | INFO | hw5.seq2seq | example hypothesis: 這個結合了允許他去勞動自己的政治失敗\n",
            "2022-04-03 02:09:55 | INFO | hw5.seq2seq | example reference: 這樣的企圖心策勵他辛辛苦苦不懈的自我教育 , 鼓舞著他面對一連串的政壇失意及堅強走過戰爭時最黑暗的歲月.\n",
            "2022-04-03 02:09:55 | INFO | hw5.seq2seq | validation loss:\t4.1336\n",
            "2022-04-03 02:09:55 | INFO | hw5.seq2seq | BLEU = 16.32 51.5/25.9/13.7/7.7 (BP = 0.842 ratio = 0.853 hyp_len = 95428 ref_len = 111811)\n",
            "2022-04-03 02:09:55 | INFO | hw5.seq2seq | saved epoch checkpoint: /home/spiderkiller/ML2022/hw5_machine_translation/checkpoints/rnn/checkpoint33.pt\n",
            "2022-04-03 02:09:55 | INFO | hw5.seq2seq | end of epoch 33\n"
          ]
        },
        {
          "data": {
            "application/vnd.jupyter.widget-view+json": {
              "model_id": "ffd507336d3f4dfd8773ee499d136672",
              "version_major": 2,
              "version_minor": 0
            },
            "text/plain": [
              "train epoch 34:   0%|          | 0/791 [00:00<?, ?it/s]"
            ]
          },
          "metadata": {},
          "output_type": "display_data"
        },
        {
          "name": "stdout",
          "output_type": "stream",
          "text": [
            "2022-04-03 02:11:21 | INFO | hw5.seq2seq | training loss: 4.3273\n",
            "2022-04-03 02:11:21 | INFO | hw5.seq2seq | begin validation\n"
          ]
        },
        {
          "data": {
            "application/vnd.jupyter.widget-view+json": {
              "model_id": "b6a6807b257e41bea4638ff5c0723af0",
              "version_major": 2,
              "version_minor": 0
            },
            "text/plain": [
              "validation:   0%|          | 0/22 [00:00<?, ?it/s]"
            ]
          },
          "metadata": {},
          "output_type": "display_data"
        },
        {
          "name": "stdout",
          "output_type": "stream",
          "text": [
            "2022-04-03 02:11:46 | INFO | hw5.seq2seq | example source: this response has evolved from the physiological mechanism designed to make sure we can survive in a crisis .\n",
            "2022-04-03 02:11:46 | INFO | hw5.seq2seq | example hypothesis: 這回應了生態機制 , 從生理機制設計來確保我們可以存生存的危機 。\n",
            "2022-04-03 02:11:46 | INFO | hw5.seq2seq | example reference: 這是心理機制進化的反應 , 目的是使我們能夠應付危機 , 生存下來 。\n",
            "2022-04-03 02:11:46 | INFO | hw5.seq2seq | validation loss:\t4.1279\n",
            "2022-04-03 02:11:46 | INFO | hw5.seq2seq | BLEU = 17.22 49.2/24.7/13.2/7.4 (BP = 0.927 ratio = 0.930 hyp_len = 103964 ref_len = 111811)\n",
            "2022-04-03 02:11:46 | INFO | hw5.seq2seq | saved epoch checkpoint: /home/spiderkiller/ML2022/hw5_machine_translation/checkpoints/rnn/checkpoint34.pt\n",
            "2022-04-03 02:11:46 | INFO | hw5.seq2seq | end of epoch 34\n"
          ]
        },
        {
          "data": {
            "application/vnd.jupyter.widget-view+json": {
              "model_id": "1321b39528bb4eb5a807c160af4d597e",
              "version_major": 2,
              "version_minor": 0
            },
            "text/plain": [
              "train epoch 35:   0%|          | 0/791 [00:00<?, ?it/s]"
            ]
          },
          "metadata": {},
          "output_type": "display_data"
        },
        {
          "name": "stdout",
          "output_type": "stream",
          "text": [
            "2022-04-03 02:13:10 | INFO | hw5.seq2seq | training loss: 4.3264\n",
            "2022-04-03 02:13:10 | INFO | hw5.seq2seq | begin validation\n"
          ]
        },
        {
          "data": {
            "application/vnd.jupyter.widget-view+json": {
              "model_id": "b1d9ff57844843188c0b5dd9f1c0b163",
              "version_major": 2,
              "version_minor": 0
            },
            "text/plain": [
              "validation:   0%|          | 0/22 [00:00<?, ?it/s]"
            ]
          },
          "metadata": {},
          "output_type": "display_data"
        },
        {
          "name": "stdout",
          "output_type": "stream",
          "text": [
            "2022-04-03 02:13:39 | INFO | hw5.seq2seq | example source: see that chair there ? the orange one ? that's the organic chair . 1940 .\n",
            "2022-04-03 02:13:39 | INFO | hw5.seq2seq | example hypothesis: 看看這椅子嗎 ? 橘色是有機機的椅子 。 1940年 。\n",
            "2022-04-03 02:13:39 | INFO | hw5.seq2seq | example reference: 看見那張椅子嗎 ? 橘黃色那個 ? 這是有機椅子 。 一九四零年 。\n",
            "2022-04-03 02:13:39 | INFO | hw5.seq2seq | validation loss:\t4.1183\n",
            "2022-04-03 02:13:39 | INFO | hw5.seq2seq | BLEU = 17.39 48.6/24.4/13.0/7.3 (BP = 0.951 ratio = 0.952 hyp_len = 106443 ref_len = 111811)\n",
            "2022-04-03 02:13:39 | INFO | hw5.seq2seq | saved epoch checkpoint: /home/spiderkiller/ML2022/hw5_machine_translation/checkpoints/rnn/checkpoint35.pt\n",
            "2022-04-03 02:13:39 | INFO | hw5.seq2seq | end of epoch 35\n"
          ]
        },
        {
          "data": {
            "application/vnd.jupyter.widget-view+json": {
              "model_id": "8d544d16ebc041a6bf2af288719f7497",
              "version_major": 2,
              "version_minor": 0
            },
            "text/plain": [
              "train epoch 36:   0%|          | 0/791 [00:00<?, ?it/s]"
            ]
          },
          "metadata": {},
          "output_type": "display_data"
        },
        {
          "name": "stdout",
          "output_type": "stream",
          "text": [
            "2022-04-03 02:15:05 | INFO | hw5.seq2seq | training loss: 4.3250\n",
            "2022-04-03 02:15:05 | INFO | hw5.seq2seq | begin validation\n"
          ]
        },
        {
          "data": {
            "application/vnd.jupyter.widget-view+json": {
              "model_id": "db414d6815cd4208847c637d071e98ee",
              "version_major": 2,
              "version_minor": 0
            },
            "text/plain": [
              "validation:   0%|          | 0/22 [00:00<?, ?it/s]"
            ]
          },
          "metadata": {},
          "output_type": "display_data"
        },
        {
          "name": "stdout",
          "output_type": "stream",
          "text": [
            "2022-04-03 02:15:32 | INFO | hw5.seq2seq | example source: do they go from one side of the pacific to the other ?\n",
            "2022-04-03 02:15:32 | INFO | hw5.seq2seq | example hypothesis: 他們從太平洋到另一邊 ?\n",
            "2022-04-03 02:15:32 | INFO | hw5.seq2seq | example reference: 牠們會從太平洋的一端游到另一端嗎 ?\n",
            "2022-04-03 02:15:32 | INFO | hw5.seq2seq | validation loss:\t4.1112\n",
            "2022-04-03 02:15:32 | INFO | hw5.seq2seq | BLEU = 17.04 49.4/24.7/13.2/7.3 (BP = 0.919 ratio = 0.922 hyp_len = 103118 ref_len = 111811)\n",
            "2022-04-03 02:15:32 | INFO | hw5.seq2seq | saved epoch checkpoint: /home/spiderkiller/ML2022/hw5_machine_translation/checkpoints/rnn/checkpoint36.pt\n",
            "2022-04-03 02:15:32 | INFO | hw5.seq2seq | end of epoch 36\n"
          ]
        },
        {
          "data": {
            "application/vnd.jupyter.widget-view+json": {
              "model_id": "0abb94cce3364ccfb27f8a2372dc7855",
              "version_major": 2,
              "version_minor": 0
            },
            "text/plain": [
              "train epoch 37:   0%|          | 0/791 [00:00<?, ?it/s]"
            ]
          },
          "metadata": {},
          "output_type": "display_data"
        },
        {
          "name": "stdout",
          "output_type": "stream",
          "text": [
            "2022-04-03 02:16:57 | INFO | hw5.seq2seq | training loss: 4.3210\n",
            "2022-04-03 02:16:57 | INFO | hw5.seq2seq | begin validation\n"
          ]
        },
        {
          "data": {
            "application/vnd.jupyter.widget-view+json": {
              "model_id": "92f0f145429b457cb63af76084224cab",
              "version_major": 2,
              "version_minor": 0
            },
            "text/plain": [
              "validation:   0%|          | 0/22 [00:00<?, ?it/s]"
            ]
          },
          "metadata": {},
          "output_type": "display_data"
        },
        {
          "name": "stdout",
          "output_type": "stream",
          "text": [
            "2022-04-03 02:17:22 | INFO | hw5.seq2seq | example source: i do , in any case .\n",
            "2022-04-03 02:17:22 | INFO | hw5.seq2seq | example hypothesis: 我做了 , 在任何情況下 。\n",
            "2022-04-03 02:17:22 | INFO | hw5.seq2seq | example reference: 無論如何我也認同 。\n",
            "2022-04-03 02:17:22 | INFO | hw5.seq2seq | validation loss:\t4.1234\n",
            "2022-04-03 02:17:22 | INFO | hw5.seq2seq | BLEU = 17.02 50.2/25.4/13.5/7.6 (BP = 0.896 ratio = 0.901 hyp_len = 100721 ref_len = 111811)\n",
            "2022-04-03 02:17:22 | INFO | hw5.seq2seq | saved epoch checkpoint: /home/spiderkiller/ML2022/hw5_machine_translation/checkpoints/rnn/checkpoint37.pt\n",
            "2022-04-03 02:17:22 | INFO | hw5.seq2seq | end of epoch 37\n"
          ]
        },
        {
          "data": {
            "application/vnd.jupyter.widget-view+json": {
              "model_id": "c7a4ac5e957b4b4a8228f20235402029",
              "version_major": 2,
              "version_minor": 0
            },
            "text/plain": [
              "train epoch 38:   0%|          | 0/791 [00:00<?, ?it/s]"
            ]
          },
          "metadata": {},
          "output_type": "display_data"
        },
        {
          "name": "stdout",
          "output_type": "stream",
          "text": [
            "2022-04-03 02:18:47 | INFO | hw5.seq2seq | training loss: 4.3160\n",
            "2022-04-03 02:18:47 | INFO | hw5.seq2seq | begin validation\n"
          ]
        },
        {
          "data": {
            "application/vnd.jupyter.widget-view+json": {
              "model_id": "231275c138604acca2f8a6558eec87dd",
              "version_major": 2,
              "version_minor": 0
            },
            "text/plain": [
              "validation:   0%|          | 0/22 [00:00<?, ?it/s]"
            ]
          },
          "metadata": {},
          "output_type": "display_data"
        },
        {
          "name": "stdout",
          "output_type": "stream",
          "text": [
            "2022-04-03 02:19:12 | INFO | hw5.seq2seq | example source: and as you think about that experience , i want you to ask yourself: how might that experience of being a privileged player in a rigged game change the way you think about yourself and regard that other player ?\n",
            "2022-04-03 02:19:12 | INFO | hw5.seq2seq | example hypothesis: 當你想到這個經驗時 , 我想請各位問自己: 「 身為一個活生生生生生的遊戲 , 改變你思考自己和其他玩家的方式 ? 」\n",
            "2022-04-03 02:19:12 | INFO | hw5.seq2seq | example reference: 當你這麼想像時也請自問在這被動手腳的遊戲中作為佔上風的玩家會如何改變對自己和其他玩家的看法呢 ?\n",
            "2022-04-03 02:19:12 | INFO | hw5.seq2seq | validation loss:\t4.1175\n",
            "2022-04-03 02:19:12 | INFO | hw5.seq2seq | BLEU = 16.84 50.7/25.5/13.6/7.6 (BP = 0.880 ratio = 0.887 hyp_len = 99180 ref_len = 111811)\n",
            "2022-04-03 02:19:12 | INFO | hw5.seq2seq | saved epoch checkpoint: /home/spiderkiller/ML2022/hw5_machine_translation/checkpoints/rnn/checkpoint38.pt\n",
            "2022-04-03 02:19:12 | INFO | hw5.seq2seq | end of epoch 38\n"
          ]
        },
        {
          "data": {
            "application/vnd.jupyter.widget-view+json": {
              "model_id": "42e5011f99564293aa3a66a2a3b2c5f2",
              "version_major": 2,
              "version_minor": 0
            },
            "text/plain": [
              "train epoch 39:   0%|          | 0/791 [00:00<?, ?it/s]"
            ]
          },
          "metadata": {},
          "output_type": "display_data"
        },
        {
          "name": "stdout",
          "output_type": "stream",
          "text": [
            "2022-04-03 02:20:37 | INFO | hw5.seq2seq | training loss: 4.3178\n",
            "2022-04-03 02:20:37 | INFO | hw5.seq2seq | begin validation\n"
          ]
        },
        {
          "data": {
            "application/vnd.jupyter.widget-view+json": {
              "model_id": "42e58c05152046f2866b2141740ce988",
              "version_major": 2,
              "version_minor": 0
            },
            "text/plain": [
              "validation:   0%|          | 0/22 [00:00<?, ?it/s]"
            ]
          },
          "metadata": {},
          "output_type": "display_data"
        },
        {
          "name": "stdout",
          "output_type": "stream",
          "text": [
            "2022-04-03 02:21:03 | INFO | hw5.seq2seq | example source: this is a photograph i took at the northern tip of baffin island when i went narwhal hunting with some inuit people , and this man , olayuk , told me a marvelous story of his grandfather .\n",
            "2022-04-03 02:21:03 | INFO | hw5.seq2seq | example hypothesis: 這是我拍攝的照片 , 當我去北部的巴菲蘭島的北部 , 跟一些人說話時 , 跟我祖父說過他祖父的故事 , 告訴我他祖父的故事 , 告訴我他祖父的故事 。\n",
            "2022-04-03 02:21:03 | INFO | hw5.seq2seq | example reference: 這張照片是我在巴芬島的北邊山頂上拍攝的那時我和一些因紐特人去捕獨角鯨這個叫奧拉雅的人述說了他祖父的傳奇故事\n",
            "2022-04-03 02:21:03 | INFO | hw5.seq2seq | validation loss:\t4.1225\n",
            "2022-04-03 02:21:03 | INFO | hw5.seq2seq | BLEU = 16.40 50.9/25.6/13.7/7.7 (BP = 0.853 ratio = 0.863 hyp_len = 96492 ref_len = 111811)\n",
            "2022-04-03 02:21:03 | INFO | hw5.seq2seq | saved epoch checkpoint: /home/spiderkiller/ML2022/hw5_machine_translation/checkpoints/rnn/checkpoint39.pt\n",
            "2022-04-03 02:21:04 | INFO | hw5.seq2seq | end of epoch 39\n"
          ]
        },
        {
          "data": {
            "application/vnd.jupyter.widget-view+json": {
              "model_id": "79f12e619bc84036a881825041f0c2b5",
              "version_major": 2,
              "version_minor": 0
            },
            "text/plain": [
              "train epoch 40:   0%|          | 0/791 [00:00<?, ?it/s]"
            ]
          },
          "metadata": {},
          "output_type": "display_data"
        },
        {
          "name": "stdout",
          "output_type": "stream",
          "text": [
            "2022-04-03 02:22:28 | INFO | hw5.seq2seq | training loss: 4.3162\n",
            "2022-04-03 02:22:28 | INFO | hw5.seq2seq | begin validation\n"
          ]
        },
        {
          "data": {
            "application/vnd.jupyter.widget-view+json": {
              "model_id": "1a6cd4c9d81f4b41ae75f9fe0e0b2924",
              "version_major": 2,
              "version_minor": 0
            },
            "text/plain": [
              "validation:   0%|          | 0/22 [00:00<?, ?it/s]"
            ]
          },
          "metadata": {},
          "output_type": "display_data"
        },
        {
          "name": "stdout",
          "output_type": "stream",
          "text": [
            "2022-04-03 02:22:53 | INFO | hw5.seq2seq | example source: congratulations .\n",
            "2022-04-03 02:22:53 | INFO | hw5.seq2seq | example hypothesis: 恭喜 。\n",
            "2022-04-03 02:22:53 | INFO | hw5.seq2seq | example reference: 恭喜各位 。\n",
            "2022-04-03 02:22:53 | INFO | hw5.seq2seq | validation loss:\t4.1299\n",
            "2022-04-03 02:22:53 | INFO | hw5.seq2seq | BLEU = 16.35 52.1/26.4/14.1/7.9 (BP = 0.827 ratio = 0.841 hyp_len = 94005 ref_len = 111811)\n",
            "2022-04-03 02:22:53 | INFO | hw5.seq2seq | saved epoch checkpoint: /home/spiderkiller/ML2022/hw5_machine_translation/checkpoints/rnn/checkpoint40.pt\n",
            "2022-04-03 02:22:53 | INFO | hw5.seq2seq | end of epoch 40\n"
          ]
        },
        {
          "data": {
            "application/vnd.jupyter.widget-view+json": {
              "model_id": "2e9c05437b3949e5a5eefddce16e460a",
              "version_major": 2,
              "version_minor": 0
            },
            "text/plain": [
              "train epoch 41:   0%|          | 0/791 [00:00<?, ?it/s]"
            ]
          },
          "metadata": {},
          "output_type": "display_data"
        },
        {
          "name": "stdout",
          "output_type": "stream",
          "text": [
            "2022-04-03 02:24:19 | INFO | hw5.seq2seq | training loss: 4.3136\n",
            "2022-04-03 02:24:19 | INFO | hw5.seq2seq | begin validation\n"
          ]
        },
        {
          "data": {
            "application/vnd.jupyter.widget-view+json": {
              "model_id": "9c33377956474d63aec6e2944f5fa40b",
              "version_major": 2,
              "version_minor": 0
            },
            "text/plain": [
              "validation:   0%|          | 0/22 [00:00<?, ?it/s]"
            ]
          },
          "metadata": {},
          "output_type": "display_data"
        },
        {
          "name": "stdout",
          "output_type": "stream",
          "text": [
            "2022-04-03 02:24:46 | INFO | hw5.seq2seq | example source: so cmu allows 32 possible symbols , but as you can see , there's only a small number that most people are using , so we're not actually getting very much strength from the symbols in our passwords .\n",
            "2022-04-03 02:24:46 | INFO | hw5.seq2seq | example hypothesis: 所以cmu允許32種可能的象徵 , 但如你所看到的 , 只有少數人在我們密碼中沒有那麼多的力量 。\n",
            "2022-04-03 02:24:46 | INFO | hw5.seq2seq | example reference: cmu允許使用的符號有32個但正如你所見只有少數符號常常被使用所以實際上我們密碼也沒有變得更強因為密碼裡有了符號\n",
            "2022-04-03 02:24:46 | INFO | hw5.seq2seq | validation loss:\t4.1262\n",
            "2022-04-03 02:24:46 | INFO | hw5.seq2seq | BLEU = 16.67 50.7/25.6/13.7/7.6 (BP = 0.870 ratio = 0.878 hyp_len = 98152 ref_len = 111811)\n",
            "2022-04-03 02:24:46 | INFO | hw5.seq2seq | saved epoch checkpoint: /home/spiderkiller/ML2022/hw5_machine_translation/checkpoints/rnn/checkpoint41.pt\n",
            "2022-04-03 02:24:46 | INFO | hw5.seq2seq | end of epoch 41\n"
          ]
        },
        {
          "data": {
            "application/vnd.jupyter.widget-view+json": {
              "model_id": "3cd685b6d5a84fa494c4ef5b9cd26b5f",
              "version_major": 2,
              "version_minor": 0
            },
            "text/plain": [
              "train epoch 42:   0%|          | 0/791 [00:00<?, ?it/s]"
            ]
          },
          "metadata": {},
          "output_type": "display_data"
        },
        {
          "name": "stdout",
          "output_type": "stream",
          "text": [
            "2022-04-03 02:26:12 | INFO | hw5.seq2seq | training loss: 4.3144\n",
            "2022-04-03 02:26:12 | INFO | hw5.seq2seq | begin validation\n"
          ]
        },
        {
          "data": {
            "application/vnd.jupyter.widget-view+json": {
              "model_id": "36766d7eab174b958afd5673585944b8",
              "version_major": 2,
              "version_minor": 0
            },
            "text/plain": [
              "validation:   0%|          | 0/22 [00:00<?, ?it/s]"
            ]
          },
          "metadata": {},
          "output_type": "display_data"
        },
        {
          "name": "stdout",
          "output_type": "stream",
          "text": [
            "2022-04-03 02:26:39 | INFO | hw5.seq2seq | example source: and finally , my most recent image , which has such a special meaning for me personally: this is the serengeti national park in tanzania .\n",
            "2022-04-03 02:26:39 | INFO | hw5.seq2seq | example hypothesis: 最後 , 我最最近的影像 , 對我個人公園的意義是:這是秘魯國家公園的秘密 。\n",
            "2022-04-03 02:26:39 | INFO | hw5.seq2seq | example reference: 最後 , 我最新的影像 , 對我個人有特別的意義:這是位於坦尚尼亞的塞倫蓋提國家公園 。\n",
            "2022-04-03 02:26:39 | INFO | hw5.seq2seq | validation loss:\t4.1214\n",
            "2022-04-03 02:26:39 | INFO | hw5.seq2seq | BLEU = 17.27 50.7/25.7/13.7/7.7 (BP = 0.896 ratio = 0.901 hyp_len = 100748 ref_len = 111811)\n",
            "2022-04-03 02:26:40 | INFO | hw5.seq2seq | saved epoch checkpoint: /home/spiderkiller/ML2022/hw5_machine_translation/checkpoints/rnn/checkpoint42.pt\n",
            "2022-04-03 02:26:40 | INFO | hw5.seq2seq | end of epoch 42\n"
          ]
        },
        {
          "data": {
            "application/vnd.jupyter.widget-view+json": {
              "model_id": "4a6baa47be2d4595b9ce9c2585acdc9f",
              "version_major": 2,
              "version_minor": 0
            },
            "text/plain": [
              "train epoch 43:   0%|          | 0/791 [00:00<?, ?it/s]"
            ]
          },
          "metadata": {},
          "output_type": "display_data"
        },
        {
          "name": "stdout",
          "output_type": "stream",
          "text": [
            "2022-04-03 02:28:04 | INFO | hw5.seq2seq | training loss: 4.3137\n",
            "2022-04-03 02:28:04 | INFO | hw5.seq2seq | begin validation\n"
          ]
        },
        {
          "data": {
            "application/vnd.jupyter.widget-view+json": {
              "model_id": "63eabba3e737444396e96b3622b3cab1",
              "version_major": 2,
              "version_minor": 0
            },
            "text/plain": [
              "validation:   0%|          | 0/22 [00:00<?, ?it/s]"
            ]
          },
          "metadata": {},
          "output_type": "display_data"
        },
        {
          "name": "stdout",
          "output_type": "stream",
          "text": [
            "2022-04-03 02:28:31 | INFO | hw5.seq2seq | example source: that freedom getting back into the hands of the consumer , that would be the most exciting thing .\n",
            "2022-04-03 02:28:31 | INFO | hw5.seq2seq | example hypothesis: 那免費者回到消費者的手中 , 那將會是最令人興奮的事 。\n",
            "2022-04-03 02:28:31 | INFO | hw5.seq2seq | example reference: 那自由重回消費者的手中 , 將會是最使人興奮的事情 。\n",
            "2022-04-03 02:28:31 | INFO | hw5.seq2seq | validation loss:\t4.1236\n",
            "2022-04-03 02:28:31 | INFO | hw5.seq2seq | BLEU = 16.52 51.4/26.0/13.9/7.8 (BP = 0.847 ratio = 0.857 hyp_len = 95851 ref_len = 111811)\n",
            "2022-04-03 02:28:31 | INFO | hw5.seq2seq | saved epoch checkpoint: /home/spiderkiller/ML2022/hw5_machine_translation/checkpoints/rnn/checkpoint43.pt\n",
            "2022-04-03 02:28:31 | INFO | hw5.seq2seq | end of epoch 43\n"
          ]
        },
        {
          "data": {
            "application/vnd.jupyter.widget-view+json": {
              "model_id": "0900fe43d54345d089a6bb132646a64e",
              "version_major": 2,
              "version_minor": 0
            },
            "text/plain": [
              "train epoch 44:   0%|          | 0/791 [00:00<?, ?it/s]"
            ]
          },
          "metadata": {},
          "output_type": "display_data"
        },
        {
          "name": "stdout",
          "output_type": "stream",
          "text": [
            "2022-04-03 02:29:57 | INFO | hw5.seq2seq | training loss: 4.3088\n",
            "2022-04-03 02:29:57 | INFO | hw5.seq2seq | begin validation\n"
          ]
        },
        {
          "data": {
            "application/vnd.jupyter.widget-view+json": {
              "model_id": "87176e54b1e2460d837359ce836e82a0",
              "version_major": 2,
              "version_minor": 0
            },
            "text/plain": [
              "validation:   0%|          | 0/22 [00:00<?, ?it/s]"
            ]
          },
          "metadata": {},
          "output_type": "display_data"
        },
        {
          "name": "stdout",
          "output_type": "stream",
          "text": [
            "2022-04-03 02:30:25 | INFO | hw5.seq2seq | example source: and when people draw diagrams of git workflow , they use drawings that look like this .\n",
            "2022-04-03 02:30:25 | INFO | hw5.seq2seq | example hypothesis: 當人們畫圖圖圖像畫畫圖一樣 , 他們用畫畫畫畫像這樣 。\n",
            "2022-04-03 02:30:25 | INFO | hw5.seq2seq | example reference: 而要製作git的工作流程示意圖時它們都會長得像這樣\n",
            "2022-04-03 02:30:25 | INFO | hw5.seq2seq | validation loss:\t4.1128\n",
            "2022-04-03 02:30:25 | INFO | hw5.seq2seq | BLEU = 17.29 50.0/25.2/13.4/7.5 (BP = 0.915 ratio = 0.919 hyp_len = 102727 ref_len = 111811)\n",
            "2022-04-03 02:30:25 | INFO | hw5.seq2seq | saved epoch checkpoint: /home/spiderkiller/ML2022/hw5_machine_translation/checkpoints/rnn/checkpoint44.pt\n",
            "2022-04-03 02:30:25 | INFO | hw5.seq2seq | end of epoch 44\n"
          ]
        },
        {
          "data": {
            "application/vnd.jupyter.widget-view+json": {
              "model_id": "188ac1f046e64243bb6edbc2e5edd154",
              "version_major": 2,
              "version_minor": 0
            },
            "text/plain": [
              "train epoch 45:   0%|          | 0/791 [00:00<?, ?it/s]"
            ]
          },
          "metadata": {},
          "output_type": "display_data"
        },
        {
          "name": "stdout",
          "output_type": "stream",
          "text": [
            "2022-04-03 02:31:49 | INFO | hw5.seq2seq | training loss: 4.3091\n",
            "2022-04-03 02:31:49 | INFO | hw5.seq2seq | begin validation\n"
          ]
        },
        {
          "data": {
            "application/vnd.jupyter.widget-view+json": {
              "model_id": "b07b8851265e44468bebf20056d3fab2",
              "version_major": 2,
              "version_minor": 0
            },
            "text/plain": [
              "validation:   0%|          | 0/22 [00:00<?, ?it/s]"
            ]
          },
          "metadata": {},
          "output_type": "display_data"
        },
        {
          "name": "stdout",
          "output_type": "stream",
          "text": [
            "2022-04-03 02:32:16 | INFO | hw5.seq2seq | example source: so here what we're trying to do is we bring the picture and project it into the 3d model space .\n",
            "2022-04-03 02:32:16 | INFO | hw5.seq2seq | example hypothesis: 所以 , 我們要做的是把照片帶進3d模型放進3d模型 。\n",
            "2022-04-03 02:32:16 | INFO | hw5.seq2seq | example reference: 這裏 , 我們正嘗試將圖片映射到三維模型空間中.\n",
            "2022-04-03 02:32:16 | INFO | hw5.seq2seq | validation loss:\t4.1223\n",
            "2022-04-03 02:32:16 | INFO | hw5.seq2seq | BLEU = 16.59 52.1/26.4/14.2/8.0 (BP = 0.835 ratio = 0.847 hyp_len = 94715 ref_len = 111811)\n",
            "2022-04-03 02:32:16 | INFO | hw5.seq2seq | saved epoch checkpoint: /home/spiderkiller/ML2022/hw5_machine_translation/checkpoints/rnn/checkpoint45.pt\n",
            "2022-04-03 02:32:16 | INFO | hw5.seq2seq | end of epoch 45\n"
          ]
        },
        {
          "data": {
            "application/vnd.jupyter.widget-view+json": {
              "model_id": "5208192d57b6401ab560e03f91ba30fb",
              "version_major": 2,
              "version_minor": 0
            },
            "text/plain": [
              "train epoch 46:   0%|          | 0/791 [00:00<?, ?it/s]"
            ]
          },
          "metadata": {},
          "output_type": "display_data"
        },
        {
          "name": "stdout",
          "output_type": "stream",
          "text": [
            "2022-04-03 02:33:41 | INFO | hw5.seq2seq | training loss: 4.3077\n",
            "2022-04-03 02:33:41 | INFO | hw5.seq2seq | begin validation\n"
          ]
        },
        {
          "data": {
            "application/vnd.jupyter.widget-view+json": {
              "model_id": "4e95a12af3f14bf6a2dde16eb6923997",
              "version_major": 2,
              "version_minor": 0
            },
            "text/plain": [
              "validation:   0%|          | 0/22 [00:00<?, ?it/s]"
            ]
          },
          "metadata": {},
          "output_type": "display_data"
        },
        {
          "name": "stdout",
          "output_type": "stream",
          "text": [
            "2022-04-03 02:34:10 | INFO | hw5.seq2seq | example source: how do we do that ?\n",
            "2022-04-03 02:34:10 | INFO | hw5.seq2seq | example hypothesis: 我們該怎麼做 ?\n",
            "2022-04-03 02:34:10 | INFO | hw5.seq2seq | example reference: 那我們應該如何做呢 ?\n",
            "2022-04-03 02:34:10 | INFO | hw5.seq2seq | validation loss:\t4.1062\n",
            "2022-04-03 02:34:10 | INFO | hw5.seq2seq | BLEU = 17.46 49.0/24.7/13.3/7.5 (BP = 0.939 ratio = 0.941 hyp_len = 105213 ref_len = 111811)\n",
            "2022-04-03 02:34:10 | INFO | hw5.seq2seq | saved epoch checkpoint: /home/spiderkiller/ML2022/hw5_machine_translation/checkpoints/rnn/checkpoint46.pt\n",
            "2022-04-03 02:34:10 | INFO | hw5.seq2seq | end of epoch 46\n"
          ]
        },
        {
          "data": {
            "application/vnd.jupyter.widget-view+json": {
              "model_id": "e2d008e007724be7b5b4fb61a10b2ebc",
              "version_major": 2,
              "version_minor": 0
            },
            "text/plain": [
              "train epoch 47:   0%|          | 0/791 [00:00<?, ?it/s]"
            ]
          },
          "metadata": {},
          "output_type": "display_data"
        },
        {
          "name": "stdout",
          "output_type": "stream",
          "text": [
            "2022-04-03 02:35:35 | INFO | hw5.seq2seq | training loss: 4.3056\n",
            "2022-04-03 02:35:35 | INFO | hw5.seq2seq | begin validation\n"
          ]
        },
        {
          "data": {
            "application/vnd.jupyter.widget-view+json": {
              "model_id": "d6cbe9b378804861b1d7190bc3bb904d",
              "version_major": 2,
              "version_minor": 0
            },
            "text/plain": [
              "validation:   0%|          | 0/22 [00:00<?, ?it/s]"
            ]
          },
          "metadata": {},
          "output_type": "display_data"
        },
        {
          "name": "stdout",
          "output_type": "stream",
          "text": [
            "2022-04-03 02:36:02 | INFO | hw5.seq2seq | example source: second , we need to save our oldgrowth forests .\n",
            "2022-04-03 02:36:02 | INFO | hw5.seq2seq | example hypothesis: 第二 , 我們需要拯救我們的老兄 。\n",
            "2022-04-03 02:36:02 | INFO | hw5.seq2seq | example reference: 第二 , 我們需要拯救我們的老齡林 。\n",
            "2022-04-03 02:36:02 | INFO | hw5.seq2seq | validation loss:\t4.1204\n",
            "2022-04-03 02:36:02 | INFO | hw5.seq2seq | BLEU = 16.81 51.3/25.9/13.8/7.7 (BP = 0.867 ratio = 0.875 hyp_len = 97825 ref_len = 111811)\n",
            "2022-04-03 02:36:02 | INFO | hw5.seq2seq | saved epoch checkpoint: /home/spiderkiller/ML2022/hw5_machine_translation/checkpoints/rnn/checkpoint47.pt\n",
            "2022-04-03 02:36:02 | INFO | hw5.seq2seq | end of epoch 47\n"
          ]
        },
        {
          "data": {
            "application/vnd.jupyter.widget-view+json": {
              "model_id": "189e8d4b04434144a77d6d9701290779",
              "version_major": 2,
              "version_minor": 0
            },
            "text/plain": [
              "train epoch 48:   0%|          | 0/791 [00:00<?, ?it/s]"
            ]
          },
          "metadata": {},
          "output_type": "display_data"
        },
        {
          "name": "stdout",
          "output_type": "stream",
          "text": [
            "2022-04-03 02:37:27 | INFO | hw5.seq2seq | training loss: 4.3043\n",
            "2022-04-03 02:37:27 | INFO | hw5.seq2seq | begin validation\n"
          ]
        },
        {
          "data": {
            "application/vnd.jupyter.widget-view+json": {
              "model_id": "60e2af0e79d04af49a1f6da292912e20",
              "version_major": 2,
              "version_minor": 0
            },
            "text/plain": [
              "validation:   0%|          | 0/22 [00:00<?, ?it/s]"
            ]
          },
          "metadata": {},
          "output_type": "display_data"
        },
        {
          "name": "stdout",
          "output_type": "stream",
          "text": [
            "2022-04-03 02:37:53 | INFO | hw5.seq2seq | example source: my aim is to take a simple portrait of anyone who's anything other than 100 percent straight or feels like they fall in the lgbtq spectrum in any way .\n",
            "2022-04-03 02:37:53 | INFO | hw5.seq2seq | example hypothesis: 我的目標是要用一個簡單的肖像 , 他們在lgbtq尊重或感覺就像他們在lgbtq尊重 。\n",
            "2022-04-03 02:37:53 | INFO | hw5.seq2seq | example reference: 我的目標是為在任何方面覺得自己不是百分之百 \" 直 \" 的人拍攝一幅簡單的肖像 。\n",
            "2022-04-03 02:37:53 | INFO | hw5.seq2seq | validation loss:\t4.1096\n",
            "2022-04-03 02:37:53 | INFO | hw5.seq2seq | BLEU = 16.96 51.0/25.8/13.9/7.8 (BP = 0.874 ratio = 0.881 hyp_len = 98495 ref_len = 111811)\n",
            "2022-04-03 02:37:53 | INFO | hw5.seq2seq | saved epoch checkpoint: /home/spiderkiller/ML2022/hw5_machine_translation/checkpoints/rnn/checkpoint48.pt\n",
            "2022-04-03 02:37:53 | INFO | hw5.seq2seq | end of epoch 48\n"
          ]
        },
        {
          "data": {
            "application/vnd.jupyter.widget-view+json": {
              "model_id": "9474b72fbfc4477d8940106c3198cb7f",
              "version_major": 2,
              "version_minor": 0
            },
            "text/plain": [
              "train epoch 49:   0%|          | 0/791 [00:00<?, ?it/s]"
            ]
          },
          "metadata": {},
          "output_type": "display_data"
        },
        {
          "name": "stdout",
          "output_type": "stream",
          "text": [
            "2022-04-03 02:39:20 | INFO | hw5.seq2seq | training loss: 4.3056\n",
            "2022-04-03 02:39:20 | INFO | hw5.seq2seq | begin validation\n"
          ]
        },
        {
          "data": {
            "application/vnd.jupyter.widget-view+json": {
              "model_id": "f6f2ca5e1b4d4a9aad43f8d1998ee3dc",
              "version_major": 2,
              "version_minor": 0
            },
            "text/plain": [
              "validation:   0%|          | 0/22 [00:00<?, ?it/s]"
            ]
          },
          "metadata": {},
          "output_type": "display_data"
        },
        {
          "name": "stdout",
          "output_type": "stream",
          "text": [
            "2022-04-03 02:39:48 | INFO | hw5.seq2seq | example source: i thought that i couldn't come here without giving you something special .\n",
            "2022-04-03 02:39:48 | INFO | hw5.seq2seq | example hypothesis: 我想我不能在這裡給你們一些特殊的東西 。\n",
            "2022-04-03 02:39:48 | INFO | hw5.seq2seq | example reference: 我想既然來到了這裡 , 就一定要給你們一些特別的東西 。\n",
            "2022-04-03 02:39:48 | INFO | hw5.seq2seq | validation loss:\t4.1034\n",
            "2022-04-03 02:39:48 | INFO | hw5.seq2seq | BLEU = 17.26 49.7/25.1/13.4/7.6 (BP = 0.915 ratio = 0.918 hyp_len = 102666 ref_len = 111811)\n",
            "2022-04-03 02:39:48 | INFO | hw5.seq2seq | saved epoch checkpoint: /home/spiderkiller/ML2022/hw5_machine_translation/checkpoints/rnn/checkpoint49.pt\n",
            "2022-04-03 02:39:48 | INFO | hw5.seq2seq | end of epoch 49\n"
          ]
        },
        {
          "data": {
            "application/vnd.jupyter.widget-view+json": {
              "model_id": "a4706e700e5146f2b324825e5ac1cc24",
              "version_major": 2,
              "version_minor": 0
            },
            "text/plain": [
              "train epoch 50:   0%|          | 0/791 [00:00<?, ?it/s]"
            ]
          },
          "metadata": {},
          "output_type": "display_data"
        },
        {
          "name": "stdout",
          "output_type": "stream",
          "text": [
            "2022-04-03 02:41:14 | INFO | hw5.seq2seq | training loss: 4.3046\n",
            "2022-04-03 02:41:14 | INFO | hw5.seq2seq | begin validation\n"
          ]
        },
        {
          "data": {
            "application/vnd.jupyter.widget-view+json": {
              "model_id": "31db6bb0c57e41be9b8f581503740104",
              "version_major": 2,
              "version_minor": 0
            },
            "text/plain": [
              "validation:   0%|          | 0/22 [00:00<?, ?it/s]"
            ]
          },
          "metadata": {},
          "output_type": "display_data"
        },
        {
          "name": "stdout",
          "output_type": "stream",
          "text": [
            "2022-04-03 02:41:41 | INFO | hw5.seq2seq | example source: a chinese scholar would understand 20 , 000 characters .\n",
            "2022-04-03 02:41:41 | INFO | hw5.seq2seq | example hypothesis: 中國學者學會了解兩萬個角色 。\n",
            "2022-04-03 02:41:41 | INFO | hw5.seq2seq | example reference: 中國讀書人能識得二萬個中文字\n",
            "2022-04-03 02:41:41 | INFO | hw5.seq2seq | validation loss:\t4.1136\n",
            "2022-04-03 02:41:41 | INFO | hw5.seq2seq | BLEU = 16.91 51.4/26.0/14.0/7.8 (BP = 0.864 ratio = 0.873 hyp_len = 97591 ref_len = 111811)\n",
            "2022-04-03 02:41:41 | INFO | hw5.seq2seq | saved epoch checkpoint: /home/spiderkiller/ML2022/hw5_machine_translation/checkpoints/rnn/checkpoint50.pt\n",
            "2022-04-03 02:41:41 | INFO | hw5.seq2seq | end of epoch 50\n"
          ]
        },
        {
          "data": {
            "application/vnd.jupyter.widget-view+json": {
              "model_id": "92b3d97874aa4008b42b8118523e514d",
              "version_major": 2,
              "version_minor": 0
            },
            "text/plain": [
              "train epoch 51:   0%|          | 0/791 [00:00<?, ?it/s]"
            ]
          },
          "metadata": {},
          "output_type": "display_data"
        },
        {
          "name": "stdout",
          "output_type": "stream",
          "text": [
            "2022-04-03 02:43:06 | INFO | hw5.seq2seq | training loss: 4.3002\n",
            "2022-04-03 02:43:06 | INFO | hw5.seq2seq | begin validation\n"
          ]
        },
        {
          "data": {
            "application/vnd.jupyter.widget-view+json": {
              "model_id": "5e227910a85c4e9d80fce9cf4405295f",
              "version_major": 2,
              "version_minor": 0
            },
            "text/plain": [
              "validation:   0%|          | 0/22 [00:00<?, ?it/s]"
            ]
          },
          "metadata": {},
          "output_type": "display_data"
        },
        {
          "name": "stdout",
          "output_type": "stream",
          "text": [
            "2022-04-03 02:43:33 | INFO | hw5.seq2seq | example source: all cacilda and i have done is extend this sharing behavior to sexuality .\n",
            "2022-04-03 02:43:33 | INFO | hw5.seq2seq | example hypothesis: 所有加拿大 , 我做過的行為來延伸行為 。\n",
            "2022-04-03 02:43:33 | INFO | hw5.seq2seq | example reference: 卡欣達和我一直以來所探討的是 , 將這種共享行為延伸到性行為 ,\n",
            "2022-04-03 02:43:33 | INFO | hw5.seq2seq | validation loss:\t4.1078\n",
            "2022-04-03 02:43:33 | INFO | hw5.seq2seq | BLEU = 17.11 50.4/25.4/13.6/7.6 (BP = 0.895 ratio = 0.900 hyp_len = 100653 ref_len = 111811)\n",
            "2022-04-03 02:43:33 | INFO | hw5.seq2seq | saved epoch checkpoint: /home/spiderkiller/ML2022/hw5_machine_translation/checkpoints/rnn/checkpoint51.pt\n",
            "2022-04-03 02:43:33 | INFO | hw5.seq2seq | end of epoch 51\n"
          ]
        },
        {
          "data": {
            "application/vnd.jupyter.widget-view+json": {
              "model_id": "f774c85edc9a42f583448f1d0f963b3a",
              "version_major": 2,
              "version_minor": 0
            },
            "text/plain": [
              "train epoch 52:   0%|          | 0/791 [00:00<?, ?it/s]"
            ]
          },
          "metadata": {},
          "output_type": "display_data"
        },
        {
          "name": "stdout",
          "output_type": "stream",
          "text": [
            "2022-04-03 02:44:59 | INFO | hw5.seq2seq | training loss: 4.3009\n",
            "2022-04-03 02:44:59 | INFO | hw5.seq2seq | begin validation\n"
          ]
        },
        {
          "data": {
            "application/vnd.jupyter.widget-view+json": {
              "model_id": "e4dd2d837651438b90d42cc22a63f61a",
              "version_major": 2,
              "version_minor": 0
            },
            "text/plain": [
              "validation:   0%|          | 0/22 [00:00<?, ?it/s]"
            ]
          },
          "metadata": {},
          "output_type": "display_data"
        },
        {
          "name": "stdout",
          "output_type": "stream",
          "text": [
            "2022-04-03 02:45:24 | INFO | hw5.seq2seq | example source: however , by comparing data that ties together both density and diversity from what we hear , i'm able to arrive at much more precise fitness outcomes .\n",
            "2022-04-03 02:45:24 | INFO | hw5.seq2seq | example hypothesis: 然而 , 透過我們所聽到的資料 , 把密度和多樣性從我們所聽到的 , 我可以在更多精確的結果 。\n",
            "2022-04-03 02:45:24 | INFO | hw5.seq2seq | example reference: 不過我能以比較我們所聽到結合了密度及多樣性的數據得到更精確的棲地健康報告\n",
            "2022-04-03 02:45:24 | INFO | hw5.seq2seq | validation loss:\t4.1061\n",
            "2022-04-03 02:45:24 | INFO | hw5.seq2seq | BLEU = 17.56 49.5/25.0/13.4/7.5 (BP = 0.936 ratio = 0.938 hyp_len = 104827 ref_len = 111811)\n",
            "2022-04-03 02:45:24 | INFO | hw5.seq2seq | saved epoch checkpoint: /home/spiderkiller/ML2022/hw5_machine_translation/checkpoints/rnn/checkpoint52.pt\n",
            "2022-04-03 02:45:24 | INFO | hw5.seq2seq | end of epoch 52\n"
          ]
        },
        {
          "data": {
            "application/vnd.jupyter.widget-view+json": {
              "model_id": "6004208716f645e0a2909b8dbb3d3729",
              "version_major": 2,
              "version_minor": 0
            },
            "text/plain": [
              "train epoch 53:   0%|          | 0/791 [00:00<?, ?it/s]"
            ]
          },
          "metadata": {},
          "output_type": "display_data"
        },
        {
          "name": "stdout",
          "output_type": "stream",
          "text": [
            "2022-04-03 02:46:49 | INFO | hw5.seq2seq | training loss: 4.2987\n",
            "2022-04-03 02:46:49 | INFO | hw5.seq2seq | begin validation\n"
          ]
        },
        {
          "data": {
            "application/vnd.jupyter.widget-view+json": {
              "model_id": "445723bce4304306b02ec30de341f319",
              "version_major": 2,
              "version_minor": 0
            },
            "text/plain": [
              "validation:   0%|          | 0/22 [00:00<?, ?it/s]"
            ]
          },
          "metadata": {},
          "output_type": "display_data"
        },
        {
          "name": "stdout",
          "output_type": "stream",
          "text": [
            "2022-04-03 02:47:17 | INFO | hw5.seq2seq | example source: in many cases , you can also see how a building looks from a nearby street .\n",
            "2022-04-03 02:47:17 | INFO | hw5.seq2seq | example hypothesis: 在許多情況下 , 你也可以看到一個附近的街道 。\n",
            "2022-04-03 02:47:17 | INFO | hw5.seq2seq | example reference: 很多時候你也可以從旁邊的街上看到某棟建築物的的長相\n",
            "2022-04-03 02:47:17 | INFO | hw5.seq2seq | validation loss:\t4.1063\n",
            "2022-04-03 02:47:17 | INFO | hw5.seq2seq | BLEU = 17.24 51.1/25.9/13.9/7.9 (BP = 0.883 ratio = 0.889 hyp_len = 99439 ref_len = 111811)\n",
            "2022-04-03 02:47:17 | INFO | hw5.seq2seq | saved epoch checkpoint: /home/spiderkiller/ML2022/hw5_machine_translation/checkpoints/rnn/checkpoint53.pt\n",
            "2022-04-03 02:47:17 | INFO | hw5.seq2seq | end of epoch 53\n"
          ]
        },
        {
          "data": {
            "application/vnd.jupyter.widget-view+json": {
              "model_id": "848c295310634d58b4ab523a45ca163e",
              "version_major": 2,
              "version_minor": 0
            },
            "text/plain": [
              "train epoch 54:   0%|          | 0/791 [00:00<?, ?it/s]"
            ]
          },
          "metadata": {},
          "output_type": "display_data"
        },
        {
          "name": "stdout",
          "output_type": "stream",
          "text": [
            "2022-04-03 02:48:43 | INFO | hw5.seq2seq | training loss: 4.2984\n",
            "2022-04-03 02:48:43 | INFO | hw5.seq2seq | begin validation\n"
          ]
        },
        {
          "data": {
            "application/vnd.jupyter.widget-view+json": {
              "model_id": "f2cfa15421d04ddb9d331c9aeb9879f9",
              "version_major": 2,
              "version_minor": 0
            },
            "text/plain": [
              "validation:   0%|          | 0/22 [00:00<?, ?it/s]"
            ]
          },
          "metadata": {},
          "output_type": "display_data"
        },
        {
          "name": "stdout",
          "output_type": "stream",
          "text": [
            "2022-04-03 02:49:09 | INFO | hw5.seq2seq | example source: so it's a consumerdriven coop .\n",
            "2022-04-03 02:49:09 | INFO | hw5.seq2seq | example hypothesis: 這是一個消費者合作 。\n",
            "2022-04-03 02:49:09 | INFO | hw5.seq2seq | example reference: 形成一個由消費者主導的合作模式 。\n",
            "2022-04-03 02:49:09 | INFO | hw5.seq2seq | validation loss:\t4.0987\n",
            "2022-04-03 02:49:09 | INFO | hw5.seq2seq | BLEU = 17.04 50.8/25.7/13.8/7.8 (BP = 0.881 ratio = 0.887 hyp_len = 99217 ref_len = 111811)\n",
            "2022-04-03 02:49:09 | INFO | hw5.seq2seq | saved epoch checkpoint: /home/spiderkiller/ML2022/hw5_machine_translation/checkpoints/rnn/checkpoint54.pt\n",
            "2022-04-03 02:49:09 | INFO | hw5.seq2seq | end of epoch 54\n"
          ]
        },
        {
          "data": {
            "application/vnd.jupyter.widget-view+json": {
              "model_id": "e612553f50fd4f86a37373ed9256c5e1",
              "version_major": 2,
              "version_minor": 0
            },
            "text/plain": [
              "train epoch 55:   0%|          | 0/791 [00:00<?, ?it/s]"
            ]
          },
          "metadata": {},
          "output_type": "display_data"
        },
        {
          "name": "stdout",
          "output_type": "stream",
          "text": [
            "2022-04-03 02:50:34 | INFO | hw5.seq2seq | training loss: 4.2985\n",
            "2022-04-03 02:50:34 | INFO | hw5.seq2seq | begin validation\n"
          ]
        },
        {
          "data": {
            "application/vnd.jupyter.widget-view+json": {
              "model_id": "93c85c8d01724695a72efdf9d6375346",
              "version_major": 2,
              "version_minor": 0
            },
            "text/plain": [
              "validation:   0%|          | 0/22 [00:00<?, ?it/s]"
            ]
          },
          "metadata": {},
          "output_type": "display_data"
        },
        {
          "name": "stdout",
          "output_type": "stream",
          "text": [
            "2022-04-03 02:51:00 | INFO | hw5.seq2seq | example source: many tell us that they're one of only a few homes on their block that are occupied , and that they can see several abandoned homes from where they sit on their porches .\n",
            "2022-04-03 02:51:00 | INFO | hw5.seq2seq | example hypothesis: 許多人告訴我們 , 他們是唯一少數家庭之一 , 在他們的屋頂上 , 他們可以看到好幾間廢棄的家園之一 。\n",
            "2022-04-03 02:51:00 | INFO | hw5.seq2seq | example reference: 很多人告訴我們 , 他們的房子是街區裡為數不多還住著人的 , 他們坐在自家的門廊就可以看到好幾座廢棄的房子 。\n",
            "2022-04-03 02:51:00 | INFO | hw5.seq2seq | validation loss:\t4.1003\n",
            "2022-04-03 02:51:00 | INFO | hw5.seq2seq | BLEU = 16.93 51.4/26.1/14.0/7.9 (BP = 0.863 ratio = 0.872 hyp_len = 97495 ref_len = 111811)\n",
            "2022-04-03 02:51:00 | INFO | hw5.seq2seq | saved epoch checkpoint: /home/spiderkiller/ML2022/hw5_machine_translation/checkpoints/rnn/checkpoint55.pt\n",
            "2022-04-03 02:51:00 | INFO | hw5.seq2seq | end of epoch 55\n"
          ]
        },
        {
          "data": {
            "application/vnd.jupyter.widget-view+json": {
              "model_id": "f04cb57f9914482bbe537bc315e2e72a",
              "version_major": 2,
              "version_minor": 0
            },
            "text/plain": [
              "train epoch 56:   0%|          | 0/791 [00:00<?, ?it/s]"
            ]
          },
          "metadata": {},
          "output_type": "display_data"
        },
        {
          "name": "stdout",
          "output_type": "stream",
          "text": [
            "2022-04-03 02:52:27 | INFO | hw5.seq2seq | training loss: 4.2974\n",
            "2022-04-03 02:52:27 | INFO | hw5.seq2seq | begin validation\n"
          ]
        },
        {
          "data": {
            "application/vnd.jupyter.widget-view+json": {
              "model_id": "24564adf6d6d40548d82212a1e2cdb89",
              "version_major": 2,
              "version_minor": 0
            },
            "text/plain": [
              "validation:   0%|          | 0/22 [00:00<?, ?it/s]"
            ]
          },
          "metadata": {},
          "output_type": "display_data"
        },
        {
          "name": "stdout",
          "output_type": "stream",
          "text": [
            "2022-04-03 02:52:52 | INFO | hw5.seq2seq | example source: this one comes from a note that a student sent me after i gave a lecture about arousal nonconcordance .\n",
            "2022-04-03 02:52:52 | INFO | hw5.seq2seq | example hypothesis: 這是來自一位學生的非政府組織我給了一篇關於非政府組織的非政府組織 。\n",
            "2022-04-03 02:52:52 | INFO | hw5.seq2seq | example reference: 這個故事來自一名學生寫給我的字條 , 這是在我教完關於性興奮不一致的課之後 。\n",
            "2022-04-03 02:52:52 | INFO | hw5.seq2seq | validation loss:\t4.1095\n",
            "2022-04-03 02:52:52 | INFO | hw5.seq2seq | BLEU = 16.78 51.7/26.3/14.0/7.8 (BP = 0.854 ratio = 0.864 hyp_len = 96587 ref_len = 111811)\n",
            "2022-04-03 02:52:53 | INFO | hw5.seq2seq | saved epoch checkpoint: /home/spiderkiller/ML2022/hw5_machine_translation/checkpoints/rnn/checkpoint56.pt\n",
            "2022-04-03 02:52:53 | INFO | hw5.seq2seq | end of epoch 56\n"
          ]
        },
        {
          "data": {
            "application/vnd.jupyter.widget-view+json": {
              "model_id": "f19b47ec9a1b4fa1ba3475a8822a10ab",
              "version_major": 2,
              "version_minor": 0
            },
            "text/plain": [
              "train epoch 57:   0%|          | 0/791 [00:00<?, ?it/s]"
            ]
          },
          "metadata": {},
          "output_type": "display_data"
        },
        {
          "name": "stdout",
          "output_type": "stream",
          "text": [
            "2022-04-03 02:54:17 | INFO | hw5.seq2seq | training loss: 4.2924\n",
            "2022-04-03 02:54:17 | INFO | hw5.seq2seq | begin validation\n"
          ]
        },
        {
          "data": {
            "application/vnd.jupyter.widget-view+json": {
              "model_id": "1c1ecb48b65946eca50de3327d103226",
              "version_major": 2,
              "version_minor": 0
            },
            "text/plain": [
              "validation:   0%|          | 0/22 [00:00<?, ?it/s]"
            ]
          },
          "metadata": {},
          "output_type": "display_data"
        },
        {
          "name": "stdout",
          "output_type": "stream",
          "text": [
            "2022-04-03 02:54:45 | INFO | hw5.seq2seq | example source: now , something else happened .\n",
            "2022-04-03 02:54:45 | INFO | hw5.seq2seq | example hypothesis: 現在 , 其他事情發生了 。\n",
            "2022-04-03 02:54:45 | INFO | hw5.seq2seq | example reference: 現在情況發生了變化 。\n",
            "2022-04-03 02:54:45 | INFO | hw5.seq2seq | validation loss:\t4.1026\n",
            "2022-04-03 02:54:45 | INFO | hw5.seq2seq | BLEU = 17.50 50.3/25.5/13.6/7.7 (BP = 0.914 ratio = 0.918 hyp_len = 102590 ref_len = 111811)\n",
            "2022-04-03 02:54:45 | INFO | hw5.seq2seq | saved epoch checkpoint: /home/spiderkiller/ML2022/hw5_machine_translation/checkpoints/rnn/checkpoint57.pt\n",
            "2022-04-03 02:54:45 | INFO | hw5.seq2seq | end of epoch 57\n"
          ]
        },
        {
          "data": {
            "application/vnd.jupyter.widget-view+json": {
              "model_id": "245d5c773a0a4973bd4782c01d908db9",
              "version_major": 2,
              "version_minor": 0
            },
            "text/plain": [
              "train epoch 58:   0%|          | 0/791 [00:00<?, ?it/s]"
            ]
          },
          "metadata": {},
          "output_type": "display_data"
        },
        {
          "name": "stdout",
          "output_type": "stream",
          "text": [
            "2022-04-03 02:56:10 | INFO | hw5.seq2seq | training loss: 4.2940\n",
            "2022-04-03 02:56:10 | INFO | hw5.seq2seq | begin validation\n"
          ]
        },
        {
          "data": {
            "application/vnd.jupyter.widget-view+json": {
              "model_id": "d6e197cb43914babbee07267862a37c8",
              "version_major": 2,
              "version_minor": 0
            },
            "text/plain": [
              "validation:   0%|          | 0/22 [00:00<?, ?it/s]"
            ]
          },
          "metadata": {},
          "output_type": "display_data"
        },
        {
          "name": "stdout",
          "output_type": "stream",
          "text": [
            "2022-04-03 02:56:35 | INFO | hw5.seq2seq | example source: and i always thought that was a very annie hall kind of outfit .\n",
            "2022-04-03 02:56:35 | INFO | hw5.seq2seq | example hypothesis: 我一直認為這是一個很棒的大廳 。\n",
            "2022-04-03 02:56:35 | INFO | hw5.seq2seq | example reference: 我一直覺得那很像安妮霍爾那部電影裡的戲服 ,\n",
            "2022-04-03 02:56:35 | INFO | hw5.seq2seq | validation loss:\t4.1054\n",
            "2022-04-03 02:56:35 | INFO | hw5.seq2seq | BLEU = 17.18 50.7/25.7/13.8/7.8 (BP = 0.889 ratio = 0.895 hyp_len = 100036 ref_len = 111811)\n",
            "2022-04-03 02:56:35 | INFO | hw5.seq2seq | saved epoch checkpoint: /home/spiderkiller/ML2022/hw5_machine_translation/checkpoints/rnn/checkpoint58.pt\n",
            "2022-04-03 02:56:35 | INFO | hw5.seq2seq | end of epoch 58\n"
          ]
        },
        {
          "data": {
            "application/vnd.jupyter.widget-view+json": {
              "model_id": "09d97301f0bc4e8f801c0259ddbc6267",
              "version_major": 2,
              "version_minor": 0
            },
            "text/plain": [
              "train epoch 59:   0%|          | 0/791 [00:00<?, ?it/s]"
            ]
          },
          "metadata": {},
          "output_type": "display_data"
        },
        {
          "name": "stdout",
          "output_type": "stream",
          "text": [
            "2022-04-03 02:57:59 | INFO | hw5.seq2seq | training loss: 4.2932\n",
            "2022-04-03 02:57:59 | INFO | hw5.seq2seq | begin validation\n"
          ]
        },
        {
          "data": {
            "application/vnd.jupyter.widget-view+json": {
              "model_id": "00d95f0a976e4dedbf5450b313b13df8",
              "version_major": 2,
              "version_minor": 0
            },
            "text/plain": [
              "validation:   0%|          | 0/22 [00:00<?, ?it/s]"
            ]
          },
          "metadata": {},
          "output_type": "display_data"
        },
        {
          "name": "stdout",
          "output_type": "stream",
          "text": [
            "2022-04-03 02:58:24 | INFO | hw5.seq2seq | example source: damn . but you know , watson is growing up fast .\n",
            "2022-04-03 02:58:24 | INFO | hw5.seq2seq | example hypothesis: 丹姆.但你知道 , 沃森正在成長 。\n",
            "2022-04-03 02:58:24 | INFO | hw5.seq2seq | example reference: 該死 ! 但你們知道嗎 ? 沃森長得很快\n",
            "2022-04-03 02:58:24 | INFO | hw5.seq2seq | validation loss:\t4.0997\n",
            "2022-04-03 02:58:24 | INFO | hw5.seq2seq | BLEU = 17.02 51.0/25.9/13.9/7.8 (BP = 0.874 ratio = 0.882 hyp_len = 98578 ref_len = 111811)\n",
            "2022-04-03 02:58:24 | INFO | hw5.seq2seq | saved epoch checkpoint: /home/spiderkiller/ML2022/hw5_machine_translation/checkpoints/rnn/checkpoint59.pt\n",
            "2022-04-03 02:58:24 | INFO | hw5.seq2seq | end of epoch 59\n"
          ]
        },
        {
          "data": {
            "application/vnd.jupyter.widget-view+json": {
              "model_id": "c0d021318d474af5ad2ca5f91568664d",
              "version_major": 2,
              "version_minor": 0
            },
            "text/plain": [
              "train epoch 60:   0%|          | 0/791 [00:00<?, ?it/s]"
            ]
          },
          "metadata": {},
          "output_type": "display_data"
        },
        {
          "name": "stdout",
          "output_type": "stream",
          "text": [
            "2022-04-03 02:59:52 | INFO | hw5.seq2seq | training loss: 4.2905\n",
            "2022-04-03 02:59:52 | INFO | hw5.seq2seq | begin validation\n"
          ]
        },
        {
          "data": {
            "application/vnd.jupyter.widget-view+json": {
              "model_id": "a9c82a2fd0e64fb5a66236d9c5888633",
              "version_major": 2,
              "version_minor": 0
            },
            "text/plain": [
              "validation:   0%|          | 0/22 [00:00<?, ?it/s]"
            ]
          },
          "metadata": {},
          "output_type": "display_data"
        },
        {
          "name": "stdout",
          "output_type": "stream",
          "text": [
            "2022-04-03 03:00:20 | INFO | hw5.seq2seq | example source: why is it that we treat culture erasure and economic displacement as inevitable ?\n",
            "2022-04-03 03:00:20 | INFO | hw5.seq2seq | example hypothesis: 為什麼我們會對文化的歧視和經濟分歧 ?\n",
            "2022-04-03 03:00:20 | INFO | hw5.seq2seq | example reference: 為什麼我們會把文化抹除和經濟位移視為不可避免 ?\n",
            "2022-04-03 03:00:20 | INFO | hw5.seq2seq | validation loss:\t4.1018\n",
            "2022-04-03 03:00:20 | INFO | hw5.seq2seq | BLEU = 17.58 49.5/25.1/13.5/7.6 (BP = 0.932 ratio = 0.934 hyp_len = 104437 ref_len = 111811)\n",
            "2022-04-03 03:00:20 | INFO | hw5.seq2seq | saved epoch checkpoint: /home/spiderkiller/ML2022/hw5_machine_translation/checkpoints/rnn/checkpoint60.pt\n",
            "2022-04-03 03:00:20 | INFO | hw5.seq2seq | end of epoch 60\n"
          ]
        },
        {
          "data": {
            "application/vnd.jupyter.widget-view+json": {
              "model_id": "644bf506e6d54e07a84a3a445043dec2",
              "version_major": 2,
              "version_minor": 0
            },
            "text/plain": [
              "train epoch 61:   0%|          | 0/791 [00:00<?, ?it/s]"
            ]
          },
          "metadata": {},
          "output_type": "display_data"
        },
        {
          "name": "stdout",
          "output_type": "stream",
          "text": [
            "2022-04-03 03:01:45 | INFO | hw5.seq2seq | training loss: 4.2916\n",
            "2022-04-03 03:01:45 | INFO | hw5.seq2seq | begin validation\n"
          ]
        },
        {
          "data": {
            "application/vnd.jupyter.widget-view+json": {
              "model_id": "a617e79f224049a1907f9def23102756",
              "version_major": 2,
              "version_minor": 0
            },
            "text/plain": [
              "validation:   0%|          | 0/22 [00:00<?, ?it/s]"
            ]
          },
          "metadata": {},
          "output_type": "display_data"
        },
        {
          "name": "stdout",
          "output_type": "stream",
          "text": [
            "2022-04-03 03:02:16 | INFO | hw5.seq2seq | example source: now , these are trivial marketing examples , i accept .\n",
            "2022-04-03 03:02:16 | INFO | hw5.seq2seq | example hypothesis: 這些是試驗市場例如 , 我接受接受 。\n",
            "2022-04-03 03:02:16 | INFO | hw5.seq2seq | example reference: 這些都是很細微的市場行銷案例 。\n",
            "2022-04-03 03:02:16 | INFO | hw5.seq2seq | validation loss:\t4.0995\n",
            "2022-04-03 03:02:16 | INFO | hw5.seq2seq | BLEU = 17.57 49.1/24.8/13.2/7.4 (BP = 0.947 ratio = 0.948 hyp_len = 106019 ref_len = 111811)\n",
            "2022-04-03 03:02:16 | INFO | hw5.seq2seq | saved epoch checkpoint: /home/spiderkiller/ML2022/hw5_machine_translation/checkpoints/rnn/checkpoint61.pt\n",
            "2022-04-03 03:02:16 | INFO | hw5.seq2seq | end of epoch 61\n"
          ]
        },
        {
          "data": {
            "application/vnd.jupyter.widget-view+json": {
              "model_id": "b3e71150693a403eb9175130d024fc0a",
              "version_major": 2,
              "version_minor": 0
            },
            "text/plain": [
              "train epoch 62:   0%|          | 0/791 [00:00<?, ?it/s]"
            ]
          },
          "metadata": {},
          "output_type": "display_data"
        },
        {
          "name": "stdout",
          "output_type": "stream",
          "text": [
            "2022-04-03 03:03:41 | INFO | hw5.seq2seq | training loss: 4.2901\n",
            "2022-04-03 03:03:41 | INFO | hw5.seq2seq | begin validation\n"
          ]
        },
        {
          "data": {
            "application/vnd.jupyter.widget-view+json": {
              "model_id": "e2a2ea1d23644a0aa1a206988f10a69e",
              "version_major": 2,
              "version_minor": 0
            },
            "text/plain": [
              "validation:   0%|          | 0/22 [00:00<?, ?it/s]"
            ]
          },
          "metadata": {},
          "output_type": "display_data"
        },
        {
          "name": "stdout",
          "output_type": "stream",
          "text": [
            "2022-04-03 03:04:09 | INFO | hw5.seq2seq | example source: but to give it to ourselves right now means a level of arrogance or cockiness that we're not comfortable with .\n",
            "2022-04-03 03:04:09 | INFO | hw5.seq2seq | example hypothesis: 但現在要告訴自己 , 意思是 , 意味著我們不舒服的程度 , 我們不舒服 。\n",
            "2022-04-03 03:04:09 | INFO | hw5.seq2seq | example reference: 如果想成是當下我們就能承當的頭銜意涵某種程度讓人不舒服的驕傲自大\n",
            "2022-04-03 03:04:09 | INFO | hw5.seq2seq | validation loss:\t4.1018\n",
            "2022-04-03 03:04:09 | INFO | hw5.seq2seq | BLEU = 17.55 50.3/25.5/13.8/7.7 (BP = 0.913 ratio = 0.916 hyp_len = 102460 ref_len = 111811)\n",
            "2022-04-03 03:04:09 | INFO | hw5.seq2seq | saved epoch checkpoint: /home/spiderkiller/ML2022/hw5_machine_translation/checkpoints/rnn/checkpoint62.pt\n",
            "2022-04-03 03:04:09 | INFO | hw5.seq2seq | end of epoch 62\n"
          ]
        },
        {
          "data": {
            "application/vnd.jupyter.widget-view+json": {
              "model_id": "e435284c762940baa582ce570b875583",
              "version_major": 2,
              "version_minor": 0
            },
            "text/plain": [
              "train epoch 63:   0%|          | 0/791 [00:00<?, ?it/s]"
            ]
          },
          "metadata": {},
          "output_type": "display_data"
        },
        {
          "name": "stdout",
          "output_type": "stream",
          "text": [
            "2022-04-03 03:05:34 | INFO | hw5.seq2seq | training loss: 4.2907\n",
            "2022-04-03 03:05:34 | INFO | hw5.seq2seq | begin validation\n"
          ]
        },
        {
          "data": {
            "application/vnd.jupyter.widget-view+json": {
              "model_id": "352f71cb4cb440c5a9e3c359291da4e5",
              "version_major": 2,
              "version_minor": 0
            },
            "text/plain": [
              "validation:   0%|          | 0/22 [00:00<?, ?it/s]"
            ]
          },
          "metadata": {},
          "output_type": "display_data"
        },
        {
          "name": "stdout",
          "output_type": "stream",
          "text": [
            "2022-04-03 03:05:59 | INFO | hw5.seq2seq | example source: so where are they ?\n",
            "2022-04-03 03:05:59 | INFO | hw5.seq2seq | example hypothesis: 所以他們在哪裡 ?\n",
            "2022-04-03 03:05:59 | INFO | hw5.seq2seq | example reference: 但他們在哪 ?\n",
            "2022-04-03 03:05:59 | INFO | hw5.seq2seq | validation loss:\t4.1104\n",
            "2022-04-03 03:05:59 | INFO | hw5.seq2seq | BLEU = 16.92 51.5/26.1/14.0/7.9 (BP = 0.861 ratio = 0.870 hyp_len = 97289 ref_len = 111811)\n",
            "2022-04-03 03:05:59 | INFO | hw5.seq2seq | saved epoch checkpoint: /home/spiderkiller/ML2022/hw5_machine_translation/checkpoints/rnn/checkpoint63.pt\n",
            "2022-04-03 03:05:59 | INFO | hw5.seq2seq | end of epoch 63\n"
          ]
        },
        {
          "data": {
            "application/vnd.jupyter.widget-view+json": {
              "model_id": "a48b285118d249c4afd56e5f0ac31a37",
              "version_major": 2,
              "version_minor": 0
            },
            "text/plain": [
              "train epoch 64:   0%|          | 0/791 [00:00<?, ?it/s]"
            ]
          },
          "metadata": {},
          "output_type": "display_data"
        },
        {
          "name": "stdout",
          "output_type": "stream",
          "text": [
            "2022-04-03 03:07:26 | INFO | hw5.seq2seq | training loss: 4.2877\n",
            "2022-04-03 03:07:26 | INFO | hw5.seq2seq | begin validation\n"
          ]
        },
        {
          "data": {
            "application/vnd.jupyter.widget-view+json": {
              "model_id": "0ad932e9ec344fb5b69e671e753fea9c",
              "version_major": 2,
              "version_minor": 0
            },
            "text/plain": [
              "validation:   0%|          | 0/22 [00:00<?, ?it/s]"
            ]
          },
          "metadata": {},
          "output_type": "display_data"
        },
        {
          "name": "stdout",
          "output_type": "stream",
          "text": [
            "2022-04-03 03:07:51 | INFO | hw5.seq2seq | example source: so with the us leading the era of discovery and china leading the era of implementation , we are now in an amazing age where the dual engine of the two superpowers are working together to drive the fastest revolution in technology that we have ever seen as humans .\n",
            "2022-04-03 03:07:51 | INFO | hw5.seq2seq | example hypothesis: 所以 , 使用發現和中國領袖的時代 , 我們現在在一個很棒的時代 , 我們現在在一個很棒的時代 , 在兩位超級大的革命 , 將我們視為人類帶來最快的革命 。\n",
            "2022-04-03 03:07:51 | INFO | hw5.seq2seq | example reference: 美國領導的是發現的時代 , 而中國領導的是導入的時代 , 我們現在身處一個很了不起的時代 , 這兩種超能力的雙重引擎在同心協力 , 在科技領域中 , 推動我們人類所見過最快速的革命 。\n",
            "2022-04-03 03:07:51 | INFO | hw5.seq2seq | validation loss:\t4.1074\n",
            "2022-04-03 03:07:51 | INFO | hw5.seq2seq | BLEU = 16.85 51.3/26.1/13.9/7.8 (BP = 0.861 ratio = 0.870 hyp_len = 97301 ref_len = 111811)\n",
            "2022-04-03 03:07:51 | INFO | hw5.seq2seq | saved epoch checkpoint: /home/spiderkiller/ML2022/hw5_machine_translation/checkpoints/rnn/checkpoint64.pt\n",
            "2022-04-03 03:07:51 | INFO | hw5.seq2seq | end of epoch 64\n"
          ]
        },
        {
          "data": {
            "application/vnd.jupyter.widget-view+json": {
              "model_id": "3f77ede12b00464f8318937452162dc7",
              "version_major": 2,
              "version_minor": 0
            },
            "text/plain": [
              "train epoch 65:   0%|          | 0/791 [00:00<?, ?it/s]"
            ]
          },
          "metadata": {},
          "output_type": "display_data"
        },
        {
          "name": "stdout",
          "output_type": "stream",
          "text": [
            "2022-04-03 03:09:16 | INFO | hw5.seq2seq | training loss: 4.2878\n",
            "2022-04-03 03:09:16 | INFO | hw5.seq2seq | begin validation\n"
          ]
        },
        {
          "data": {
            "application/vnd.jupyter.widget-view+json": {
              "model_id": "4797942f1d634748a64afd01b33202de",
              "version_major": 2,
              "version_minor": 0
            },
            "text/plain": [
              "validation:   0%|          | 0/22 [00:00<?, ?it/s]"
            ]
          },
          "metadata": {},
          "output_type": "display_data"
        },
        {
          "name": "stdout",
          "output_type": "stream",
          "text": [
            "2022-04-03 03:09:42 | INFO | hw5.seq2seq | example source: how would people describe your judgment , your knowledge , your behaviors , in different situations ?\n",
            "2022-04-03 03:09:42 | INFO | hw5.seq2seq | example hypothesis: 人們要如何描述你的判斷、知識、你的行為、不同的情況 ?\n",
            "2022-04-03 03:09:42 | INFO | hw5.seq2seq | example reference: 他們會怎樣看你在不同處境下的判斷、知識、和行為 ?\n",
            "2022-04-03 03:09:42 | INFO | hw5.seq2seq | validation loss:\t4.1058\n",
            "2022-04-03 03:09:42 | INFO | hw5.seq2seq | BLEU = 16.45 52.1/26.4/14.2/8.0 (BP = 0.828 ratio = 0.842 hyp_len = 94099 ref_len = 111811)\n",
            "2022-04-03 03:09:43 | INFO | hw5.seq2seq | saved epoch checkpoint: /home/spiderkiller/ML2022/hw5_machine_translation/checkpoints/rnn/checkpoint65.pt\n",
            "2022-04-03 03:09:43 | INFO | hw5.seq2seq | end of epoch 65\n"
          ]
        },
        {
          "data": {
            "application/vnd.jupyter.widget-view+json": {
              "model_id": "936a26fcd37c4cca981d76b208b35f62",
              "version_major": 2,
              "version_minor": 0
            },
            "text/plain": [
              "train epoch 66:   0%|          | 0/791 [00:00<?, ?it/s]"
            ]
          },
          "metadata": {},
          "output_type": "display_data"
        },
        {
          "name": "stdout",
          "output_type": "stream",
          "text": [
            "2022-04-03 03:11:07 | INFO | hw5.seq2seq | training loss: 4.2857\n",
            "2022-04-03 03:11:07 | INFO | hw5.seq2seq | begin validation\n"
          ]
        },
        {
          "data": {
            "application/vnd.jupyter.widget-view+json": {
              "model_id": "5c12adc404ed4fa1ad7f9b16177ea6fe",
              "version_major": 2,
              "version_minor": 0
            },
            "text/plain": [
              "validation:   0%|          | 0/22 [00:00<?, ?it/s]"
            ]
          },
          "metadata": {},
          "output_type": "display_data"
        },
        {
          "name": "stdout",
          "output_type": "stream",
          "text": [
            "2022-04-03 03:11:33 | INFO | hw5.seq2seq | example source: i'm not holding these out as being the biggest issues .\n",
            "2022-04-03 03:11:33 | INFO | hw5.seq2seq | example hypothesis: 我不是把這些東西當作是最大的問題 。\n",
            "2022-04-03 03:11:33 | INFO | hw5.seq2seq | example reference: 我不認為這些是最大的問題 ,\n",
            "2022-04-03 03:11:33 | INFO | hw5.seq2seq | validation loss:\t4.1049\n",
            "2022-04-03 03:11:33 | INFO | hw5.seq2seq | BLEU = 17.06 51.7/26.3/14.2/8.0 (BP = 0.862 ratio = 0.871 hyp_len = 97337 ref_len = 111811)\n",
            "2022-04-03 03:11:33 | INFO | hw5.seq2seq | saved epoch checkpoint: /home/spiderkiller/ML2022/hw5_machine_translation/checkpoints/rnn/checkpoint66.pt\n",
            "2022-04-03 03:11:33 | INFO | hw5.seq2seq | end of epoch 66\n"
          ]
        },
        {
          "data": {
            "application/vnd.jupyter.widget-view+json": {
              "model_id": "010edf034c094897b2ec6664b5862fb6",
              "version_major": 2,
              "version_minor": 0
            },
            "text/plain": [
              "train epoch 67:   0%|          | 0/791 [00:00<?, ?it/s]"
            ]
          },
          "metadata": {},
          "output_type": "display_data"
        },
        {
          "name": "stdout",
          "output_type": "stream",
          "text": [
            "2022-04-03 03:12:58 | INFO | hw5.seq2seq | training loss: 4.2839\n",
            "2022-04-03 03:12:58 | INFO | hw5.seq2seq | begin validation\n"
          ]
        },
        {
          "data": {
            "application/vnd.jupyter.widget-view+json": {
              "model_id": "523379c2a0d147c4b46ec983c3785401",
              "version_major": 2,
              "version_minor": 0
            },
            "text/plain": [
              "validation:   0%|          | 0/22 [00:00<?, ?it/s]"
            ]
          },
          "metadata": {},
          "output_type": "display_data"
        },
        {
          "name": "stdout",
          "output_type": "stream",
          "text": [
            "2022-04-03 03:13:24 | INFO | hw5.seq2seq | example source: in a lot of food items that we have i have only two items here on the slide pink cookies or surimi sticks or , if you like , campari a lot of our food products that are of a red color are dyed with a natural dye .\n",
            "2022-04-03 03:13:24 | INFO | hw5.seq2seq | example hypothesis: 在許多食物中 , 我們只剩下兩種化學物質或混合物的蛋白質 , 或者 , 如果你喜歡的話 , 很多我們的食物產品 , 或者 , 如果你喜歡 , 你很多的食物產品 , 是紅色的 。\n",
            "2022-04-03 03:13:24 | INFO | hw5.seq2seq | example reference: 我們也會故意加蟲進去 。 我這裡有兩樣在投影片上粉紅色餅乾和蟹肉棒或是 , campari烈酒很多我們吃的紅色的東西是用天然紅色染料染的 。\n",
            "2022-04-03 03:13:24 | INFO | hw5.seq2seq | validation loss:\t4.1043\n",
            "2022-04-03 03:13:24 | INFO | hw5.seq2seq | BLEU = 16.97 51.6/26.3/14.1/7.9 (BP = 0.862 ratio = 0.870 hyp_len = 97322 ref_len = 111811)\n",
            "2022-04-03 03:13:24 | INFO | hw5.seq2seq | saved epoch checkpoint: /home/spiderkiller/ML2022/hw5_machine_translation/checkpoints/rnn/checkpoint67.pt\n",
            "2022-04-03 03:13:24 | INFO | hw5.seq2seq | end of epoch 67\n"
          ]
        },
        {
          "data": {
            "application/vnd.jupyter.widget-view+json": {
              "model_id": "4672094fb9044eb09071bf8ca624bc50",
              "version_major": 2,
              "version_minor": 0
            },
            "text/plain": [
              "train epoch 68:   0%|          | 0/791 [00:00<?, ?it/s]"
            ]
          },
          "metadata": {},
          "output_type": "display_data"
        },
        {
          "name": "stdout",
          "output_type": "stream",
          "text": [
            "2022-04-03 03:14:50 | INFO | hw5.seq2seq | training loss: 4.2842\n",
            "2022-04-03 03:14:50 | INFO | hw5.seq2seq | begin validation\n"
          ]
        },
        {
          "data": {
            "application/vnd.jupyter.widget-view+json": {
              "model_id": "e811a654d7df4b51aa50bfa7b4167c5b",
              "version_major": 2,
              "version_minor": 0
            },
            "text/plain": [
              "validation:   0%|          | 0/22 [00:00<?, ?it/s]"
            ]
          },
          "metadata": {},
          "output_type": "display_data"
        },
        {
          "name": "stdout",
          "output_type": "stream",
          "text": [
            "2022-04-03 03:15:15 | INFO | hw5.seq2seq | example source: in our tradition , there is a ceremony that girls have to undergo to become women , and it's a rite of passage to womanhood .\n",
            "2022-04-03 03:15:15 | INFO | hw5.seq2seq | example hypothesis: 在傳統中 , 我們的傳統女孩必須要被忽略成為女性 , 而這也是一群通過女性的理由 。\n",
            "2022-04-03 03:15:15 | INFO | hw5.seq2seq | example reference: 根據我們的傳統 , 有一個儀式女孩必須經過才可以變成女人 , 那是一個女性的成人禮\n",
            "2022-04-03 03:15:15 | INFO | hw5.seq2seq | validation loss:\t4.0994\n",
            "2022-04-03 03:15:15 | INFO | hw5.seq2seq | BLEU = 17.23 50.8/25.8/13.8/7.7 (BP = 0.890 ratio = 0.895 hyp_len = 100105 ref_len = 111811)\n",
            "2022-04-03 03:15:15 | INFO | hw5.seq2seq | saved epoch checkpoint: /home/spiderkiller/ML2022/hw5_machine_translation/checkpoints/rnn/checkpoint68.pt\n",
            "2022-04-03 03:15:15 | INFO | hw5.seq2seq | end of epoch 68\n"
          ]
        },
        {
          "data": {
            "application/vnd.jupyter.widget-view+json": {
              "model_id": "7c3c39a0e58d4f6aa1189d1821aed30d",
              "version_major": 2,
              "version_minor": 0
            },
            "text/plain": [
              "train epoch 69:   0%|          | 0/791 [00:00<?, ?it/s]"
            ]
          },
          "metadata": {},
          "output_type": "display_data"
        },
        {
          "name": "stdout",
          "output_type": "stream",
          "text": [
            "2022-04-03 03:16:41 | INFO | hw5.seq2seq | training loss: 4.2831\n",
            "2022-04-03 03:16:41 | INFO | hw5.seq2seq | begin validation\n"
          ]
        },
        {
          "data": {
            "application/vnd.jupyter.widget-view+json": {
              "model_id": "cc0ece9bc05a4dae9b4e56292d387396",
              "version_major": 2,
              "version_minor": 0
            },
            "text/plain": [
              "validation:   0%|          | 0/22 [00:00<?, ?it/s]"
            ]
          },
          "metadata": {},
          "output_type": "display_data"
        },
        {
          "name": "stdout",
          "output_type": "stream",
          "text": [
            "2022-04-03 03:17:09 | INFO | hw5.seq2seq | example source: rl: i think terrorism is still number one .\n",
            "2022-04-03 03:17:09 | INFO | hw5.seq2seq | example hypothesis: 理:我認為恐怖主義仍然是數字 。\n",
            "2022-04-03 03:17:09 | INFO | hw5.seq2seq | example reference: 理查德:我認為恐怖主義仍然是第一 。\n",
            "2022-04-03 03:17:09 | INFO | hw5.seq2seq | validation loss:\t4.0956\n",
            "2022-04-03 03:17:09 | INFO | hw5.seq2seq | BLEU = 16.98 51.3/25.9/14.0/7.9 (BP = 0.868 ratio = 0.876 hyp_len = 97907 ref_len = 111811)\n",
            "2022-04-03 03:17:09 | INFO | hw5.seq2seq | saved epoch checkpoint: /home/spiderkiller/ML2022/hw5_machine_translation/checkpoints/rnn/checkpoint69.pt\n",
            "2022-04-03 03:17:09 | INFO | hw5.seq2seq | end of epoch 69\n"
          ]
        },
        {
          "data": {
            "application/vnd.jupyter.widget-view+json": {
              "model_id": "866256cb1c2c4e90ab7c647f5c514226",
              "version_major": 2,
              "version_minor": 0
            },
            "text/plain": [
              "train epoch 70:   0%|          | 0/791 [00:00<?, ?it/s]"
            ]
          },
          "metadata": {},
          "output_type": "display_data"
        },
        {
          "name": "stdout",
          "output_type": "stream",
          "text": [
            "2022-04-03 03:18:34 | INFO | hw5.seq2seq | training loss: 4.2820\n",
            "2022-04-03 03:18:34 | INFO | hw5.seq2seq | begin validation\n"
          ]
        },
        {
          "data": {
            "application/vnd.jupyter.widget-view+json": {
              "model_id": "799e59b213f34175b28869608bb69fb8",
              "version_major": 2,
              "version_minor": 0
            },
            "text/plain": [
              "validation:   0%|          | 0/22 [00:00<?, ?it/s]"
            ]
          },
          "metadata": {},
          "output_type": "display_data"
        },
        {
          "name": "stdout",
          "output_type": "stream",
          "text": [
            "2022-04-03 03:18:58 | INFO | hw5.seq2seq | example source: and of course , \" the vagina monologues \" we know about .\n",
            "2022-04-03 03:18:58 | INFO | hw5.seq2seq | example hypothesis: 當然 , \" 陰道 \" 我們知道 。\n",
            "2022-04-03 03:18:58 | INFO | hw5.seq2seq | example reference: 當然 , 還有我們都知道的 「 陰道獨白 」 。\n",
            "2022-04-03 03:18:58 | INFO | hw5.seq2seq | validation loss:\t4.0980\n",
            "2022-04-03 03:18:58 | INFO | hw5.seq2seq | BLEU = 16.93 52.0/26.5/14.3/8.0 (BP = 0.849 ratio = 0.859 hyp_len = 96038 ref_len = 111811)\n",
            "2022-04-03 03:18:58 | INFO | hw5.seq2seq | saved epoch checkpoint: /home/spiderkiller/ML2022/hw5_machine_translation/checkpoints/rnn/checkpoint70.pt\n",
            "2022-04-03 03:18:58 | INFO | hw5.seq2seq | end of epoch 70\n"
          ]
        },
        {
          "data": {
            "application/vnd.jupyter.widget-view+json": {
              "model_id": "e5a0cc6f5636488a85891b9dd90986f4",
              "version_major": 2,
              "version_minor": 0
            },
            "text/plain": [
              "train epoch 71:   0%|          | 0/791 [00:00<?, ?it/s]"
            ]
          },
          "metadata": {},
          "output_type": "display_data"
        },
        {
          "name": "stdout",
          "output_type": "stream",
          "text": [
            "2022-04-03 03:20:23 | INFO | hw5.seq2seq | training loss: 4.2814\n",
            "2022-04-03 03:20:23 | INFO | hw5.seq2seq | begin validation\n"
          ]
        },
        {
          "data": {
            "application/vnd.jupyter.widget-view+json": {
              "model_id": "353d28023bb14aa1852ad1859ae9aebb",
              "version_major": 2,
              "version_minor": 0
            },
            "text/plain": [
              "validation:   0%|          | 0/22 [00:00<?, ?it/s]"
            ]
          },
          "metadata": {},
          "output_type": "display_data"
        },
        {
          "name": "stdout",
          "output_type": "stream",
          "text": [
            "2022-04-03 03:20:48 | INFO | hw5.seq2seq | example source: tmm: it's 6:30 a . m .\n",
            "2022-04-03 03:20:48 | INFO | hw5.seq2seq | example hypothesis: 湯姆:這是6:30年 。\n",
            "2022-04-03 03:20:48 | INFO | hw5.seq2seq | example reference: tmm:現在早上6:30 。\n",
            "2022-04-03 03:20:48 | INFO | hw5.seq2seq | validation loss:\t4.0912\n",
            "2022-04-03 03:20:48 | INFO | hw5.seq2seq | BLEU = 17.20 50.8/25.7/13.8/7.7 (BP = 0.890 ratio = 0.896 hyp_len = 100134 ref_len = 111811)\n",
            "2022-04-03 03:20:48 | INFO | hw5.seq2seq | saved epoch checkpoint: /home/spiderkiller/ML2022/hw5_machine_translation/checkpoints/rnn/checkpoint71.pt\n",
            "2022-04-03 03:20:48 | INFO | hw5.seq2seq | end of epoch 71\n"
          ]
        },
        {
          "data": {
            "application/vnd.jupyter.widget-view+json": {
              "model_id": "d21452d63f3541eb863fdc84387ec38e",
              "version_major": 2,
              "version_minor": 0
            },
            "text/plain": [
              "train epoch 72:   0%|          | 0/791 [00:00<?, ?it/s]"
            ]
          },
          "metadata": {},
          "output_type": "display_data"
        },
        {
          "name": "stdout",
          "output_type": "stream",
          "text": [
            "2022-04-03 03:22:12 | INFO | hw5.seq2seq | training loss: 4.2806\n",
            "2022-04-03 03:22:12 | INFO | hw5.seq2seq | begin validation\n"
          ]
        },
        {
          "data": {
            "application/vnd.jupyter.widget-view+json": {
              "model_id": "50f1b2c56b534803b9b1d1a527a08f15",
              "version_major": 2,
              "version_minor": 0
            },
            "text/plain": [
              "validation:   0%|          | 0/22 [00:00<?, ?it/s]"
            ]
          },
          "metadata": {},
          "output_type": "display_data"
        },
        {
          "name": "stdout",
          "output_type": "stream",
          "text": [
            "2022-04-03 03:22:38 | INFO | hw5.seq2seq | example source: and there are hundreds of initiatives every year to try and improve education .\n",
            "2022-04-03 03:22:38 | INFO | hw5.seq2seq | example hypothesis: 每年都有數百個原始教育 。\n",
            "2022-04-03 03:22:38 | INFO | hw5.seq2seq | example reference: 每年有幾百件方案嘗試改善教育\n",
            "2022-04-03 03:22:38 | INFO | hw5.seq2seq | validation loss:\t4.1083\n",
            "2022-04-03 03:22:38 | INFO | hw5.seq2seq | BLEU = 16.33 52.9/26.9/14.4/8.2 (BP = 0.805 ratio = 0.822 hyp_len = 91880 ref_len = 111811)\n",
            "2022-04-03 03:22:38 | INFO | hw5.seq2seq | saved epoch checkpoint: /home/spiderkiller/ML2022/hw5_machine_translation/checkpoints/rnn/checkpoint72.pt\n",
            "2022-04-03 03:22:38 | INFO | hw5.seq2seq | end of epoch 72\n"
          ]
        },
        {
          "data": {
            "application/vnd.jupyter.widget-view+json": {
              "model_id": "65c6e4bacee444c4bfd6d1c7085b579d",
              "version_major": 2,
              "version_minor": 0
            },
            "text/plain": [
              "train epoch 73:   0%|          | 0/791 [00:00<?, ?it/s]"
            ]
          },
          "metadata": {},
          "output_type": "display_data"
        },
        {
          "name": "stdout",
          "output_type": "stream",
          "text": [
            "2022-04-03 03:24:03 | INFO | hw5.seq2seq | training loss: 4.2792\n",
            "2022-04-03 03:24:03 | INFO | hw5.seq2seq | begin validation\n"
          ]
        },
        {
          "data": {
            "application/vnd.jupyter.widget-view+json": {
              "model_id": "14592336b8874df09b9a5caed497e2f8",
              "version_major": 2,
              "version_minor": 0
            },
            "text/plain": [
              "validation:   0%|          | 0/22 [00:00<?, ?it/s]"
            ]
          },
          "metadata": {},
          "output_type": "display_data"
        },
        {
          "name": "stdout",
          "output_type": "stream",
          "text": [
            "2022-04-03 03:24:29 | INFO | hw5.seq2seq | example source: then there's about 20 different hormones , so we are on a very different level than our genitals , for example .\n",
            "2022-04-03 03:24:29 | INFO | hw5.seq2seq | example hypothesis: 舉例來說 , 大約有20種不同的荷爾蒙 , 所以我們正處於一個非常不同的層級 。\n",
            "2022-04-03 03:24:29 | INFO | hw5.seq2seq | example reference: 還有大約二十種不同的賀爾蒙 , 所以 , 例如和生殖器相比 , 它又是很不一樣的層級 。\n",
            "2022-04-03 03:24:29 | INFO | hw5.seq2seq | validation loss:\t4.1009\n",
            "2022-04-03 03:24:29 | INFO | hw5.seq2seq | BLEU = 16.85 52.2/26.5/14.3/8.2 (BP = 0.840 ratio = 0.852 hyp_len = 95210 ref_len = 111811)\n",
            "2022-04-03 03:24:29 | INFO | hw5.seq2seq | saved epoch checkpoint: /home/spiderkiller/ML2022/hw5_machine_translation/checkpoints/rnn/checkpoint73.pt\n",
            "2022-04-03 03:24:29 | INFO | hw5.seq2seq | end of epoch 73\n"
          ]
        },
        {
          "data": {
            "application/vnd.jupyter.widget-view+json": {
              "model_id": "c7bd8ab07b6c478a990d4e45de1805b1",
              "version_major": 2,
              "version_minor": 0
            },
            "text/plain": [
              "train epoch 74:   0%|          | 0/791 [00:00<?, ?it/s]"
            ]
          },
          "metadata": {},
          "output_type": "display_data"
        },
        {
          "name": "stdout",
          "output_type": "stream",
          "text": [
            "2022-04-03 03:25:57 | INFO | hw5.seq2seq | training loss: 4.2795\n",
            "2022-04-03 03:25:57 | INFO | hw5.seq2seq | begin validation\n"
          ]
        },
        {
          "data": {
            "application/vnd.jupyter.widget-view+json": {
              "model_id": "b199bf29e3bb4f47ba262a172ca8770e",
              "version_major": 2,
              "version_minor": 0
            },
            "text/plain": [
              "validation:   0%|          | 0/22 [00:00<?, ?it/s]"
            ]
          },
          "metadata": {},
          "output_type": "display_data"
        },
        {
          "name": "stdout",
          "output_type": "stream",
          "text": [
            "2022-04-03 03:26:25 | INFO | hw5.seq2seq | example source: now , let me tell you a little bit about the research about how the human mind works to explain .\n",
            "2022-04-03 03:26:25 | INFO | hw5.seq2seq | example hypothesis: 讓我告訴各位一些關於人類思維如何運作 。\n",
            "2022-04-03 03:26:25 | INFO | hw5.seq2seq | example reference: 讓我跟各位稍微說明一下這個研究 , 人腦如何運作的研究 , 來解釋這個現象 。\n",
            "2022-04-03 03:26:25 | INFO | hw5.seq2seq | validation loss:\t4.1070\n",
            "2022-04-03 03:26:25 | INFO | hw5.seq2seq | BLEU = 16.95 51.9/26.4/14.1/8.0 (BP = 0.856 ratio = 0.865 hyp_len = 96718 ref_len = 111811)\n",
            "2022-04-03 03:26:25 | INFO | hw5.seq2seq | saved epoch checkpoint: /home/spiderkiller/ML2022/hw5_machine_translation/checkpoints/rnn/checkpoint74.pt\n",
            "2022-04-03 03:26:25 | INFO | hw5.seq2seq | end of epoch 74\n"
          ]
        },
        {
          "data": {
            "application/vnd.jupyter.widget-view+json": {
              "model_id": "b1e9b16bab71409285b363a7664dc5f1",
              "version_major": 2,
              "version_minor": 0
            },
            "text/plain": [
              "train epoch 75:   0%|          | 0/791 [00:00<?, ?it/s]"
            ]
          },
          "metadata": {},
          "output_type": "display_data"
        },
        {
          "name": "stdout",
          "output_type": "stream",
          "text": [
            "2022-04-03 03:27:50 | INFO | hw5.seq2seq | training loss: 4.2788\n",
            "2022-04-03 03:27:50 | INFO | hw5.seq2seq | begin validation\n"
          ]
        },
        {
          "data": {
            "application/vnd.jupyter.widget-view+json": {
              "model_id": "eed6bae291a5444dace7480a70a687fc",
              "version_major": 2,
              "version_minor": 0
            },
            "text/plain": [
              "validation:   0%|          | 0/22 [00:00<?, ?it/s]"
            ]
          },
          "metadata": {},
          "output_type": "display_data"
        },
        {
          "name": "stdout",
          "output_type": "stream",
          "text": [
            "2022-04-03 03:28:15 | INFO | hw5.seq2seq | example source: but , of course , they don't look like rocks and sludge now .\n",
            "2022-04-03 03:28:15 | INFO | hw5.seq2seq | example hypothesis: 當然 , 他們不像岩石和幸運 。\n",
            "2022-04-03 03:28:15 | INFO | hw5.seq2seq | example reference: 當然現在看起來並不像石頭或爛泥\n",
            "2022-04-03 03:28:15 | INFO | hw5.seq2seq | validation loss:\t4.1072\n",
            "2022-04-03 03:28:15 | INFO | hw5.seq2seq | BLEU = 16.42 52.7/26.9/14.4/8.1 (BP = 0.814 ratio = 0.829 hyp_len = 92695 ref_len = 111811)\n",
            "2022-04-03 03:28:15 | INFO | hw5.seq2seq | saved epoch checkpoint: /home/spiderkiller/ML2022/hw5_machine_translation/checkpoints/rnn/checkpoint75.pt\n",
            "2022-04-03 03:28:15 | INFO | hw5.seq2seq | end of epoch 75\n"
          ]
        },
        {
          "data": {
            "application/vnd.jupyter.widget-view+json": {
              "model_id": "98d74e2f8c8d4843b3020c2449d903a0",
              "version_major": 2,
              "version_minor": 0
            },
            "text/plain": [
              "train epoch 76:   0%|          | 0/791 [00:00<?, ?it/s]"
            ]
          },
          "metadata": {},
          "output_type": "display_data"
        },
        {
          "name": "stdout",
          "output_type": "stream",
          "text": [
            "2022-04-03 03:29:40 | INFO | hw5.seq2seq | training loss: 4.2779\n",
            "2022-04-03 03:29:40 | INFO | hw5.seq2seq | begin validation\n"
          ]
        },
        {
          "data": {
            "application/vnd.jupyter.widget-view+json": {
              "model_id": "cd39c9fe7f80495a9121345c98670466",
              "version_major": 2,
              "version_minor": 0
            },
            "text/plain": [
              "validation:   0%|          | 0/22 [00:00<?, ?it/s]"
            ]
          },
          "metadata": {},
          "output_type": "display_data"
        },
        {
          "name": "stdout",
          "output_type": "stream",
          "text": [
            "2022-04-03 03:30:07 | INFO | hw5.seq2seq | example source: this is not about new technology , it's just rearranging our metal furniture .\n",
            "2022-04-03 03:30:07 | INFO | hw5.seq2seq | example hypothesis: 這不是關於新科技 , 而是重新改造我們的金屬傢俱 。\n",
            "2022-04-03 03:30:07 | INFO | hw5.seq2seq | example reference: 這與新科技無關只是重新安排金屬設備\n",
            "2022-04-03 03:30:07 | INFO | hw5.seq2seq | validation loss:\t4.0959\n",
            "2022-04-03 03:30:07 | INFO | hw5.seq2seq | BLEU = 17.26 51.2/26.1/14.0/7.9 (BP = 0.880 ratio = 0.887 hyp_len = 99133 ref_len = 111811)\n",
            "2022-04-03 03:30:07 | INFO | hw5.seq2seq | saved epoch checkpoint: /home/spiderkiller/ML2022/hw5_machine_translation/checkpoints/rnn/checkpoint76.pt\n",
            "2022-04-03 03:30:07 | INFO | hw5.seq2seq | end of epoch 76\n"
          ]
        },
        {
          "data": {
            "application/vnd.jupyter.widget-view+json": {
              "model_id": "fe70c0d8db3e4119a2ef5f45b391b166",
              "version_major": 2,
              "version_minor": 0
            },
            "text/plain": [
              "train epoch 77:   0%|          | 0/791 [00:00<?, ?it/s]"
            ]
          },
          "metadata": {},
          "output_type": "display_data"
        },
        {
          "name": "stdout",
          "output_type": "stream",
          "text": [
            "2022-04-03 03:31:32 | INFO | hw5.seq2seq | training loss: 4.2767\n",
            "2022-04-03 03:31:32 | INFO | hw5.seq2seq | begin validation\n"
          ]
        },
        {
          "data": {
            "application/vnd.jupyter.widget-view+json": {
              "model_id": "3b9c66c75dfe418f93d3f8a4794e26b8",
              "version_major": 2,
              "version_minor": 0
            },
            "text/plain": [
              "validation:   0%|          | 0/22 [00:00<?, ?it/s]"
            ]
          },
          "metadata": {},
          "output_type": "display_data"
        },
        {
          "name": "stdout",
          "output_type": "stream",
          "text": [
            "2022-04-03 03:31:59 | INFO | hw5.seq2seq | example source: the baby remains sleeping , showing no interest at all .\n",
            "2022-04-03 03:31:59 | INFO | hw5.seq2seq | example hypothesis: 寶寶保持睡眠 , 證明沒有興趣 。\n",
            "2022-04-03 03:31:59 | INFO | hw5.seq2seq | example reference: 嬰兒會繼續沉睡 , 對滴管沒有顯示任何興趣 ;\n",
            "2022-04-03 03:31:59 | INFO | hw5.seq2seq | validation loss:\t4.0824\n",
            "2022-04-03 03:31:59 | INFO | hw5.seq2seq | BLEU = 17.03 51.5/26.1/14.0/7.9 (BP = 0.866 ratio = 0.875 hyp_len = 97785 ref_len = 111811)\n",
            "2022-04-03 03:31:59 | INFO | hw5.seq2seq | saved epoch checkpoint: /home/spiderkiller/ML2022/hw5_machine_translation/checkpoints/rnn/checkpoint77.pt\n",
            "2022-04-03 03:31:59 | INFO | hw5.seq2seq | end of epoch 77\n"
          ]
        },
        {
          "data": {
            "application/vnd.jupyter.widget-view+json": {
              "model_id": "60b4dc88281342309995f0469f06c7c9",
              "version_major": 2,
              "version_minor": 0
            },
            "text/plain": [
              "train epoch 78:   0%|          | 0/791 [00:00<?, ?it/s]"
            ]
          },
          "metadata": {},
          "output_type": "display_data"
        },
        {
          "name": "stdout",
          "output_type": "stream",
          "text": [
            "2022-04-03 03:33:26 | INFO | hw5.seq2seq | training loss: 4.2785\n",
            "2022-04-03 03:33:26 | INFO | hw5.seq2seq | begin validation\n"
          ]
        },
        {
          "data": {
            "application/vnd.jupyter.widget-view+json": {
              "model_id": "b2739621c76a443495acaeb5f7b90c32",
              "version_major": 2,
              "version_minor": 0
            },
            "text/plain": [
              "validation:   0%|          | 0/22 [00:00<?, ?it/s]"
            ]
          },
          "metadata": {},
          "output_type": "display_data"
        },
        {
          "name": "stdout",
          "output_type": "stream",
          "text": [
            "2022-04-03 03:33:53 | INFO | hw5.seq2seq | example source: and this is doug engelbart .\n",
            "2022-04-03 03:33:53 | INFO | hw5.seq2seq | example hypothesis: 這隻狗是烏鴉 。\n",
            "2022-04-03 03:33:53 | INFO | hw5.seq2seq | example reference: 這就是dougengelbart 。\n",
            "2022-04-03 03:33:53 | INFO | hw5.seq2seq | validation loss:\t4.0835\n",
            "2022-04-03 03:33:53 | INFO | hw5.seq2seq | BLEU = 17.60 49.5/25.1/13.5/7.6 (BP = 0.933 ratio = 0.935 hyp_len = 104512 ref_len = 111811)\n",
            "2022-04-03 03:33:54 | INFO | hw5.seq2seq | saved epoch checkpoint: /home/spiderkiller/ML2022/hw5_machine_translation/checkpoints/rnn/checkpoint78.pt\n",
            "2022-04-03 03:33:54 | INFO | hw5.seq2seq | end of epoch 78\n"
          ]
        },
        {
          "data": {
            "application/vnd.jupyter.widget-view+json": {
              "model_id": "e2df27871c3042e9830e4cddd781bb39",
              "version_major": 2,
              "version_minor": 0
            },
            "text/plain": [
              "train epoch 79:   0%|          | 0/791 [00:00<?, ?it/s]"
            ]
          },
          "metadata": {},
          "output_type": "display_data"
        },
        {
          "name": "stdout",
          "output_type": "stream",
          "text": [
            "2022-04-03 03:35:19 | INFO | hw5.seq2seq | training loss: 4.2747\n",
            "2022-04-03 03:35:19 | INFO | hw5.seq2seq | begin validation\n"
          ]
        },
        {
          "data": {
            "application/vnd.jupyter.widget-view+json": {
              "model_id": "3c32b22cf93b40d39f48cf7197827215",
              "version_major": 2,
              "version_minor": 0
            },
            "text/plain": [
              "validation:   0%|          | 0/22 [00:00<?, ?it/s]"
            ]
          },
          "metadata": {},
          "output_type": "display_data"
        },
        {
          "name": "stdout",
          "output_type": "stream",
          "text": [
            "2022-04-03 03:35:43 | INFO | hw5.seq2seq | example source: this tribe , the cofan , has 17 varieties of ayahuasca , all of which they distinguish a great distance in the forest , all of which are referable to our eye as one species .\n",
            "2022-04-03 03:35:43 | INFO | hw5.seq2seq | example hypothesis: 這個部落 , 珊瑚 , 有17種種不同的種類 , 牠們在森林中 , 所有它們在森林的森林中 , 這些都是可以提供給我們的眼睛 。\n",
            "2022-04-03 03:35:43 | INFO | hw5.seq2seq | example reference: 科凡部落的人發現了17種死藤全部是他們在叢林深處發現的在我們看來它們是不同的物種\n",
            "2022-04-03 03:35:43 | INFO | hw5.seq2seq | validation loss:\t4.0777\n",
            "2022-04-03 03:35:43 | INFO | hw5.seq2seq | BLEU = 17.60 50.0/25.3/13.6/7.6 (BP = 0.925 ratio = 0.928 hyp_len = 103707 ref_len = 111811)\n",
            "2022-04-03 03:35:43 | INFO | hw5.seq2seq | saved epoch checkpoint: /home/spiderkiller/ML2022/hw5_machine_translation/checkpoints/rnn/checkpoint79.pt\n",
            "2022-04-03 03:35:43 | INFO | hw5.seq2seq | end of epoch 79\n"
          ]
        },
        {
          "data": {
            "application/vnd.jupyter.widget-view+json": {
              "model_id": "f4b69521a60d4b57a9a8665b65d6b42a",
              "version_major": 2,
              "version_minor": 0
            },
            "text/plain": [
              "train epoch 80:   0%|          | 0/791 [00:00<?, ?it/s]"
            ]
          },
          "metadata": {},
          "output_type": "display_data"
        },
        {
          "name": "stdout",
          "output_type": "stream",
          "text": [
            "2022-04-03 03:37:09 | INFO | hw5.seq2seq | training loss: 4.2769\n",
            "2022-04-03 03:37:09 | INFO | hw5.seq2seq | begin validation\n"
          ]
        },
        {
          "data": {
            "application/vnd.jupyter.widget-view+json": {
              "model_id": "ea01529a882c401ca0d86cfd73ead532",
              "version_major": 2,
              "version_minor": 0
            },
            "text/plain": [
              "validation:   0%|          | 0/22 [00:00<?, ?it/s]"
            ]
          },
          "metadata": {},
          "output_type": "display_data"
        },
        {
          "name": "stdout",
          "output_type": "stream",
          "text": [
            "2022-04-03 03:37:35 | INFO | hw5.seq2seq | example source: and if he doesn't show me that it works here , i don't believe anything he said .\n",
            "2022-04-03 03:37:35 | INFO | hw5.seq2seq | example hypothesis: 如果他沒有告訴我 , 它會成功 , 我不相信他說什麼 。\n",
            "2022-04-03 03:37:35 | INFO | hw5.seq2seq | example reference: 我是不會相信他所說的我知道你們想著躲避球隊 。\n",
            "2022-04-03 03:37:35 | INFO | hw5.seq2seq | validation loss:\t4.0905\n",
            "2022-04-03 03:37:35 | INFO | hw5.seq2seq | BLEU = 17.52 50.7/25.8/13.9/7.9 (BP = 0.901 ratio = 0.906 hyp_len = 101284 ref_len = 111811)\n",
            "2022-04-03 03:37:36 | INFO | hw5.seq2seq | saved epoch checkpoint: /home/spiderkiller/ML2022/hw5_machine_translation/checkpoints/rnn/checkpoint80.pt\n",
            "2022-04-03 03:37:36 | INFO | hw5.seq2seq | end of epoch 80\n"
          ]
        },
        {
          "data": {
            "application/vnd.jupyter.widget-view+json": {
              "model_id": "4ac7eaad484045938b7068e1b38715e3",
              "version_major": 2,
              "version_minor": 0
            },
            "text/plain": [
              "train epoch 81:   0%|          | 0/791 [00:00<?, ?it/s]"
            ]
          },
          "metadata": {},
          "output_type": "display_data"
        },
        {
          "name": "stdout",
          "output_type": "stream",
          "text": [
            "2022-04-03 03:39:01 | INFO | hw5.seq2seq | training loss: 4.2725\n",
            "2022-04-03 03:39:01 | INFO | hw5.seq2seq | begin validation\n"
          ]
        },
        {
          "data": {
            "application/vnd.jupyter.widget-view+json": {
              "model_id": "4e6e894aec8346faa71ad23e3001bac8",
              "version_major": 2,
              "version_minor": 0
            },
            "text/plain": [
              "validation:   0%|          | 0/22 [00:00<?, ?it/s]"
            ]
          },
          "metadata": {},
          "output_type": "display_data"
        },
        {
          "name": "stdout",
          "output_type": "stream",
          "text": [
            "2022-04-03 03:39:26 | INFO | hw5.seq2seq | example source: we teach them that education doesn't really matter , because it's not relevant to what's happening all around them .\n",
            "2022-04-03 03:39:26 | INFO | hw5.seq2seq | example hypothesis: 我們教他們 , 教育不重要 , 因為這不是與周遭發生什麼事 。\n",
            "2022-04-03 03:39:26 | INFO | hw5.seq2seq | example reference: 我們等於是在教他們:教育不重要 , 因為教育跟他們周圍發生的事無關 。\n",
            "2022-04-03 03:39:26 | INFO | hw5.seq2seq | validation loss:\t4.0890\n",
            "2022-04-03 03:39:26 | INFO | hw5.seq2seq | BLEU = 17.23 51.1/25.9/13.9/7.8 (BP = 0.886 ratio = 0.892 hyp_len = 99689 ref_len = 111811)\n",
            "2022-04-03 03:39:26 | INFO | hw5.seq2seq | saved epoch checkpoint: /home/spiderkiller/ML2022/hw5_machine_translation/checkpoints/rnn/checkpoint81.pt\n",
            "2022-04-03 03:39:26 | INFO | hw5.seq2seq | end of epoch 81\n"
          ]
        },
        {
          "data": {
            "application/vnd.jupyter.widget-view+json": {
              "model_id": "cd06b4ac854b49d395ce65b8653b277d",
              "version_major": 2,
              "version_minor": 0
            },
            "text/plain": [
              "train epoch 82:   0%|          | 0/791 [00:00<?, ?it/s]"
            ]
          },
          "metadata": {},
          "output_type": "display_data"
        },
        {
          "name": "stdout",
          "output_type": "stream",
          "text": [
            "2022-04-03 03:40:51 | INFO | hw5.seq2seq | training loss: 4.2734\n",
            "2022-04-03 03:40:51 | INFO | hw5.seq2seq | begin validation\n"
          ]
        },
        {
          "data": {
            "application/vnd.jupyter.widget-view+json": {
              "model_id": "8fa5018e451b4cd685c8bc34c221d5f3",
              "version_major": 2,
              "version_minor": 0
            },
            "text/plain": [
              "validation:   0%|          | 0/22 [00:00<?, ?it/s]"
            ]
          },
          "metadata": {},
          "output_type": "display_data"
        },
        {
          "name": "stdout",
          "output_type": "stream",
          "text": [
            "2022-04-03 03:41:17 | INFO | hw5.seq2seq | example source: so we're not thinking about this , but all of the people we imagine are thinking about it they're not taking care of it either .\n",
            "2022-04-03 03:41:17 | INFO | hw5.seq2seq | example hypothesis: 所以我們不想談這件事 , 但所有人都不在乎 。\n",
            "2022-04-03 03:41:17 | INFO | hw5.seq2seq | example reference: 所以 , 我們現在沒有在想這些事 , 而且在我們想像中 , 在想這些事情的人-基本上 , 他們也不會在乎的 。\n",
            "2022-04-03 03:41:17 | INFO | hw5.seq2seq | validation loss:\t4.0942\n",
            "2022-04-03 03:41:17 | INFO | hw5.seq2seq | BLEU = 16.58 52.1/26.5/14.2/8.0 (BP = 0.834 ratio = 0.846 hyp_len = 94623 ref_len = 111811)\n",
            "2022-04-03 03:41:17 | INFO | hw5.seq2seq | saved epoch checkpoint: /home/spiderkiller/ML2022/hw5_machine_translation/checkpoints/rnn/checkpoint82.pt\n",
            "2022-04-03 03:41:17 | INFO | hw5.seq2seq | end of epoch 82\n"
          ]
        },
        {
          "data": {
            "application/vnd.jupyter.widget-view+json": {
              "model_id": "6c95c2a926434d119d8833bd3a171496",
              "version_major": 2,
              "version_minor": 0
            },
            "text/plain": [
              "train epoch 83:   0%|          | 0/791 [00:00<?, ?it/s]"
            ]
          },
          "metadata": {},
          "output_type": "display_data"
        },
        {
          "name": "stdout",
          "output_type": "stream",
          "text": [
            "2022-04-03 03:42:41 | INFO | hw5.seq2seq | training loss: 4.2736\n",
            "2022-04-03 03:42:41 | INFO | hw5.seq2seq | begin validation\n"
          ]
        },
        {
          "data": {
            "application/vnd.jupyter.widget-view+json": {
              "model_id": "bc6881040b564696b81e46e0624947b9",
              "version_major": 2,
              "version_minor": 0
            },
            "text/plain": [
              "validation:   0%|          | 0/22 [00:00<?, ?it/s]"
            ]
          },
          "metadata": {},
          "output_type": "display_data"
        },
        {
          "name": "stdout",
          "output_type": "stream",
          "text": [
            "2022-04-03 03:43:08 | INFO | hw5.seq2seq | example source: and so i can now focus on taking this information , figuring out how do we work towards a cure , how do we work towards prevention , and so my life has gotten a lot easier .\n",
            "2022-04-03 03:43:08 | INFO | hw5.seq2seq | example hypothesis: 所以我現在可以專注在資訊上 , 了解我們如何工作向前進 , 了解我們如何工作朝向預防 , 所以我的生活變得更容易 。\n",
            "2022-04-03 03:43:08 | INFO | hw5.seq2seq | example reference: 所以我現在能專注於獲取信息 , 弄清楚我們如何治療 , 以及預防的方向 , 所以我的生活變得輕鬆多了 。\n",
            "2022-04-03 03:43:08 | INFO | hw5.seq2seq | validation loss:\t4.0939\n",
            "2022-04-03 03:43:08 | INFO | hw5.seq2seq | BLEU = 16.89 51.5/26.1/14.0/7.9 (BP = 0.860 ratio = 0.869 hyp_len = 97155 ref_len = 111811)\n",
            "2022-04-03 03:43:08 | INFO | hw5.seq2seq | saved epoch checkpoint: /home/spiderkiller/ML2022/hw5_machine_translation/checkpoints/rnn/checkpoint83.pt\n",
            "2022-04-03 03:43:08 | INFO | hw5.seq2seq | end of epoch 83\n"
          ]
        },
        {
          "data": {
            "application/vnd.jupyter.widget-view+json": {
              "model_id": "9438fdbe9d024c70a75d130b679ac5ac",
              "version_major": 2,
              "version_minor": 0
            },
            "text/plain": [
              "train epoch 84:   0%|          | 0/791 [00:00<?, ?it/s]"
            ]
          },
          "metadata": {},
          "output_type": "display_data"
        },
        {
          "name": "stdout",
          "output_type": "stream",
          "text": [
            "2022-04-03 03:44:35 | INFO | hw5.seq2seq | training loss: 4.2723\n",
            "2022-04-03 03:44:35 | INFO | hw5.seq2seq | begin validation\n"
          ]
        },
        {
          "data": {
            "application/vnd.jupyter.widget-view+json": {
              "model_id": "5d40332fba124a13906cbf7e2b3e5e23",
              "version_major": 2,
              "version_minor": 0
            },
            "text/plain": [
              "validation:   0%|          | 0/22 [00:00<?, ?it/s]"
            ]
          },
          "metadata": {},
          "output_type": "display_data"
        },
        {
          "name": "stdout",
          "output_type": "stream",
          "text": [
            "2022-04-03 03:45:03 | INFO | hw5.seq2seq | example source: now , these are trivial marketing examples , i accept .\n",
            "2022-04-03 03:45:03 | INFO | hw5.seq2seq | example hypothesis: 這些是試驗市場例子 , 我接受接受 。\n",
            "2022-04-03 03:45:03 | INFO | hw5.seq2seq | example reference: 這些都是很細微的市場行銷案例 。\n",
            "2022-04-03 03:45:03 | INFO | hw5.seq2seq | validation loss:\t4.0938\n",
            "2022-04-03 03:45:03 | INFO | hw5.seq2seq | BLEU = 17.13 51.5/26.1/14.0/7.9 (BP = 0.872 ratio = 0.879 hyp_len = 98323 ref_len = 111811)\n",
            "2022-04-03 03:45:03 | INFO | hw5.seq2seq | saved epoch checkpoint: /home/spiderkiller/ML2022/hw5_machine_translation/checkpoints/rnn/checkpoint84.pt\n",
            "2022-04-03 03:45:03 | INFO | hw5.seq2seq | end of epoch 84\n"
          ]
        },
        {
          "data": {
            "application/vnd.jupyter.widget-view+json": {
              "model_id": "0dbba991c9784d4f9a3d71f183e2942f",
              "version_major": 2,
              "version_minor": 0
            },
            "text/plain": [
              "train epoch 85:   0%|          | 0/791 [00:00<?, ?it/s]"
            ]
          },
          "metadata": {},
          "output_type": "display_data"
        },
        {
          "name": "stdout",
          "output_type": "stream",
          "text": [
            "2022-04-03 03:46:29 | INFO | hw5.seq2seq | training loss: 4.2728\n",
            "2022-04-03 03:46:29 | INFO | hw5.seq2seq | begin validation\n"
          ]
        },
        {
          "data": {
            "application/vnd.jupyter.widget-view+json": {
              "model_id": "6b2020719d9144d793491d097f3dbc8c",
              "version_major": 2,
              "version_minor": 0
            },
            "text/plain": [
              "validation:   0%|          | 0/22 [00:00<?, ?it/s]"
            ]
          },
          "metadata": {},
          "output_type": "display_data"
        },
        {
          "name": "stdout",
          "output_type": "stream",
          "text": [
            "2022-04-03 03:46:55 | INFO | hw5.seq2seq | example source: but did you know that at your age judy garland was pulling down 150 , 000 dollars a picture , joan of arc was leading the french army to victory and blaise pascal had cleaned up his room no wait , i mean he had invented the calculator ?\n",
            "2022-04-03 03:46:55 | INFO | hw5.seq2seq | example hypothesis: 但你知道在茱迪·加爾在你的年紀 , 阿拉克在法國拍攝了15萬美金的照片 , 加入了法國軍隊 , 加拿大他的房間裡 , 我是說他發明了他的房間裡嗎 ?\n",
            "2022-04-03 03:46:55 | INFO | hw5.seq2seq | example reference: 但你知道跟你同年的時候朱蒂嘉蘭拍個電影就可以賺150 , 000塊貞德就在帶領法軍打勝仗然後布萊茲帕斯卡把自己的房間整理乾淨了--喔不 , 我是說他發明了計算機\n",
            "2022-04-03 03:46:55 | INFO | hw5.seq2seq | validation loss:\t4.0921\n",
            "2022-04-03 03:46:55 | INFO | hw5.seq2seq | BLEU = 17.16 51.5/26.2/14.1/7.9 (BP = 0.871 ratio = 0.879 hyp_len = 98247 ref_len = 111811)\n",
            "2022-04-03 03:46:55 | INFO | hw5.seq2seq | saved epoch checkpoint: /home/spiderkiller/ML2022/hw5_machine_translation/checkpoints/rnn/checkpoint85.pt\n",
            "2022-04-03 03:46:55 | INFO | hw5.seq2seq | end of epoch 85\n"
          ]
        },
        {
          "data": {
            "application/vnd.jupyter.widget-view+json": {
              "model_id": "5d7c1d8fc65c45f691ee3c95672b1413",
              "version_major": 2,
              "version_minor": 0
            },
            "text/plain": [
              "train epoch 86:   0%|          | 0/791 [00:00<?, ?it/s]"
            ]
          },
          "metadata": {},
          "output_type": "display_data"
        },
        {
          "name": "stdout",
          "output_type": "stream",
          "text": [
            "2022-04-03 03:48:20 | INFO | hw5.seq2seq | training loss: 4.2707\n",
            "2022-04-03 03:48:20 | INFO | hw5.seq2seq | begin validation\n"
          ]
        },
        {
          "data": {
            "application/vnd.jupyter.widget-view+json": {
              "model_id": "604d9f7827c544278e8e474cd0a46b33",
              "version_major": 2,
              "version_minor": 0
            },
            "text/plain": [
              "validation:   0%|          | 0/22 [00:00<?, ?it/s]"
            ]
          },
          "metadata": {},
          "output_type": "display_data"
        },
        {
          "name": "stdout",
          "output_type": "stream",
          "text": [
            "2022-04-03 03:48:47 | INFO | hw5.seq2seq | example source: this is an image i took of a woman in bhongir village in andhra pradesh in india .\n",
            "2022-04-03 03:48:47 | INFO | hw5.seq2seq | example hypothesis: 這是我在孟加拉村莊的女人 。\n",
            "2022-04-03 03:48:47 | INFO | hw5.seq2seq | example reference: 這是我拍的照片 , 照片上的女子在印度安得拉邦的邦格伊爾村 。\n",
            "2022-04-03 03:48:47 | INFO | hw5.seq2seq | validation loss:\t4.0880\n",
            "2022-04-03 03:48:47 | INFO | hw5.seq2seq | BLEU = 17.70 50.0/25.3/13.6/7.8 (BP = 0.925 ratio = 0.928 hyp_len = 103712 ref_len = 111811)\n",
            "2022-04-03 03:48:47 | INFO | hw5.seq2seq | saved epoch checkpoint: /home/spiderkiller/ML2022/hw5_machine_translation/checkpoints/rnn/checkpoint86.pt\n",
            "2022-04-03 03:48:47 | INFO | hw5.seq2seq | end of epoch 86\n"
          ]
        },
        {
          "data": {
            "application/vnd.jupyter.widget-view+json": {
              "model_id": "03e9e3bac7ef4c01a49de0c4851309b9",
              "version_major": 2,
              "version_minor": 0
            },
            "text/plain": [
              "train epoch 87:   0%|          | 0/791 [00:00<?, ?it/s]"
            ]
          },
          "metadata": {},
          "output_type": "display_data"
        },
        {
          "name": "stdout",
          "output_type": "stream",
          "text": [
            "2022-04-03 03:50:14 | INFO | hw5.seq2seq | training loss: 4.2732\n",
            "2022-04-03 03:50:14 | INFO | hw5.seq2seq | begin validation\n"
          ]
        },
        {
          "data": {
            "application/vnd.jupyter.widget-view+json": {
              "model_id": "3b4265ee42eb45e990ebf2895ce805dd",
              "version_major": 2,
              "version_minor": 0
            },
            "text/plain": [
              "validation:   0%|          | 0/22 [00:00<?, ?it/s]"
            ]
          },
          "metadata": {},
          "output_type": "display_data"
        },
        {
          "name": "stdout",
          "output_type": "stream",
          "text": [
            "2022-04-03 03:50:40 | INFO | hw5.seq2seq | example source: davinia's impact started a few years ago when she reached out to all of her friends on facebook , and asked them to donate their pennies so she could fund girls' education .\n",
            "2022-04-03 03:50:40 | INFO | hw5.seq2seq | example hypothesis: 丹尼亞的影響開始幾年前她到臉書上所有的朋友 , 請他們捐贈他們的筆記 , 所以她可以捐款女孩教育 。\n",
            "2022-04-03 03:50:40 | INFO | hw5.seq2seq | example reference: 達維妮雅的影響力從幾年前開始 , 當時她在臉書上尋求朋友幫助 , 她邀請他們捐點零錢 , 這樣她就可以資助女孩的教育 。\n",
            "2022-04-03 03:50:40 | INFO | hw5.seq2seq | validation loss:\t4.0984\n",
            "2022-04-03 03:50:40 | INFO | hw5.seq2seq | BLEU = 17.13 51.9/26.5/14.3/8.0 (BP = 0.859 ratio = 0.868 hyp_len = 97068 ref_len = 111811)\n",
            "2022-04-03 03:50:40 | INFO | hw5.seq2seq | saved epoch checkpoint: /home/spiderkiller/ML2022/hw5_machine_translation/checkpoints/rnn/checkpoint87.pt\n",
            "2022-04-03 03:50:40 | INFO | hw5.seq2seq | end of epoch 87\n"
          ]
        },
        {
          "data": {
            "application/vnd.jupyter.widget-view+json": {
              "model_id": "a5809baf0c5046a0a0f1f43bf9348d7a",
              "version_major": 2,
              "version_minor": 0
            },
            "text/plain": [
              "train epoch 88:   0%|          | 0/791 [00:00<?, ?it/s]"
            ]
          },
          "metadata": {},
          "output_type": "display_data"
        },
        {
          "name": "stdout",
          "output_type": "stream",
          "text": [
            "2022-04-03 03:52:05 | INFO | hw5.seq2seq | training loss: 4.2713\n",
            "2022-04-03 03:52:05 | INFO | hw5.seq2seq | begin validation\n"
          ]
        },
        {
          "data": {
            "application/vnd.jupyter.widget-view+json": {
              "model_id": "b45e0f29a5004866a5bcdcee5df0bf17",
              "version_major": 2,
              "version_minor": 0
            },
            "text/plain": [
              "validation:   0%|          | 0/22 [00:00<?, ?it/s]"
            ]
          },
          "metadata": {},
          "output_type": "display_data"
        },
        {
          "name": "stdout",
          "output_type": "stream",
          "text": [
            "2022-04-03 03:52:29 | INFO | hw5.seq2seq | example source: in \" the descent of man , \" charles darwin wrote a great deal about the evolution of morality where did it come from , why do we have it .\n",
            "2022-04-03 03:52:29 | INFO | hw5.seq2seq | example hypothesis: 在 「 查爾斯·達爾文寫了一篇關於道德革命的道德革命 , 為何我們所擁有的道德革命 。 」\n",
            "2022-04-03 03:52:29 | INFO | hw5.seq2seq | example reference: 在《人類的起源》裡達爾文寫了許多關於道德進化論這件事道德是從哪來的 ? 我們怎麼會擁有它 ?\n",
            "2022-04-03 03:52:29 | INFO | hw5.seq2seq | validation loss:\t4.0848\n",
            "2022-04-03 03:52:29 | INFO | hw5.seq2seq | BLEU = 17.43 50.8/25.8/13.9/7.8 (BP = 0.899 ratio = 0.904 hyp_len = 101035 ref_len = 111811)\n",
            "2022-04-03 03:52:29 | INFO | hw5.seq2seq | saved epoch checkpoint: /home/spiderkiller/ML2022/hw5_machine_translation/checkpoints/rnn/checkpoint88.pt\n",
            "2022-04-03 03:52:29 | INFO | hw5.seq2seq | end of epoch 88\n"
          ]
        },
        {
          "data": {
            "application/vnd.jupyter.widget-view+json": {
              "model_id": "8626316cdaa34dcca6a17cb858488262",
              "version_major": 2,
              "version_minor": 0
            },
            "text/plain": [
              "train epoch 89:   0%|          | 0/791 [00:00<?, ?it/s]"
            ]
          },
          "metadata": {},
          "output_type": "display_data"
        },
        {
          "name": "stdout",
          "output_type": "stream",
          "text": [
            "2022-04-03 03:53:57 | INFO | hw5.seq2seq | training loss: 4.2687\n",
            "2022-04-03 03:53:57 | INFO | hw5.seq2seq | begin validation\n"
          ]
        },
        {
          "data": {
            "application/vnd.jupyter.widget-view+json": {
              "model_id": "52876724602d4d43ae432c45d5001e3b",
              "version_major": 2,
              "version_minor": 0
            },
            "text/plain": [
              "validation:   0%|          | 0/22 [00:00<?, ?it/s]"
            ]
          },
          "metadata": {},
          "output_type": "display_data"
        },
        {
          "name": "stdout",
          "output_type": "stream",
          "text": [
            "2022-04-03 03:54:24 | INFO | hw5.seq2seq | example source: we presented our plan at the white house two weeks after president trump moved in .\n",
            "2022-04-03 03:54:24 | INFO | hw5.seq2seq | example hypothesis: 我們在白宮消失後兩週後 , 美國總統消失了 。\n",
            "2022-04-03 03:54:24 | INFO | hw5.seq2seq | example reference: 我們在川普總統上任兩週後在白宮呈獻此計劃 。\n",
            "2022-04-03 03:54:24 | INFO | hw5.seq2seq | validation loss:\t4.0912\n",
            "2022-04-03 03:54:24 | INFO | hw5.seq2seq | BLEU = 17.02 51.8/26.3/14.2/8.0 (BP = 0.858 ratio = 0.867 hyp_len = 96978 ref_len = 111811)\n",
            "2022-04-03 03:54:24 | INFO | hw5.seq2seq | saved epoch checkpoint: /home/spiderkiller/ML2022/hw5_machine_translation/checkpoints/rnn/checkpoint89.pt\n",
            "2022-04-03 03:54:24 | INFO | hw5.seq2seq | end of epoch 89\n"
          ]
        },
        {
          "data": {
            "application/vnd.jupyter.widget-view+json": {
              "model_id": "002c3cf997bd469b8263ac4b2c1ed458",
              "version_major": 2,
              "version_minor": 0
            },
            "text/plain": [
              "train epoch 90:   0%|          | 0/791 [00:00<?, ?it/s]"
            ]
          },
          "metadata": {},
          "output_type": "display_data"
        },
        {
          "name": "stdout",
          "output_type": "stream",
          "text": [
            "2022-04-03 03:55:49 | INFO | hw5.seq2seq | training loss: 4.2688\n",
            "2022-04-03 03:55:49 | INFO | hw5.seq2seq | begin validation\n"
          ]
        },
        {
          "data": {
            "application/vnd.jupyter.widget-view+json": {
              "model_id": "6a360e5a04cd41efbd15d89ef963b32e",
              "version_major": 2,
              "version_minor": 0
            },
            "text/plain": [
              "validation:   0%|          | 0/22 [00:00<?, ?it/s]"
            ]
          },
          "metadata": {},
          "output_type": "display_data"
        },
        {
          "name": "stdout",
          "output_type": "stream",
          "text": [
            "2022-04-03 03:56:15 | INFO | hw5.seq2seq | example source: and so that's the basic thing doctors are trained to do , and it's miraculous in the case of infectious disease how well it works .\n",
            "2022-04-03 03:56:15 | INFO | hw5.seq2seq | example hypothesis: 這是基本的醫生被訓練訓練去做 , 而這就是感染疾病如何運作 。\n",
            "2022-04-03 03:56:15 | INFO | hw5.seq2seq | example reference: 這基本上是醫生被訓練來做的事 。 這在感染性疾病上有的效果--是幾近神奇的 。\n",
            "2022-04-03 03:56:15 | INFO | hw5.seq2seq | validation loss:\t4.0855\n",
            "2022-04-03 03:56:15 | INFO | hw5.seq2seq | BLEU = 16.93 51.2/25.9/13.9/7.8 (BP = 0.869 ratio = 0.877 hyp_len = 98035 ref_len = 111811)\n",
            "2022-04-03 03:56:15 | INFO | hw5.seq2seq | saved epoch checkpoint: /home/spiderkiller/ML2022/hw5_machine_translation/checkpoints/rnn/checkpoint90.pt\n",
            "2022-04-03 03:56:15 | INFO | hw5.seq2seq | end of epoch 90\n"
          ]
        },
        {
          "data": {
            "application/vnd.jupyter.widget-view+json": {
              "model_id": "97d06408a98240f09904f99505551d53",
              "version_major": 2,
              "version_minor": 0
            },
            "text/plain": [
              "train epoch 91:   0%|          | 0/791 [00:00<?, ?it/s]"
            ]
          },
          "metadata": {},
          "output_type": "display_data"
        },
        {
          "name": "stdout",
          "output_type": "stream",
          "text": [
            "2022-04-03 03:57:41 | INFO | hw5.seq2seq | training loss: 4.2698\n",
            "2022-04-03 03:57:41 | INFO | hw5.seq2seq | begin validation\n"
          ]
        },
        {
          "data": {
            "application/vnd.jupyter.widget-view+json": {
              "model_id": "ef8f098f1fa14215a24737e8424f8823",
              "version_major": 2,
              "version_minor": 0
            },
            "text/plain": [
              "validation:   0%|          | 0/22 [00:00<?, ?it/s]"
            ]
          },
          "metadata": {},
          "output_type": "display_data"
        },
        {
          "name": "stdout",
          "output_type": "stream",
          "text": [
            "2022-04-03 03:58:08 | INFO | hw5.seq2seq | example source: by the early 20th century , the perfect balance of science and art had finally been struck with the emergence of medical illustrators .\n",
            "2022-04-03 03:58:08 | INFO | hw5.seq2seq | example hypothesis: 在20世紀初 , 科學和藝術終於掙扎的平衡 。\n",
            "2022-04-03 03:58:08 | INFO | hw5.seq2seq | example reference: 直到20世紀早期 , 科學與藝術間的完美平衡終於達成了 , 因為醫學插圖畫家的出現 。\n",
            "2022-04-03 03:58:08 | INFO | hw5.seq2seq | validation loss:\t4.0886\n",
            "2022-04-03 03:58:08 | INFO | hw5.seq2seq | BLEU = 17.13 51.6/26.2/14.1/8.0 (BP = 0.868 ratio = 0.876 hyp_len = 97990 ref_len = 111811)\n",
            "2022-04-03 03:58:08 | INFO | hw5.seq2seq | saved epoch checkpoint: /home/spiderkiller/ML2022/hw5_machine_translation/checkpoints/rnn/checkpoint91.pt\n",
            "2022-04-03 03:58:08 | INFO | hw5.seq2seq | end of epoch 91\n"
          ]
        },
        {
          "data": {
            "application/vnd.jupyter.widget-view+json": {
              "model_id": "7caf0dc08d864963b7b7156825a5f4ca",
              "version_major": 2,
              "version_minor": 0
            },
            "text/plain": [
              "train epoch 92:   0%|          | 0/791 [00:00<?, ?it/s]"
            ]
          },
          "metadata": {},
          "output_type": "display_data"
        },
        {
          "name": "stdout",
          "output_type": "stream",
          "text": [
            "2022-04-03 03:59:33 | INFO | hw5.seq2seq | training loss: 4.2684\n",
            "2022-04-03 03:59:33 | INFO | hw5.seq2seq | begin validation\n"
          ]
        },
        {
          "data": {
            "application/vnd.jupyter.widget-view+json": {
              "model_id": "16b5b5d360254c299b0c34ab6ae1ee7a",
              "version_major": 2,
              "version_minor": 0
            },
            "text/plain": [
              "validation:   0%|          | 0/22 [00:00<?, ?it/s]"
            ]
          },
          "metadata": {},
          "output_type": "display_data"
        },
        {
          "name": "stdout",
          "output_type": "stream",
          "text": [
            "2022-04-03 03:59:59 | INFO | hw5.seq2seq | example source: try this quick thought experiment: imagine a restaurant that serves michelinstarred food , but where the restaurant smells of sewage and there's human feces on the floor .\n",
            "2022-04-03 03:59:59 | INFO | hw5.seq2seq | example hypothesis: 試試試想一下:想像一個餐廳餐廳的餐廳 , 但餐廳的餐廳 , 餐廳裡有人類的食物 , 但餐廳裡有人類的食物 。\n",
            "2022-04-03 03:59:59 | INFO | hw5.seq2seq | example reference: 讓我們來做個快速的思維實驗想像一家餐廳提供米其林星級水準的食物但餐廳裡惡臭彌漫地板上屎尿橫流\n",
            "2022-04-03 03:59:59 | INFO | hw5.seq2seq | validation loss:\t4.0904\n",
            "2022-04-03 03:59:59 | INFO | hw5.seq2seq | BLEU = 17.41 51.5/26.2/14.1/8.0 (BP = 0.879 ratio = 0.886 hyp_len = 99074 ref_len = 111811)\n",
            "2022-04-03 03:59:59 | INFO | hw5.seq2seq | saved epoch checkpoint: /home/spiderkiller/ML2022/hw5_machine_translation/checkpoints/rnn/checkpoint92.pt\n",
            "2022-04-03 03:59:59 | INFO | hw5.seq2seq | end of epoch 92\n"
          ]
        },
        {
          "data": {
            "application/vnd.jupyter.widget-view+json": {
              "model_id": "a0430d7917fd42e5b6969b9615da9cf6",
              "version_major": 2,
              "version_minor": 0
            },
            "text/plain": [
              "train epoch 93:   0%|          | 0/791 [00:00<?, ?it/s]"
            ]
          },
          "metadata": {},
          "output_type": "display_data"
        },
        {
          "name": "stdout",
          "output_type": "stream",
          "text": [
            "2022-04-03 04:01:24 | INFO | hw5.seq2seq | training loss: 4.2656\n",
            "2022-04-03 04:01:24 | INFO | hw5.seq2seq | begin validation\n"
          ]
        },
        {
          "data": {
            "application/vnd.jupyter.widget-view+json": {
              "model_id": "de174c67d7f74e3e83c3e908b4d8588c",
              "version_major": 2,
              "version_minor": 0
            },
            "text/plain": [
              "validation:   0%|          | 0/22 [00:00<?, ?it/s]"
            ]
          },
          "metadata": {},
          "output_type": "display_data"
        },
        {
          "name": "stdout",
          "output_type": "stream",
          "text": [
            "2022-04-03 04:01:49 | INFO | hw5.seq2seq | example source: so having looked at the numbers , my estimate is that a score of 75 would not only be a giant leap forward in human wellbeing , it would also count as hitting the global goals target .\n",
            "2022-04-03 04:01:49 | INFO | hw5.seq2seq | example hypothesis: 所以 , 看看數字 , 我的估計是 , 我估計75歲的人 , 不僅是個巨大的失敗 。\n",
            "2022-04-03 04:01:49 | INFO | hw5.seq2seq | example reference: 所以仔細地考慮一下分數我的估計是75分這在人類幸福上不僅是一個巨大的飛躍 。 也意味著可達成的全球目標 。\n",
            "2022-04-03 04:01:49 | INFO | hw5.seq2seq | validation loss:\t4.0853\n",
            "2022-04-03 04:01:49 | INFO | hw5.seq2seq | BLEU = 16.98 51.6/26.3/14.1/7.9 (BP = 0.863 ratio = 0.871 hyp_len = 97435 ref_len = 111811)\n",
            "2022-04-03 04:01:49 | INFO | hw5.seq2seq | saved epoch checkpoint: /home/spiderkiller/ML2022/hw5_machine_translation/checkpoints/rnn/checkpoint93.pt\n",
            "2022-04-03 04:01:49 | INFO | hw5.seq2seq | end of epoch 93\n"
          ]
        },
        {
          "data": {
            "application/vnd.jupyter.widget-view+json": {
              "model_id": "f57911ddf544478b8daf20906f56cd36",
              "version_major": 2,
              "version_minor": 0
            },
            "text/plain": [
              "train epoch 94:   0%|          | 0/791 [00:00<?, ?it/s]"
            ]
          },
          "metadata": {},
          "output_type": "display_data"
        },
        {
          "name": "stdout",
          "output_type": "stream",
          "text": [
            "2022-04-03 04:03:14 | INFO | hw5.seq2seq | training loss: 4.2668\n",
            "2022-04-03 04:03:14 | INFO | hw5.seq2seq | begin validation\n"
          ]
        },
        {
          "data": {
            "application/vnd.jupyter.widget-view+json": {
              "model_id": "0ff7758fc3604e54ab37eb54858b07e2",
              "version_major": 2,
              "version_minor": 0
            },
            "text/plain": [
              "validation:   0%|          | 0/22 [00:00<?, ?it/s]"
            ]
          },
          "metadata": {},
          "output_type": "display_data"
        },
        {
          "name": "stdout",
          "output_type": "stream",
          "text": [
            "2022-04-03 04:03:40 | INFO | hw5.seq2seq | example source: and there are hundreds of initiatives every year to try and improve education .\n",
            "2022-04-03 04:03:40 | INFO | hw5.seq2seq | example hypothesis: 每年都有數百個正面的教育 。\n",
            "2022-04-03 04:03:40 | INFO | hw5.seq2seq | example reference: 每年有幾百件方案嘗試改善教育\n",
            "2022-04-03 04:03:40 | INFO | hw5.seq2seq | validation loss:\t4.0915\n",
            "2022-04-03 04:03:40 | INFO | hw5.seq2seq | BLEU = 17.24 51.0/26.0/14.0/7.9 (BP = 0.882 ratio = 0.888 hyp_len = 99322 ref_len = 111811)\n",
            "2022-04-03 04:03:40 | INFO | hw5.seq2seq | saved epoch checkpoint: /home/spiderkiller/ML2022/hw5_machine_translation/checkpoints/rnn/checkpoint94.pt\n",
            "2022-04-03 04:03:40 | INFO | hw5.seq2seq | end of epoch 94\n"
          ]
        },
        {
          "data": {
            "application/vnd.jupyter.widget-view+json": {
              "model_id": "2c5a7ba85c274d1f8bd9b649b602f863",
              "version_major": 2,
              "version_minor": 0
            },
            "text/plain": [
              "train epoch 95:   0%|          | 0/791 [00:00<?, ?it/s]"
            ]
          },
          "metadata": {},
          "output_type": "display_data"
        },
        {
          "name": "stdout",
          "output_type": "stream",
          "text": [
            "2022-04-03 04:05:06 | INFO | hw5.seq2seq | training loss: 4.2630\n",
            "2022-04-03 04:05:06 | INFO | hw5.seq2seq | begin validation\n"
          ]
        },
        {
          "data": {
            "application/vnd.jupyter.widget-view+json": {
              "model_id": "00c9b10b17044830985661b57bee471c",
              "version_major": 2,
              "version_minor": 0
            },
            "text/plain": [
              "validation:   0%|          | 0/22 [00:00<?, ?it/s]"
            ]
          },
          "metadata": {},
          "output_type": "display_data"
        },
        {
          "name": "stdout",
          "output_type": "stream",
          "text": [
            "2022-04-03 04:05:32 | INFO | hw5.seq2seq | example source: so one random day , i wandered to the nearest building to my dorm room .\n",
            "2022-04-03 04:05:32 | INFO | hw5.seq2seq | example hypothesis: 所以有一個隨機的一天 , 我走到最近的建築物 。\n",
            "2022-04-03 04:05:32 | INFO | hw5.seq2seq | example reference: 某一天 , 我晃到了離我宿舍最近的大樓 。\n",
            "2022-04-03 04:05:32 | INFO | hw5.seq2seq | validation loss:\t4.0831\n",
            "2022-04-03 04:05:32 | INFO | hw5.seq2seq | BLEU = 17.33 51.0/25.9/13.9/7.8 (BP = 0.889 ratio = 0.895 hyp_len = 100060 ref_len = 111811)\n",
            "2022-04-03 04:05:32 | INFO | hw5.seq2seq | saved epoch checkpoint: /home/spiderkiller/ML2022/hw5_machine_translation/checkpoints/rnn/checkpoint95.pt\n",
            "2022-04-03 04:05:32 | INFO | hw5.seq2seq | end of epoch 95\n"
          ]
        },
        {
          "data": {
            "application/vnd.jupyter.widget-view+json": {
              "model_id": "901e515601a9490a837fb9e4f0422c98",
              "version_major": 2,
              "version_minor": 0
            },
            "text/plain": [
              "train epoch 96:   0%|          | 0/791 [00:00<?, ?it/s]"
            ]
          },
          "metadata": {},
          "output_type": "display_data"
        },
        {
          "name": "stdout",
          "output_type": "stream",
          "text": [
            "2022-04-03 04:06:56 | INFO | hw5.seq2seq | training loss: 4.2643\n",
            "2022-04-03 04:06:56 | INFO | hw5.seq2seq | begin validation\n"
          ]
        },
        {
          "data": {
            "application/vnd.jupyter.widget-view+json": {
              "model_id": "de279b8769c848c995c348d0074200d1",
              "version_major": 2,
              "version_minor": 0
            },
            "text/plain": [
              "validation:   0%|          | 0/22 [00:00<?, ?it/s]"
            ]
          },
          "metadata": {},
          "output_type": "display_data"
        },
        {
          "name": "stdout",
          "output_type": "stream",
          "text": [
            "2022-04-03 04:07:27 | INFO | hw5.seq2seq | example source: anybody who has an internet connection and the will to learn can access these great courses from excellent universities and get a credential at the end of it .\n",
            "2022-04-03 04:07:27 | INFO | hw5.seq2seq | example hypothesis: 任何人有網路連結 , 會學習這些偉大的課程 , 會從很棒的大學末端開始 , 得到一個專業的課程 。\n",
            "2022-04-03 04:07:27 | INFO | hw5.seq2seq | example reference: 任何人只要有網路連線 , 和學習意願 , 就能利用頂尖大學提供的絕佳課程 , 修畢後還能取得證書 。\n",
            "2022-04-03 04:07:27 | INFO | hw5.seq2seq | validation loss:\t4.0821\n",
            "2022-04-03 04:07:27 | INFO | hw5.seq2seq | BLEU = 17.66 50.4/25.5/13.7/7.7 (BP = 0.920 ratio = 0.923 hyp_len = 103246 ref_len = 111811)\n",
            "2022-04-03 04:07:27 | INFO | hw5.seq2seq | saved epoch checkpoint: /home/spiderkiller/ML2022/hw5_machine_translation/checkpoints/rnn/checkpoint96.pt\n",
            "2022-04-03 04:07:27 | INFO | hw5.seq2seq | end of epoch 96\n"
          ]
        },
        {
          "data": {
            "application/vnd.jupyter.widget-view+json": {
              "model_id": "7f753fa7ed9d4db7ba5226334383d8e8",
              "version_major": 2,
              "version_minor": 0
            },
            "text/plain": [
              "train epoch 97:   0%|          | 0/791 [00:00<?, ?it/s]"
            ]
          },
          "metadata": {},
          "output_type": "display_data"
        },
        {
          "name": "stdout",
          "output_type": "stream",
          "text": [
            "2022-04-03 04:08:54 | INFO | hw5.seq2seq | training loss: 4.2632\n",
            "2022-04-03 04:08:54 | INFO | hw5.seq2seq | begin validation\n"
          ]
        },
        {
          "data": {
            "application/vnd.jupyter.widget-view+json": {
              "model_id": "cac8a1050d7f401a8aee142ed088b342",
              "version_major": 2,
              "version_minor": 0
            },
            "text/plain": [
              "validation:   0%|          | 0/22 [00:00<?, ?it/s]"
            ]
          },
          "metadata": {},
          "output_type": "display_data"
        },
        {
          "name": "stdout",
          "output_type": "stream",
          "text": [
            "2022-04-03 04:09:18 | INFO | hw5.seq2seq | example source: they talked to me about depression , and anxiety and insomnia and suicidal thoughts .\n",
            "2022-04-03 04:09:18 | INFO | hw5.seq2seq | example hypothesis: 他們跟我談憂鬱症 , 焦慮和自殺的想法 。\n",
            "2022-04-03 04:09:18 | INFO | hw5.seq2seq | example reference: 他們跟我談了關於抑鬱、焦慮、失眠以及自殺的念頭 。\n",
            "2022-04-03 04:09:18 | INFO | hw5.seq2seq | validation loss:\t4.0972\n",
            "2022-04-03 04:09:18 | INFO | hw5.seq2seq | BLEU = 16.59 53.1/27.2/14.7/8.3 (BP = 0.810 ratio = 0.826 hyp_len = 92304 ref_len = 111811)\n",
            "2022-04-03 04:09:18 | INFO | hw5.seq2seq | saved epoch checkpoint: /home/spiderkiller/ML2022/hw5_machine_translation/checkpoints/rnn/checkpoint97.pt\n",
            "2022-04-03 04:09:18 | INFO | hw5.seq2seq | end of epoch 97\n"
          ]
        },
        {
          "data": {
            "application/vnd.jupyter.widget-view+json": {
              "model_id": "4d78293988bf424583a4b5f1d336595b",
              "version_major": 2,
              "version_minor": 0
            },
            "text/plain": [
              "train epoch 98:   0%|          | 0/791 [00:00<?, ?it/s]"
            ]
          },
          "metadata": {},
          "output_type": "display_data"
        },
        {
          "name": "stdout",
          "output_type": "stream",
          "text": [
            "2022-04-03 04:10:43 | INFO | hw5.seq2seq | training loss: 4.2664\n",
            "2022-04-03 04:10:43 | INFO | hw5.seq2seq | begin validation\n"
          ]
        },
        {
          "data": {
            "application/vnd.jupyter.widget-view+json": {
              "model_id": "1047ee472c4345ae9efe4c1cbc93fcd9",
              "version_major": 2,
              "version_minor": 0
            },
            "text/plain": [
              "validation:   0%|          | 0/22 [00:00<?, ?it/s]"
            ]
          },
          "metadata": {},
          "output_type": "display_data"
        },
        {
          "name": "stdout",
          "output_type": "stream",
          "text": [
            "2022-04-03 04:11:08 | INFO | hw5.seq2seq | example source: the more i've seen and learned about our respective generations , the more i realize that we often don't trust each other enough to actually share our respective wisdom .\n",
            "2022-04-03 04:11:08 | INFO | hw5.seq2seq | example hypothesis: 越多 , 我了解到我們的尊重世代 , 我發現我們通常不相信彼此的尊重 。\n",
            "2022-04-03 04:11:08 | INFO | hw5.seq2seq | example reference: 關於我們各自的世代 , 當我看得越多且學得越多 , 我就越發現我們通常沒有給彼此足夠的信任 , 無法真正分享我們各自的智慧 。\n",
            "2022-04-03 04:11:08 | INFO | hw5.seq2seq | validation loss:\t4.0882\n",
            "2022-04-03 04:11:08 | INFO | hw5.seq2seq | BLEU = 16.73 52.9/27.0/14.5/8.2 (BP = 0.823 ratio = 0.837 hyp_len = 93615 ref_len = 111811)\n",
            "2022-04-03 04:11:08 | INFO | hw5.seq2seq | saved epoch checkpoint: /home/spiderkiller/ML2022/hw5_machine_translation/checkpoints/rnn/checkpoint98.pt\n",
            "2022-04-03 04:11:08 | INFO | hw5.seq2seq | end of epoch 98\n"
          ]
        },
        {
          "data": {
            "application/vnd.jupyter.widget-view+json": {
              "model_id": "5ed8a1d9e58146d985bc887f3a523c68",
              "version_major": 2,
              "version_minor": 0
            },
            "text/plain": [
              "train epoch 99:   0%|          | 0/791 [00:00<?, ?it/s]"
            ]
          },
          "metadata": {},
          "output_type": "display_data"
        },
        {
          "name": "stdout",
          "output_type": "stream",
          "text": [
            "2022-04-03 04:12:32 | INFO | hw5.seq2seq | training loss: 4.2632\n",
            "2022-04-03 04:12:32 | INFO | hw5.seq2seq | begin validation\n"
          ]
        },
        {
          "data": {
            "application/vnd.jupyter.widget-view+json": {
              "model_id": "00fd888df4cf4c0889fe59fa30bb5937",
              "version_major": 2,
              "version_minor": 0
            },
            "text/plain": [
              "validation:   0%|          | 0/22 [00:00<?, ?it/s]"
            ]
          },
          "metadata": {},
          "output_type": "display_data"
        },
        {
          "name": "stdout",
          "output_type": "stream",
          "text": [
            "2022-04-03 04:12:59 | INFO | hw5.seq2seq | example source: and we continue to build .\n",
            "2022-04-03 04:12:59 | INFO | hw5.seq2seq | example hypothesis: 我們繼續建造 。\n",
            "2022-04-03 04:12:59 | INFO | hw5.seq2seq | example reference: 而我們持續在發展 。\n",
            "2022-04-03 04:12:59 | INFO | hw5.seq2seq | validation loss:\t4.0796\n",
            "2022-04-03 04:12:59 | INFO | hw5.seq2seq | BLEU = 17.14 51.3/26.0/14.0/7.9 (BP = 0.876 ratio = 0.883 hyp_len = 98729 ref_len = 111811)\n",
            "2022-04-03 04:12:59 | INFO | hw5.seq2seq | saved epoch checkpoint: /home/spiderkiller/ML2022/hw5_machine_translation/checkpoints/rnn/checkpoint99.pt\n",
            "2022-04-03 04:12:59 | INFO | hw5.seq2seq | end of epoch 99\n"
          ]
        },
        {
          "data": {
            "application/vnd.jupyter.widget-view+json": {
              "model_id": "233ba155c667462da785b3a0da8c0023",
              "version_major": 2,
              "version_minor": 0
            },
            "text/plain": [
              "train epoch 100:   0%|          | 0/791 [00:00<?, ?it/s]"
            ]
          },
          "metadata": {},
          "output_type": "display_data"
        },
        {
          "name": "stdout",
          "output_type": "stream",
          "text": [
            "2022-04-03 04:14:24 | INFO | hw5.seq2seq | training loss: 4.2633\n",
            "2022-04-03 04:14:24 | INFO | hw5.seq2seq | begin validation\n"
          ]
        },
        {
          "data": {
            "application/vnd.jupyter.widget-view+json": {
              "model_id": "b45e509c712948249a44b7a06f2b4c4e",
              "version_major": 2,
              "version_minor": 0
            },
            "text/plain": [
              "validation:   0%|          | 0/22 [00:00<?, ?it/s]"
            ]
          },
          "metadata": {},
          "output_type": "display_data"
        },
        {
          "name": "stdout",
          "output_type": "stream",
          "text": [
            "2022-04-03 04:14:50 | INFO | hw5.seq2seq | example source: however , there is ample cause for hope .\n",
            "2022-04-03 04:14:50 | INFO | hw5.seq2seq | example hypothesis: 然而 , 還有希望 。\n",
            "2022-04-03 04:14:50 | INFO | hw5.seq2seq | example reference: 然而還是有足夠的理由可以盼望\n",
            "2022-04-03 04:14:50 | INFO | hw5.seq2seq | validation loss:\t4.1029\n",
            "2022-04-03 04:14:50 | INFO | hw5.seq2seq | BLEU = 16.68 52.7/26.9/14.4/8.1 (BP = 0.827 ratio = 0.840 hyp_len = 93951 ref_len = 111811)\n",
            "2022-04-03 04:14:50 | INFO | hw5.seq2seq | saved epoch checkpoint: /home/spiderkiller/ML2022/hw5_machine_translation/checkpoints/rnn/checkpoint100.pt\n",
            "2022-04-03 04:14:50 | INFO | hw5.seq2seq | end of epoch 100\n"
          ]
        },
        {
          "data": {
            "application/vnd.jupyter.widget-view+json": {
              "model_id": "ffd65f73805d47f7b9ac9aeff0d28e98",
              "version_major": 2,
              "version_minor": 0
            },
            "text/plain": [
              "train epoch 101:   0%|          | 0/791 [00:00<?, ?it/s]"
            ]
          },
          "metadata": {},
          "output_type": "display_data"
        },
        {
          "name": "stdout",
          "output_type": "stream",
          "text": [
            "2022-04-03 04:16:18 | INFO | hw5.seq2seq | training loss: 4.2621\n",
            "2022-04-03 04:16:18 | INFO | hw5.seq2seq | begin validation\n"
          ]
        },
        {
          "data": {
            "application/vnd.jupyter.widget-view+json": {
              "model_id": "61b5f2d2dbd64a1d88bb7942426f6f18",
              "version_major": 2,
              "version_minor": 0
            },
            "text/plain": [
              "validation:   0%|          | 0/22 [00:00<?, ?it/s]"
            ]
          },
          "metadata": {},
          "output_type": "display_data"
        },
        {
          "name": "stdout",
          "output_type": "stream",
          "text": [
            "2022-04-03 04:16:46 | INFO | hw5.seq2seq | example source: and in fact , i think we're even wrong when we talk about cancer as a thing .\n",
            "2022-04-03 04:16:46 | INFO | hw5.seq2seq | example hypothesis: 事實上 , 我認為我們在談癌症時 , 我們甚至錯了 。\n",
            "2022-04-03 04:16:46 | INFO | hw5.seq2seq | example reference: 事實上 , 我認為我們把癌症當作 \" 一個東西 \" 這個看法本身就有問題 。\n",
            "2022-04-03 04:16:46 | INFO | hw5.seq2seq | validation loss:\t4.0928\n",
            "2022-04-03 04:16:46 | INFO | hw5.seq2seq | BLEU = 16.67 52.4/26.7/14.4/8.1 (BP = 0.828 ratio = 0.841 hyp_len = 94087 ref_len = 111811)\n",
            "2022-04-03 04:16:46 | INFO | hw5.seq2seq | saved epoch checkpoint: /home/spiderkiller/ML2022/hw5_machine_translation/checkpoints/rnn/checkpoint101.pt\n",
            "2022-04-03 04:16:46 | INFO | hw5.seq2seq | end of epoch 101\n"
          ]
        },
        {
          "data": {
            "application/vnd.jupyter.widget-view+json": {
              "model_id": "b8e8f4740d4b4c1da69e8396afa98472",
              "version_major": 2,
              "version_minor": 0
            },
            "text/plain": [
              "train epoch 102:   0%|          | 0/791 [00:00<?, ?it/s]"
            ]
          },
          "metadata": {},
          "output_type": "display_data"
        },
        {
          "name": "stdout",
          "output_type": "stream",
          "text": [
            "2022-04-03 04:18:12 | INFO | hw5.seq2seq | training loss: 4.2622\n",
            "2022-04-03 04:18:12 | INFO | hw5.seq2seq | begin validation\n"
          ]
        },
        {
          "data": {
            "application/vnd.jupyter.widget-view+json": {
              "model_id": "89fd42c551724990a133a9a3cea54179",
              "version_major": 2,
              "version_minor": 0
            },
            "text/plain": [
              "validation:   0%|          | 0/22 [00:00<?, ?it/s]"
            ]
          },
          "metadata": {},
          "output_type": "display_data"
        },
        {
          "name": "stdout",
          "output_type": "stream",
          "text": [
            "2022-04-03 04:18:38 | INFO | hw5.seq2seq | example source: there was no way they could win .\n",
            "2022-04-03 04:18:38 | INFO | hw5.seq2seq | example hypothesis: 他們沒有辦法贏得 。\n",
            "2022-04-03 04:18:38 | INFO | hw5.seq2seq | example reference: 他們是不可能贏的\n",
            "2022-04-03 04:18:38 | INFO | hw5.seq2seq | validation loss:\t4.0840\n",
            "2022-04-03 04:18:38 | INFO | hw5.seq2seq | BLEU = 17.14 51.2/26.0/14.0/7.9 (BP = 0.876 ratio = 0.883 hyp_len = 98714 ref_len = 111811)\n",
            "2022-04-03 04:18:38 | INFO | hw5.seq2seq | saved epoch checkpoint: /home/spiderkiller/ML2022/hw5_machine_translation/checkpoints/rnn/checkpoint102.pt\n",
            "2022-04-03 04:18:38 | INFO | hw5.seq2seq | end of epoch 102\n"
          ]
        },
        {
          "data": {
            "application/vnd.jupyter.widget-view+json": {
              "model_id": "82fd98a437c045d590f7674677921b00",
              "version_major": 2,
              "version_minor": 0
            },
            "text/plain": [
              "train epoch 103:   0%|          | 0/791 [00:00<?, ?it/s]"
            ]
          },
          "metadata": {},
          "output_type": "display_data"
        },
        {
          "name": "stdout",
          "output_type": "stream",
          "text": [
            "2022-04-03 04:20:03 | INFO | hw5.seq2seq | training loss: 4.2616\n",
            "2022-04-03 04:20:03 | INFO | hw5.seq2seq | begin validation\n"
          ]
        },
        {
          "data": {
            "application/vnd.jupyter.widget-view+json": {
              "model_id": "53119b54ca374cefb58aba95b9704c2d",
              "version_major": 2,
              "version_minor": 0
            },
            "text/plain": [
              "validation:   0%|          | 0/22 [00:00<?, ?it/s]"
            ]
          },
          "metadata": {},
          "output_type": "display_data"
        },
        {
          "name": "stdout",
          "output_type": "stream",
          "text": [
            "2022-04-03 04:20:29 | INFO | hw5.seq2seq | example source: it's what we call , \" invest , connect and celebrate . \"\n",
            "2022-04-03 04:20:29 | INFO | hw5.seq2seq | example hypothesis: 這就是我們所謂的 「 投資 」 , 和 「 投資 」 。\n",
            "2022-04-03 04:20:29 | INFO | hw5.seq2seq | example reference: 也就是我們稱之為『投資 , 連結 , 發揚光大』\n",
            "2022-04-03 04:20:29 | INFO | hw5.seq2seq | validation loss:\t4.0825\n",
            "2022-04-03 04:20:29 | INFO | hw5.seq2seq | BLEU = 17.34 50.9/26.0/14.0/8.0 (BP = 0.885 ratio = 0.891 hyp_len = 99665 ref_len = 111811)\n",
            "2022-04-03 04:20:29 | INFO | hw5.seq2seq | saved epoch checkpoint: /home/spiderkiller/ML2022/hw5_machine_translation/checkpoints/rnn/checkpoint103.pt\n",
            "2022-04-03 04:20:29 | INFO | hw5.seq2seq | end of epoch 103\n"
          ]
        },
        {
          "data": {
            "application/vnd.jupyter.widget-view+json": {
              "model_id": "79d0b0cdf76a454f99e56222ee8098b3",
              "version_major": 2,
              "version_minor": 0
            },
            "text/plain": [
              "train epoch 104:   0%|          | 0/791 [00:00<?, ?it/s]"
            ]
          },
          "metadata": {},
          "output_type": "display_data"
        },
        {
          "name": "stdout",
          "output_type": "stream",
          "text": [
            "2022-04-03 04:21:55 | INFO | hw5.seq2seq | training loss: 4.2620\n",
            "2022-04-03 04:21:55 | INFO | hw5.seq2seq | begin validation\n"
          ]
        },
        {
          "data": {
            "application/vnd.jupyter.widget-view+json": {
              "model_id": "482601cb994e464881bbcf5c26c02d34",
              "version_major": 2,
              "version_minor": 0
            },
            "text/plain": [
              "validation:   0%|          | 0/22 [00:00<?, ?it/s]"
            ]
          },
          "metadata": {},
          "output_type": "display_data"
        },
        {
          "name": "stdout",
          "output_type": "stream",
          "text": [
            "2022-04-03 04:22:22 | INFO | hw5.seq2seq | example source: news sources plastered photos of me all over to sell newspapers , banner ads online , and to keep people tuned to the tv .\n",
            "2022-04-03 04:22:22 | INFO | hw5.seq2seq | example hypothesis: 新聞源自於我各地賣報紙、銀行、銀行帳戶、銀行帳戶、銀行帳戶、銀行帳戶 。\n",
            "2022-04-03 04:22:22 | INFO | hw5.seq2seq | example reference: 新聞消息來源到處張貼我的照片 , 賣給報紙、網路上的小廣告 , 讓大家繼續看電視 。\n",
            "2022-04-03 04:22:22 | INFO | hw5.seq2seq | validation loss:\t4.0820\n",
            "2022-04-03 04:22:22 | INFO | hw5.seq2seq | BLEU = 17.48 51.0/26.0/14.0/7.9 (BP = 0.893 ratio = 0.898 hyp_len = 100456 ref_len = 111811)\n",
            "2022-04-03 04:22:22 | INFO | hw5.seq2seq | saved epoch checkpoint: /home/spiderkiller/ML2022/hw5_machine_translation/checkpoints/rnn/checkpoint104.pt\n",
            "2022-04-03 04:22:22 | INFO | hw5.seq2seq | end of epoch 104\n"
          ]
        },
        {
          "data": {
            "application/vnd.jupyter.widget-view+json": {
              "model_id": "c3324bb9b6bb4138835cacbb45ccbee9",
              "version_major": 2,
              "version_minor": 0
            },
            "text/plain": [
              "train epoch 105:   0%|          | 0/791 [00:00<?, ?it/s]"
            ]
          },
          "metadata": {},
          "output_type": "display_data"
        },
        {
          "name": "stdout",
          "output_type": "stream",
          "text": [
            "2022-04-03 04:23:48 | INFO | hw5.seq2seq | training loss: 4.2597\n",
            "2022-04-03 04:23:48 | INFO | hw5.seq2seq | begin validation\n"
          ]
        },
        {
          "data": {
            "application/vnd.jupyter.widget-view+json": {
              "model_id": "5e9b40970de64d39ba70ac67d03c802a",
              "version_major": 2,
              "version_minor": 0
            },
            "text/plain": [
              "validation:   0%|          | 0/22 [00:00<?, ?it/s]"
            ]
          },
          "metadata": {},
          "output_type": "display_data"
        },
        {
          "name": "stdout",
          "output_type": "stream",
          "text": [
            "2022-04-03 04:24:14 | INFO | hw5.seq2seq | example source: so , that's just a rock in the hillside .\n",
            "2022-04-03 04:24:14 | INFO | hw5.seq2seq | example hypothesis: 所以 , 這只是在山丘上 。\n",
            "2022-04-03 04:24:14 | INFO | hw5.seq2seq | example reference: 像是山丘上的岩石\n",
            "2022-04-03 04:24:14 | INFO | hw5.seq2seq | validation loss:\t4.0752\n",
            "2022-04-03 04:24:14 | INFO | hw5.seq2seq | BLEU = 17.05 52.2/26.7/14.5/8.2 (BP = 0.846 ratio = 0.856 hyp_len = 95755 ref_len = 111811)\n",
            "2022-04-03 04:24:14 | INFO | hw5.seq2seq | saved epoch checkpoint: /home/spiderkiller/ML2022/hw5_machine_translation/checkpoints/rnn/checkpoint105.pt\n",
            "2022-04-03 04:24:14 | INFO | hw5.seq2seq | end of epoch 105\n"
          ]
        },
        {
          "data": {
            "application/vnd.jupyter.widget-view+json": {
              "model_id": "d2c70594c32941c0bc688e7f9fd6ce9a",
              "version_major": 2,
              "version_minor": 0
            },
            "text/plain": [
              "train epoch 106:   0%|          | 0/791 [00:00<?, ?it/s]"
            ]
          },
          "metadata": {},
          "output_type": "display_data"
        },
        {
          "name": "stdout",
          "output_type": "stream",
          "text": [
            "2022-04-03 04:25:39 | INFO | hw5.seq2seq | training loss: 4.2606\n",
            "2022-04-03 04:25:39 | INFO | hw5.seq2seq | begin validation\n"
          ]
        },
        {
          "data": {
            "application/vnd.jupyter.widget-view+json": {
              "model_id": "6943582750314f569cda8b7c70982e23",
              "version_major": 2,
              "version_minor": 0
            },
            "text/plain": [
              "validation:   0%|          | 0/22 [00:00<?, ?it/s]"
            ]
          },
          "metadata": {},
          "output_type": "display_data"
        },
        {
          "name": "stdout",
          "output_type": "stream",
          "text": [
            "2022-04-03 04:26:02 | INFO | hw5.seq2seq | example source: until we live in a society where every human is assured dignity in their labor so that they can work to live well , not only work to survive , there will always be an element of those who seek the open road as a means of escape , of liberation and , of course , of rebellion .\n",
            "2022-04-03 04:26:02 | INFO | hw5.seq2seq | example hypothesis: 直到我們生活在一個社會中 , 每一個人都被困在他們的勞動 , 不僅適合生活的重要性 , 不僅是為了存活下來的基礎 。\n",
            "2022-04-03 04:26:02 | INFO | hw5.seq2seq | example reference: 直到我們居住在一種人人的勞動都保有尊嚴的社會 , 他們能靠工作讓生活過得更好 , 不只是為了存活而工作 , 屆時 , 永遠都會有一群人將追尋開闊的道路做為一種逃離、解放 , 當然 , 還有反抗的方式 。\n",
            "2022-04-03 04:26:02 | INFO | hw5.seq2seq | validation loss:\t4.0911\n",
            "2022-04-03 04:26:02 | INFO | hw5.seq2seq | BLEU = 16.22 52.9/27.0/14.5/8.2 (BP = 0.800 ratio = 0.818 hyp_len = 91412 ref_len = 111811)\n",
            "2022-04-03 04:26:02 | INFO | hw5.seq2seq | saved epoch checkpoint: /home/spiderkiller/ML2022/hw5_machine_translation/checkpoints/rnn/checkpoint106.pt\n",
            "2022-04-03 04:26:02 | INFO | hw5.seq2seq | end of epoch 106\n"
          ]
        },
        {
          "data": {
            "application/vnd.jupyter.widget-view+json": {
              "model_id": "ff8ead77d78b46caaa9455b81f66d375",
              "version_major": 2,
              "version_minor": 0
            },
            "text/plain": [
              "train epoch 107:   0%|          | 0/791 [00:00<?, ?it/s]"
            ]
          },
          "metadata": {},
          "output_type": "display_data"
        },
        {
          "name": "stdout",
          "output_type": "stream",
          "text": [
            "2022-04-03 04:27:31 | INFO | hw5.seq2seq | training loss: 4.2607\n",
            "2022-04-03 04:27:31 | INFO | hw5.seq2seq | begin validation\n"
          ]
        },
        {
          "data": {
            "application/vnd.jupyter.widget-view+json": {
              "model_id": "4154268818ed4a72a9201259c51bf508",
              "version_major": 2,
              "version_minor": 0
            },
            "text/plain": [
              "validation:   0%|          | 0/22 [00:00<?, ?it/s]"
            ]
          },
          "metadata": {},
          "output_type": "display_data"
        },
        {
          "name": "stdout",
          "output_type": "stream",
          "text": [
            "2022-04-03 04:27:59 | INFO | hw5.seq2seq | example source: so as i was saying , 72 percent of our country is under forest cover , and all that forest is pristine .\n",
            "2022-04-03 04:27:59 | INFO | hw5.seq2seq | example hypothesis: 所以當我所說的 , 72%的森林是森林 。\n",
            "2022-04-03 04:27:59 | INFO | hw5.seq2seq | example reference: 所以 , 就如我所說的 , 我們國家的森林覆蓋率為72% , 所有的森林都是原始森林 。\n",
            "2022-04-03 04:27:59 | INFO | hw5.seq2seq | validation loss:\t4.0871\n",
            "2022-04-03 04:27:59 | INFO | hw5.seq2seq | BLEU = 17.27 51.9/26.5/14.3/8.1 (BP = 0.863 ratio = 0.872 hyp_len = 97498 ref_len = 111811)\n",
            "2022-04-03 04:27:59 | INFO | hw5.seq2seq | saved epoch checkpoint: /home/spiderkiller/ML2022/hw5_machine_translation/checkpoints/rnn/checkpoint107.pt\n",
            "2022-04-03 04:27:59 | INFO | hw5.seq2seq | end of epoch 107\n"
          ]
        },
        {
          "data": {
            "application/vnd.jupyter.widget-view+json": {
              "model_id": "dcd857982757440cbbbf317eb458e3a3",
              "version_major": 2,
              "version_minor": 0
            },
            "text/plain": [
              "train epoch 108:   0%|          | 0/791 [00:00<?, ?it/s]"
            ]
          },
          "metadata": {},
          "output_type": "display_data"
        },
        {
          "name": "stdout",
          "output_type": "stream",
          "text": [
            "2022-04-03 04:29:24 | INFO | hw5.seq2seq | training loss: 4.2594\n",
            "2022-04-03 04:29:24 | INFO | hw5.seq2seq | begin validation\n"
          ]
        },
        {
          "data": {
            "application/vnd.jupyter.widget-view+json": {
              "model_id": "26d68db5943049aeb371441d65ff8d17",
              "version_major": 2,
              "version_minor": 0
            },
            "text/plain": [
              "validation:   0%|          | 0/22 [00:00<?, ?it/s]"
            ]
          },
          "metadata": {},
          "output_type": "display_data"
        },
        {
          "name": "stdout",
          "output_type": "stream",
          "text": [
            "2022-04-03 04:29:50 | INFO | hw5.seq2seq | example source: luckily , we were already moving in the opposite direction .\n",
            "2022-04-03 04:29:50 | INFO | hw5.seq2seq | example hypothesis: 幸運的是 , 我們已經搬進了相反的方向 。\n",
            "2022-04-03 04:29:50 | INFO | hw5.seq2seq | example reference: 很幸運地 , 我們正朝反方向移動 。\n",
            "2022-04-03 04:29:50 | INFO | hw5.seq2seq | validation loss:\t4.0838\n",
            "2022-04-03 04:29:50 | INFO | hw5.seq2seq | BLEU = 17.21 51.7/26.3/14.2/8.0 (BP = 0.868 ratio = 0.876 hyp_len = 97928 ref_len = 111811)\n",
            "2022-04-03 04:29:50 | INFO | hw5.seq2seq | saved epoch checkpoint: /home/spiderkiller/ML2022/hw5_machine_translation/checkpoints/rnn/checkpoint108.pt\n",
            "2022-04-03 04:29:50 | INFO | hw5.seq2seq | end of epoch 108\n"
          ]
        },
        {
          "data": {
            "application/vnd.jupyter.widget-view+json": {
              "model_id": "a1885143fe4c4ebea9bddb7751f63321",
              "version_major": 2,
              "version_minor": 0
            },
            "text/plain": [
              "train epoch 109:   0%|          | 0/791 [00:00<?, ?it/s]"
            ]
          },
          "metadata": {},
          "output_type": "display_data"
        },
        {
          "name": "stdout",
          "output_type": "stream",
          "text": [
            "2022-04-03 04:31:15 | INFO | hw5.seq2seq | training loss: 4.2598\n",
            "2022-04-03 04:31:15 | INFO | hw5.seq2seq | begin validation\n"
          ]
        },
        {
          "data": {
            "application/vnd.jupyter.widget-view+json": {
              "model_id": "6ddef1cdd3b74b589fb8e622f34b5a5d",
              "version_major": 2,
              "version_minor": 0
            },
            "text/plain": [
              "validation:   0%|          | 0/22 [00:00<?, ?it/s]"
            ]
          },
          "metadata": {},
          "output_type": "display_data"
        },
        {
          "name": "stdout",
          "output_type": "stream",
          "text": [
            "2022-04-03 04:31:41 | INFO | hw5.seq2seq | example source: and turned up the other way , the people who are retirement age goes up very , very fast , as the baby boomers get to retirement age .\n",
            "2022-04-03 04:31:41 | INFO | hw5.seq2seq | example hypothesis: 最後 , 回到另一方面 , 那些退休年齡的人們 , 很快 , 就像嬰兒底層的老年人會退休年齡 。\n",
            "2022-04-03 04:31:41 | INFO | hw5.seq2seq | example reference: 另一方面 , 隨著嬰兒潮一代逐步步入退休年齡 , 處於退休年齡的人將越來越多 。\n",
            "2022-04-03 04:31:41 | INFO | hw5.seq2seq | validation loss:\t4.0847\n",
            "2022-04-03 04:31:41 | INFO | hw5.seq2seq | BLEU = 17.23 52.0/26.5/14.3/8.1 (BP = 0.862 ratio = 0.871 hyp_len = 97384 ref_len = 111811)\n",
            "2022-04-03 04:31:41 | INFO | hw5.seq2seq | saved epoch checkpoint: /home/spiderkiller/ML2022/hw5_machine_translation/checkpoints/rnn/checkpoint109.pt\n",
            "2022-04-03 04:31:41 | INFO | hw5.seq2seq | end of epoch 109\n"
          ]
        },
        {
          "data": {
            "application/vnd.jupyter.widget-view+json": {
              "model_id": "6228ba9e1ef3468a871966d911c6ea12",
              "version_major": 2,
              "version_minor": 0
            },
            "text/plain": [
              "train epoch 110:   0%|          | 0/791 [00:00<?, ?it/s]"
            ]
          },
          "metadata": {},
          "output_type": "display_data"
        },
        {
          "name": "stdout",
          "output_type": "stream",
          "text": [
            "2022-04-03 04:33:05 | INFO | hw5.seq2seq | training loss: 4.2592\n",
            "2022-04-03 04:33:05 | INFO | hw5.seq2seq | begin validation\n"
          ]
        },
        {
          "data": {
            "application/vnd.jupyter.widget-view+json": {
              "model_id": "541e5f77ed4d4964867c9c57b31af03f",
              "version_major": 2,
              "version_minor": 0
            },
            "text/plain": [
              "validation:   0%|          | 0/22 [00:00<?, ?it/s]"
            ]
          },
          "metadata": {},
          "output_type": "display_data"
        },
        {
          "name": "stdout",
          "output_type": "stream",
          "text": [
            "2022-04-03 04:33:32 | INFO | hw5.seq2seq | example source: unlike the balancing pole , i did not include the mathematical model of the glass in the system .\n",
            "2022-04-03 04:33:32 | INFO | hw5.seq2seq | example hypothesis: 不像銀河一樣 , 我不包括這個系統中的數學模型 。\n",
            "2022-04-03 04:33:32 | INFO | hw5.seq2seq | example reference: 不像平衡桿 , 我並未把玻璃杯的數學模型加到系統裡\n",
            "2022-04-03 04:33:32 | INFO | hw5.seq2seq | validation loss:\t4.0725\n",
            "2022-04-03 04:33:32 | INFO | hw5.seq2seq | BLEU = 17.67 50.8/25.8/14.0/8.0 (BP = 0.904 ratio = 0.908 hyp_len = 101550 ref_len = 111811)\n",
            "2022-04-03 04:33:32 | INFO | hw5.seq2seq | saved epoch checkpoint: /home/spiderkiller/ML2022/hw5_machine_translation/checkpoints/rnn/checkpoint110.pt\n",
            "2022-04-03 04:33:32 | INFO | hw5.seq2seq | end of epoch 110\n"
          ]
        },
        {
          "data": {
            "application/vnd.jupyter.widget-view+json": {
              "model_id": "768c930c278f449fae551dc1b615ad7a",
              "version_major": 2,
              "version_minor": 0
            },
            "text/plain": [
              "train epoch 111:   0%|          | 0/791 [00:00<?, ?it/s]"
            ]
          },
          "metadata": {},
          "output_type": "display_data"
        },
        {
          "name": "stdout",
          "output_type": "stream",
          "text": [
            "2022-04-03 04:34:58 | INFO | hw5.seq2seq | training loss: 4.2584\n",
            "2022-04-03 04:34:58 | INFO | hw5.seq2seq | begin validation\n"
          ]
        },
        {
          "data": {
            "application/vnd.jupyter.widget-view+json": {
              "model_id": "357dc21cc8994b4191dee3b3274292f1",
              "version_major": 2,
              "version_minor": 0
            },
            "text/plain": [
              "validation:   0%|          | 0/22 [00:00<?, ?it/s]"
            ]
          },
          "metadata": {},
          "output_type": "display_data"
        },
        {
          "name": "stdout",
          "output_type": "stream",
          "text": [
            "2022-04-03 04:35:21 | INFO | hw5.seq2seq | example source: the report was titled , \" india: the story you never wanted to hear . \"\n",
            "2022-04-03 04:35:21 | INFO | hw5.seq2seq | example hypothesis: 報告是: 「 印度:你從來沒有想聽 。 」\n",
            "2022-04-03 04:35:21 | INFO | hw5.seq2seq | example reference: 新聞的標題是 「 印度:你絕不會想聽的故事 」 。\n",
            "2022-04-03 04:35:21 | INFO | hw5.seq2seq | validation loss:\t4.0824\n",
            "2022-04-03 04:35:21 | INFO | hw5.seq2seq | BLEU = 17.00 52.1/26.6/14.3/8.1 (BP = 0.849 ratio = 0.859 hyp_len = 96098 ref_len = 111811)\n",
            "2022-04-03 04:35:21 | INFO | hw5.seq2seq | saved epoch checkpoint: /home/spiderkiller/ML2022/hw5_machine_translation/checkpoints/rnn/checkpoint111.pt\n",
            "2022-04-03 04:35:21 | INFO | hw5.seq2seq | end of epoch 111\n"
          ]
        },
        {
          "data": {
            "application/vnd.jupyter.widget-view+json": {
              "model_id": "8218772b351f4c778db010894cf6f8a3",
              "version_major": 2,
              "version_minor": 0
            },
            "text/plain": [
              "train epoch 112:   0%|          | 0/791 [00:00<?, ?it/s]"
            ]
          },
          "metadata": {},
          "output_type": "display_data"
        },
        {
          "name": "stdout",
          "output_type": "stream",
          "text": [
            "2022-04-03 04:36:47 | INFO | hw5.seq2seq | training loss: 4.2578\n",
            "2022-04-03 04:36:47 | INFO | hw5.seq2seq | begin validation\n"
          ]
        },
        {
          "data": {
            "application/vnd.jupyter.widget-view+json": {
              "model_id": "813c7371cad64d1f868a807f1c2d7cde",
              "version_major": 2,
              "version_minor": 0
            },
            "text/plain": [
              "validation:   0%|          | 0/22 [00:00<?, ?it/s]"
            ]
          },
          "metadata": {},
          "output_type": "display_data"
        },
        {
          "name": "stdout",
          "output_type": "stream",
          "text": [
            "2022-04-03 04:37:13 | INFO | hw5.seq2seq | example source: and they've thought , \" oh , what a horrible religion that is , which ordains something like that . \"\n",
            "2022-04-03 04:37:13 | INFO | hw5.seq2seq | example hypothesis: 他們心想: 「 喔 , 什麼是可怕的宗教宗宗教 。 」\n",
            "2022-04-03 04:37:13 | INFO | hw5.seq2seq | example reference: 西方人會想 , \" 天啊 , 伊斯蘭教太恐怖了 , 居然教教徒們做這種事情\n",
            "2022-04-03 04:37:13 | INFO | hw5.seq2seq | validation loss:\t4.0763\n",
            "2022-04-03 04:37:13 | INFO | hw5.seq2seq | BLEU = 17.57 50.9/26.0/14.0/8.0 (BP = 0.896 ratio = 0.901 hyp_len = 100757 ref_len = 111811)\n",
            "2022-04-03 04:37:14 | INFO | hw5.seq2seq | saved epoch checkpoint: /home/spiderkiller/ML2022/hw5_machine_translation/checkpoints/rnn/checkpoint112.pt\n",
            "2022-04-03 04:37:14 | INFO | hw5.seq2seq | end of epoch 112\n"
          ]
        },
        {
          "data": {
            "application/vnd.jupyter.widget-view+json": {
              "model_id": "5346c1e6bf3e4567aa67e797558dbadb",
              "version_major": 2,
              "version_minor": 0
            },
            "text/plain": [
              "train epoch 113:   0%|          | 0/791 [00:00<?, ?it/s]"
            ]
          },
          "metadata": {},
          "output_type": "display_data"
        },
        {
          "name": "stdout",
          "output_type": "stream",
          "text": [
            "2022-04-03 04:38:42 | INFO | hw5.seq2seq | training loss: 4.2562\n",
            "2022-04-03 04:38:42 | INFO | hw5.seq2seq | begin validation\n"
          ]
        },
        {
          "data": {
            "application/vnd.jupyter.widget-view+json": {
              "model_id": "cafef7ffba414d5f9681e990c9b732ac",
              "version_major": 2,
              "version_minor": 0
            },
            "text/plain": [
              "validation:   0%|          | 0/22 [00:00<?, ?it/s]"
            ]
          },
          "metadata": {},
          "output_type": "display_data"
        },
        {
          "name": "stdout",
          "output_type": "stream",
          "text": [
            "2022-04-03 04:39:12 | INFO | hw5.seq2seq | example source: to face those challenges , we need new tools of measurement , new ways of valuing progress .\n",
            "2022-04-03 04:39:12 | INFO | hw5.seq2seq | example hypothesis: 要面對這些挑戰 , 我們需要新工具、新工具的新工具 。\n",
            "2022-04-03 04:39:12 | INFO | hw5.seq2seq | example reference: 要面對這些挑戰 , 我們需要新的尺度工具 , 新的評價機制 。\n",
            "2022-04-03 04:39:12 | INFO | hw5.seq2seq | validation loss:\t4.0884\n",
            "2022-04-03 04:39:12 | INFO | hw5.seq2seq | BLEU = 16.95 52.4/26.8/14.4/8.2 (BP = 0.840 ratio = 0.851 hyp_len = 95199 ref_len = 111811)\n",
            "2022-04-03 04:39:12 | INFO | hw5.seq2seq | saved epoch checkpoint: /home/spiderkiller/ML2022/hw5_machine_translation/checkpoints/rnn/checkpoint113.pt\n",
            "2022-04-03 04:39:12 | INFO | hw5.seq2seq | end of epoch 113\n"
          ]
        },
        {
          "data": {
            "application/vnd.jupyter.widget-view+json": {
              "model_id": "ea25a8bb935e4fa9b18614088146d10a",
              "version_major": 2,
              "version_minor": 0
            },
            "text/plain": [
              "train epoch 114:   0%|          | 0/791 [00:00<?, ?it/s]"
            ]
          },
          "metadata": {},
          "output_type": "display_data"
        },
        {
          "name": "stdout",
          "output_type": "stream",
          "text": [
            "2022-04-03 04:40:38 | INFO | hw5.seq2seq | training loss: 4.2571\n",
            "2022-04-03 04:40:38 | INFO | hw5.seq2seq | begin validation\n"
          ]
        },
        {
          "data": {
            "application/vnd.jupyter.widget-view+json": {
              "model_id": "5a365c45d920485da56ed03be85c0314",
              "version_major": 2,
              "version_minor": 0
            },
            "text/plain": [
              "validation:   0%|          | 0/22 [00:00<?, ?it/s]"
            ]
          },
          "metadata": {},
          "output_type": "display_data"
        },
        {
          "name": "stdout",
          "output_type": "stream",
          "text": [
            "2022-04-03 04:41:04 | INFO | hw5.seq2seq | example source: try and build a political settlement first .\n",
            "2022-04-03 04:41:04 | INFO | hw5.seq2seq | example hypothesis: 試圖建造一個政治設置 。\n",
            "2022-04-03 04:41:04 | INFO | hw5.seq2seq | example reference: 即應該先試著從政治角度解決 。\n",
            "2022-04-03 04:41:04 | INFO | hw5.seq2seq | validation loss:\t4.0832\n",
            "2022-04-03 04:41:04 | INFO | hw5.seq2seq | BLEU = 17.30 51.7/26.4/14.2/8.1 (BP = 0.869 ratio = 0.877 hyp_len = 98084 ref_len = 111811)\n",
            "2022-04-03 04:41:04 | INFO | hw5.seq2seq | saved epoch checkpoint: /home/spiderkiller/ML2022/hw5_machine_translation/checkpoints/rnn/checkpoint114.pt\n",
            "2022-04-03 04:41:04 | INFO | hw5.seq2seq | end of epoch 114\n"
          ]
        },
        {
          "data": {
            "application/vnd.jupyter.widget-view+json": {
              "model_id": "b0bc0d0e2b154a9bb8d8963e2895b569",
              "version_major": 2,
              "version_minor": 0
            },
            "text/plain": [
              "train epoch 115:   0%|          | 0/791 [00:00<?, ?it/s]"
            ]
          },
          "metadata": {},
          "output_type": "display_data"
        },
        {
          "name": "stdout",
          "output_type": "stream",
          "text": [
            "2022-04-03 04:42:30 | INFO | hw5.seq2seq | training loss: 4.2541\n",
            "2022-04-03 04:42:30 | INFO | hw5.seq2seq | begin validation\n"
          ]
        },
        {
          "data": {
            "application/vnd.jupyter.widget-view+json": {
              "model_id": "e32884df7825448f982203cdb19bf24f",
              "version_major": 2,
              "version_minor": 0
            },
            "text/plain": [
              "validation:   0%|          | 0/22 [00:00<?, ?it/s]"
            ]
          },
          "metadata": {},
          "output_type": "display_data"
        },
        {
          "name": "stdout",
          "output_type": "stream",
          "text": [
            "2022-04-03 04:42:56 | INFO | hw5.seq2seq | example source: those endocannabinoids travel backward to influence the sending neuron— essentially giving it feedback from the receiving neuron .\n",
            "2022-04-03 04:42:56 | INFO | hw5.seq2seq | example hypothesis: 這些偶爾回來影響神經元的回饋 , 基本上是提供神經元回饋神經元的反應 。\n",
            "2022-04-03 04:42:56 | INFO | hw5.seq2seq | example reference: 那些內源性大麻素會反向移動 , 去影響到發送訊息的神經元基本上 , 是給它來自接收神經元的回饋資訊 。\n",
            "2022-04-03 04:42:56 | INFO | hw5.seq2seq | validation loss:\t4.0816\n",
            "2022-04-03 04:42:56 | INFO | hw5.seq2seq | BLEU = 17.14 51.8/26.3/14.2/8.0 (BP = 0.864 ratio = 0.872 hyp_len = 97518 ref_len = 111811)\n",
            "2022-04-03 04:42:56 | INFO | hw5.seq2seq | saved epoch checkpoint: /home/spiderkiller/ML2022/hw5_machine_translation/checkpoints/rnn/checkpoint115.pt\n",
            "2022-04-03 04:42:56 | INFO | hw5.seq2seq | end of epoch 115\n"
          ]
        },
        {
          "data": {
            "application/vnd.jupyter.widget-view+json": {
              "model_id": "9564c0281bd8484f86c7952a77730425",
              "version_major": 2,
              "version_minor": 0
            },
            "text/plain": [
              "train epoch 116:   0%|          | 0/791 [00:00<?, ?it/s]"
            ]
          },
          "metadata": {},
          "output_type": "display_data"
        },
        {
          "name": "stdout",
          "output_type": "stream",
          "text": [
            "2022-04-03 04:44:21 | INFO | hw5.seq2seq | training loss: 4.2545\n",
            "2022-04-03 04:44:21 | INFO | hw5.seq2seq | begin validation\n"
          ]
        },
        {
          "data": {
            "application/vnd.jupyter.widget-view+json": {
              "model_id": "963e5dcc6b29407bbb75e88ffb3a10e1",
              "version_major": 2,
              "version_minor": 0
            },
            "text/plain": [
              "validation:   0%|          | 0/22 [00:00<?, ?it/s]"
            ]
          },
          "metadata": {},
          "output_type": "display_data"
        },
        {
          "name": "stdout",
          "output_type": "stream",
          "text": [
            "2022-04-03 04:44:46 | INFO | hw5.seq2seq | example source: this one disguises itself as floating algae .\n",
            "2022-04-03 04:44:46 | INFO | hw5.seq2seq | example hypothesis: 這張圖本身就像在浮游藻類中 。\n",
            "2022-04-03 04:44:46 | INFO | hw5.seq2seq | example reference: 這一只將自己偽裝成浮動的海藻 。\n",
            "2022-04-03 04:44:46 | INFO | hw5.seq2seq | validation loss:\t4.0760\n",
            "2022-04-03 04:44:46 | INFO | hw5.seq2seq | BLEU = 17.50 51.5/26.3/14.2/8.1 (BP = 0.882 ratio = 0.889 hyp_len = 99380 ref_len = 111811)\n",
            "2022-04-03 04:44:46 | INFO | hw5.seq2seq | saved epoch checkpoint: /home/spiderkiller/ML2022/hw5_machine_translation/checkpoints/rnn/checkpoint116.pt\n",
            "2022-04-03 04:44:46 | INFO | hw5.seq2seq | end of epoch 116\n"
          ]
        },
        {
          "data": {
            "application/vnd.jupyter.widget-view+json": {
              "model_id": "d13e3da9033148328d8fe3a552eb4b20",
              "version_major": 2,
              "version_minor": 0
            },
            "text/plain": [
              "train epoch 117:   0%|          | 0/791 [00:00<?, ?it/s]"
            ]
          },
          "metadata": {},
          "output_type": "display_data"
        },
        {
          "name": "stdout",
          "output_type": "stream",
          "text": [
            "2022-04-03 04:46:12 | INFO | hw5.seq2seq | training loss: 4.2563\n",
            "2022-04-03 04:46:12 | INFO | hw5.seq2seq | begin validation\n"
          ]
        },
        {
          "data": {
            "application/vnd.jupyter.widget-view+json": {
              "model_id": "ba47052312614f889ad5a29416adfde5",
              "version_major": 2,
              "version_minor": 0
            },
            "text/plain": [
              "validation:   0%|          | 0/22 [00:00<?, ?it/s]"
            ]
          },
          "metadata": {},
          "output_type": "display_data"
        },
        {
          "name": "stdout",
          "output_type": "stream",
          "text": [
            "2022-04-03 04:46:38 | INFO | hw5.seq2seq | example source: these are all things that ended up not making it into the final machine .\n",
            "2022-04-03 04:46:38 | INFO | hw5.seq2seq | example hypothesis: 這些都是最終的機器 , 最終不會讓它變成最後的機器 。\n",
            "2022-04-03 04:46:38 | INFO | hw5.seq2seq | example reference: 要順利完成這台裝置必須要取捨一些東西\n",
            "2022-04-03 04:46:38 | INFO | hw5.seq2seq | validation loss:\t4.0731\n",
            "2022-04-03 04:46:38 | INFO | hw5.seq2seq | BLEU = 17.54 51.2/26.0/14.0/8.0 (BP = 0.893 ratio = 0.899 hyp_len = 100469 ref_len = 111811)\n",
            "2022-04-03 04:46:38 | INFO | hw5.seq2seq | saved epoch checkpoint: /home/spiderkiller/ML2022/hw5_machine_translation/checkpoints/rnn/checkpoint117.pt\n",
            "2022-04-03 04:46:38 | INFO | hw5.seq2seq | end of epoch 117\n"
          ]
        },
        {
          "data": {
            "application/vnd.jupyter.widget-view+json": {
              "model_id": "747f95aec5664909af6d9f7e92ae5a18",
              "version_major": 2,
              "version_minor": 0
            },
            "text/plain": [
              "train epoch 118:   0%|          | 0/791 [00:00<?, ?it/s]"
            ]
          },
          "metadata": {},
          "output_type": "display_data"
        },
        {
          "name": "stdout",
          "output_type": "stream",
          "text": [
            "2022-04-03 04:48:04 | INFO | hw5.seq2seq | training loss: 4.2542\n",
            "2022-04-03 04:48:04 | INFO | hw5.seq2seq | begin validation\n"
          ]
        },
        {
          "data": {
            "application/vnd.jupyter.widget-view+json": {
              "model_id": "31b305e46daf498793985b139b5176fa",
              "version_major": 2,
              "version_minor": 0
            },
            "text/plain": [
              "validation:   0%|          | 0/22 [00:00<?, ?it/s]"
            ]
          },
          "metadata": {},
          "output_type": "display_data"
        },
        {
          "name": "stdout",
          "output_type": "stream",
          "text": [
            "2022-04-03 04:48:30 | INFO | hw5.seq2seq | example source: well , what did i do when i was a kid ?\n",
            "2022-04-03 04:48:30 | INFO | hw5.seq2seq | example hypothesis: 當我還是小時候的時候 , 我怎麼做 ?\n",
            "2022-04-03 04:48:30 | INFO | hw5.seq2seq | example reference: 那麼我小時候都在做什麼呢 ?\n",
            "2022-04-03 04:48:30 | INFO | hw5.seq2seq | validation loss:\t4.0802\n",
            "2022-04-03 04:48:30 | INFO | hw5.seq2seq | BLEU = 17.44 51.7/26.4/14.3/8.1 (BP = 0.874 ratio = 0.881 hyp_len = 98545 ref_len = 111811)\n",
            "2022-04-03 04:48:30 | INFO | hw5.seq2seq | saved epoch checkpoint: /home/spiderkiller/ML2022/hw5_machine_translation/checkpoints/rnn/checkpoint118.pt\n",
            "2022-04-03 04:48:30 | INFO | hw5.seq2seq | end of epoch 118\n"
          ]
        },
        {
          "data": {
            "application/vnd.jupyter.widget-view+json": {
              "model_id": "75e447aece714830a6bfd0b1a5a2226d",
              "version_major": 2,
              "version_minor": 0
            },
            "text/plain": [
              "train epoch 119:   0%|          | 0/791 [00:00<?, ?it/s]"
            ]
          },
          "metadata": {},
          "output_type": "display_data"
        },
        {
          "name": "stdout",
          "output_type": "stream",
          "text": [
            "2022-04-03 04:49:55 | INFO | hw5.seq2seq | training loss: 4.2537\n",
            "2022-04-03 04:49:55 | INFO | hw5.seq2seq | begin validation\n"
          ]
        },
        {
          "data": {
            "application/vnd.jupyter.widget-view+json": {
              "model_id": "fe536810be9447b9a38d3d13f74d24bd",
              "version_major": 2,
              "version_minor": 0
            },
            "text/plain": [
              "validation:   0%|          | 0/22 [00:00<?, ?it/s]"
            ]
          },
          "metadata": {},
          "output_type": "display_data"
        },
        {
          "name": "stdout",
          "output_type": "stream",
          "text": [
            "2022-04-03 04:50:20 | INFO | hw5.seq2seq | example source: stereotypes have been broken .\n",
            "2022-04-03 04:50:20 | INFO | hw5.seq2seq | example hypothesis: 刻板印象已經破壞了 。\n",
            "2022-04-03 04:50:20 | INFO | hw5.seq2seq | example reference: 已向外蔓延 。 刻板印象已破除 ,\n",
            "2022-04-03 04:50:20 | INFO | hw5.seq2seq | validation loss:\t4.0890\n",
            "2022-04-03 04:50:20 | INFO | hw5.seq2seq | BLEU = 17.10 52.5/26.8/14.4/8.2 (BP = 0.847 ratio = 0.858 hyp_len = 95903 ref_len = 111811)\n",
            "2022-04-03 04:50:20 | INFO | hw5.seq2seq | saved epoch checkpoint: /home/spiderkiller/ML2022/hw5_machine_translation/checkpoints/rnn/checkpoint119.pt\n",
            "2022-04-03 04:50:20 | INFO | hw5.seq2seq | end of epoch 119\n"
          ]
        },
        {
          "data": {
            "application/vnd.jupyter.widget-view+json": {
              "model_id": "9fa135f029cc40b3a7f557089e1bc6c1",
              "version_major": 2,
              "version_minor": 0
            },
            "text/plain": [
              "train epoch 120:   0%|          | 0/791 [00:00<?, ?it/s]"
            ]
          },
          "metadata": {},
          "output_type": "display_data"
        },
        {
          "name": "stdout",
          "output_type": "stream",
          "text": [
            "2022-04-03 04:51:49 | INFO | hw5.seq2seq | training loss: 4.2518\n",
            "2022-04-03 04:51:49 | INFO | hw5.seq2seq | begin validation\n"
          ]
        },
        {
          "data": {
            "application/vnd.jupyter.widget-view+json": {
              "model_id": "1252a6e57582483bad87e2dad733086b",
              "version_major": 2,
              "version_minor": 0
            },
            "text/plain": [
              "validation:   0%|          | 0/22 [00:00<?, ?it/s]"
            ]
          },
          "metadata": {},
          "output_type": "display_data"
        },
        {
          "name": "stdout",
          "output_type": "stream",
          "text": [
            "2022-04-03 04:52:17 | INFO | hw5.seq2seq | example source: it's really just for the sort of joy of its own triviality .\n",
            "2022-04-03 04:52:17 | INFO | hw5.seq2seq | example hypothesis: 對於自己試驗的喜悅 。\n",
            "2022-04-03 04:52:17 | INFO | hw5.seq2seq | example reference: 真的只是爲了它本身細小而繁瑣的樂趣\n",
            "2022-04-03 04:52:17 | INFO | hw5.seq2seq | validation loss:\t4.0811\n",
            "2022-04-03 04:52:17 | INFO | hw5.seq2seq | BLEU = 16.94 52.4/26.8/14.4/8.1 (BP = 0.841 ratio = 0.852 hyp_len = 95280 ref_len = 111811)\n",
            "2022-04-03 04:52:17 | INFO | hw5.seq2seq | saved epoch checkpoint: /home/spiderkiller/ML2022/hw5_machine_translation/checkpoints/rnn/checkpoint120.pt\n",
            "2022-04-03 04:52:17 | INFO | hw5.seq2seq | end of epoch 120\n"
          ]
        },
        {
          "data": {
            "application/vnd.jupyter.widget-view+json": {
              "model_id": "80b10da74c0b477b9a406043f543c3d1",
              "version_major": 2,
              "version_minor": 0
            },
            "text/plain": [
              "train epoch 121:   0%|          | 0/791 [00:00<?, ?it/s]"
            ]
          },
          "metadata": {},
          "output_type": "display_data"
        },
        {
          "name": "stdout",
          "output_type": "stream",
          "text": [
            "2022-04-03 04:53:43 | INFO | hw5.seq2seq | training loss: 4.2549\n",
            "2022-04-03 04:53:43 | INFO | hw5.seq2seq | begin validation\n"
          ]
        },
        {
          "data": {
            "application/vnd.jupyter.widget-view+json": {
              "model_id": "cc735e69f8434ed48a52fcbca841592d",
              "version_major": 2,
              "version_minor": 0
            },
            "text/plain": [
              "validation:   0%|          | 0/22 [00:00<?, ?it/s]"
            ]
          },
          "metadata": {},
          "output_type": "display_data"
        },
        {
          "name": "stdout",
          "output_type": "stream",
          "text": [
            "2022-04-03 04:54:09 | INFO | hw5.seq2seq | example source: normally it's sort of cordoned off when it's in a museum .\n",
            "2022-04-03 04:54:09 | INFO | hw5.seq2seq | example hypothesis: 通常它是博物館裡的 。\n",
            "2022-04-03 04:54:09 | INFO | hw5.seq2seq | example reference: 一般情況下 , 在博物館裏都是放在封閉的展櫃中 。\n",
            "2022-04-03 04:54:09 | INFO | hw5.seq2seq | validation loss:\t4.0853\n",
            "2022-04-03 04:54:09 | INFO | hw5.seq2seq | BLEU = 17.04 52.1/26.6/14.4/8.2 (BP = 0.849 ratio = 0.859 hyp_len = 96044 ref_len = 111811)\n",
            "2022-04-03 04:54:09 | INFO | hw5.seq2seq | saved epoch checkpoint: /home/spiderkiller/ML2022/hw5_machine_translation/checkpoints/rnn/checkpoint121.pt\n",
            "2022-04-03 04:54:09 | INFO | hw5.seq2seq | end of epoch 121\n"
          ]
        },
        {
          "data": {
            "application/vnd.jupyter.widget-view+json": {
              "model_id": "b398cbc05a51496c9989238a8c33272d",
              "version_major": 2,
              "version_minor": 0
            },
            "text/plain": [
              "train epoch 122:   0%|          | 0/791 [00:00<?, ?it/s]"
            ]
          },
          "metadata": {},
          "output_type": "display_data"
        },
        {
          "name": "stdout",
          "output_type": "stream",
          "text": [
            "2022-04-03 04:55:35 | INFO | hw5.seq2seq | training loss: 4.2536\n",
            "2022-04-03 04:55:35 | INFO | hw5.seq2seq | begin validation\n"
          ]
        },
        {
          "data": {
            "application/vnd.jupyter.widget-view+json": {
              "model_id": "6dc47edd948143c1b441dd4362b776fc",
              "version_major": 2,
              "version_minor": 0
            },
            "text/plain": [
              "validation:   0%|          | 0/22 [00:00<?, ?it/s]"
            ]
          },
          "metadata": {},
          "output_type": "display_data"
        },
        {
          "name": "stdout",
          "output_type": "stream",
          "text": [
            "2022-04-03 04:56:01 | INFO | hw5.seq2seq | example source: but humans weren't always like this .\n",
            "2022-04-03 04:56:01 | INFO | hw5.seq2seq | example hypothesis: 但人類並不總是喜歡這樣的 。\n",
            "2022-04-03 04:56:01 | INFO | hw5.seq2seq | example reference: 但人類並不一直是這樣的\n",
            "2022-04-03 04:56:01 | INFO | hw5.seq2seq | validation loss:\t4.0842\n",
            "2022-04-03 04:56:01 | INFO | hw5.seq2seq | BLEU = 17.19 52.3/26.6/14.4/8.1 (BP = 0.856 ratio = 0.865 hyp_len = 96719 ref_len = 111811)\n",
            "2022-04-03 04:56:01 | INFO | hw5.seq2seq | saved epoch checkpoint: /home/spiderkiller/ML2022/hw5_machine_translation/checkpoints/rnn/checkpoint122.pt\n",
            "2022-04-03 04:56:01 | INFO | hw5.seq2seq | end of epoch 122\n"
          ]
        },
        {
          "data": {
            "application/vnd.jupyter.widget-view+json": {
              "model_id": "60f139fb2a904df1a9ec09daf46b7846",
              "version_major": 2,
              "version_minor": 0
            },
            "text/plain": [
              "train epoch 123:   0%|          | 0/791 [00:00<?, ?it/s]"
            ]
          },
          "metadata": {},
          "output_type": "display_data"
        },
        {
          "name": "stdout",
          "output_type": "stream",
          "text": [
            "2022-04-03 04:57:26 | INFO | hw5.seq2seq | training loss: 4.2519\n",
            "2022-04-03 04:57:26 | INFO | hw5.seq2seq | begin validation\n"
          ]
        },
        {
          "data": {
            "application/vnd.jupyter.widget-view+json": {
              "model_id": "448f257ae97b44aaa4e04a4e9b8c4977",
              "version_major": 2,
              "version_minor": 0
            },
            "text/plain": [
              "validation:   0%|          | 0/22 [00:00<?, ?it/s]"
            ]
          },
          "metadata": {},
          "output_type": "display_data"
        },
        {
          "name": "stdout",
          "output_type": "stream",
          "text": [
            "2022-04-03 04:57:52 | INFO | hw5.seq2seq | example source: the story , of course , is the rise of china .\n",
            "2022-04-03 04:57:52 | INFO | hw5.seq2seq | example hypothesis: 當然 , 這是中國的崛起 。\n",
            "2022-04-03 04:57:52 | INFO | hw5.seq2seq | example reference: 當然 , 這個故事就是中國的崛起 。\n",
            "2022-04-03 04:57:52 | INFO | hw5.seq2seq | validation loss:\t4.0937\n",
            "2022-04-03 04:57:52 | INFO | hw5.seq2seq | BLEU = 16.58 52.8/27.0/14.5/8.3 (BP = 0.815 ratio = 0.830 hyp_len = 92819 ref_len = 111811)\n",
            "2022-04-03 04:57:52 | INFO | hw5.seq2seq | saved epoch checkpoint: /home/spiderkiller/ML2022/hw5_machine_translation/checkpoints/rnn/checkpoint123.pt\n",
            "2022-04-03 04:57:52 | INFO | hw5.seq2seq | end of epoch 123\n"
          ]
        },
        {
          "data": {
            "application/vnd.jupyter.widget-view+json": {
              "model_id": "dcf3034d29874aa5a86777e89c68bb2c",
              "version_major": 2,
              "version_minor": 0
            },
            "text/plain": [
              "train epoch 124:   0%|          | 0/791 [00:00<?, ?it/s]"
            ]
          },
          "metadata": {},
          "output_type": "display_data"
        },
        {
          "name": "stdout",
          "output_type": "stream",
          "text": [
            "2022-04-03 04:59:18 | INFO | hw5.seq2seq | training loss: 4.2517\n",
            "2022-04-03 04:59:18 | INFO | hw5.seq2seq | begin validation\n"
          ]
        },
        {
          "data": {
            "application/vnd.jupyter.widget-view+json": {
              "model_id": "a480ede603be493dbd8645be23e9511a",
              "version_major": 2,
              "version_minor": 0
            },
            "text/plain": [
              "validation:   0%|          | 0/22 [00:00<?, ?it/s]"
            ]
          },
          "metadata": {},
          "output_type": "display_data"
        },
        {
          "name": "stdout",
          "output_type": "stream",
          "text": [
            "2022-04-03 04:59:45 | INFO | hw5.seq2seq | example source: they wouldn't have to come as asylum seekers to the borders of the united states of america .\n",
            "2022-04-03 04:59:45 | INFO | hw5.seq2seq | example hypothesis: 他們不需要像ylumlum尋求美國的邊界 。\n",
            "2022-04-03 04:59:45 | INFO | hw5.seq2seq | example reference: 他們就不用像尋求政治避難者一樣來到美國的邊境了 。\n",
            "2022-04-03 04:59:45 | INFO | hw5.seq2seq | validation loss:\t4.0696\n",
            "2022-04-03 04:59:45 | INFO | hw5.seq2seq | BLEU = 17.64 50.7/25.9/13.9/7.9 (BP = 0.905 ratio = 0.910 hyp_len = 101705 ref_len = 111811)\n",
            "2022-04-03 04:59:45 | INFO | hw5.seq2seq | saved epoch checkpoint: /home/spiderkiller/ML2022/hw5_machine_translation/checkpoints/rnn/checkpoint124.pt\n",
            "2022-04-03 04:59:45 | INFO | hw5.seq2seq | end of epoch 124\n"
          ]
        },
        {
          "data": {
            "application/vnd.jupyter.widget-view+json": {
              "model_id": "bb8e138af62b481d989e7eb9999f23a8",
              "version_major": 2,
              "version_minor": 0
            },
            "text/plain": [
              "train epoch 125:   0%|          | 0/791 [00:00<?, ?it/s]"
            ]
          },
          "metadata": {},
          "output_type": "display_data"
        },
        {
          "name": "stdout",
          "output_type": "stream",
          "text": [
            "2022-04-03 05:01:10 | INFO | hw5.seq2seq | training loss: 4.2506\n",
            "2022-04-03 05:01:10 | INFO | hw5.seq2seq | begin validation\n"
          ]
        },
        {
          "data": {
            "application/vnd.jupyter.widget-view+json": {
              "model_id": "e28052ea28454319b2fe82b55c87e4ad",
              "version_major": 2,
              "version_minor": 0
            },
            "text/plain": [
              "validation:   0%|          | 0/22 [00:00<?, ?it/s]"
            ]
          },
          "metadata": {},
          "output_type": "display_data"
        },
        {
          "name": "stdout",
          "output_type": "stream",
          "text": [
            "2022-04-03 05:01:36 | INFO | hw5.seq2seq | example source: and this means we've just cracked the conundrum of safety and weight .\n",
            "2022-04-03 05:01:36 | INFO | hw5.seq2seq | example hypothesis: 這意味著我們只是在安全和重重量的結構 。\n",
            "2022-04-03 05:01:36 | INFO | hw5.seq2seq | example reference: 這意味著我們剛剛破獲了安全和重量的難題 。\n",
            "2022-04-03 05:01:36 | INFO | hw5.seq2seq | validation loss:\t4.0787\n",
            "2022-04-03 05:01:36 | INFO | hw5.seq2seq | BLEU = 17.14 52.5/27.0/14.6/8.3 (BP = 0.843 ratio = 0.854 hyp_len = 95529 ref_len = 111811)\n",
            "2022-04-03 05:01:36 | INFO | hw5.seq2seq | saved epoch checkpoint: /home/spiderkiller/ML2022/hw5_machine_translation/checkpoints/rnn/checkpoint125.pt\n",
            "2022-04-03 05:01:36 | INFO | hw5.seq2seq | end of epoch 125\n"
          ]
        },
        {
          "data": {
            "application/vnd.jupyter.widget-view+json": {
              "model_id": "6a2361166ecd434a8d0315713d7eff1d",
              "version_major": 2,
              "version_minor": 0
            },
            "text/plain": [
              "train epoch 126:   0%|          | 0/791 [00:00<?, ?it/s]"
            ]
          },
          "metadata": {},
          "output_type": "display_data"
        },
        {
          "name": "stdout",
          "output_type": "stream",
          "text": [
            "2022-04-03 05:03:02 | INFO | hw5.seq2seq | training loss: 4.2494\n",
            "2022-04-03 05:03:02 | INFO | hw5.seq2seq | begin validation\n"
          ]
        },
        {
          "data": {
            "application/vnd.jupyter.widget-view+json": {
              "model_id": "617cac53a3764ac4a64f1d0632ad2a75",
              "version_major": 2,
              "version_minor": 0
            },
            "text/plain": [
              "validation:   0%|          | 0/22 [00:00<?, ?it/s]"
            ]
          },
          "metadata": {},
          "output_type": "display_data"
        },
        {
          "name": "stdout",
          "output_type": "stream",
          "text": [
            "2022-04-03 05:03:29 | INFO | hw5.seq2seq | example source: and with the help of modern science , cotton might soon be softer , stronger , and more resilient than ever as researchers investigate how to optimize its growth based on nutrients , weather conditions , and genetics .\n",
            "2022-04-03 05:03:29 | INFO | hw5.seq2seq | example hypothesis: 隨著現代科學的幫助 , 棉花的幫助 , 棉花、更強、更強、更強、更有效率地調整它的成長率 , 以及基因 。\n",
            "2022-04-03 05:03:29 | INFO | hw5.seq2seq | example reference: 在現代科學的協助下 , 棉可能很快就會變得比過去更軟、更堅固 , 且更有彈性 , 因為研究者正在根據營養物、氣候條件 , 以及遺傳學 , 探究如何將棉的生成做到最佳化 。\n",
            "2022-04-03 05:03:29 | INFO | hw5.seq2seq | validation loss:\t4.0721\n",
            "2022-04-03 05:03:29 | INFO | hw5.seq2seq | BLEU = 17.68 50.7/25.8/13.9/7.9 (BP = 0.909 ratio = 0.913 hyp_len = 102062 ref_len = 111811)\n",
            "2022-04-03 05:03:29 | INFO | hw5.seq2seq | saved epoch checkpoint: /home/spiderkiller/ML2022/hw5_machine_translation/checkpoints/rnn/checkpoint126.pt\n",
            "2022-04-03 05:03:29 | INFO | hw5.seq2seq | end of epoch 126\n"
          ]
        },
        {
          "data": {
            "application/vnd.jupyter.widget-view+json": {
              "model_id": "64389f7fc10243508042fa33cfad3488",
              "version_major": 2,
              "version_minor": 0
            },
            "text/plain": [
              "train epoch 127:   0%|          | 0/791 [00:00<?, ?it/s]"
            ]
          },
          "metadata": {},
          "output_type": "display_data"
        },
        {
          "name": "stdout",
          "output_type": "stream",
          "text": [
            "2022-04-03 05:04:58 | INFO | hw5.seq2seq | training loss: 4.2520\n",
            "2022-04-03 05:04:58 | INFO | hw5.seq2seq | begin validation\n"
          ]
        },
        {
          "data": {
            "application/vnd.jupyter.widget-view+json": {
              "model_id": "8141d83c0e1c437da5bae5d0a9044676",
              "version_major": 2,
              "version_minor": 0
            },
            "text/plain": [
              "validation:   0%|          | 0/22 [00:00<?, ?it/s]"
            ]
          },
          "metadata": {},
          "output_type": "display_data"
        },
        {
          "name": "stdout",
          "output_type": "stream",
          "text": [
            "2022-04-03 05:05:25 | INFO | hw5.seq2seq | example source: well , the problem is that we've got very complicated forces in the climate system .\n",
            "2022-04-03 05:05:25 | INFO | hw5.seq2seq | example hypothesis: 問題是 , 我們在氣候系統中有非常複雜的力量 。\n",
            "2022-04-03 05:05:25 | INFO | hw5.seq2seq | example reference: 嗯 , 問題在於氣候系統裡有很複雜的力量存在 。\n",
            "2022-04-03 05:05:25 | INFO | hw5.seq2seq | validation loss:\t4.0783\n",
            "2022-04-03 05:05:25 | INFO | hw5.seq2seq | BLEU = 17.44 51.8/26.5/14.3/8.1 (BP = 0.872 ratio = 0.880 hyp_len = 98387 ref_len = 111811)\n",
            "2022-04-03 05:05:25 | INFO | hw5.seq2seq | saved epoch checkpoint: /home/spiderkiller/ML2022/hw5_machine_translation/checkpoints/rnn/checkpoint127.pt\n",
            "2022-04-03 05:05:25 | INFO | hw5.seq2seq | end of epoch 127\n"
          ]
        },
        {
          "data": {
            "application/vnd.jupyter.widget-view+json": {
              "model_id": "db313e2f639f428c9ea6a8b8f5c2b8f8",
              "version_major": 2,
              "version_minor": 0
            },
            "text/plain": [
              "train epoch 128:   0%|          | 0/791 [00:00<?, ?it/s]"
            ]
          },
          "metadata": {},
          "output_type": "display_data"
        },
        {
          "name": "stdout",
          "output_type": "stream",
          "text": [
            "2022-04-03 05:06:50 | INFO | hw5.seq2seq | training loss: 4.2521\n",
            "2022-04-03 05:06:50 | INFO | hw5.seq2seq | begin validation\n"
          ]
        },
        {
          "data": {
            "application/vnd.jupyter.widget-view+json": {
              "model_id": "062d8cc840e64e188f7da0f4ca3157c6",
              "version_major": 2,
              "version_minor": 0
            },
            "text/plain": [
              "validation:   0%|          | 0/22 [00:00<?, ?it/s]"
            ]
          },
          "metadata": {},
          "output_type": "display_data"
        },
        {
          "name": "stdout",
          "output_type": "stream",
          "text": [
            "2022-04-03 05:07:17 | INFO | hw5.seq2seq | example source: and through the children is usually the way to go .\n",
            "2022-04-03 05:07:17 | INFO | hw5.seq2seq | example hypothesis: 透過孩子通常是要走路 。\n",
            "2022-04-03 05:07:17 | INFO | hw5.seq2seq | example reference: 最常見的辦法是通過小孩子 。\n",
            "2022-04-03 05:07:17 | INFO | hw5.seq2seq | validation loss:\t4.0684\n",
            "2022-04-03 05:07:17 | INFO | hw5.seq2seq | BLEU = 17.87 50.6/25.8/14.0/8.0 (BP = 0.914 ratio = 0.918 hyp_len = 102629 ref_len = 111811)\n",
            "2022-04-03 05:07:17 | INFO | hw5.seq2seq | saved epoch checkpoint: /home/spiderkiller/ML2022/hw5_machine_translation/checkpoints/rnn/checkpoint128.pt\n",
            "2022-04-03 05:07:17 | INFO | hw5.seq2seq | end of epoch 128\n"
          ]
        },
        {
          "data": {
            "application/vnd.jupyter.widget-view+json": {
              "model_id": "20796e5958114b0fa81cfe44964960c4",
              "version_major": 2,
              "version_minor": 0
            },
            "text/plain": [
              "train epoch 129:   0%|          | 0/791 [00:00<?, ?it/s]"
            ]
          },
          "metadata": {},
          "output_type": "display_data"
        },
        {
          "name": "stdout",
          "output_type": "stream",
          "text": [
            "2022-04-03 05:08:42 | INFO | hw5.seq2seq | training loss: 4.2504\n",
            "2022-04-03 05:08:42 | INFO | hw5.seq2seq | begin validation\n"
          ]
        },
        {
          "data": {
            "application/vnd.jupyter.widget-view+json": {
              "model_id": "991181817ab9473e82d469ed96e9b14f",
              "version_major": 2,
              "version_minor": 0
            },
            "text/plain": [
              "validation:   0%|          | 0/22 [00:00<?, ?it/s]"
            ]
          },
          "metadata": {},
          "output_type": "display_data"
        },
        {
          "name": "stdout",
          "output_type": "stream",
          "text": [
            "2022-04-03 05:09:08 | INFO | hw5.seq2seq | example source: but what i want you to remember is if you want to improve your executive function in some aspect of your life , don't look for quick fixes .\n",
            "2022-04-03 05:09:08 | INFO | hw5.seq2seq | example hypothesis: 但我想要你們記得的是 , 如果你想要改善你的人生 , 不要去改善你的執行功能 , 不要去尋找適合性功能 。\n",
            "2022-04-03 05:09:08 | INFO | hw5.seq2seq | example reference: 但我希望各位記住 , 如果你想要在生活中的某個面向上改善你的執行功能 , 不要走捷徑 。\n",
            "2022-04-03 05:09:08 | INFO | hw5.seq2seq | validation loss:\t4.0706\n",
            "2022-04-03 05:09:08 | INFO | hw5.seq2seq | BLEU = 17.21 51.9/26.5/14.3/8.1 (BP = 0.861 ratio = 0.870 hyp_len = 97289 ref_len = 111811)\n",
            "2022-04-03 05:09:08 | INFO | hw5.seq2seq | saved epoch checkpoint: /home/spiderkiller/ML2022/hw5_machine_translation/checkpoints/rnn/checkpoint129.pt\n",
            "2022-04-03 05:09:08 | INFO | hw5.seq2seq | end of epoch 129\n"
          ]
        },
        {
          "data": {
            "application/vnd.jupyter.widget-view+json": {
              "model_id": "7f4cdb1ad62f40d6b9e66ec1cd851c46",
              "version_major": 2,
              "version_minor": 0
            },
            "text/plain": [
              "train epoch 130:   0%|          | 0/791 [00:00<?, ?it/s]"
            ]
          },
          "metadata": {},
          "output_type": "display_data"
        },
        {
          "name": "stdout",
          "output_type": "stream",
          "text": [
            "2022-04-03 05:10:32 | INFO | hw5.seq2seq | training loss: 4.2495\n",
            "2022-04-03 05:10:32 | INFO | hw5.seq2seq | begin validation\n"
          ]
        },
        {
          "data": {
            "application/vnd.jupyter.widget-view+json": {
              "model_id": "bb84c307e4b8421bb2c6b0231d775713",
              "version_major": 2,
              "version_minor": 0
            },
            "text/plain": [
              "validation:   0%|          | 0/22 [00:00<?, ?it/s]"
            ]
          },
          "metadata": {},
          "output_type": "display_data"
        },
        {
          "name": "stdout",
          "output_type": "stream",
          "text": [
            "2022-04-03 05:10:58 | INFO | hw5.seq2seq | example source: that would be a waste of energy for a bird that doesn't know when it will get its next meal .\n",
            "2022-04-03 05:10:58 | INFO | hw5.seq2seq | example hypothesis: 這會是一個浪費能源的廢棄物 , 不知道它會下一個食物 。\n",
            "2022-04-03 05:10:58 | INFO | hw5.seq2seq | example reference: 那會浪費能量 , 對於一隻不知道什麼時候能吃下一頓飯的鳥而言 。\n",
            "2022-04-03 05:10:58 | INFO | hw5.seq2seq | validation loss:\t4.0826\n",
            "2022-04-03 05:10:58 | INFO | hw5.seq2seq | BLEU = 17.36 51.9/26.6/14.3/8.1 (BP = 0.868 ratio = 0.876 hyp_len = 97952 ref_len = 111811)\n",
            "2022-04-03 05:10:59 | INFO | hw5.seq2seq | saved epoch checkpoint: /home/spiderkiller/ML2022/hw5_machine_translation/checkpoints/rnn/checkpoint130.pt\n",
            "2022-04-03 05:10:59 | INFO | hw5.seq2seq | end of epoch 130\n"
          ]
        },
        {
          "data": {
            "application/vnd.jupyter.widget-view+json": {
              "model_id": "798d6be9a78d47b19fbcb49a2e62b519",
              "version_major": 2,
              "version_minor": 0
            },
            "text/plain": [
              "train epoch 131:   0%|          | 0/791 [00:00<?, ?it/s]"
            ]
          },
          "metadata": {},
          "output_type": "display_data"
        },
        {
          "name": "stdout",
          "output_type": "stream",
          "text": [
            "2022-04-03 05:12:24 | INFO | hw5.seq2seq | training loss: 4.2480\n",
            "2022-04-03 05:12:24 | INFO | hw5.seq2seq | begin validation\n"
          ]
        },
        {
          "data": {
            "application/vnd.jupyter.widget-view+json": {
              "model_id": "e347ddf7260b42c7b04253bf2a2a459b",
              "version_major": 2,
              "version_minor": 0
            },
            "text/plain": [
              "validation:   0%|          | 0/22 [00:00<?, ?it/s]"
            ]
          },
          "metadata": {},
          "output_type": "display_data"
        },
        {
          "name": "stdout",
          "output_type": "stream",
          "text": [
            "2022-04-03 05:12:50 | INFO | hw5.seq2seq | example source: a key notion in those equations is fitness .\n",
            "2022-04-03 05:12:50 | INFO | hw5.seq2seq | example hypothesis: 在那些方程式裡的關鍵概念是適合的 。\n",
            "2022-04-03 05:12:50 | INFO | hw5.seq2seq | example reference: 這裏面各個等式中最關鍵的元素是體良 。\n",
            "2022-04-03 05:12:50 | INFO | hw5.seq2seq | validation loss:\t4.0686\n",
            "2022-04-03 05:12:50 | INFO | hw5.seq2seq | BLEU = 17.38 51.5/26.3/14.1/8.0 (BP = 0.879 ratio = 0.886 hyp_len = 99051 ref_len = 111811)\n",
            "2022-04-03 05:12:50 | INFO | hw5.seq2seq | saved epoch checkpoint: /home/spiderkiller/ML2022/hw5_machine_translation/checkpoints/rnn/checkpoint131.pt\n",
            "2022-04-03 05:12:50 | INFO | hw5.seq2seq | end of epoch 131\n"
          ]
        },
        {
          "data": {
            "application/vnd.jupyter.widget-view+json": {
              "model_id": "5090cb3bb1b743298c173ffb64e80748",
              "version_major": 2,
              "version_minor": 0
            },
            "text/plain": [
              "train epoch 132:   0%|          | 0/791 [00:00<?, ?it/s]"
            ]
          },
          "metadata": {},
          "output_type": "display_data"
        },
        {
          "name": "stdout",
          "output_type": "stream",
          "text": [
            "2022-04-03 05:14:15 | INFO | hw5.seq2seq | training loss: 4.2497\n",
            "2022-04-03 05:14:15 | INFO | hw5.seq2seq | begin validation\n"
          ]
        },
        {
          "data": {
            "application/vnd.jupyter.widget-view+json": {
              "model_id": "cdfac23ca75b456a9d107392cbfb71bb",
              "version_major": 2,
              "version_minor": 0
            },
            "text/plain": [
              "validation:   0%|          | 0/22 [00:00<?, ?it/s]"
            ]
          },
          "metadata": {},
          "output_type": "display_data"
        },
        {
          "name": "stdout",
          "output_type": "stream",
          "text": [
            "2022-04-03 05:14:39 | INFO | hw5.seq2seq | example source: so it was about what i was supposed to be doing .\n",
            "2022-04-03 05:14:39 | INFO | hw5.seq2seq | example hypothesis: 這就是我應該做的 。\n",
            "2022-04-03 05:14:39 | INFO | hw5.seq2seq | example reference: 所以 , 重點在於我應該要做什麼 。\n",
            "2022-04-03 05:14:39 | INFO | hw5.seq2seq | validation loss:\t4.0641\n",
            "2022-04-03 05:14:39 | INFO | hw5.seq2seq | BLEU = 17.76 50.5/25.7/13.8/7.8 (BP = 0.918 ratio = 0.921 hyp_len = 102983 ref_len = 111811)\n",
            "2022-04-03 05:14:39 | INFO | hw5.seq2seq | saved epoch checkpoint: /home/spiderkiller/ML2022/hw5_machine_translation/checkpoints/rnn/checkpoint132.pt\n",
            "2022-04-03 05:14:39 | INFO | hw5.seq2seq | end of epoch 132\n"
          ]
        },
        {
          "data": {
            "application/vnd.jupyter.widget-view+json": {
              "model_id": "1b6f302aaab94a3ba76f7642c37d82ec",
              "version_major": 2,
              "version_minor": 0
            },
            "text/plain": [
              "train epoch 133:   0%|          | 0/791 [00:00<?, ?it/s]"
            ]
          },
          "metadata": {},
          "output_type": "display_data"
        },
        {
          "name": "stdout",
          "output_type": "stream",
          "text": [
            "2022-04-03 05:16:05 | INFO | hw5.seq2seq | training loss: 4.2485\n",
            "2022-04-03 05:16:05 | INFO | hw5.seq2seq | begin validation\n"
          ]
        },
        {
          "data": {
            "application/vnd.jupyter.widget-view+json": {
              "model_id": "6b7cb76002ac463c8a54eeaf59c85886",
              "version_major": 2,
              "version_minor": 0
            },
            "text/plain": [
              "validation:   0%|          | 0/22 [00:00<?, ?it/s]"
            ]
          },
          "metadata": {},
          "output_type": "display_data"
        },
        {
          "name": "stdout",
          "output_type": "stream",
          "text": [
            "2022-04-03 05:16:31 | INFO | hw5.seq2seq | example source: if you've been in an mri scanner , it's very much the same , but this one is outfitted in a special way to not just take pictures of your brain , but to also take pictures of active areas of the brain .\n",
            "2022-04-03 05:16:31 | INFO | hw5.seq2seq | example hypothesis: 如果你在mri掃描師時 , 非常相同 , 但這張是非常相同的 , 但這張是大腦的特殊方式 , 不僅是大腦的圖片 。\n",
            "2022-04-03 05:16:31 | INFO | hw5.seq2seq | example reference: 如果你有在磁共振影像掃描儀中待過 , 基本上是相同的東西 , 但這一個被裝備成一種特別的方式它不僅能為你的腦部拍照 , 還為腦部的活動區域拍照 。\n",
            "2022-04-03 05:16:31 | INFO | hw5.seq2seq | validation loss:\t4.0817\n",
            "2022-04-03 05:16:31 | INFO | hw5.seq2seq | BLEU = 17.20 52.6/27.0/14.6/8.3 (BP = 0.844 ratio = 0.855 hyp_len = 95628 ref_len = 111811)\n",
            "2022-04-03 05:16:31 | INFO | hw5.seq2seq | saved epoch checkpoint: /home/spiderkiller/ML2022/hw5_machine_translation/checkpoints/rnn/checkpoint133.pt\n",
            "2022-04-03 05:16:31 | INFO | hw5.seq2seq | end of epoch 133\n"
          ]
        },
        {
          "data": {
            "application/vnd.jupyter.widget-view+json": {
              "model_id": "0fd153efffbf4b8995f30b399cbd480c",
              "version_major": 2,
              "version_minor": 0
            },
            "text/plain": [
              "train epoch 134:   0%|          | 0/791 [00:00<?, ?it/s]"
            ]
          },
          "metadata": {},
          "output_type": "display_data"
        },
        {
          "name": "stdout",
          "output_type": "stream",
          "text": [
            "2022-04-03 05:18:00 | INFO | hw5.seq2seq | training loss: 4.2488\n",
            "2022-04-03 05:18:00 | INFO | hw5.seq2seq | begin validation\n"
          ]
        },
        {
          "data": {
            "application/vnd.jupyter.widget-view+json": {
              "model_id": "b1684c7ad338472fbc3a0940b1e7abd0",
              "version_major": 2,
              "version_minor": 0
            },
            "text/plain": [
              "validation:   0%|          | 0/22 [00:00<?, ?it/s]"
            ]
          },
          "metadata": {},
          "output_type": "display_data"
        },
        {
          "name": "stdout",
          "output_type": "stream",
          "text": [
            "2022-04-03 05:18:28 | INFO | hw5.seq2seq | example source: second one , without sounding overly zen , and this is a quote from the buddha: \" finding yourself in the margins , looking to the edges of things , is often a really interesting place to start . \"\n",
            "2022-04-03 05:18:28 | INFO | hw5.seq2seq | example hypothesis: 第二 , 沒有聽過太多了 , 這是從佛羅里達哈: 「 找到自己在馬格林的邊緣 , 尋找自己事物的邊緣 , 通常是很有趣的地方 。 」\n",
            "2022-04-03 05:18:28 | INFO | hw5.seq2seq | example reference: 其次 , 不必講得太玄 , 這是佛陀的話:「處在邊緣 , 觀看事物周邊 , 往往是有趣的起點 。 」\n",
            "2022-04-03 05:18:28 | INFO | hw5.seq2seq | validation loss:\t4.0747\n",
            "2022-04-03 05:18:28 | INFO | hw5.seq2seq | BLEU = 17.57 51.4/26.3/14.1/8.1 (BP = 0.887 ratio = 0.893 hyp_len = 99843 ref_len = 111811)\n",
            "2022-04-03 05:18:28 | INFO | hw5.seq2seq | saved epoch checkpoint: /home/spiderkiller/ML2022/hw5_machine_translation/checkpoints/rnn/checkpoint134.pt\n",
            "2022-04-03 05:18:28 | INFO | hw5.seq2seq | end of epoch 134\n"
          ]
        },
        {
          "data": {
            "application/vnd.jupyter.widget-view+json": {
              "model_id": "39c3a77efaac4df6b03447d75f11b48b",
              "version_major": 2,
              "version_minor": 0
            },
            "text/plain": [
              "train epoch 135:   0%|          | 0/791 [00:00<?, ?it/s]"
            ]
          },
          "metadata": {},
          "output_type": "display_data"
        },
        {
          "name": "stdout",
          "output_type": "stream",
          "text": [
            "2022-04-03 05:19:54 | INFO | hw5.seq2seq | training loss: 4.2481\n",
            "2022-04-03 05:19:54 | INFO | hw5.seq2seq | begin validation\n"
          ]
        },
        {
          "data": {
            "application/vnd.jupyter.widget-view+json": {
              "model_id": "a6a1ffd9331b45469359b1c9e947b744",
              "version_major": 2,
              "version_minor": 0
            },
            "text/plain": [
              "validation:   0%|          | 0/22 [00:00<?, ?it/s]"
            ]
          },
          "metadata": {},
          "output_type": "display_data"
        },
        {
          "name": "stdout",
          "output_type": "stream",
          "text": [
            "2022-04-03 05:20:21 | INFO | hw5.seq2seq | example source: then another thing .\n",
            "2022-04-03 05:20:21 | INFO | hw5.seq2seq | example hypothesis: 另外一件事 。\n",
            "2022-04-03 05:20:21 | INFO | hw5.seq2seq | example reference: 另外一件事 。\n",
            "2022-04-03 05:20:21 | INFO | hw5.seq2seq | validation loss:\t4.0674\n",
            "2022-04-03 05:20:21 | INFO | hw5.seq2seq | BLEU = 17.75 50.9/25.9/14.0/8.0 (BP = 0.907 ratio = 0.911 hyp_len = 101828 ref_len = 111811)\n",
            "2022-04-03 05:20:21 | INFO | hw5.seq2seq | saved epoch checkpoint: /home/spiderkiller/ML2022/hw5_machine_translation/checkpoints/rnn/checkpoint135.pt\n",
            "2022-04-03 05:20:21 | INFO | hw5.seq2seq | end of epoch 135\n"
          ]
        },
        {
          "data": {
            "application/vnd.jupyter.widget-view+json": {
              "model_id": "c9937ede2f9848509d699b5a7d51df16",
              "version_major": 2,
              "version_minor": 0
            },
            "text/plain": [
              "train epoch 136:   0%|          | 0/791 [00:00<?, ?it/s]"
            ]
          },
          "metadata": {},
          "output_type": "display_data"
        },
        {
          "name": "stdout",
          "output_type": "stream",
          "text": [
            "2022-04-03 05:21:46 | INFO | hw5.seq2seq | training loss: 4.2473\n",
            "2022-04-03 05:21:46 | INFO | hw5.seq2seq | begin validation\n"
          ]
        },
        {
          "data": {
            "application/vnd.jupyter.widget-view+json": {
              "model_id": "223cd81280d64c80b8a728e5639bf24c",
              "version_major": 2,
              "version_minor": 0
            },
            "text/plain": [
              "validation:   0%|          | 0/22 [00:00<?, ?it/s]"
            ]
          },
          "metadata": {},
          "output_type": "display_data"
        },
        {
          "name": "stdout",
          "output_type": "stream",
          "text": [
            "2022-04-03 05:22:10 | INFO | hw5.seq2seq | example source: the first one by far the most consumed seafood in america and in much of the west , is shrimp .\n",
            "2022-04-03 05:22:10 | INFO | hw5.seq2seq | example hypothesis: 美國最早消費季節最早消費的海鮮 , 就是蝦子 。\n",
            "2022-04-03 05:22:10 | INFO | hw5.seq2seq | example reference: 首先在美國和許多西方國家目前消耗最多的海鮮是蝦 。\n",
            "2022-04-03 05:22:10 | INFO | hw5.seq2seq | validation loss:\t4.0808\n",
            "2022-04-03 05:22:10 | INFO | hw5.seq2seq | BLEU = 17.06 52.2/26.7/14.4/8.2 (BP = 0.848 ratio = 0.858 hyp_len = 95986 ref_len = 111811)\n",
            "2022-04-03 05:22:10 | INFO | hw5.seq2seq | saved epoch checkpoint: /home/spiderkiller/ML2022/hw5_machine_translation/checkpoints/rnn/checkpoint136.pt\n",
            "2022-04-03 05:22:10 | INFO | hw5.seq2seq | end of epoch 136\n"
          ]
        },
        {
          "data": {
            "application/vnd.jupyter.widget-view+json": {
              "model_id": "808612b663284e46901e28ae5364df1f",
              "version_major": 2,
              "version_minor": 0
            },
            "text/plain": [
              "train epoch 137:   0%|          | 0/791 [00:00<?, ?it/s]"
            ]
          },
          "metadata": {},
          "output_type": "display_data"
        },
        {
          "name": "stdout",
          "output_type": "stream",
          "text": [
            "2022-04-03 05:23:36 | INFO | hw5.seq2seq | training loss: 4.2493\n",
            "2022-04-03 05:23:36 | INFO | hw5.seq2seq | begin validation\n"
          ]
        },
        {
          "data": {
            "application/vnd.jupyter.widget-view+json": {
              "model_id": "d4968f4e296f438c83d20e03e51861a4",
              "version_major": 2,
              "version_minor": 0
            },
            "text/plain": [
              "validation:   0%|          | 0/22 [00:00<?, ?it/s]"
            ]
          },
          "metadata": {},
          "output_type": "display_data"
        },
        {
          "name": "stdout",
          "output_type": "stream",
          "text": [
            "2022-04-03 05:24:00 | INFO | hw5.seq2seq | example source: how many of you are augmented cyborgs ?\n",
            "2022-04-03 05:24:00 | INFO | hw5.seq2seq | example hypothesis: 在座有多少人在網路上 ?\n",
            "2022-04-03 05:24:00 | INFO | hw5.seq2seq | example reference: 現場有多少人是 「 強化的半機械人 」 ?\n",
            "2022-04-03 05:24:00 | INFO | hw5.seq2seq | validation loss:\t4.0808\n",
            "2022-04-03 05:24:00 | INFO | hw5.seq2seq | BLEU = 17.39 51.9/26.6/14.4/8.2 (BP = 0.867 ratio = 0.875 hyp_len = 97806 ref_len = 111811)\n",
            "2022-04-03 05:24:00 | INFO | hw5.seq2seq | saved epoch checkpoint: /home/spiderkiller/ML2022/hw5_machine_translation/checkpoints/rnn/checkpoint137.pt\n",
            "2022-04-03 05:24:01 | INFO | hw5.seq2seq | end of epoch 137\n"
          ]
        },
        {
          "data": {
            "application/vnd.jupyter.widget-view+json": {
              "model_id": "002fa7ce0e10410da16209fd35db447d",
              "version_major": 2,
              "version_minor": 0
            },
            "text/plain": [
              "train epoch 138:   0%|          | 0/791 [00:00<?, ?it/s]"
            ]
          },
          "metadata": {},
          "output_type": "display_data"
        },
        {
          "name": "stdout",
          "output_type": "stream",
          "text": [
            "2022-04-03 05:25:26 | INFO | hw5.seq2seq | training loss: 4.2471\n",
            "2022-04-03 05:25:26 | INFO | hw5.seq2seq | begin validation\n"
          ]
        },
        {
          "data": {
            "application/vnd.jupyter.widget-view+json": {
              "model_id": "d9d2182bf9384ae6be27bf1b59df68b6",
              "version_major": 2,
              "version_minor": 0
            },
            "text/plain": [
              "validation:   0%|          | 0/22 [00:00<?, ?it/s]"
            ]
          },
          "metadata": {},
          "output_type": "display_data"
        },
        {
          "name": "stdout",
          "output_type": "stream",
          "text": [
            "2022-04-03 05:25:51 | INFO | hw5.seq2seq | example source: because with estrus , the final signaling to get the lining of the uterus ready actually comes from the embryo .\n",
            "2022-04-03 05:25:51 | INFO | hw5.seq2seq | example hypothesis: 因為在森林裡 , 最終訊號準備好要從胚胎開始 。\n",
            "2022-04-03 05:25:51 | INFO | hw5.seq2seq | example reference: 因為 , 就動情期來說 , 要把子宮內膜準備好的最後訊號是來自胚胎 。\n",
            "2022-04-03 05:25:51 | INFO | hw5.seq2seq | validation loss:\t4.0754\n",
            "2022-04-03 05:25:51 | INFO | hw5.seq2seq | BLEU = 17.18 51.5/26.2/14.1/8.0 (BP = 0.871 ratio = 0.878 hyp_len = 98209 ref_len = 111811)\n",
            "2022-04-03 05:25:51 | INFO | hw5.seq2seq | saved epoch checkpoint: /home/spiderkiller/ML2022/hw5_machine_translation/checkpoints/rnn/checkpoint138.pt\n",
            "2022-04-03 05:25:51 | INFO | hw5.seq2seq | end of epoch 138\n"
          ]
        },
        {
          "data": {
            "application/vnd.jupyter.widget-view+json": {
              "model_id": "e7e514b9522046989d02dc790775f5b9",
              "version_major": 2,
              "version_minor": 0
            },
            "text/plain": [
              "train epoch 139:   0%|          | 0/791 [00:00<?, ?it/s]"
            ]
          },
          "metadata": {},
          "output_type": "display_data"
        },
        {
          "name": "stdout",
          "output_type": "stream",
          "text": [
            "2022-04-03 05:27:17 | INFO | hw5.seq2seq | training loss: 4.2465\n",
            "2022-04-03 05:27:17 | INFO | hw5.seq2seq | begin validation\n"
          ]
        },
        {
          "data": {
            "application/vnd.jupyter.widget-view+json": {
              "model_id": "aeff64ccdf844ce38922a22e87bab5cb",
              "version_major": 2,
              "version_minor": 0
            },
            "text/plain": [
              "validation:   0%|          | 0/22 [00:00<?, ?it/s]"
            ]
          },
          "metadata": {},
          "output_type": "display_data"
        },
        {
          "name": "stdout",
          "output_type": "stream",
          "text": [
            "2022-04-03 05:27:44 | INFO | hw5.seq2seq | example source: ca: thank you so much .\n",
            "2022-04-03 05:27:44 | INFO | hw5.seq2seq | example hypothesis: 克里斯:謝謝各位 。\n",
            "2022-04-03 05:27:44 | INFO | hw5.seq2seq | example reference: 克裡斯·安德森:非常感謝您 。\n",
            "2022-04-03 05:27:44 | INFO | hw5.seq2seq | validation loss:\t4.0720\n",
            "2022-04-03 05:27:44 | INFO | hw5.seq2seq | BLEU = 17.34 52.0/26.6/14.3/8.1 (BP = 0.866 ratio = 0.875 hyp_len = 97780 ref_len = 111811)\n",
            "2022-04-03 05:27:44 | INFO | hw5.seq2seq | saved epoch checkpoint: /home/spiderkiller/ML2022/hw5_machine_translation/checkpoints/rnn/checkpoint139.pt\n",
            "2022-04-03 05:27:44 | INFO | hw5.seq2seq | end of epoch 139\n"
          ]
        },
        {
          "data": {
            "application/vnd.jupyter.widget-view+json": {
              "model_id": "f6d5cf2301fb462c989019cd3a9e557e",
              "version_major": 2,
              "version_minor": 0
            },
            "text/plain": [
              "train epoch 140:   0%|          | 0/791 [00:00<?, ?it/s]"
            ]
          },
          "metadata": {},
          "output_type": "display_data"
        },
        {
          "name": "stdout",
          "output_type": "stream",
          "text": [
            "2022-04-03 05:29:10 | INFO | hw5.seq2seq | training loss: 4.2455\n",
            "2022-04-03 05:29:10 | INFO | hw5.seq2seq | begin validation\n"
          ]
        },
        {
          "data": {
            "application/vnd.jupyter.widget-view+json": {
              "model_id": "2c21e9a1c1b8441d99fa1cd788925f93",
              "version_major": 2,
              "version_minor": 0
            },
            "text/plain": [
              "validation:   0%|          | 0/22 [00:00<?, ?it/s]"
            ]
          },
          "metadata": {},
          "output_type": "display_data"
        },
        {
          "name": "stdout",
          "output_type": "stream",
          "text": [
            "2022-04-03 05:29:36 | INFO | hw5.seq2seq | example source: one of the things that underpins it is this idea of resilience .\n",
            "2022-04-03 05:29:36 | INFO | hw5.seq2seq | example hypothesis: 下面的一件事之一就是意識的宗教 。\n",
            "2022-04-03 05:29:36 | INFO | hw5.seq2seq | example reference: 支持上述的其中一個觀點是所謂的彈性思維\n",
            "2022-04-03 05:29:36 | INFO | hw5.seq2seq | validation loss:\t4.0766\n",
            "2022-04-03 05:29:36 | INFO | hw5.seq2seq | BLEU = 17.39 52.3/26.7/14.4/8.1 (BP = 0.865 ratio = 0.874 hyp_len = 97689 ref_len = 111811)\n",
            "2022-04-03 05:29:37 | INFO | hw5.seq2seq | saved epoch checkpoint: /home/spiderkiller/ML2022/hw5_machine_translation/checkpoints/rnn/checkpoint140.pt\n",
            "2022-04-03 05:29:37 | INFO | hw5.seq2seq | end of epoch 140\n"
          ]
        },
        {
          "data": {
            "application/vnd.jupyter.widget-view+json": {
              "model_id": "0b0e6bd19d7c47f09d54bb4f36abea41",
              "version_major": 2,
              "version_minor": 0
            },
            "text/plain": [
              "train epoch 141:   0%|          | 0/791 [00:00<?, ?it/s]"
            ]
          },
          "metadata": {},
          "output_type": "display_data"
        },
        {
          "name": "stdout",
          "output_type": "stream",
          "text": [
            "2022-04-03 05:31:02 | INFO | hw5.seq2seq | training loss: 4.2449\n",
            "2022-04-03 05:31:02 | INFO | hw5.seq2seq | begin validation\n"
          ]
        },
        {
          "data": {
            "application/vnd.jupyter.widget-view+json": {
              "model_id": "1109922a1f934723ae0a3b6a122aa380",
              "version_major": 2,
              "version_minor": 0
            },
            "text/plain": [
              "validation:   0%|          | 0/22 [00:00<?, ?it/s]"
            ]
          },
          "metadata": {},
          "output_type": "display_data"
        },
        {
          "name": "stdout",
          "output_type": "stream",
          "text": [
            "2022-04-03 05:31:28 | INFO | hw5.seq2seq | example source: fortunately , our queen is well prepared .\n",
            "2022-04-03 05:31:28 | INFO | hw5.seq2seq | example hypothesis: 幸運的是 , 我們的蟻后已經準備好了 。\n",
            "2022-04-03 05:31:28 | INFO | hw5.seq2seq | example reference: 幸好 , 「 黃 」 后有充分準備\n",
            "2022-04-03 05:31:28 | INFO | hw5.seq2seq | validation loss:\t4.0638\n",
            "2022-04-03 05:31:28 | INFO | hw5.seq2seq | BLEU = 17.73 50.6/25.7/13.8/7.8 (BP = 0.917 ratio = 0.920 hyp_len = 102876 ref_len = 111811)\n",
            "2022-04-03 05:31:28 | INFO | hw5.seq2seq | saved epoch checkpoint: /home/spiderkiller/ML2022/hw5_machine_translation/checkpoints/rnn/checkpoint141.pt\n",
            "2022-04-03 05:31:28 | INFO | hw5.seq2seq | end of epoch 141\n"
          ]
        },
        {
          "data": {
            "application/vnd.jupyter.widget-view+json": {
              "model_id": "f1b0b48779b3420a991f7031b03dea55",
              "version_major": 2,
              "version_minor": 0
            },
            "text/plain": [
              "train epoch 142:   0%|          | 0/791 [00:00<?, ?it/s]"
            ]
          },
          "metadata": {},
          "output_type": "display_data"
        },
        {
          "name": "stdout",
          "output_type": "stream",
          "text": [
            "2022-04-03 05:32:56 | INFO | hw5.seq2seq | training loss: 4.2459\n",
            "2022-04-03 05:32:56 | INFO | hw5.seq2seq | begin validation\n"
          ]
        },
        {
          "data": {
            "application/vnd.jupyter.widget-view+json": {
              "model_id": "401cd0784d52459f90ad247ff18f398f",
              "version_major": 2,
              "version_minor": 0
            },
            "text/plain": [
              "validation:   0%|          | 0/22 [00:00<?, ?it/s]"
            ]
          },
          "metadata": {},
          "output_type": "display_data"
        },
        {
          "name": "stdout",
          "output_type": "stream",
          "text": [
            "2022-04-03 05:33:22 | INFO | hw5.seq2seq | example source: so two years ago , we went back to the lab , making it more durable , more lightemitting , with the experts .\n",
            "2022-04-03 05:33:22 | INFO | hw5.seq2seq | example hypothesis: 兩年前 , 我們回到實驗室 , 讓它變得更有耐力、更輕鬆、更輕鬆、更輕鬆 。\n",
            "2022-04-03 05:33:22 | INFO | hw5.seq2seq | example reference: 所以 , 兩年前 , 我們回到實驗室 , 與專家合作 , 把它變得更耐久、更能發光 。\n",
            "2022-04-03 05:33:22 | INFO | hw5.seq2seq | validation loss:\t4.0737\n",
            "2022-04-03 05:33:22 | INFO | hw5.seq2seq | BLEU = 17.48 51.3/26.2/14.2/8.0 (BP = 0.884 ratio = 0.890 hyp_len = 99501 ref_len = 111811)\n",
            "2022-04-03 05:33:22 | INFO | hw5.seq2seq | saved epoch checkpoint: /home/spiderkiller/ML2022/hw5_machine_translation/checkpoints/rnn/checkpoint142.pt\n",
            "2022-04-03 05:33:22 | INFO | hw5.seq2seq | end of epoch 142\n"
          ]
        },
        {
          "data": {
            "application/vnd.jupyter.widget-view+json": {
              "model_id": "77efd286f61b450d989b2b0675cfe222",
              "version_major": 2,
              "version_minor": 0
            },
            "text/plain": [
              "train epoch 143:   0%|          | 0/791 [00:00<?, ?it/s]"
            ]
          },
          "metadata": {},
          "output_type": "display_data"
        },
        {
          "name": "stdout",
          "output_type": "stream",
          "text": [
            "2022-04-03 05:34:48 | INFO | hw5.seq2seq | training loss: 4.2460\n",
            "2022-04-03 05:34:48 | INFO | hw5.seq2seq | begin validation\n"
          ]
        },
        {
          "data": {
            "application/vnd.jupyter.widget-view+json": {
              "model_id": "ab2b4059c447430b889bcc1f1ba005aa",
              "version_major": 2,
              "version_minor": 0
            },
            "text/plain": [
              "validation:   0%|          | 0/22 [00:00<?, ?it/s]"
            ]
          },
          "metadata": {},
          "output_type": "display_data"
        },
        {
          "name": "stdout",
          "output_type": "stream",
          "text": [
            "2022-04-03 05:35:14 | INFO | hw5.seq2seq | example source: thank you .\n",
            "2022-04-03 05:35:14 | INFO | hw5.seq2seq | example hypothesis: 謝謝 。\n",
            "2022-04-03 05:35:14 | INFO | hw5.seq2seq | example reference: 謝謝 !\n",
            "2022-04-03 05:35:14 | INFO | hw5.seq2seq | validation loss:\t4.0767\n",
            "2022-04-03 05:35:14 | INFO | hw5.seq2seq | BLEU = 17.28 52.2/26.6/14.3/8.1 (BP = 0.862 ratio = 0.871 hyp_len = 97398 ref_len = 111811)\n",
            "2022-04-03 05:35:14 | INFO | hw5.seq2seq | saved epoch checkpoint: /home/spiderkiller/ML2022/hw5_machine_translation/checkpoints/rnn/checkpoint143.pt\n",
            "2022-04-03 05:35:14 | INFO | hw5.seq2seq | end of epoch 143\n"
          ]
        },
        {
          "data": {
            "application/vnd.jupyter.widget-view+json": {
              "model_id": "c27efccb50fc477fac8263ceefce8748",
              "version_major": 2,
              "version_minor": 0
            },
            "text/plain": [
              "train epoch 144:   0%|          | 0/791 [00:00<?, ?it/s]"
            ]
          },
          "metadata": {},
          "output_type": "display_data"
        },
        {
          "name": "stdout",
          "output_type": "stream",
          "text": [
            "2022-04-03 05:36:40 | INFO | hw5.seq2seq | training loss: 4.2457\n",
            "2022-04-03 05:36:40 | INFO | hw5.seq2seq | begin validation\n"
          ]
        },
        {
          "data": {
            "application/vnd.jupyter.widget-view+json": {
              "model_id": "c0093f614d7f4888b304086704d8c92a",
              "version_major": 2,
              "version_minor": 0
            },
            "text/plain": [
              "validation:   0%|          | 0/22 [00:00<?, ?it/s]"
            ]
          },
          "metadata": {},
          "output_type": "display_data"
        },
        {
          "name": "stdout",
          "output_type": "stream",
          "text": [
            "2022-04-03 05:37:06 | INFO | hw5.seq2seq | example source: a definition that cares about the intentions of abusers more than the harms to the abused that definition of racism is racist .\n",
            "2022-04-03 05:37:06 | INFO | hw5.seq2seq | example hypothesis: 對於阿布萊斯主義的定義 , 比哈姆斯主義的意見 , 比哈姆斯主義的定義是種族主義的定義 。\n",
            "2022-04-03 05:37:06 | INFO | hw5.seq2seq | example reference: 如果這個定義著眼點在施暴者的意圖 , 多過被受害者所受的傷害 , 那麼這個定義本身就已經帶有歧視了 。\n",
            "2022-04-03 05:37:06 | INFO | hw5.seq2seq | validation loss:\t4.0605\n",
            "2022-04-03 05:37:06 | INFO | hw5.seq2seq | BLEU = 17.66 50.9/25.9/14.0/7.9 (BP = 0.904 ratio = 0.909 hyp_len = 101604 ref_len = 111811)\n",
            "2022-04-03 05:37:06 | INFO | hw5.seq2seq | saved epoch checkpoint: /home/spiderkiller/ML2022/hw5_machine_translation/checkpoints/rnn/checkpoint144.pt\n",
            "2022-04-03 05:37:06 | INFO | hw5.seq2seq | end of epoch 144\n"
          ]
        },
        {
          "data": {
            "application/vnd.jupyter.widget-view+json": {
              "model_id": "4933bc15a36e4d3ab3f0c28be7041f1e",
              "version_major": 2,
              "version_minor": 0
            },
            "text/plain": [
              "train epoch 145:   0%|          | 0/791 [00:00<?, ?it/s]"
            ]
          },
          "metadata": {},
          "output_type": "display_data"
        },
        {
          "name": "stdout",
          "output_type": "stream",
          "text": [
            "2022-04-03 05:38:31 | INFO | hw5.seq2seq | training loss: 4.2462\n",
            "2022-04-03 05:38:31 | INFO | hw5.seq2seq | begin validation\n"
          ]
        },
        {
          "data": {
            "application/vnd.jupyter.widget-view+json": {
              "model_id": "2c93750d6eb247a380e2c2bfd2b7280b",
              "version_major": 2,
              "version_minor": 0
            },
            "text/plain": [
              "validation:   0%|          | 0/22 [00:00<?, ?it/s]"
            ]
          },
          "metadata": {},
          "output_type": "display_data"
        },
        {
          "name": "stdout",
          "output_type": "stream",
          "text": [
            "2022-04-03 05:38:57 | INFO | hw5.seq2seq | example source: now , what's common to all of these things is the idea that we've had these technologies to control nature only for the last 70 , 80 or 100 years and essentially in a blink , we have squandered our ability to control , because we have not recognized that natural selection and evolution was going to find a way to get back , and we need to completely rethink how we're going to use measures to control biological organisms , and rethink how we incentivize the development , introduction , in the case of antibiotics prescription , and use of these valuable resources .\n",
            "2022-04-03 05:38:57 | INFO | hw5.seq2seq | example hypothesis: 現在 , 這些東西的共同點是 , 我們有這些科技來控制大自然的運作方式 , 基本上 , 80到80、80或100年 , 我們必須要控制自然的能力 , 因為我們沒有意識到 , 因為我們沒有意識到自然選舉的能力 , 因為我們沒有意識到 , 自然選舉和演化 , 我們需要重新思考如何重新思考 , 我們要如何重新思考 , 我們要如何利用這些生物體制 , 來控制生物學 。\n",
            "2022-04-03 05:38:57 | INFO | hw5.seq2seq | example reference: 這些事的共同點就是我們有了這些技術讓我們戰勝了自然70、80或者100年 , 轉眼之間 , 我們就失去了控制力 , 因為我們還沒有意識到自然選擇和進化總會找到一個出路 , 我們需要全盤反思我們究竟要用什麼去控制生物體 , 我們需要反思我們如何促進藥物的發展及引進 , 比如在抗生素的處方上 , 及如何利用這些寶貴的資源 。\n",
            "2022-04-03 05:38:57 | INFO | hw5.seq2seq | validation loss:\t4.0717\n",
            "2022-04-03 05:38:57 | INFO | hw5.seq2seq | BLEU = 17.58 51.8/26.6/14.4/8.2 (BP = 0.876 ratio = 0.883 hyp_len = 98728 ref_len = 111811)\n",
            "2022-04-03 05:38:57 | INFO | hw5.seq2seq | saved epoch checkpoint: /home/spiderkiller/ML2022/hw5_machine_translation/checkpoints/rnn/checkpoint145.pt\n",
            "2022-04-03 05:38:57 | INFO | hw5.seq2seq | end of epoch 145\n"
          ]
        },
        {
          "data": {
            "application/vnd.jupyter.widget-view+json": {
              "model_id": "662d3097be87401b9f10738e80c4497b",
              "version_major": 2,
              "version_minor": 0
            },
            "text/plain": [
              "train epoch 146:   0%|          | 0/791 [00:00<?, ?it/s]"
            ]
          },
          "metadata": {},
          "output_type": "display_data"
        },
        {
          "name": "stdout",
          "output_type": "stream",
          "text": [
            "2022-04-03 05:40:22 | INFO | hw5.seq2seq | training loss: 4.2448\n",
            "2022-04-03 05:40:22 | INFO | hw5.seq2seq | begin validation\n"
          ]
        },
        {
          "data": {
            "application/vnd.jupyter.widget-view+json": {
              "model_id": "ce26d6691d644286b923d1f0ac5b3c01",
              "version_major": 2,
              "version_minor": 0
            },
            "text/plain": [
              "validation:   0%|          | 0/22 [00:00<?, ?it/s]"
            ]
          },
          "metadata": {},
          "output_type": "display_data"
        },
        {
          "name": "stdout",
          "output_type": "stream",
          "text": [
            "2022-04-03 05:40:48 | INFO | hw5.seq2seq | example source: and i've been having them , over 200 dirty jobs , i have them all the time , but that one that one drilled something home in a way that i just wasn't prepared for .\n",
            "2022-04-03 05:40:48 | INFO | hw5.seq2seq | example hypothesis: 我一直在做過 , 超過200個骯髒的工作 , 我一直都有他們 , 但那一滴我並不準備好 。\n",
            "2022-04-03 05:40:48 | INFO | hw5.seq2seq | example reference: 我已經做了 , 大概兩百個苦差事 , 我一天到晚都意識到一些新東西但這一項-這項驚心動魄 , 在我絲毫沒有思考準備的時候\n",
            "2022-04-03 05:40:48 | INFO | hw5.seq2seq | validation loss:\t4.0682\n",
            "2022-04-03 05:40:48 | INFO | hw5.seq2seq | BLEU = 17.67 51.1/26.1/14.1/7.9 (BP = 0.898 ratio = 0.903 hyp_len = 100937 ref_len = 111811)\n",
            "2022-04-03 05:40:48 | INFO | hw5.seq2seq | saved epoch checkpoint: /home/spiderkiller/ML2022/hw5_machine_translation/checkpoints/rnn/checkpoint146.pt\n",
            "2022-04-03 05:40:48 | INFO | hw5.seq2seq | end of epoch 146\n"
          ]
        },
        {
          "data": {
            "application/vnd.jupyter.widget-view+json": {
              "model_id": "fbc60ff93d67478aab2cc3f027736c2b",
              "version_major": 2,
              "version_minor": 0
            },
            "text/plain": [
              "train epoch 147:   0%|          | 0/791 [00:00<?, ?it/s]"
            ]
          },
          "metadata": {},
          "output_type": "display_data"
        },
        {
          "name": "stdout",
          "output_type": "stream",
          "text": [
            "2022-04-03 05:42:14 | INFO | hw5.seq2seq | training loss: 4.2437\n",
            "2022-04-03 05:42:14 | INFO | hw5.seq2seq | begin validation\n"
          ]
        },
        {
          "data": {
            "application/vnd.jupyter.widget-view+json": {
              "model_id": "3d50e3b9a2054cccb473d32b7633cb9b",
              "version_major": 2,
              "version_minor": 0
            },
            "text/plain": [
              "validation:   0%|          | 0/22 [00:00<?, ?it/s]"
            ]
          },
          "metadata": {},
          "output_type": "display_data"
        },
        {
          "name": "stdout",
          "output_type": "stream",
          "text": [
            "2022-04-03 05:42:41 | INFO | hw5.seq2seq | example source: i want to talk about the transformed media landscape , and what it means for anybody who has a message that they want to get out to anywhere in the world .\n",
            "2022-04-03 05:42:41 | INFO | hw5.seq2seq | example hypothesis: 我想談的是轉變媒體景觀 , 而這意味著任何人都有訊息 , 他們想要從世界各地的訊息傳遞訊息 。\n",
            "2022-04-03 05:42:41 | INFO | hw5.seq2seq | example reference: 我想先談論媒體工具轉變的整個架構和這對於任何訊息想要散播到世界各地的人來說意味著什麼\n",
            "2022-04-03 05:42:41 | INFO | hw5.seq2seq | validation loss:\t4.0614\n",
            "2022-04-03 05:42:41 | INFO | hw5.seq2seq | BLEU = 17.58 51.4/26.2/14.1/8.0 (BP = 0.890 ratio = 0.896 hyp_len = 100167 ref_len = 111811)\n",
            "2022-04-03 05:42:41 | INFO | hw5.seq2seq | saved epoch checkpoint: /home/spiderkiller/ML2022/hw5_machine_translation/checkpoints/rnn/checkpoint147.pt\n",
            "2022-04-03 05:42:41 | INFO | hw5.seq2seq | end of epoch 147\n"
          ]
        },
        {
          "data": {
            "application/vnd.jupyter.widget-view+json": {
              "model_id": "d14f55812e554fd2bec72b2591802918",
              "version_major": 2,
              "version_minor": 0
            },
            "text/plain": [
              "train epoch 148:   0%|          | 0/791 [00:00<?, ?it/s]"
            ]
          },
          "metadata": {},
          "output_type": "display_data"
        },
        {
          "name": "stdout",
          "output_type": "stream",
          "text": [
            "2022-04-03 05:44:05 | INFO | hw5.seq2seq | training loss: 4.2428\n",
            "2022-04-03 05:44:05 | INFO | hw5.seq2seq | begin validation\n"
          ]
        },
        {
          "data": {
            "application/vnd.jupyter.widget-view+json": {
              "model_id": "ccf5197057194714bcbccf1f9d1e6f2c",
              "version_major": 2,
              "version_minor": 0
            },
            "text/plain": [
              "validation:   0%|          | 0/22 [00:00<?, ?it/s]"
            ]
          },
          "metadata": {},
          "output_type": "display_data"
        },
        {
          "name": "stdout",
          "output_type": "stream",
          "text": [
            "2022-04-03 05:44:32 | INFO | hw5.seq2seq | example source: on the way there , we flew by earth and we took a few pictures to test our cameras .\n",
            "2022-04-03 05:44:32 | INFO | hw5.seq2seq | example hypothesis: 順便一提 , 我們用地球來測試我們的攝影機來測試我們的相機 。\n",
            "2022-04-03 05:44:32 | INFO | hw5.seq2seq | example reference: 在途中 , 我們飛經地球並拍了一些照片以測試我們的相機 。\n",
            "2022-04-03 05:44:32 | INFO | hw5.seq2seq | validation loss:\t4.0664\n",
            "2022-04-03 05:44:32 | INFO | hw5.seq2seq | BLEU = 17.62 51.0/25.8/13.8/7.8 (BP = 0.908 ratio = 0.912 hyp_len = 101984 ref_len = 111811)\n",
            "2022-04-03 05:44:32 | INFO | hw5.seq2seq | saved epoch checkpoint: /home/spiderkiller/ML2022/hw5_machine_translation/checkpoints/rnn/checkpoint148.pt\n",
            "2022-04-03 05:44:32 | INFO | hw5.seq2seq | end of epoch 148\n"
          ]
        },
        {
          "data": {
            "application/vnd.jupyter.widget-view+json": {
              "model_id": "fd824f6532f4471cb695c9317dadc9a4",
              "version_major": 2,
              "version_minor": 0
            },
            "text/plain": [
              "train epoch 149:   0%|          | 0/791 [00:00<?, ?it/s]"
            ]
          },
          "metadata": {},
          "output_type": "display_data"
        },
        {
          "name": "stdout",
          "output_type": "stream",
          "text": [
            "2022-04-03 05:45:57 | INFO | hw5.seq2seq | training loss: 4.2478\n",
            "2022-04-03 05:45:57 | INFO | hw5.seq2seq | begin validation\n"
          ]
        },
        {
          "data": {
            "application/vnd.jupyter.widget-view+json": {
              "model_id": "1af7044c18ea41a3a195a3886abf7306",
              "version_major": 2,
              "version_minor": 0
            },
            "text/plain": [
              "validation:   0%|          | 0/22 [00:00<?, ?it/s]"
            ]
          },
          "metadata": {},
          "output_type": "display_data"
        },
        {
          "name": "stdout",
          "output_type": "stream",
          "text": [
            "2022-04-03 05:46:22 | INFO | hw5.seq2seq | example source: now , adults seem to have a prevalently restrictive attitude towards kids , from every \" don't do that , don't do this \" in the school handbook , to restrictions on school internet use .\n",
            "2022-04-03 05:46:22 | INFO | hw5.seq2seq | example hypothesis: 大人似乎有正確的成人似乎有正確的態度 , 從學校的角度來看 , 不要這樣做 。\n",
            "2022-04-03 05:46:22 | INFO | hw5.seq2seq | example reference: 大人好像都喜歡管小孩只要是任何違反校規的事都不能做連學校上網也有限制\n",
            "2022-04-03 05:46:22 | INFO | hw5.seq2seq | validation loss:\t4.0647\n",
            "2022-04-03 05:46:22 | INFO | hw5.seq2seq | BLEU = 17.22 51.9/26.5/14.2/8.1 (BP = 0.863 ratio = 0.872 hyp_len = 97496 ref_len = 111811)\n",
            "2022-04-03 05:46:22 | INFO | hw5.seq2seq | saved epoch checkpoint: /home/spiderkiller/ML2022/hw5_machine_translation/checkpoints/rnn/checkpoint149.pt\n",
            "2022-04-03 05:46:22 | INFO | hw5.seq2seq | end of epoch 149\n"
          ]
        },
        {
          "data": {
            "application/vnd.jupyter.widget-view+json": {
              "model_id": "bac4de3fb6d342998d4b84fda5729dd0",
              "version_major": 2,
              "version_minor": 0
            },
            "text/plain": [
              "train epoch 150:   0%|          | 0/791 [00:00<?, ?it/s]"
            ]
          },
          "metadata": {},
          "output_type": "display_data"
        },
        {
          "name": "stdout",
          "output_type": "stream",
          "text": [
            "2022-04-03 05:47:50 | INFO | hw5.seq2seq | training loss: 4.2429\n",
            "2022-04-03 05:47:50 | INFO | hw5.seq2seq | begin validation\n"
          ]
        },
        {
          "data": {
            "application/vnd.jupyter.widget-view+json": {
              "model_id": "7b07e07308e2473cb7fed6c3a21b7d1b",
              "version_major": 2,
              "version_minor": 0
            },
            "text/plain": [
              "validation:   0%|          | 0/22 [00:00<?, ?it/s]"
            ]
          },
          "metadata": {},
          "output_type": "display_data"
        },
        {
          "name": "stdout",
          "output_type": "stream",
          "text": [
            "2022-04-03 05:48:18 | INFO | hw5.seq2seq | example source: so how would you divide a 4x4 , 10x10 , or 32x32 canvas ?\n",
            "2022-04-03 05:48:18 | INFO | hw5.seq2seq | example hypothesis: 所以 , 你要如何分析4x4 , 10x10 , 或3x3x32個可行 ?\n",
            "2022-04-03 05:48:18 | INFO | hw5.seq2seq | example reference: 所以 , 你要如何分割一張4x4、10x10 , 或32x32的畫布 ?\n",
            "2022-04-03 05:48:18 | INFO | hw5.seq2seq | validation loss:\t4.0703\n",
            "2022-04-03 05:48:18 | INFO | hw5.seq2seq | BLEU = 17.96 50.7/25.8/14.0/7.9 (BP = 0.920 ratio = 0.923 hyp_len = 103207 ref_len = 111811)\n",
            "2022-04-03 05:48:18 | INFO | hw5.seq2seq | saved epoch checkpoint: /home/spiderkiller/ML2022/hw5_machine_translation/checkpoints/rnn/checkpoint150.pt\n",
            "2022-04-03 05:48:18 | INFO | hw5.seq2seq | end of epoch 150\n"
          ]
        },
        {
          "data": {
            "application/vnd.jupyter.widget-view+json": {
              "model_id": "3098ec6d2e7a4b6bb8893c4e8b94a599",
              "version_major": 2,
              "version_minor": 0
            },
            "text/plain": [
              "train epoch 151:   0%|          | 0/791 [00:00<?, ?it/s]"
            ]
          },
          "metadata": {},
          "output_type": "display_data"
        },
        {
          "name": "stdout",
          "output_type": "stream",
          "text": [
            "2022-04-03 05:49:45 | INFO | hw5.seq2seq | training loss: 4.2436\n",
            "2022-04-03 05:49:45 | INFO | hw5.seq2seq | begin validation\n"
          ]
        },
        {
          "data": {
            "application/vnd.jupyter.widget-view+json": {
              "model_id": "9cf67e99ac6a47b1ac6cfe24d828bed5",
              "version_major": 2,
              "version_minor": 0
            },
            "text/plain": [
              "validation:   0%|          | 0/22 [00:00<?, ?it/s]"
            ]
          },
          "metadata": {},
          "output_type": "display_data"
        },
        {
          "name": "stdout",
          "output_type": "stream",
          "text": [
            "2022-04-03 05:50:10 | INFO | hw5.seq2seq | example source: we can push through that .\n",
            "2022-04-03 05:50:10 | INFO | hw5.seq2seq | example hypothesis: 我們可以透過這點來推動 。\n",
            "2022-04-03 05:50:10 | INFO | hw5.seq2seq | example reference: 我們可以衝破這些限制 。\n",
            "2022-04-03 05:50:10 | INFO | hw5.seq2seq | validation loss:\t4.0705\n",
            "2022-04-03 05:50:10 | INFO | hw5.seq2seq | BLEU = 17.42 52.1/26.6/14.3/8.1 (BP = 0.870 ratio = 0.878 hyp_len = 98135 ref_len = 111811)\n",
            "2022-04-03 05:50:10 | INFO | hw5.seq2seq | saved epoch checkpoint: /home/spiderkiller/ML2022/hw5_machine_translation/checkpoints/rnn/checkpoint151.pt\n",
            "2022-04-03 05:50:10 | INFO | hw5.seq2seq | end of epoch 151\n"
          ]
        },
        {
          "data": {
            "application/vnd.jupyter.widget-view+json": {
              "model_id": "2a23d7d06ab84e728222419774f11488",
              "version_major": 2,
              "version_minor": 0
            },
            "text/plain": [
              "train epoch 152:   0%|          | 0/791 [00:00<?, ?it/s]"
            ]
          },
          "metadata": {},
          "output_type": "display_data"
        },
        {
          "name": "stdout",
          "output_type": "stream",
          "text": [
            "2022-04-03 05:51:35 | INFO | hw5.seq2seq | training loss: 4.2434\n",
            "2022-04-03 05:51:35 | INFO | hw5.seq2seq | begin validation\n"
          ]
        },
        {
          "data": {
            "application/vnd.jupyter.widget-view+json": {
              "model_id": "837bfa5667df4a3eb3202748be650cb1",
              "version_major": 2,
              "version_minor": 0
            },
            "text/plain": [
              "validation:   0%|          | 0/22 [00:00<?, ?it/s]"
            ]
          },
          "metadata": {},
          "output_type": "display_data"
        },
        {
          "name": "stdout",
          "output_type": "stream",
          "text": [
            "2022-04-03 05:52:02 | INFO | hw5.seq2seq | example source: jeff han: i'm a research scientist at nyu in new york .\n",
            "2022-04-03 05:52:02 | INFO | hw5.seq2seq | example hypothesis: 傑夫森:我是紐約科學家在紐約的小研究 。\n",
            "2022-04-03 05:52:02 | INFO | hw5.seq2seq | example reference: 韓傑夫:我是紐約市紐約大學的研究科學家 。\n",
            "2022-04-03 05:52:02 | INFO | hw5.seq2seq | validation loss:\t4.0692\n",
            "2022-04-03 05:52:02 | INFO | hw5.seq2seq | BLEU = 17.54 51.6/26.3/14.2/8.1 (BP = 0.883 ratio = 0.889 hyp_len = 99425 ref_len = 111811)\n",
            "2022-04-03 05:52:02 | INFO | hw5.seq2seq | saved epoch checkpoint: /home/spiderkiller/ML2022/hw5_machine_translation/checkpoints/rnn/checkpoint152.pt\n",
            "2022-04-03 05:52:02 | INFO | hw5.seq2seq | end of epoch 152\n"
          ]
        },
        {
          "data": {
            "application/vnd.jupyter.widget-view+json": {
              "model_id": "9d0e7e51f99e4107ba7bff31cba15699",
              "version_major": 2,
              "version_minor": 0
            },
            "text/plain": [
              "train epoch 153:   0%|          | 0/791 [00:00<?, ?it/s]"
            ]
          },
          "metadata": {},
          "output_type": "display_data"
        },
        {
          "name": "stdout",
          "output_type": "stream",
          "text": [
            "2022-04-03 05:53:28 | INFO | hw5.seq2seq | training loss: 4.2416\n",
            "2022-04-03 05:53:28 | INFO | hw5.seq2seq | begin validation\n"
          ]
        },
        {
          "data": {
            "application/vnd.jupyter.widget-view+json": {
              "model_id": "2bd44ca0366c40f6835194b19621b828",
              "version_major": 2,
              "version_minor": 0
            },
            "text/plain": [
              "validation:   0%|          | 0/22 [00:00<?, ?it/s]"
            ]
          },
          "metadata": {},
          "output_type": "display_data"
        },
        {
          "name": "stdout",
          "output_type": "stream",
          "text": [
            "2022-04-03 05:53:54 | INFO | hw5.seq2seq | example source: how do i integrate this information into the longer course of my life ?\n",
            "2022-04-03 05:53:54 | INFO | hw5.seq2seq | example hypothesis: 我如何把這些資訊轉變成我的生命的長程序 ?\n",
            "2022-04-03 05:53:54 | INFO | hw5.seq2seq | example reference: 我怎樣可以在我以後的生活中利用這些信息呢 ?\n",
            "2022-04-03 05:53:54 | INFO | hw5.seq2seq | validation loss:\t4.0781\n",
            "2022-04-03 05:53:54 | INFO | hw5.seq2seq | BLEU = 17.10 52.7/27.0/14.6/8.2 (BP = 0.841 ratio = 0.852 hyp_len = 95303 ref_len = 111811)\n",
            "2022-04-03 05:53:54 | INFO | hw5.seq2seq | saved epoch checkpoint: /home/spiderkiller/ML2022/hw5_machine_translation/checkpoints/rnn/checkpoint153.pt\n",
            "2022-04-03 05:53:54 | INFO | hw5.seq2seq | end of epoch 153\n"
          ]
        },
        {
          "data": {
            "application/vnd.jupyter.widget-view+json": {
              "model_id": "886865c3c6d644f0be597bf5f7c78dcf",
              "version_major": 2,
              "version_minor": 0
            },
            "text/plain": [
              "train epoch 154:   0%|          | 0/791 [00:00<?, ?it/s]"
            ]
          },
          "metadata": {},
          "output_type": "display_data"
        },
        {
          "name": "stdout",
          "output_type": "stream",
          "text": [
            "2022-04-03 05:55:20 | INFO | hw5.seq2seq | training loss: 4.2403\n",
            "2022-04-03 05:55:20 | INFO | hw5.seq2seq | begin validation\n"
          ]
        },
        {
          "data": {
            "application/vnd.jupyter.widget-view+json": {
              "model_id": "3bae4c640d4e4fa3864508db5747be91",
              "version_major": 2,
              "version_minor": 0
            },
            "text/plain": [
              "validation:   0%|          | 0/22 [00:00<?, ?it/s]"
            ]
          },
          "metadata": {},
          "output_type": "display_data"
        },
        {
          "name": "stdout",
          "output_type": "stream",
          "text": [
            "2022-04-03 05:55:46 | INFO | hw5.seq2seq | example source: and we do care about planets like the earth because by now we understood that life as a chemical system really needs a smaller planet with water and with rocks and with a lot of complex chemistry to originate , to emerge , to survive .\n",
            "2022-04-03 05:55:46 | INFO | hw5.seq2seq | example hypothesis: 我們在乎地球的行星 , 因為現在我們了解到地球的化學系統真的需要更小的行星和岩石和岩石一起生存 。\n",
            "2022-04-03 05:55:46 | INFO | hw5.seq2seq | example reference: 這件事對我們很重要 , 因為現在我們所明白的是 , 生命有如一個化學體系般它需要比較小的行星有水有土壤岩石以及一些相當複雜的化學然後生命得以起源 , 出現 , 生存\n",
            "2022-04-03 05:55:46 | INFO | hw5.seq2seq | validation loss:\t4.0746\n",
            "2022-04-03 05:55:46 | INFO | hw5.seq2seq | BLEU = 17.56 51.9/26.5/14.3/8.1 (BP = 0.880 ratio = 0.886 hyp_len = 99099 ref_len = 111811)\n",
            "2022-04-03 05:55:46 | INFO | hw5.seq2seq | saved epoch checkpoint: /home/spiderkiller/ML2022/hw5_machine_translation/checkpoints/rnn/checkpoint154.pt\n",
            "2022-04-03 05:55:46 | INFO | hw5.seq2seq | end of epoch 154\n"
          ]
        },
        {
          "data": {
            "application/vnd.jupyter.widget-view+json": {
              "model_id": "758f89ed34a04ecd8a48dd7287ecf86b",
              "version_major": 2,
              "version_minor": 0
            },
            "text/plain": [
              "train epoch 155:   0%|          | 0/791 [00:00<?, ?it/s]"
            ]
          },
          "metadata": {},
          "output_type": "display_data"
        },
        {
          "name": "stdout",
          "output_type": "stream",
          "text": [
            "2022-04-03 05:57:12 | INFO | hw5.seq2seq | training loss: 4.2422\n",
            "2022-04-03 05:57:12 | INFO | hw5.seq2seq | begin validation\n"
          ]
        },
        {
          "data": {
            "application/vnd.jupyter.widget-view+json": {
              "model_id": "f8fe760007a04cc99e0d25fbf17d3ea5",
              "version_major": 2,
              "version_minor": 0
            },
            "text/plain": [
              "validation:   0%|          | 0/22 [00:00<?, ?it/s]"
            ]
          },
          "metadata": {},
          "output_type": "display_data"
        },
        {
          "name": "stdout",
          "output_type": "stream",
          "text": [
            "2022-04-03 05:57:43 | INFO | hw5.seq2seq | example source: it's the bottom line , the dollar line .\n",
            "2022-04-03 05:57:43 | INFO | hw5.seq2seq | example hypothesis: 這是底線 , 黃色線 。\n",
            "2022-04-03 05:57:43 | INFO | hw5.seq2seq | example reference: 這是底線 , 金錢堆起的線\n",
            "2022-04-03 05:57:43 | INFO | hw5.seq2seq | validation loss:\t4.0695\n",
            "2022-04-03 05:57:43 | INFO | hw5.seq2seq | BLEU = 17.03 52.6/26.9/14.5/8.2 (BP = 0.840 ratio = 0.851 hyp_len = 95183 ref_len = 111811)\n",
            "2022-04-03 05:57:43 | INFO | hw5.seq2seq | saved epoch checkpoint: /home/spiderkiller/ML2022/hw5_machine_translation/checkpoints/rnn/checkpoint155.pt\n",
            "2022-04-03 05:57:43 | INFO | hw5.seq2seq | end of epoch 155\n"
          ]
        },
        {
          "data": {
            "application/vnd.jupyter.widget-view+json": {
              "model_id": "72c8e2a041bd45da90fc6a53811441dc",
              "version_major": 2,
              "version_minor": 0
            },
            "text/plain": [
              "train epoch 156:   0%|          | 0/791 [00:00<?, ?it/s]"
            ]
          },
          "metadata": {},
          "output_type": "display_data"
        },
        {
          "name": "stdout",
          "output_type": "stream",
          "text": [
            "2022-04-03 05:59:09 | INFO | hw5.seq2seq | training loss: 4.2424\n",
            "2022-04-03 05:59:09 | INFO | hw5.seq2seq | begin validation\n"
          ]
        },
        {
          "data": {
            "application/vnd.jupyter.widget-view+json": {
              "model_id": "0eb8d03d52b646afb9366b33a345f916",
              "version_major": 2,
              "version_minor": 0
            },
            "text/plain": [
              "validation:   0%|          | 0/22 [00:00<?, ?it/s]"
            ]
          },
          "metadata": {},
          "output_type": "display_data"
        },
        {
          "name": "stdout",
          "output_type": "stream",
          "text": [
            "2022-04-03 05:59:34 | INFO | hw5.seq2seq | example source: but i sat there for hours , and nothing came to mind .\n",
            "2022-04-03 05:59:34 | INFO | hw5.seq2seq | example hypothesis: 但我坐在那裡了幾小時 , 沒有想過 。\n",
            "2022-04-03 05:59:34 | INFO | hw5.seq2seq | example reference: 我坐了好幾個小時卻一點想法都沒有\n",
            "2022-04-03 05:59:34 | INFO | hw5.seq2seq | validation loss:\t4.0671\n",
            "2022-04-03 05:59:34 | INFO | hw5.seq2seq | BLEU = 17.40 51.7/26.4/14.2/8.1 (BP = 0.874 ratio = 0.881 hyp_len = 98552 ref_len = 111811)\n",
            "2022-04-03 05:59:34 | INFO | hw5.seq2seq | saved epoch checkpoint: /home/spiderkiller/ML2022/hw5_machine_translation/checkpoints/rnn/checkpoint156.pt\n",
            "2022-04-03 05:59:34 | INFO | hw5.seq2seq | end of epoch 156\n"
          ]
        },
        {
          "data": {
            "application/vnd.jupyter.widget-view+json": {
              "model_id": "8eb97d8da910411a8feb704f1f4172ad",
              "version_major": 2,
              "version_minor": 0
            },
            "text/plain": [
              "train epoch 157:   0%|          | 0/791 [00:00<?, ?it/s]"
            ]
          },
          "metadata": {},
          "output_type": "display_data"
        },
        {
          "name": "stdout",
          "output_type": "stream",
          "text": [
            "2022-04-03 06:00:59 | INFO | hw5.seq2seq | training loss: 4.2412\n",
            "2022-04-03 06:00:59 | INFO | hw5.seq2seq | begin validation\n"
          ]
        },
        {
          "data": {
            "application/vnd.jupyter.widget-view+json": {
              "model_id": "8466992008544cc59f9de9ca742bca79",
              "version_major": 2,
              "version_minor": 0
            },
            "text/plain": [
              "validation:   0%|          | 0/22 [00:00<?, ?it/s]"
            ]
          },
          "metadata": {},
          "output_type": "display_data"
        },
        {
          "name": "stdout",
          "output_type": "stream",
          "text": [
            "2022-04-03 06:01:25 | INFO | hw5.seq2seq | example source: let me tell you about mahabuba .\n",
            "2022-04-03 06:01:25 | INFO | hw5.seq2seq | example hypothesis: 讓我告訴你mahabubababa 。\n",
            "2022-04-03 06:01:25 | INFO | hw5.seq2seq | example reference: 分享mahabuba的故事\n",
            "2022-04-03 06:01:25 | INFO | hw5.seq2seq | validation loss:\t4.0718\n",
            "2022-04-03 06:01:25 | INFO | hw5.seq2seq | BLEU = 17.20 51.9/26.4/14.2/8.1 (BP = 0.862 ratio = 0.871 hyp_len = 97385 ref_len = 111811)\n",
            "2022-04-03 06:01:25 | INFO | hw5.seq2seq | saved epoch checkpoint: /home/spiderkiller/ML2022/hw5_machine_translation/checkpoints/rnn/checkpoint157.pt\n",
            "2022-04-03 06:01:25 | INFO | hw5.seq2seq | end of epoch 157\n"
          ]
        },
        {
          "data": {
            "application/vnd.jupyter.widget-view+json": {
              "model_id": "2afddbbb6f944c84a86ab2b338696263",
              "version_major": 2,
              "version_minor": 0
            },
            "text/plain": [
              "train epoch 158:   0%|          | 0/791 [00:00<?, ?it/s]"
            ]
          },
          "metadata": {},
          "output_type": "display_data"
        },
        {
          "name": "stdout",
          "output_type": "stream",
          "text": [
            "2022-04-03 06:02:54 | INFO | hw5.seq2seq | training loss: 4.2396\n",
            "2022-04-03 06:02:54 | INFO | hw5.seq2seq | begin validation\n"
          ]
        },
        {
          "data": {
            "application/vnd.jupyter.widget-view+json": {
              "model_id": "db29a7ee746c484cb21b9958248091de",
              "version_major": 2,
              "version_minor": 0
            },
            "text/plain": [
              "validation:   0%|          | 0/22 [00:00<?, ?it/s]"
            ]
          },
          "metadata": {},
          "output_type": "display_data"
        },
        {
          "name": "stdout",
          "output_type": "stream",
          "text": [
            "2022-04-03 06:03:22 | INFO | hw5.seq2seq | example source: a volunteer would write a sentence on the chalkboard , and the other students had to guess whether it was a truth or a lie .\n",
            "2022-04-03 06:03:22 | INFO | hw5.seq2seq | example hypothesis: 志願者會寫一句話 , 其他學生必須猜測 , 其他學生必須猜測 , 或是謊言 。\n",
            "2022-04-03 06:03:22 | INFO | hw5.seq2seq | example reference: 一個學生在黑板上寫了一句話另一個學生要去猜這是實話還是謊言 。\n",
            "2022-04-03 06:03:22 | INFO | hw5.seq2seq | validation loss:\t4.0683\n",
            "2022-04-03 06:03:22 | INFO | hw5.seq2seq | BLEU = 17.62 51.6/26.4/14.2/8.1 (BP = 0.886 ratio = 0.892 hyp_len = 99715 ref_len = 111811)\n",
            "2022-04-03 06:03:22 | INFO | hw5.seq2seq | saved epoch checkpoint: /home/spiderkiller/ML2022/hw5_machine_translation/checkpoints/rnn/checkpoint158.pt\n",
            "2022-04-03 06:03:22 | INFO | hw5.seq2seq | end of epoch 158\n"
          ]
        },
        {
          "data": {
            "application/vnd.jupyter.widget-view+json": {
              "model_id": "9a169dd902894a6a8eb93f0f92333179",
              "version_major": 2,
              "version_minor": 0
            },
            "text/plain": [
              "train epoch 159:   0%|          | 0/791 [00:00<?, ?it/s]"
            ]
          },
          "metadata": {},
          "output_type": "display_data"
        },
        {
          "name": "stdout",
          "output_type": "stream",
          "text": [
            "2022-04-03 06:04:48 | INFO | hw5.seq2seq | training loss: 4.2389\n",
            "2022-04-03 06:04:48 | INFO | hw5.seq2seq | begin validation\n"
          ]
        },
        {
          "data": {
            "application/vnd.jupyter.widget-view+json": {
              "model_id": "b04bca42117a43349bff0f5a9ebcad01",
              "version_major": 2,
              "version_minor": 0
            },
            "text/plain": [
              "validation:   0%|          | 0/22 [00:00<?, ?it/s]"
            ]
          },
          "metadata": {},
          "output_type": "display_data"
        },
        {
          "name": "stdout",
          "output_type": "stream",
          "text": [
            "2022-04-03 06:05:11 | INFO | hw5.seq2seq | example source: it seems a little bit crazy , but it's not .\n",
            "2022-04-03 06:05:11 | INFO | hw5.seq2seq | example hypothesis: 這似乎有點瘋狂 , 但不是 。\n",
            "2022-04-03 06:05:11 | INFO | hw5.seq2seq | example reference: 聽起來有點假但是不是的\n",
            "2022-04-03 06:05:11 | INFO | hw5.seq2seq | validation loss:\t4.0804\n",
            "2022-04-03 06:05:11 | INFO | hw5.seq2seq | BLEU = 17.01 53.2/27.3/14.8/8.4 (BP = 0.826 ratio = 0.839 hyp_len = 93840 ref_len = 111811)\n",
            "2022-04-03 06:05:11 | INFO | hw5.seq2seq | saved epoch checkpoint: /home/spiderkiller/ML2022/hw5_machine_translation/checkpoints/rnn/checkpoint159.pt\n",
            "2022-04-03 06:05:11 | INFO | hw5.seq2seq | end of epoch 159\n"
          ]
        },
        {
          "data": {
            "application/vnd.jupyter.widget-view+json": {
              "model_id": "8b17f86517f34302a027d0a8208a065c",
              "version_major": 2,
              "version_minor": 0
            },
            "text/plain": [
              "train epoch 160:   0%|          | 0/791 [00:00<?, ?it/s]"
            ]
          },
          "metadata": {},
          "output_type": "display_data"
        },
        {
          "name": "stdout",
          "output_type": "stream",
          "text": [
            "2022-04-03 06:06:37 | INFO | hw5.seq2seq | training loss: 4.2414\n",
            "2022-04-03 06:06:37 | INFO | hw5.seq2seq | begin validation\n"
          ]
        },
        {
          "data": {
            "application/vnd.jupyter.widget-view+json": {
              "model_id": "7daeb932473a415485c7add84e0f9fe8",
              "version_major": 2,
              "version_minor": 0
            },
            "text/plain": [
              "validation:   0%|          | 0/22 [00:00<?, ?it/s]"
            ]
          },
          "metadata": {},
          "output_type": "display_data"
        },
        {
          "name": "stdout",
          "output_type": "stream",
          "text": [
            "2022-04-03 06:07:03 | INFO | hw5.seq2seq | example source: number five: entrepreneurship .\n",
            "2022-04-03 06:07:03 | INFO | hw5.seq2seq | example hypothesis: 第五:企業家 。\n",
            "2022-04-03 06:07:03 | INFO | hw5.seq2seq | example reference: 五:創業 。\n",
            "2022-04-03 06:07:03 | INFO | hw5.seq2seq | validation loss:\t4.0723\n",
            "2022-04-03 06:07:03 | INFO | hw5.seq2seq | BLEU = 17.28 51.9/26.5/14.3/8.1 (BP = 0.865 ratio = 0.873 hyp_len = 97656 ref_len = 111811)\n",
            "2022-04-03 06:07:03 | INFO | hw5.seq2seq | saved epoch checkpoint: /home/spiderkiller/ML2022/hw5_machine_translation/checkpoints/rnn/checkpoint160.pt\n",
            "2022-04-03 06:07:03 | INFO | hw5.seq2seq | end of epoch 160\n"
          ]
        },
        {
          "data": {
            "application/vnd.jupyter.widget-view+json": {
              "model_id": "41eddb7507154ad2a9c4017e6995ec4c",
              "version_major": 2,
              "version_minor": 0
            },
            "text/plain": [
              "train epoch 161:   0%|          | 0/791 [00:00<?, ?it/s]"
            ]
          },
          "metadata": {},
          "output_type": "display_data"
        },
        {
          "name": "stdout",
          "output_type": "stream",
          "text": [
            "2022-04-03 06:08:29 | INFO | hw5.seq2seq | training loss: 4.2407\n",
            "2022-04-03 06:08:29 | INFO | hw5.seq2seq | begin validation\n"
          ]
        },
        {
          "data": {
            "application/vnd.jupyter.widget-view+json": {
              "model_id": "afb935d4782548319b347b9c1dba17ab",
              "version_major": 2,
              "version_minor": 0
            },
            "text/plain": [
              "validation:   0%|          | 0/22 [00:00<?, ?it/s]"
            ]
          },
          "metadata": {},
          "output_type": "display_data"
        },
        {
          "name": "stdout",
          "output_type": "stream",
          "text": [
            "2022-04-03 06:08:56 | INFO | hw5.seq2seq | example source: now this is statistically impossible .\n",
            "2022-04-03 06:08:56 | INFO | hw5.seq2seq | example hypothesis: 這是統計上不可能的 。\n",
            "2022-04-03 06:08:56 | INFO | hw5.seq2seq | example reference: 這是完全不可能的\n",
            "2022-04-03 06:08:56 | INFO | hw5.seq2seq | validation loss:\t4.0680\n",
            "2022-04-03 06:08:56 | INFO | hw5.seq2seq | BLEU = 17.20 51.6/26.3/14.1/8.0 (BP = 0.868 ratio = 0.876 hyp_len = 97978 ref_len = 111811)\n",
            "2022-04-03 06:08:56 | INFO | hw5.seq2seq | saved epoch checkpoint: /home/spiderkiller/ML2022/hw5_machine_translation/checkpoints/rnn/checkpoint161.pt\n",
            "2022-04-03 06:08:56 | INFO | hw5.seq2seq | end of epoch 161\n"
          ]
        },
        {
          "data": {
            "application/vnd.jupyter.widget-view+json": {
              "model_id": "3f8c53f23b4e4249952db5046bf7035c",
              "version_major": 2,
              "version_minor": 0
            },
            "text/plain": [
              "train epoch 162:   0%|          | 0/791 [00:00<?, ?it/s]"
            ]
          },
          "metadata": {},
          "output_type": "display_data"
        },
        {
          "name": "stdout",
          "output_type": "stream",
          "text": [
            "2022-04-03 06:10:21 | INFO | hw5.seq2seq | training loss: 4.2391\n",
            "2022-04-03 06:10:21 | INFO | hw5.seq2seq | begin validation\n"
          ]
        },
        {
          "data": {
            "application/vnd.jupyter.widget-view+json": {
              "model_id": "e37df83d17cd4bdb83cad3ee185eaa19",
              "version_major": 2,
              "version_minor": 0
            },
            "text/plain": [
              "validation:   0%|          | 0/22 [00:00<?, ?it/s]"
            ]
          },
          "metadata": {},
          "output_type": "display_data"
        },
        {
          "name": "stdout",
          "output_type": "stream",
          "text": [
            "2022-04-03 06:10:47 | INFO | hw5.seq2seq | example source: and the best teachers were the girls , not the boys , and they were terrific .\n",
            "2022-04-03 06:10:47 | INFO | hw5.seq2seq | example hypothesis: 而最好的老師是女孩 , 而不是男孩 , 而是很棒 。\n",
            "2022-04-03 06:10:47 | INFO | hw5.seq2seq | example reference: 最棒的老師都是女孩子 , 而不是男孩 。 她們都很厲害 。\n",
            "2022-04-03 06:10:47 | INFO | hw5.seq2seq | validation loss:\t4.0737\n",
            "2022-04-03 06:10:47 | INFO | hw5.seq2seq | BLEU = 17.09 52.1/26.5/14.3/8.1 (BP = 0.854 ratio = 0.864 hyp_len = 96597 ref_len = 111811)\n",
            "2022-04-03 06:10:47 | INFO | hw5.seq2seq | saved epoch checkpoint: /home/spiderkiller/ML2022/hw5_machine_translation/checkpoints/rnn/checkpoint162.pt\n",
            "2022-04-03 06:10:47 | INFO | hw5.seq2seq | end of epoch 162\n"
          ]
        },
        {
          "data": {
            "application/vnd.jupyter.widget-view+json": {
              "model_id": "f57be0a4740044ba87e591c91042ba26",
              "version_major": 2,
              "version_minor": 0
            },
            "text/plain": [
              "train epoch 163:   0%|          | 0/791 [00:00<?, ?it/s]"
            ]
          },
          "metadata": {},
          "output_type": "display_data"
        },
        {
          "name": "stdout",
          "output_type": "stream",
          "text": [
            "2022-04-03 06:12:13 | INFO | hw5.seq2seq | training loss: 4.2392\n",
            "2022-04-03 06:12:13 | INFO | hw5.seq2seq | begin validation\n"
          ]
        },
        {
          "data": {
            "application/vnd.jupyter.widget-view+json": {
              "model_id": "cd0694c02688401ca3b9a6dce768f2b1",
              "version_major": 2,
              "version_minor": 0
            },
            "text/plain": [
              "validation:   0%|          | 0/22 [00:00<?, ?it/s]"
            ]
          },
          "metadata": {},
          "output_type": "display_data"
        },
        {
          "name": "stdout",
          "output_type": "stream",
          "text": [
            "2022-04-03 06:12:39 | INFO | hw5.seq2seq | example source: it's what those light and dark surrounds meant for your behavior in the past .\n",
            "2022-04-03 06:12:39 | INFO | hw5.seq2seq | example hypothesis: 這是那些光和黑暗周圍的意義 。\n",
            "2022-04-03 06:12:39 | INFO | hw5.seq2seq | example reference: 而是周圍亮暗這件事對你過去的行為意味著什麼\n",
            "2022-04-03 06:12:39 | INFO | hw5.seq2seq | validation loss:\t4.0819\n",
            "2022-04-03 06:12:39 | INFO | hw5.seq2seq | BLEU = 16.95 53.0/27.2/14.6/8.3 (BP = 0.828 ratio = 0.842 hyp_len = 94099 ref_len = 111811)\n",
            "2022-04-03 06:12:39 | INFO | hw5.seq2seq | saved epoch checkpoint: /home/spiderkiller/ML2022/hw5_machine_translation/checkpoints/rnn/checkpoint163.pt\n",
            "2022-04-03 06:12:39 | INFO | hw5.seq2seq | end of epoch 163\n"
          ]
        },
        {
          "data": {
            "application/vnd.jupyter.widget-view+json": {
              "model_id": "26e7f95cfd0f44b7b361874576343212",
              "version_major": 2,
              "version_minor": 0
            },
            "text/plain": [
              "train epoch 164:   0%|          | 0/791 [00:00<?, ?it/s]"
            ]
          },
          "metadata": {},
          "output_type": "display_data"
        },
        {
          "name": "stdout",
          "output_type": "stream",
          "text": [
            "2022-04-03 06:14:06 | INFO | hw5.seq2seq | training loss: 4.2381\n",
            "2022-04-03 06:14:06 | INFO | hw5.seq2seq | begin validation\n"
          ]
        },
        {
          "data": {
            "application/vnd.jupyter.widget-view+json": {
              "model_id": "5a9a38271a64474a8cc8f272b313c670",
              "version_major": 2,
              "version_minor": 0
            },
            "text/plain": [
              "validation:   0%|          | 0/22 [00:00<?, ?it/s]"
            ]
          },
          "metadata": {},
          "output_type": "display_data"
        },
        {
          "name": "stdout",
          "output_type": "stream",
          "text": [
            "2022-04-03 06:14:32 | INFO | hw5.seq2seq | example source: as oil prices go up , energy patents go up .\n",
            "2022-04-03 06:14:32 | INFO | hw5.seq2seq | example hypothesis: 身為石油價價格上升 , 能源專利會上升 。\n",
            "2022-04-03 06:14:32 | INFO | hw5.seq2seq | example reference: 隨著油價上漲 , 能源專利也愈多 。\n",
            "2022-04-03 06:14:32 | INFO | hw5.seq2seq | validation loss:\t4.0683\n",
            "2022-04-03 06:14:32 | INFO | hw5.seq2seq | BLEU = 17.68 51.4/26.3/14.3/8.1 (BP = 0.890 ratio = 0.896 hyp_len = 100152 ref_len = 111811)\n",
            "2022-04-03 06:14:32 | INFO | hw5.seq2seq | saved epoch checkpoint: /home/spiderkiller/ML2022/hw5_machine_translation/checkpoints/rnn/checkpoint164.pt\n",
            "2022-04-03 06:14:32 | INFO | hw5.seq2seq | end of epoch 164\n"
          ]
        },
        {
          "data": {
            "application/vnd.jupyter.widget-view+json": {
              "model_id": "e98b20c56f5d442987a7ba79636f9a55",
              "version_major": 2,
              "version_minor": 0
            },
            "text/plain": [
              "train epoch 165:   0%|          | 0/791 [00:00<?, ?it/s]"
            ]
          },
          "metadata": {},
          "output_type": "display_data"
        },
        {
          "name": "stdout",
          "output_type": "stream",
          "text": [
            "2022-04-03 06:15:57 | INFO | hw5.seq2seq | training loss: 4.2399\n",
            "2022-04-03 06:15:57 | INFO | hw5.seq2seq | begin validation\n"
          ]
        },
        {
          "data": {
            "application/vnd.jupyter.widget-view+json": {
              "model_id": "06dd4ff4fda641618c6c63479792bf5d",
              "version_major": 2,
              "version_minor": 0
            },
            "text/plain": [
              "validation:   0%|          | 0/22 [00:00<?, ?it/s]"
            ]
          },
          "metadata": {},
          "output_type": "display_data"
        },
        {
          "name": "stdout",
          "output_type": "stream",
          "text": [
            "2022-04-03 06:16:23 | INFO | hw5.seq2seq | example source: and i remember the first letter .\n",
            "2022-04-03 06:16:23 | INFO | hw5.seq2seq | example hypothesis: 我記得第一封信 。\n",
            "2022-04-03 06:16:23 | INFO | hw5.seq2seq | example reference: 我一直記得第一封回信的內容 。\n",
            "2022-04-03 06:16:23 | INFO | hw5.seq2seq | validation loss:\t4.0689\n",
            "2022-04-03 06:16:23 | INFO | hw5.seq2seq | BLEU = 17.58 51.9/26.6/14.4/8.2 (BP = 0.874 ratio = 0.881 hyp_len = 98500 ref_len = 111811)\n",
            "2022-04-03 06:16:23 | INFO | hw5.seq2seq | saved epoch checkpoint: /home/spiderkiller/ML2022/hw5_machine_translation/checkpoints/rnn/checkpoint165.pt\n",
            "2022-04-03 06:16:23 | INFO | hw5.seq2seq | end of epoch 165\n"
          ]
        },
        {
          "data": {
            "application/vnd.jupyter.widget-view+json": {
              "model_id": "768de01783254c83bbec5cd59126413f",
              "version_major": 2,
              "version_minor": 0
            },
            "text/plain": [
              "train epoch 166:   0%|          | 0/791 [00:00<?, ?it/s]"
            ]
          },
          "metadata": {},
          "output_type": "display_data"
        },
        {
          "name": "stdout",
          "output_type": "stream",
          "text": [
            "2022-04-03 06:17:48 | INFO | hw5.seq2seq | training loss: 4.2392\n",
            "2022-04-03 06:17:48 | INFO | hw5.seq2seq | begin validation\n"
          ]
        },
        {
          "data": {
            "application/vnd.jupyter.widget-view+json": {
              "model_id": "edf9ba194e444ce4848dbdc7a644ccc5",
              "version_major": 2,
              "version_minor": 0
            },
            "text/plain": [
              "validation:   0%|          | 0/22 [00:00<?, ?it/s]"
            ]
          },
          "metadata": {},
          "output_type": "display_data"
        },
        {
          "name": "stdout",
          "output_type": "stream",
          "text": [
            "2022-04-03 06:18:15 | INFO | hw5.seq2seq | example source: and actually , i can relate to the whole like acronym thing and everything .\n",
            "2022-04-03 06:18:15 | INFO | hw5.seq2seq | example hypothesis: 事實上 , 我可以跟所有一樣的東西有關 。\n",
            "2022-04-03 06:18:15 | INFO | hw5.seq2seq | example reference: 事實上 , 我也和某些縮寫相關的事很有淵源 。\n",
            "2022-04-03 06:18:15 | INFO | hw5.seq2seq | validation loss:\t4.0705\n",
            "2022-04-03 06:18:15 | INFO | hw5.seq2seq | BLEU = 17.21 52.4/26.8/14.5/8.2 (BP = 0.850 ratio = 0.860 hyp_len = 96203 ref_len = 111811)\n",
            "2022-04-03 06:18:15 | INFO | hw5.seq2seq | saved epoch checkpoint: /home/spiderkiller/ML2022/hw5_machine_translation/checkpoints/rnn/checkpoint166.pt\n",
            "2022-04-03 06:18:15 | INFO | hw5.seq2seq | end of epoch 166\n"
          ]
        },
        {
          "data": {
            "application/vnd.jupyter.widget-view+json": {
              "model_id": "183a0e22f64f478ebbbcdeb6d81408dc",
              "version_major": 2,
              "version_minor": 0
            },
            "text/plain": [
              "train epoch 167:   0%|          | 0/791 [00:00<?, ?it/s]"
            ]
          },
          "metadata": {},
          "output_type": "display_data"
        },
        {
          "name": "stdout",
          "output_type": "stream",
          "text": [
            "2022-04-03 06:19:45 | INFO | hw5.seq2seq | training loss: 4.2360\n",
            "2022-04-03 06:19:45 | INFO | hw5.seq2seq | begin validation\n"
          ]
        },
        {
          "data": {
            "application/vnd.jupyter.widget-view+json": {
              "model_id": "cf389c225b89496786d48b2c832cca8b",
              "version_major": 2,
              "version_minor": 0
            },
            "text/plain": [
              "validation:   0%|          | 0/22 [00:00<?, ?it/s]"
            ]
          },
          "metadata": {},
          "output_type": "display_data"
        },
        {
          "name": "stdout",
          "output_type": "stream",
          "text": [
            "2022-04-03 06:20:15 | INFO | hw5.seq2seq | example source: to me , that represents hope .\n",
            "2022-04-03 06:20:15 | INFO | hw5.seq2seq | example hypothesis: 對我來說 , 這代表希望 。\n",
            "2022-04-03 06:20:15 | INFO | hw5.seq2seq | example reference: 對我而言 , 那代表的是希望 。\n",
            "2022-04-03 06:20:15 | INFO | hw5.seq2seq | validation loss:\t4.0609\n",
            "2022-04-03 06:20:15 | INFO | hw5.seq2seq | BLEU = 17.90 50.1/25.4/13.7/7.7 (BP = 0.934 ratio = 0.936 hyp_len = 104674 ref_len = 111811)\n",
            "2022-04-03 06:20:15 | INFO | hw5.seq2seq | saved epoch checkpoint: /home/spiderkiller/ML2022/hw5_machine_translation/checkpoints/rnn/checkpoint167.pt\n",
            "2022-04-03 06:20:15 | INFO | hw5.seq2seq | end of epoch 167\n"
          ]
        },
        {
          "data": {
            "application/vnd.jupyter.widget-view+json": {
              "model_id": "9f59e984e805441cb2f77a1d5e09b107",
              "version_major": 2,
              "version_minor": 0
            },
            "text/plain": [
              "train epoch 168:   0%|          | 0/791 [00:00<?, ?it/s]"
            ]
          },
          "metadata": {},
          "output_type": "display_data"
        },
        {
          "name": "stdout",
          "output_type": "stream",
          "text": [
            "2022-04-03 06:21:40 | INFO | hw5.seq2seq | training loss: 4.2375\n",
            "2022-04-03 06:21:40 | INFO | hw5.seq2seq | begin validation\n"
          ]
        },
        {
          "data": {
            "application/vnd.jupyter.widget-view+json": {
              "model_id": "73b2e0a0f4c6437fa8fb380eec07f3a7",
              "version_major": 2,
              "version_minor": 0
            },
            "text/plain": [
              "validation:   0%|          | 0/22 [00:00<?, ?it/s]"
            ]
          },
          "metadata": {},
          "output_type": "display_data"
        },
        {
          "name": "stdout",
          "output_type": "stream",
          "text": [
            "2022-04-03 06:22:07 | INFO | hw5.seq2seq | example source: they hang around until the mating flight , but they don't participate in gathering nectar or pollen .\n",
            "2022-04-03 06:22:07 | INFO | hw5.seq2seq | example hypothesis: 直到交配飛機 , 但他們不參與聚集受害者或花粉 。\n",
            "2022-04-03 06:22:07 | INFO | hw5.seq2seq | example reference: 從來不參與採集花蜜和花粉 。\n",
            "2022-04-03 06:22:07 | INFO | hw5.seq2seq | validation loss:\t4.0777\n",
            "2022-04-03 06:22:07 | INFO | hw5.seq2seq | BLEU = 17.23 51.9/26.4/14.2/8.1 (BP = 0.864 ratio = 0.873 hyp_len = 97576 ref_len = 111811)\n",
            "2022-04-03 06:22:07 | INFO | hw5.seq2seq | saved epoch checkpoint: /home/spiderkiller/ML2022/hw5_machine_translation/checkpoints/rnn/checkpoint168.pt\n",
            "2022-04-03 06:22:07 | INFO | hw5.seq2seq | end of epoch 168\n"
          ]
        },
        {
          "data": {
            "application/vnd.jupyter.widget-view+json": {
              "model_id": "2371c66407b54b7ead623356897c777a",
              "version_major": 2,
              "version_minor": 0
            },
            "text/plain": [
              "train epoch 169:   0%|          | 0/791 [00:00<?, ?it/s]"
            ]
          },
          "metadata": {},
          "output_type": "display_data"
        },
        {
          "name": "stdout",
          "output_type": "stream",
          "text": [
            "2022-04-03 06:23:32 | INFO | hw5.seq2seq | training loss: 4.2375\n",
            "2022-04-03 06:23:32 | INFO | hw5.seq2seq | begin validation\n"
          ]
        },
        {
          "data": {
            "application/vnd.jupyter.widget-view+json": {
              "model_id": "695c5d0986984d8da00fe68a4c49953b",
              "version_major": 2,
              "version_minor": 0
            },
            "text/plain": [
              "validation:   0%|          | 0/22 [00:00<?, ?it/s]"
            ]
          },
          "metadata": {},
          "output_type": "display_data"
        },
        {
          "name": "stdout",
          "output_type": "stream",
          "text": [
            "2022-04-03 06:23:59 | INFO | hw5.seq2seq | example source: that would be a beautiful thing .\n",
            "2022-04-03 06:23:59 | INFO | hw5.seq2seq | example hypothesis: 這會是個美麗的事 。\n",
            "2022-04-03 06:23:59 | INFO | hw5.seq2seq | example reference: 那將會很美好\n",
            "2022-04-03 06:23:59 | INFO | hw5.seq2seq | validation loss:\t4.0656\n",
            "2022-04-03 06:23:59 | INFO | hw5.seq2seq | BLEU = 17.35 51.6/26.2/14.1/8.0 (BP = 0.879 ratio = 0.885 hyp_len = 98989 ref_len = 111811)\n",
            "2022-04-03 06:23:59 | INFO | hw5.seq2seq | saved epoch checkpoint: /home/spiderkiller/ML2022/hw5_machine_translation/checkpoints/rnn/checkpoint169.pt\n",
            "2022-04-03 06:23:59 | INFO | hw5.seq2seq | end of epoch 169\n"
          ]
        },
        {
          "data": {
            "application/vnd.jupyter.widget-view+json": {
              "model_id": "a93182424e4345f1bee417f898c01700",
              "version_major": 2,
              "version_minor": 0
            },
            "text/plain": [
              "train epoch 170:   0%|          | 0/791 [00:00<?, ?it/s]"
            ]
          },
          "metadata": {},
          "output_type": "display_data"
        },
        {
          "name": "stdout",
          "output_type": "stream",
          "text": [
            "2022-04-03 06:25:24 | INFO | hw5.seq2seq | training loss: 4.2381\n",
            "2022-04-03 06:25:24 | INFO | hw5.seq2seq | begin validation\n"
          ]
        },
        {
          "data": {
            "application/vnd.jupyter.widget-view+json": {
              "model_id": "61be505b3f144eed995ce09409d311f7",
              "version_major": 2,
              "version_minor": 0
            },
            "text/plain": [
              "validation:   0%|          | 0/22 [00:00<?, ?it/s]"
            ]
          },
          "metadata": {},
          "output_type": "display_data"
        },
        {
          "name": "stdout",
          "output_type": "stream",
          "text": [
            "2022-04-03 06:25:49 | INFO | hw5.seq2seq | example source: i want to tell you how 20 , 000 remarkable young people from over 100 countries ended up in cuba and are transforming health in their communities .\n",
            "2022-04-03 06:25:49 | INFO | hw5.seq2seq | example hypothesis: 我想告訴各位 , 大約有十萬個很棒的年輕人從巴巴拿大到超過100個國家的健康 。\n",
            "2022-04-03 06:25:49 | INFO | hw5.seq2seq | example reference: 我要告訴大家 , 為什麼2萬個傑出的年輕人 , 來自100多個國家 , 當初會選擇去古巴 , 而現在正在改善他們的社區衛生 。\n",
            "2022-04-03 06:25:49 | INFO | hw5.seq2seq | validation loss:\t4.0714\n",
            "2022-04-03 06:25:49 | INFO | hw5.seq2seq | BLEU = 17.13 52.3/26.7/14.4/8.2 (BP = 0.852 ratio = 0.862 hyp_len = 96366 ref_len = 111811)\n",
            "2022-04-03 06:25:49 | INFO | hw5.seq2seq | saved epoch checkpoint: /home/spiderkiller/ML2022/hw5_machine_translation/checkpoints/rnn/checkpoint170.pt\n",
            "2022-04-03 06:25:49 | INFO | hw5.seq2seq | end of epoch 170\n"
          ]
        },
        {
          "data": {
            "application/vnd.jupyter.widget-view+json": {
              "model_id": "c6b5d7e2144441969202a9c3107c3ef3",
              "version_major": 2,
              "version_minor": 0
            },
            "text/plain": [
              "train epoch 171:   0%|          | 0/791 [00:00<?, ?it/s]"
            ]
          },
          "metadata": {},
          "output_type": "display_data"
        },
        {
          "name": "stdout",
          "output_type": "stream",
          "text": [
            "2022-04-03 06:27:15 | INFO | hw5.seq2seq | training loss: 4.2364\n",
            "2022-04-03 06:27:15 | INFO | hw5.seq2seq | begin validation\n"
          ]
        },
        {
          "data": {
            "application/vnd.jupyter.widget-view+json": {
              "model_id": "65e76f152d164cc7948001d65abf307c",
              "version_major": 2,
              "version_minor": 0
            },
            "text/plain": [
              "validation:   0%|          | 0/22 [00:00<?, ?it/s]"
            ]
          },
          "metadata": {},
          "output_type": "display_data"
        },
        {
          "name": "stdout",
          "output_type": "stream",
          "text": [
            "2022-04-03 06:27:41 | INFO | hw5.seq2seq | example source: what is unique about this demographic dividend is that india will be the only country in the world to have this demographic dividend .\n",
            "2022-04-03 06:27:41 | INFO | hw5.seq2seq | example hypothesis: 這個人口的獨特之處是 , 印度將會是世界上唯一國家的國家 , 才能有這種人口分歧 。\n",
            "2022-04-03 06:27:41 | INFO | hw5.seq2seq | example reference: 印度是世界上唯一能夠因為人口增加 , 而享有好處的國家 。\n",
            "2022-04-03 06:27:41 | INFO | hw5.seq2seq | validation loss:\t4.0717\n",
            "2022-04-03 06:27:41 | INFO | hw5.seq2seq | BLEU = 17.15 52.6/27.0/14.6/8.3 (BP = 0.844 ratio = 0.855 hyp_len = 95572 ref_len = 111811)\n",
            "2022-04-03 06:27:41 | INFO | hw5.seq2seq | saved epoch checkpoint: /home/spiderkiller/ML2022/hw5_machine_translation/checkpoints/rnn/checkpoint171.pt\n",
            "2022-04-03 06:27:41 | INFO | hw5.seq2seq | end of epoch 171\n"
          ]
        },
        {
          "data": {
            "application/vnd.jupyter.widget-view+json": {
              "model_id": "f0a7c2c57ff34f1ebf97b15efe7f1b3b",
              "version_major": 2,
              "version_minor": 0
            },
            "text/plain": [
              "train epoch 172:   0%|          | 0/791 [00:00<?, ?it/s]"
            ]
          },
          "metadata": {},
          "output_type": "display_data"
        },
        {
          "name": "stdout",
          "output_type": "stream",
          "text": [
            "2022-04-03 06:29:07 | INFO | hw5.seq2seq | training loss: 4.2356\n",
            "2022-04-03 06:29:07 | INFO | hw5.seq2seq | begin validation\n"
          ]
        },
        {
          "data": {
            "application/vnd.jupyter.widget-view+json": {
              "model_id": "e3fa753a673f430e8bb0048f8c1fd9c2",
              "version_major": 2,
              "version_minor": 0
            },
            "text/plain": [
              "validation:   0%|          | 0/22 [00:00<?, ?it/s]"
            ]
          },
          "metadata": {},
          "output_type": "display_data"
        },
        {
          "name": "stdout",
          "output_type": "stream",
          "text": [
            "2022-04-03 06:29:33 | INFO | hw5.seq2seq | example source: people who don't have neighbors of a different race are about twice as likely to oppose interracial marriage as people who do .\n",
            "2022-04-03 06:29:33 | INFO | hw5.seq2seq | example hypothesis: 不同種族不同的種族差異的人是大約兩倍的兩倍 。\n",
            "2022-04-03 06:29:33 | INFO | hw5.seq2seq | example reference: 來自單一種族社區的民眾對這問題的支持率是另一組的兩倍反對異族通婚\n",
            "2022-04-03 06:29:33 | INFO | hw5.seq2seq | validation loss:\t4.0620\n",
            "2022-04-03 06:29:33 | INFO | hw5.seq2seq | BLEU = 17.60 51.5/26.3/14.2/8.1 (BP = 0.887 ratio = 0.893 hyp_len = 99822 ref_len = 111811)\n",
            "2022-04-03 06:29:33 | INFO | hw5.seq2seq | saved epoch checkpoint: /home/spiderkiller/ML2022/hw5_machine_translation/checkpoints/rnn/checkpoint172.pt\n",
            "2022-04-03 06:29:33 | INFO | hw5.seq2seq | end of epoch 172\n"
          ]
        },
        {
          "data": {
            "application/vnd.jupyter.widget-view+json": {
              "model_id": "12a2c64b365c4293b10abb12d0a079aa",
              "version_major": 2,
              "version_minor": 0
            },
            "text/plain": [
              "train epoch 173:   0%|          | 0/791 [00:00<?, ?it/s]"
            ]
          },
          "metadata": {},
          "output_type": "display_data"
        },
        {
          "name": "stdout",
          "output_type": "stream",
          "text": [
            "2022-04-03 06:30:58 | INFO | hw5.seq2seq | training loss: 4.2364\n",
            "2022-04-03 06:30:58 | INFO | hw5.seq2seq | begin validation\n"
          ]
        },
        {
          "data": {
            "application/vnd.jupyter.widget-view+json": {
              "model_id": "e61dc2fbb4eb4b3280d9feddd0e69e92",
              "version_major": 2,
              "version_minor": 0
            },
            "text/plain": [
              "validation:   0%|          | 0/22 [00:00<?, ?it/s]"
            ]
          },
          "metadata": {},
          "output_type": "display_data"
        },
        {
          "name": "stdout",
          "output_type": "stream",
          "text": [
            "2022-04-03 06:31:24 | INFO | hw5.seq2seq | example source: so all the evidence is that when women actually have the chance to serve , they make a huge difference and they get the job done .\n",
            "2022-04-03 06:31:24 | INFO | hw5.seq2seq | example hypothesis: 所以 , 所有的證據是女性實際上 , 當女性真的有機會去拯救工作 。\n",
            "2022-04-03 06:31:24 | INFO | hw5.seq2seq | example reference: 所有的證據都顯示 , 當女性有機會可以服務時 , 她們造成很大的不同 , 而且她們把事情辦好 。\n",
            "2022-04-03 06:31:24 | INFO | hw5.seq2seq | validation loss:\t4.0654\n",
            "2022-04-03 06:31:24 | INFO | hw5.seq2seq | BLEU = 17.23 52.3/26.7/14.5/8.2 (BP = 0.853 ratio = 0.863 hyp_len = 96520 ref_len = 111811)\n",
            "2022-04-03 06:31:24 | INFO | hw5.seq2seq | saved epoch checkpoint: /home/spiderkiller/ML2022/hw5_machine_translation/checkpoints/rnn/checkpoint173.pt\n",
            "2022-04-03 06:31:24 | INFO | hw5.seq2seq | end of epoch 173\n"
          ]
        },
        {
          "data": {
            "application/vnd.jupyter.widget-view+json": {
              "model_id": "69f7fe3773ec48c2a71552f073242ce7",
              "version_major": 2,
              "version_minor": 0
            },
            "text/plain": [
              "train epoch 174:   0%|          | 0/791 [00:00<?, ?it/s]"
            ]
          },
          "metadata": {},
          "output_type": "display_data"
        },
        {
          "name": "stdout",
          "output_type": "stream",
          "text": [
            "2022-04-03 06:32:50 | INFO | hw5.seq2seq | training loss: 4.2374\n",
            "2022-04-03 06:32:50 | INFO | hw5.seq2seq | begin validation\n"
          ]
        },
        {
          "data": {
            "application/vnd.jupyter.widget-view+json": {
              "model_id": "39c27d828ff143d4a8fee48f693c639f",
              "version_major": 2,
              "version_minor": 0
            },
            "text/plain": [
              "validation:   0%|          | 0/22 [00:00<?, ?it/s]"
            ]
          },
          "metadata": {},
          "output_type": "display_data"
        },
        {
          "name": "stdout",
          "output_type": "stream",
          "text": [
            "2022-04-03 06:33:17 | INFO | hw5.seq2seq | example source: in the next scene , walle comes back to life .\n",
            "2022-04-03 06:33:17 | INFO | hw5.seq2seq | example hypothesis: 在接下來的場景中 , 牆壁回到生命 。\n",
            "2022-04-03 06:33:17 | INFO | hw5.seq2seq | example reference: 在下一個場景裡 , 瓦力重新活了過來 。\n",
            "2022-04-03 06:33:17 | INFO | hw5.seq2seq | validation loss:\t4.0654\n",
            "2022-04-03 06:33:17 | INFO | hw5.seq2seq | BLEU = 17.84 51.5/26.4/14.3/8.1 (BP = 0.895 ratio = 0.900 hyp_len = 100649 ref_len = 111811)\n",
            "2022-04-03 06:33:17 | INFO | hw5.seq2seq | saved epoch checkpoint: /home/spiderkiller/ML2022/hw5_machine_translation/checkpoints/rnn/checkpoint174.pt\n",
            "2022-04-03 06:33:17 | INFO | hw5.seq2seq | end of epoch 174\n"
          ]
        },
        {
          "data": {
            "application/vnd.jupyter.widget-view+json": {
              "model_id": "989ce39b0ffd433fb4d64b3157c3d578",
              "version_major": 2,
              "version_minor": 0
            },
            "text/plain": [
              "train epoch 175:   0%|          | 0/791 [00:00<?, ?it/s]"
            ]
          },
          "metadata": {},
          "output_type": "display_data"
        },
        {
          "name": "stdout",
          "output_type": "stream",
          "text": [
            "2022-04-03 06:34:42 | INFO | hw5.seq2seq | training loss: 4.2333\n",
            "2022-04-03 06:34:42 | INFO | hw5.seq2seq | begin validation\n"
          ]
        },
        {
          "data": {
            "application/vnd.jupyter.widget-view+json": {
              "model_id": "b59520b8af7d44b7bfd44e11f5e3640f",
              "version_major": 2,
              "version_minor": 0
            },
            "text/plain": [
              "validation:   0%|          | 0/22 [00:00<?, ?it/s]"
            ]
          },
          "metadata": {},
          "output_type": "display_data"
        },
        {
          "name": "stdout",
          "output_type": "stream",
          "text": [
            "2022-04-03 06:35:09 | INFO | hw5.seq2seq | example source: i'm kidding .\n",
            "2022-04-03 06:35:09 | INFO | hw5.seq2seq | example hypothesis: 我開玩笑 。\n",
            "2022-04-03 06:35:09 | INFO | hw5.seq2seq | example reference: 我是在開玩笑 。\n",
            "2022-04-03 06:35:09 | INFO | hw5.seq2seq | validation loss:\t4.0535\n",
            "2022-04-03 06:35:09 | INFO | hw5.seq2seq | BLEU = 17.35 51.4/26.2/14.1/8.0 (BP = 0.878 ratio = 0.885 hyp_len = 98926 ref_len = 111811)\n",
            "2022-04-03 06:35:09 | INFO | hw5.seq2seq | saved epoch checkpoint: /home/spiderkiller/ML2022/hw5_machine_translation/checkpoints/rnn/checkpoint175.pt\n",
            "2022-04-03 06:35:09 | INFO | hw5.seq2seq | end of epoch 175\n"
          ]
        },
        {
          "data": {
            "application/vnd.jupyter.widget-view+json": {
              "model_id": "f71ea508b88c4425a5af760fd25158dc",
              "version_major": 2,
              "version_minor": 0
            },
            "text/plain": [
              "train epoch 176:   0%|          | 0/791 [00:00<?, ?it/s]"
            ]
          },
          "metadata": {},
          "output_type": "display_data"
        },
        {
          "name": "stdout",
          "output_type": "stream",
          "text": [
            "2022-04-03 06:36:38 | INFO | hw5.seq2seq | training loss: 4.2361\n",
            "2022-04-03 06:36:38 | INFO | hw5.seq2seq | begin validation\n"
          ]
        },
        {
          "data": {
            "application/vnd.jupyter.widget-view+json": {
              "model_id": "10ebd2269256441f9bce4f5c1b492fd4",
              "version_major": 2,
              "version_minor": 0
            },
            "text/plain": [
              "validation:   0%|          | 0/22 [00:00<?, ?it/s]"
            ]
          },
          "metadata": {},
          "output_type": "display_data"
        },
        {
          "name": "stdout",
          "output_type": "stream",
          "text": [
            "2022-04-03 06:37:05 | INFO | hw5.seq2seq | example source: you're taking a medication , one new medication or two , and you get a funny feeling .\n",
            "2022-04-03 06:37:05 | INFO | hw5.seq2seq | example hypothesis: 你會帶著藥物、兩次新藥物或兩歲 , 然後你得到一個有趣的感覺 。\n",
            "2022-04-03 06:37:05 | INFO | hw5.seq2seq | example reference: 你服用了一種藥 , 一個或兩個新藥 , 然後你感覺怪怪的 。\n",
            "2022-04-03 06:37:05 | INFO | hw5.seq2seq | validation loss:\t4.0652\n",
            "2022-04-03 06:37:05 | INFO | hw5.seq2seq | BLEU = 17.89 50.9/26.0/14.1/8.0 (BP = 0.911 ratio = 0.915 hyp_len = 102298 ref_len = 111811)\n",
            "2022-04-03 06:37:06 | INFO | hw5.seq2seq | saved epoch checkpoint: /home/spiderkiller/ML2022/hw5_machine_translation/checkpoints/rnn/checkpoint176.pt\n",
            "2022-04-03 06:37:06 | INFO | hw5.seq2seq | end of epoch 176\n"
          ]
        },
        {
          "data": {
            "application/vnd.jupyter.widget-view+json": {
              "model_id": "28110e25e0ee4c2b9b54b53769b25939",
              "version_major": 2,
              "version_minor": 0
            },
            "text/plain": [
              "train epoch 177:   0%|          | 0/791 [00:00<?, ?it/s]"
            ]
          },
          "metadata": {},
          "output_type": "display_data"
        },
        {
          "name": "stdout",
          "output_type": "stream",
          "text": [
            "2022-04-03 06:38:31 | INFO | hw5.seq2seq | training loss: 4.2361\n",
            "2022-04-03 06:38:31 | INFO | hw5.seq2seq | begin validation\n"
          ]
        },
        {
          "data": {
            "application/vnd.jupyter.widget-view+json": {
              "model_id": "1b6462b12bc84b33bab6153df82c8a13",
              "version_major": 2,
              "version_minor": 0
            },
            "text/plain": [
              "validation:   0%|          | 0/22 [00:00<?, ?it/s]"
            ]
          },
          "metadata": {},
          "output_type": "display_data"
        },
        {
          "name": "stdout",
          "output_type": "stream",
          "text": [
            "2022-04-03 06:38:55 | INFO | hw5.seq2seq | example source: so netra was stuck with 30 paintings of mine .\n",
            "2022-04-03 06:38:55 | INFO | hw5.seq2seq | example hypothesis: 所以netra被困住了30幅畫 。\n",
            "2022-04-03 06:38:55 | INFO | hw5.seq2seq | example reference: netra就這樣囤積了三十幅我的畫作 。\n",
            "2022-04-03 06:38:55 | INFO | hw5.seq2seq | validation loss:\t4.0687\n",
            "2022-04-03 06:38:55 | INFO | hw5.seq2seq | BLEU = 17.07 52.6/26.9/14.5/8.2 (BP = 0.842 ratio = 0.853 hyp_len = 95362 ref_len = 111811)\n",
            "2022-04-03 06:38:55 | INFO | hw5.seq2seq | saved epoch checkpoint: /home/spiderkiller/ML2022/hw5_machine_translation/checkpoints/rnn/checkpoint177.pt\n",
            "2022-04-03 06:38:55 | INFO | hw5.seq2seq | end of epoch 177\n"
          ]
        },
        {
          "data": {
            "application/vnd.jupyter.widget-view+json": {
              "model_id": "5be3920c874e489f872fe3c5b3e2779c",
              "version_major": 2,
              "version_minor": 0
            },
            "text/plain": [
              "train epoch 178:   0%|          | 0/791 [00:00<?, ?it/s]"
            ]
          },
          "metadata": {},
          "output_type": "display_data"
        },
        {
          "name": "stdout",
          "output_type": "stream",
          "text": [
            "2022-04-03 06:40:20 | INFO | hw5.seq2seq | training loss: 4.2335\n",
            "2022-04-03 06:40:20 | INFO | hw5.seq2seq | begin validation\n"
          ]
        },
        {
          "data": {
            "application/vnd.jupyter.widget-view+json": {
              "model_id": "974ce5d1e37f42c896e3299e6093ad02",
              "version_major": 2,
              "version_minor": 0
            },
            "text/plain": [
              "validation:   0%|          | 0/22 [00:00<?, ?it/s]"
            ]
          },
          "metadata": {},
          "output_type": "display_data"
        },
        {
          "name": "stdout",
          "output_type": "stream",
          "text": [
            "2022-04-03 06:40:46 | INFO | hw5.seq2seq | example source: the sargasso sea , for example , is not a sea bounded by coastlines , but it is bounded by oceanic currents that contain and envelope this wealth of sargassum that grows and aggregates there .\n",
            "2022-04-03 06:40:46 | INFO | hw5.seq2seq | example hypothesis: 比如 , 阿拉加海岸 , 不是海岸線的海岸線 , 但它被海洋目前所包含的財富 。\n",
            "2022-04-03 06:40:46 | INFO | hw5.seq2seq | example reference: 例如 , 馬尾藻海域這不是一個被海岸線包圍的海域而是被洋流所環繞這些洋流帶來了海藻所需要的養分這些養分讓這裡的海藻十分旺盛地繁衍和聚集\n",
            "2022-04-03 06:40:46 | INFO | hw5.seq2seq | validation loss:\t4.0740\n",
            "2022-04-03 06:40:46 | INFO | hw5.seq2seq | BLEU = 16.65 52.9/26.9/14.5/8.2 (BP = 0.822 ratio = 0.836 hyp_len = 93504 ref_len = 111811)\n",
            "2022-04-03 06:40:46 | INFO | hw5.seq2seq | saved epoch checkpoint: /home/spiderkiller/ML2022/hw5_machine_translation/checkpoints/rnn/checkpoint178.pt\n",
            "2022-04-03 06:40:46 | INFO | hw5.seq2seq | end of epoch 178\n"
          ]
        },
        {
          "data": {
            "application/vnd.jupyter.widget-view+json": {
              "model_id": "dbd31c8e79304d8da266f72932678d81",
              "version_major": 2,
              "version_minor": 0
            },
            "text/plain": [
              "train epoch 179:   0%|          | 0/791 [00:00<?, ?it/s]"
            ]
          },
          "metadata": {},
          "output_type": "display_data"
        },
        {
          "name": "stdout",
          "output_type": "stream",
          "text": [
            "2022-04-03 06:42:11 | INFO | hw5.seq2seq | training loss: 4.2353\n",
            "2022-04-03 06:42:11 | INFO | hw5.seq2seq | begin validation\n"
          ]
        },
        {
          "data": {
            "application/vnd.jupyter.widget-view+json": {
              "model_id": "3a7c9e97c2dd42519329d3964fcab4c6",
              "version_major": 2,
              "version_minor": 0
            },
            "text/plain": [
              "validation:   0%|          | 0/22 [00:00<?, ?it/s]"
            ]
          },
          "metadata": {},
          "output_type": "display_data"
        },
        {
          "name": "stdout",
          "output_type": "stream",
          "text": [
            "2022-04-03 06:42:36 | INFO | hw5.seq2seq | example source: why you and i are alike , why the iraqis and the japanese and the australian aborigines and the people of the amazon river are all alike .\n",
            "2022-04-03 06:42:36 | INFO | hw5.seq2seq | example hypothesis: 為什麼你和日本人一樣 , 為什麼伊拉克和日本人都一樣 。\n",
            "2022-04-03 06:42:36 | INFO | hw5.seq2seq | example reference: 為何你我相像 , 為何伊拉克人、日本人、澳洲原住民和亞馬遜河居民 , 我們全都很相像 ?\n",
            "2022-04-03 06:42:36 | INFO | hw5.seq2seq | validation loss:\t4.0662\n",
            "2022-04-03 06:42:36 | INFO | hw5.seq2seq | BLEU = 17.18 52.2/26.7/14.4/8.1 (BP = 0.854 ratio = 0.864 hyp_len = 96584 ref_len = 111811)\n",
            "2022-04-03 06:42:36 | INFO | hw5.seq2seq | saved epoch checkpoint: /home/spiderkiller/ML2022/hw5_machine_translation/checkpoints/rnn/checkpoint179.pt\n",
            "2022-04-03 06:42:36 | INFO | hw5.seq2seq | end of epoch 179\n"
          ]
        },
        {
          "data": {
            "application/vnd.jupyter.widget-view+json": {
              "model_id": "300dc675e0964feb937b0b7e9c5aac6c",
              "version_major": 2,
              "version_minor": 0
            },
            "text/plain": [
              "train epoch 180:   0%|          | 0/791 [00:00<?, ?it/s]"
            ]
          },
          "metadata": {},
          "output_type": "display_data"
        },
        {
          "name": "stdout",
          "output_type": "stream",
          "text": [
            "2022-04-03 06:44:02 | INFO | hw5.seq2seq | training loss: 4.2367\n",
            "2022-04-03 06:44:02 | INFO | hw5.seq2seq | begin validation\n"
          ]
        },
        {
          "data": {
            "application/vnd.jupyter.widget-view+json": {
              "model_id": "8c937cea2b7f488fbf08ab277b661adc",
              "version_major": 2,
              "version_minor": 0
            },
            "text/plain": [
              "validation:   0%|          | 0/22 [00:00<?, ?it/s]"
            ]
          },
          "metadata": {},
          "output_type": "display_data"
        },
        {
          "name": "stdout",
          "output_type": "stream",
          "text": [
            "2022-04-03 06:44:30 | INFO | hw5.seq2seq | example source: make it bigger .\n",
            "2022-04-03 06:44:30 | INFO | hw5.seq2seq | example hypothesis: 讓它變得更大 。\n",
            "2022-04-03 06:44:30 | INFO | hw5.seq2seq | example reference: 壯大隊伍 ,\n",
            "2022-04-03 06:44:30 | INFO | hw5.seq2seq | validation loss:\t4.0733\n",
            "2022-04-03 06:44:30 | INFO | hw5.seq2seq | BLEU = 17.26 52.1/26.7/14.5/8.2 (BP = 0.857 ratio = 0.866 hyp_len = 96837 ref_len = 111811)\n",
            "2022-04-03 06:44:30 | INFO | hw5.seq2seq | saved epoch checkpoint: /home/spiderkiller/ML2022/hw5_machine_translation/checkpoints/rnn/checkpoint180.pt\n",
            "2022-04-03 06:44:30 | INFO | hw5.seq2seq | end of epoch 180\n"
          ]
        },
        {
          "data": {
            "application/vnd.jupyter.widget-view+json": {
              "model_id": "5166e283daa54d7caae01982580c1c8b",
              "version_major": 2,
              "version_minor": 0
            },
            "text/plain": [
              "train epoch 181:   0%|          | 0/791 [00:00<?, ?it/s]"
            ]
          },
          "metadata": {},
          "output_type": "display_data"
        },
        {
          "name": "stdout",
          "output_type": "stream",
          "text": [
            "2022-04-03 06:45:56 | INFO | hw5.seq2seq | training loss: 4.2362\n",
            "2022-04-03 06:45:56 | INFO | hw5.seq2seq | begin validation\n"
          ]
        },
        {
          "data": {
            "application/vnd.jupyter.widget-view+json": {
              "model_id": "dcae41025da84fb881aa466fa2417c35",
              "version_major": 2,
              "version_minor": 0
            },
            "text/plain": [
              "validation:   0%|          | 0/22 [00:00<?, ?it/s]"
            ]
          },
          "metadata": {},
          "output_type": "display_data"
        },
        {
          "name": "stdout",
          "output_type": "stream",
          "text": [
            "2022-04-03 06:46:25 | INFO | hw5.seq2seq | example source: so now , we've held x and w fixed to solve for y ; that's everyday , fast perception .\n",
            "2022-04-03 06:46:25 | INFO | hw5.seq2seq | example hypothesis: 現在 , 我們被告知x和寫寫作來解決y ; 這是日常、快速的感知 。\n",
            "2022-04-03 06:46:25 | INFO | hw5.seq2seq | example reference: 所以現在 , 我們的x和w是固定數 , 可以解出y ; 這就是我們人類每天經常性的快速直覺判斷 。\n",
            "2022-04-03 06:46:25 | INFO | hw5.seq2seq | validation loss:\t4.0699\n",
            "2022-04-03 06:46:25 | INFO | hw5.seq2seq | BLEU = 17.23 52.2/26.6/14.4/8.1 (BP = 0.860 ratio = 0.869 hyp_len = 97182 ref_len = 111811)\n",
            "2022-04-03 06:46:25 | INFO | hw5.seq2seq | saved epoch checkpoint: /home/spiderkiller/ML2022/hw5_machine_translation/checkpoints/rnn/checkpoint181.pt\n",
            "2022-04-03 06:46:25 | INFO | hw5.seq2seq | end of epoch 181\n"
          ]
        },
        {
          "data": {
            "application/vnd.jupyter.widget-view+json": {
              "model_id": "a1761a39abb64e91ad30d1cecf838cc5",
              "version_major": 2,
              "version_minor": 0
            },
            "text/plain": [
              "train epoch 182:   0%|          | 0/791 [00:00<?, ?it/s]"
            ]
          },
          "metadata": {},
          "output_type": "display_data"
        },
        {
          "name": "stdout",
          "output_type": "stream",
          "text": [
            "2022-04-03 06:47:50 | INFO | hw5.seq2seq | training loss: 4.2354\n",
            "2022-04-03 06:47:50 | INFO | hw5.seq2seq | begin validation\n"
          ]
        },
        {
          "data": {
            "application/vnd.jupyter.widget-view+json": {
              "model_id": "a16c472c30e54b0ba7bf9fa190e1fb4a",
              "version_major": 2,
              "version_minor": 0
            },
            "text/plain": [
              "validation:   0%|          | 0/22 [00:00<?, ?it/s]"
            ]
          },
          "metadata": {},
          "output_type": "display_data"
        },
        {
          "name": "stdout",
          "output_type": "stream",
          "text": [
            "2022-04-03 06:48:14 | INFO | hw5.seq2seq | example source: rather than thinking , \" i'm right , \" i started to ask myself , \" how do i know i'm right ? \"\n",
            "2022-04-03 06:48:14 | INFO | hw5.seq2seq | example hypothesis: 不是想: 「 我是對的 , 我開始問自己: 「 我知道我是對的 ? 」\n",
            "2022-04-03 06:48:14 | INFO | hw5.seq2seq | example reference: 我開始問我自己 「 我怎麼確定我是對的 ? 」 而不是認為 「 我是對的 」\n",
            "2022-04-03 06:48:14 | INFO | hw5.seq2seq | validation loss:\t4.0693\n",
            "2022-04-03 06:48:14 | INFO | hw5.seq2seq | BLEU = 17.48 52.4/27.0/14.6/8.3 (BP = 0.859 ratio = 0.868 hyp_len = 97079 ref_len = 111811)\n",
            "2022-04-03 06:48:14 | INFO | hw5.seq2seq | saved epoch checkpoint: /home/spiderkiller/ML2022/hw5_machine_translation/checkpoints/rnn/checkpoint182.pt\n",
            "2022-04-03 06:48:14 | INFO | hw5.seq2seq | end of epoch 182\n"
          ]
        },
        {
          "data": {
            "application/vnd.jupyter.widget-view+json": {
              "model_id": "34655717112e45efaa022971bec45f64",
              "version_major": 2,
              "version_minor": 0
            },
            "text/plain": [
              "train epoch 183:   0%|          | 0/791 [00:00<?, ?it/s]"
            ]
          },
          "metadata": {},
          "output_type": "display_data"
        },
        {
          "name": "stdout",
          "output_type": "stream",
          "text": [
            "2022-04-03 06:49:39 | INFO | hw5.seq2seq | training loss: 4.2331\n",
            "2022-04-03 06:49:39 | INFO | hw5.seq2seq | begin validation\n"
          ]
        },
        {
          "data": {
            "application/vnd.jupyter.widget-view+json": {
              "model_id": "c8b19b8ab74f435194dd60aeb7759f28",
              "version_major": 2,
              "version_minor": 0
            },
            "text/plain": [
              "validation:   0%|          | 0/22 [00:00<?, ?it/s]"
            ]
          },
          "metadata": {},
          "output_type": "display_data"
        },
        {
          "name": "stdout",
          "output_type": "stream",
          "text": [
            "2022-04-03 06:50:05 | INFO | hw5.seq2seq | example source: this brings back a skepticism that has gone away recently , that superweeds and superpests could spread around the world , from biotechnology , that literally could destroy the world's food supply in very short order .\n",
            "2022-04-03 06:50:05 | INFO | hw5.seq2seq | example hypothesis: 這帶回一個懷疑 , 最近才會離開世界各地 , 超級繁榮和最高的生物科技 , 從生物科技學學方面來說 , 幾乎可以摧毀全世界的食物供應 。\n",
            "2022-04-03 06:50:05 | INFO | hw5.seq2seq | example reference: 而這又喚起了一個近來才淡去的懷疑論 , 即:生物科技將使超級雜草與超級害蟲遍及全世界 , 而那絕對會給全球食物供應帶來滅頂之災以迅雷不及掩耳之勢 。\n",
            "2022-04-03 06:50:05 | INFO | hw5.seq2seq | validation loss:\t4.0684\n",
            "2022-04-03 06:50:05 | INFO | hw5.seq2seq | BLEU = 17.53 52.0/26.7/14.4/8.2 (BP = 0.873 ratio = 0.880 hyp_len = 98442 ref_len = 111811)\n",
            "2022-04-03 06:50:05 | INFO | hw5.seq2seq | saved epoch checkpoint: /home/spiderkiller/ML2022/hw5_machine_translation/checkpoints/rnn/checkpoint183.pt\n",
            "2022-04-03 06:50:05 | INFO | hw5.seq2seq | end of epoch 183\n"
          ]
        },
        {
          "data": {
            "application/vnd.jupyter.widget-view+json": {
              "model_id": "f6d5e59c9af748e991d32ab4de09f7b8",
              "version_major": 2,
              "version_minor": 0
            },
            "text/plain": [
              "train epoch 184:   0%|          | 0/791 [00:00<?, ?it/s]"
            ]
          },
          "metadata": {},
          "output_type": "display_data"
        },
        {
          "name": "stdout",
          "output_type": "stream",
          "text": [
            "2022-04-03 06:51:32 | INFO | hw5.seq2seq | training loss: 4.2333\n",
            "2022-04-03 06:51:32 | INFO | hw5.seq2seq | begin validation\n"
          ]
        },
        {
          "data": {
            "application/vnd.jupyter.widget-view+json": {
              "model_id": "18e3d748a25a4f4ab0951fb41e2e73de",
              "version_major": 2,
              "version_minor": 0
            },
            "text/plain": [
              "validation:   0%|          | 0/22 [00:00<?, ?it/s]"
            ]
          },
          "metadata": {},
          "output_type": "display_data"
        },
        {
          "name": "stdout",
          "output_type": "stream",
          "text": [
            "2022-04-03 06:51:57 | INFO | hw5.seq2seq | example source: there's no real , true balancing going on , and in a sense , the games they play to hide that actually obscure the topic so much that people don't see things that are actually pretty straightforward challenges .\n",
            "2022-04-03 06:51:57 | INFO | hw5.seq2seq | example hypothesis: 沒有真正的 , 真正的銀河正在進行 , 在某種程度上 , 遊戲中 , 他們玩耍的主題 , 人們看不見的東西其實是非常直接的挑戰 。\n",
            "2022-04-03 06:51:57 | INFO | hw5.seq2seq | example reference: 他們根本沒有達成真正的平衡以某方面來說 , 他們在玩的把戲是隱藏赤字實際上更加模糊了問題所在讓別人無法發覺這就是目前非常直接的挑戰\n",
            "2022-04-03 06:51:57 | INFO | hw5.seq2seq | validation loss:\t4.0714\n",
            "2022-04-03 06:51:57 | INFO | hw5.seq2seq | BLEU = 17.38 52.1/26.7/14.4/8.1 (BP = 0.865 ratio = 0.873 hyp_len = 97653 ref_len = 111811)\n",
            "2022-04-03 06:51:57 | INFO | hw5.seq2seq | saved epoch checkpoint: /home/spiderkiller/ML2022/hw5_machine_translation/checkpoints/rnn/checkpoint184.pt\n",
            "2022-04-03 06:51:57 | INFO | hw5.seq2seq | end of epoch 184\n"
          ]
        },
        {
          "data": {
            "application/vnd.jupyter.widget-view+json": {
              "model_id": "3ff433e62e3a434bb54251f7daa2d8c1",
              "version_major": 2,
              "version_minor": 0
            },
            "text/plain": [
              "train epoch 185:   0%|          | 0/791 [00:00<?, ?it/s]"
            ]
          },
          "metadata": {},
          "output_type": "display_data"
        },
        {
          "name": "stdout",
          "output_type": "stream",
          "text": [
            "2022-04-03 06:53:23 | INFO | hw5.seq2seq | training loss: 4.2319\n",
            "2022-04-03 06:53:23 | INFO | hw5.seq2seq | begin validation\n"
          ]
        },
        {
          "data": {
            "application/vnd.jupyter.widget-view+json": {
              "model_id": "b479cc041a014d7fbe65cb00a0501353",
              "version_major": 2,
              "version_minor": 0
            },
            "text/plain": [
              "validation:   0%|          | 0/22 [00:00<?, ?it/s]"
            ]
          },
          "metadata": {},
          "output_type": "display_data"
        },
        {
          "name": "stdout",
          "output_type": "stream",
          "text": [
            "2022-04-03 06:53:49 | INFO | hw5.seq2seq | example source: and yet in effect , it is happening right now .\n",
            "2022-04-03 06:53:49 | INFO | hw5.seq2seq | example hypothesis: 但實際上 , 它現在正在發生 。\n",
            "2022-04-03 06:53:49 | INFO | hw5.seq2seq | example reference: 但 , 實際上 , 這種事正在發生 。\n",
            "2022-04-03 06:53:49 | INFO | hw5.seq2seq | validation loss:\t4.0689\n",
            "2022-04-03 06:53:49 | INFO | hw5.seq2seq | BLEU = 17.53 51.6/26.3/14.2/8.1 (BP = 0.883 ratio = 0.889 hyp_len = 99453 ref_len = 111811)\n",
            "2022-04-03 06:53:49 | INFO | hw5.seq2seq | saved epoch checkpoint: /home/spiderkiller/ML2022/hw5_machine_translation/checkpoints/rnn/checkpoint185.pt\n",
            "2022-04-03 06:53:49 | INFO | hw5.seq2seq | end of epoch 185\n"
          ]
        },
        {
          "data": {
            "application/vnd.jupyter.widget-view+json": {
              "model_id": "fe1c81d2291f4592a280697f65967f0b",
              "version_major": 2,
              "version_minor": 0
            },
            "text/plain": [
              "train epoch 186:   0%|          | 0/791 [00:00<?, ?it/s]"
            ]
          },
          "metadata": {},
          "output_type": "display_data"
        },
        {
          "name": "stdout",
          "output_type": "stream",
          "text": [
            "2022-04-03 06:55:19 | INFO | hw5.seq2seq | training loss: 4.2343\n",
            "2022-04-03 06:55:19 | INFO | hw5.seq2seq | begin validation\n"
          ]
        },
        {
          "data": {
            "application/vnd.jupyter.widget-view+json": {
              "model_id": "0404abababda4954a1f7bd3adc77af45",
              "version_major": 2,
              "version_minor": 0
            },
            "text/plain": [
              "validation:   0%|          | 0/22 [00:00<?, ?it/s]"
            ]
          },
          "metadata": {},
          "output_type": "display_data"
        },
        {
          "name": "stdout",
          "output_type": "stream",
          "text": [
            "2022-04-03 06:55:46 | INFO | hw5.seq2seq | example source: but to understand that , we have to step back a little bit .\n",
            "2022-04-03 06:55:46 | INFO | hw5.seq2seq | example hypothesis: 但為了了解這一點 , 我們必須再回到一點 。\n",
            "2022-04-03 06:55:46 | INFO | hw5.seq2seq | example reference: 但要了解這點 , 我們必須後退一步 。\n",
            "2022-04-03 06:55:46 | INFO | hw5.seq2seq | validation loss:\t4.0742\n",
            "2022-04-03 06:55:46 | INFO | hw5.seq2seq | BLEU = 17.55 52.1/26.7/14.5/8.3 (BP = 0.869 ratio = 0.877 hyp_len = 98049 ref_len = 111811)\n",
            "2022-04-03 06:55:46 | INFO | hw5.seq2seq | saved epoch checkpoint: /home/spiderkiller/ML2022/hw5_machine_translation/checkpoints/rnn/checkpoint186.pt\n",
            "2022-04-03 06:55:46 | INFO | hw5.seq2seq | end of epoch 186\n"
          ]
        },
        {
          "data": {
            "application/vnd.jupyter.widget-view+json": {
              "model_id": "f5d8e95d6e5b4549a9919aceac90d173",
              "version_major": 2,
              "version_minor": 0
            },
            "text/plain": [
              "train epoch 187:   0%|          | 0/791 [00:00<?, ?it/s]"
            ]
          },
          "metadata": {},
          "output_type": "display_data"
        },
        {
          "name": "stdout",
          "output_type": "stream",
          "text": [
            "2022-04-03 06:57:13 | INFO | hw5.seq2seq | training loss: 4.2322\n",
            "2022-04-03 06:57:13 | INFO | hw5.seq2seq | begin validation\n"
          ]
        },
        {
          "data": {
            "application/vnd.jupyter.widget-view+json": {
              "model_id": "a770d92ab2174f548146451a338bab3a",
              "version_major": 2,
              "version_minor": 0
            },
            "text/plain": [
              "validation:   0%|          | 0/22 [00:00<?, ?it/s]"
            ]
          },
          "metadata": {},
          "output_type": "display_data"
        },
        {
          "name": "stdout",
          "output_type": "stream",
          "text": [
            "2022-04-03 06:57:39 | INFO | hw5.seq2seq | example source: and i remember sitting in the passenger seat as we drove in silence , crouched as low as i could go in my seat , for the first time in my life , afraid for anyone to know i was a muslim .\n",
            "2022-04-03 06:57:39 | INFO | hw5.seq2seq | example hypothesis: 我記得坐在乘客座椅上 , 當我們穿著沉默、雲端時 , 雲朵第一次在我的人生中 , 對我來說 , 我害怕任何人知道我是穆斯林的 。\n",
            "2022-04-03 06:57:39 | INFO | hw5.seq2seq | example reference: 我記得坐在副駕駛座當時我們在車上沉默不語我盡可能縮進我的座位人生第一次 , 我害怕有人知道我是穆斯林\n",
            "2022-04-03 06:57:39 | INFO | hw5.seq2seq | validation loss:\t4.0717\n",
            "2022-04-03 06:57:39 | INFO | hw5.seq2seq | BLEU = 17.57 52.0/26.6/14.4/8.2 (BP = 0.872 ratio = 0.879 hyp_len = 98310 ref_len = 111811)\n",
            "2022-04-03 06:57:39 | INFO | hw5.seq2seq | saved epoch checkpoint: /home/spiderkiller/ML2022/hw5_machine_translation/checkpoints/rnn/checkpoint187.pt\n",
            "2022-04-03 06:57:39 | INFO | hw5.seq2seq | end of epoch 187\n"
          ]
        },
        {
          "data": {
            "application/vnd.jupyter.widget-view+json": {
              "model_id": "da4984bb1a654e8d86f1d73c3a4796b7",
              "version_major": 2,
              "version_minor": 0
            },
            "text/plain": [
              "train epoch 188:   0%|          | 0/791 [00:00<?, ?it/s]"
            ]
          },
          "metadata": {},
          "output_type": "display_data"
        },
        {
          "name": "stdout",
          "output_type": "stream",
          "text": [
            "2022-04-03 06:59:04 | INFO | hw5.seq2seq | training loss: 4.2338\n",
            "2022-04-03 06:59:04 | INFO | hw5.seq2seq | begin validation\n"
          ]
        },
        {
          "data": {
            "application/vnd.jupyter.widget-view+json": {
              "model_id": "7a6266ff06a949e89cd7e9c4dd9f87fe",
              "version_major": 2,
              "version_minor": 0
            },
            "text/plain": [
              "validation:   0%|          | 0/22 [00:00<?, ?it/s]"
            ]
          },
          "metadata": {},
          "output_type": "display_data"
        },
        {
          "name": "stdout",
          "output_type": "stream",
          "text": [
            "2022-04-03 06:59:29 | INFO | hw5.seq2seq | example source: other people do all sorts of jobs to get by .\n",
            "2022-04-03 06:59:29 | INFO | hw5.seq2seq | example hypothesis: 其他人會做各種工作 。\n",
            "2022-04-03 06:59:29 | INFO | hw5.seq2seq | example reference: 其他人做各種各樣的工作來維持生計 。\n",
            "2022-04-03 06:59:29 | INFO | hw5.seq2seq | validation loss:\t4.0673\n",
            "2022-04-03 06:59:29 | INFO | hw5.seq2seq | BLEU = 17.62 51.7/26.5/14.4/8.2 (BP = 0.880 ratio = 0.886 hyp_len = 99094 ref_len = 111811)\n",
            "2022-04-03 06:59:29 | INFO | hw5.seq2seq | saved epoch checkpoint: /home/spiderkiller/ML2022/hw5_machine_translation/checkpoints/rnn/checkpoint188.pt\n",
            "2022-04-03 06:59:29 | INFO | hw5.seq2seq | end of epoch 188\n"
          ]
        },
        {
          "data": {
            "application/vnd.jupyter.widget-view+json": {
              "model_id": "47261bb0358a47f8a9d0c2b9b81b54f0",
              "version_major": 2,
              "version_minor": 0
            },
            "text/plain": [
              "train epoch 189:   0%|          | 0/791 [00:00<?, ?it/s]"
            ]
          },
          "metadata": {},
          "output_type": "display_data"
        },
        {
          "name": "stdout",
          "output_type": "stream",
          "text": [
            "2022-04-03 07:00:55 | INFO | hw5.seq2seq | training loss: 4.2327\n",
            "2022-04-03 07:00:55 | INFO | hw5.seq2seq | begin validation\n"
          ]
        },
        {
          "data": {
            "application/vnd.jupyter.widget-view+json": {
              "model_id": "90ca30c7d2f941a6bcd329a0b504879a",
              "version_major": 2,
              "version_minor": 0
            },
            "text/plain": [
              "validation:   0%|          | 0/22 [00:00<?, ?it/s]"
            ]
          },
          "metadata": {},
          "output_type": "display_data"
        },
        {
          "name": "stdout",
          "output_type": "stream",
          "text": [
            "2022-04-03 07:01:21 | INFO | hw5.seq2seq | example source: receipts go down , some spending programs go up , but most of it is not because of that .\n",
            "2022-04-03 07:01:21 | INFO | hw5.seq2seq | example hypothesis: 收到下去 , 有些花費計畫去 , 但大部分的計畫並不是因為那樣 。\n",
            "2022-04-03 07:01:21 | INFO | hw5.seq2seq | example reference: 收入減少某些支出計畫增加但這不是大多數赤字的原因\n",
            "2022-04-03 07:01:21 | INFO | hw5.seq2seq | validation loss:\t4.0715\n",
            "2022-04-03 07:01:21 | INFO | hw5.seq2seq | BLEU = 17.15 52.6/27.0/14.6/8.3 (BP = 0.844 ratio = 0.855 hyp_len = 95550 ref_len = 111811)\n",
            "2022-04-03 07:01:21 | INFO | hw5.seq2seq | saved epoch checkpoint: /home/spiderkiller/ML2022/hw5_machine_translation/checkpoints/rnn/checkpoint189.pt\n",
            "2022-04-03 07:01:21 | INFO | hw5.seq2seq | end of epoch 189\n"
          ]
        },
        {
          "data": {
            "application/vnd.jupyter.widget-view+json": {
              "model_id": "da9fe4f1b18c4eee978a6fefea8bb233",
              "version_major": 2,
              "version_minor": 0
            },
            "text/plain": [
              "train epoch 190:   0%|          | 0/791 [00:00<?, ?it/s]"
            ]
          },
          "metadata": {},
          "output_type": "display_data"
        },
        {
          "name": "stdout",
          "output_type": "stream",
          "text": [
            "2022-04-03 07:02:47 | INFO | hw5.seq2seq | training loss: 4.2335\n",
            "2022-04-03 07:02:47 | INFO | hw5.seq2seq | begin validation\n"
          ]
        },
        {
          "data": {
            "application/vnd.jupyter.widget-view+json": {
              "model_id": "ed7a20d73d0c4e3f9cc014076cc3466d",
              "version_major": 2,
              "version_minor": 0
            },
            "text/plain": [
              "validation:   0%|          | 0/22 [00:00<?, ?it/s]"
            ]
          },
          "metadata": {},
          "output_type": "display_data"
        },
        {
          "name": "stdout",
          "output_type": "stream",
          "text": [
            "2022-04-03 07:03:13 | INFO | hw5.seq2seq | example source: imagine a patch that you wear on the skin that would detect in your sweat when you're infected with malaria and change color .\n",
            "2022-04-03 07:03:13 | INFO | hw5.seq2seq | example hypothesis: 想像一下你穿過皮膚 , 穿著瘧疾和改變顏色 。 當你感染瘧疾和顏色 。\n",
            "2022-04-03 07:03:13 | INFO | hw5.seq2seq | example reference: 想像一下貼在皮膚上的貼片可以偵測你的汗水當你感染了瘧疾貼片的顏色就會改變\n",
            "2022-04-03 07:03:13 | INFO | hw5.seq2seq | validation loss:\t4.0609\n",
            "2022-04-03 07:03:13 | INFO | hw5.seq2seq | BLEU = 17.49 51.6/26.3/14.2/8.0 (BP = 0.880 ratio = 0.887 hyp_len = 99169 ref_len = 111811)\n",
            "2022-04-03 07:03:13 | INFO | hw5.seq2seq | saved epoch checkpoint: /home/spiderkiller/ML2022/hw5_machine_translation/checkpoints/rnn/checkpoint190.pt\n",
            "2022-04-03 07:03:13 | INFO | hw5.seq2seq | end of epoch 190\n"
          ]
        },
        {
          "data": {
            "application/vnd.jupyter.widget-view+json": {
              "model_id": "3c1f72894d4c426d862b71655935fa31",
              "version_major": 2,
              "version_minor": 0
            },
            "text/plain": [
              "train epoch 191:   0%|          | 0/791 [00:00<?, ?it/s]"
            ]
          },
          "metadata": {},
          "output_type": "display_data"
        },
        {
          "name": "stdout",
          "output_type": "stream",
          "text": [
            "2022-04-03 07:04:39 | INFO | hw5.seq2seq | training loss: 4.2335\n",
            "2022-04-03 07:04:39 | INFO | hw5.seq2seq | begin validation\n"
          ]
        },
        {
          "data": {
            "application/vnd.jupyter.widget-view+json": {
              "model_id": "61f5549cfa8748079d5ca0d42a141fd5",
              "version_major": 2,
              "version_minor": 0
            },
            "text/plain": [
              "validation:   0%|          | 0/22 [00:00<?, ?it/s]"
            ]
          },
          "metadata": {},
          "output_type": "display_data"
        },
        {
          "name": "stdout",
          "output_type": "stream",
          "text": [
            "2022-04-03 07:05:04 | INFO | hw5.seq2seq | example source: second , we need to save our oldgrowth forests .\n",
            "2022-04-03 07:05:04 | INFO | hw5.seq2seq | example hypothesis: 第二 , 我們需要拯救我們的森林 。\n",
            "2022-04-03 07:05:04 | INFO | hw5.seq2seq | example reference: 第二 , 我們需要拯救我們的老齡林 。\n",
            "2022-04-03 07:05:04 | INFO | hw5.seq2seq | validation loss:\t4.0684\n",
            "2022-04-03 07:05:04 | INFO | hw5.seq2seq | BLEU = 17.59 52.0/26.7/14.5/8.3 (BP = 0.871 ratio = 0.879 hyp_len = 98282 ref_len = 111811)\n",
            "2022-04-03 07:05:04 | INFO | hw5.seq2seq | saved epoch checkpoint: /home/spiderkiller/ML2022/hw5_machine_translation/checkpoints/rnn/checkpoint191.pt\n",
            "2022-04-03 07:05:04 | INFO | hw5.seq2seq | end of epoch 191\n"
          ]
        },
        {
          "data": {
            "application/vnd.jupyter.widget-view+json": {
              "model_id": "f21b7bbe0a7d4b5f97b6cf217ec1482f",
              "version_major": 2,
              "version_minor": 0
            },
            "text/plain": [
              "train epoch 192:   0%|          | 0/791 [00:00<?, ?it/s]"
            ]
          },
          "metadata": {},
          "output_type": "display_data"
        },
        {
          "name": "stdout",
          "output_type": "stream",
          "text": [
            "2022-04-03 07:06:28 | INFO | hw5.seq2seq | training loss: 4.2324\n",
            "2022-04-03 07:06:28 | INFO | hw5.seq2seq | begin validation\n"
          ]
        },
        {
          "data": {
            "application/vnd.jupyter.widget-view+json": {
              "model_id": "1a818995520f43db8694f586945fa98c",
              "version_major": 2,
              "version_minor": 0
            },
            "text/plain": [
              "validation:   0%|          | 0/22 [00:00<?, ?it/s]"
            ]
          },
          "metadata": {},
          "output_type": "display_data"
        },
        {
          "name": "stdout",
          "output_type": "stream",
          "text": [
            "2022-04-03 07:06:52 | INFO | hw5.seq2seq | example source: and we can be angry at men with lower status in an expressive hierarchy that supports racism or xenophobia .\n",
            "2022-04-03 07:06:52 | INFO | hw5.seq2seq | example hypothesis: 我們可以在男性較低的地位上生氣的地位 , 支持種族主義或xenophobia 。\n",
            "2022-04-03 07:06:52 | INFO | hw5.seq2seq | example reference: 我們能對那些社會階層低支持種族歧視和仇外的男性生氣 。\n",
            "2022-04-03 07:06:52 | INFO | hw5.seq2seq | validation loss:\t4.0686\n",
            "2022-04-03 07:06:52 | INFO | hw5.seq2seq | BLEU = 17.33 52.2/26.8/14.5/8.2 (BP = 0.859 ratio = 0.868 hyp_len = 97043 ref_len = 111811)\n",
            "2022-04-03 07:06:52 | INFO | hw5.seq2seq | saved epoch checkpoint: /home/spiderkiller/ML2022/hw5_machine_translation/checkpoints/rnn/checkpoint192.pt\n",
            "2022-04-03 07:06:52 | INFO | hw5.seq2seq | end of epoch 192\n"
          ]
        },
        {
          "data": {
            "application/vnd.jupyter.widget-view+json": {
              "model_id": "e9d03a4376e74ba1be2416adc9706039",
              "version_major": 2,
              "version_minor": 0
            },
            "text/plain": [
              "train epoch 193:   0%|          | 0/791 [00:00<?, ?it/s]"
            ]
          },
          "metadata": {},
          "output_type": "display_data"
        },
        {
          "name": "stdout",
          "output_type": "stream",
          "text": [
            "2022-04-03 07:08:20 | INFO | hw5.seq2seq | training loss: 4.2311\n",
            "2022-04-03 07:08:20 | INFO | hw5.seq2seq | begin validation\n"
          ]
        },
        {
          "data": {
            "application/vnd.jupyter.widget-view+json": {
              "model_id": "9b1f82f748fd4811ba5542f63c056cb5",
              "version_major": 2,
              "version_minor": 0
            },
            "text/plain": [
              "validation:   0%|          | 0/22 [00:00<?, ?it/s]"
            ]
          },
          "metadata": {},
          "output_type": "display_data"
        },
        {
          "name": "stdout",
          "output_type": "stream",
          "text": [
            "2022-04-03 07:08:46 | INFO | hw5.seq2seq | example source: you can walk into a book store – right now ! – and buy at least ten books written by credentialed experts on how the hell you do it .\n",
            "2022-04-03 07:08:46 | INFO | hw5.seq2seq | example hypothesis: 你可以走進一本書店 , 現在至少有十本書 , 至少在十本書上寫了一本書的專家專家 。\n",
            "2022-04-03 07:08:46 | INFO | hw5.seq2seq | example reference: 你可以去一家書店--現在 ! --至少買十本資深專家寫的書 , 他們會告訴你怎麼做 。\n",
            "2022-04-03 07:08:46 | INFO | hw5.seq2seq | validation loss:\t4.0676\n",
            "2022-04-03 07:08:46 | INFO | hw5.seq2seq | BLEU = 17.55 51.8/26.5/14.3/8.1 (BP = 0.878 ratio = 0.885 hyp_len = 98950 ref_len = 111811)\n",
            "2022-04-03 07:08:46 | INFO | hw5.seq2seq | saved epoch checkpoint: /home/spiderkiller/ML2022/hw5_machine_translation/checkpoints/rnn/checkpoint193.pt\n",
            "2022-04-03 07:08:46 | INFO | hw5.seq2seq | end of epoch 193\n"
          ]
        },
        {
          "data": {
            "application/vnd.jupyter.widget-view+json": {
              "model_id": "c3035db3259b46c3a4e00d285b41283a",
              "version_major": 2,
              "version_minor": 0
            },
            "text/plain": [
              "train epoch 194:   0%|          | 0/791 [00:00<?, ?it/s]"
            ]
          },
          "metadata": {},
          "output_type": "display_data"
        },
        {
          "name": "stdout",
          "output_type": "stream",
          "text": [
            "2022-04-03 07:10:12 | INFO | hw5.seq2seq | training loss: 4.2307\n",
            "2022-04-03 07:10:12 | INFO | hw5.seq2seq | begin validation\n"
          ]
        },
        {
          "data": {
            "application/vnd.jupyter.widget-view+json": {
              "model_id": "f4b3266587c34aedb9326b418e67c24c",
              "version_major": 2,
              "version_minor": 0
            },
            "text/plain": [
              "validation:   0%|          | 0/22 [00:00<?, ?it/s]"
            ]
          },
          "metadata": {},
          "output_type": "display_data"
        },
        {
          "name": "stdout",
          "output_type": "stream",
          "text": [
            "2022-04-03 07:10:36 | INFO | hw5.seq2seq | example source: media business , or any other business , it needs to be capitalized .\n",
            "2022-04-03 07:10:36 | INFO | hw5.seq2seq | example hypothesis: 媒體商業化 , 或其他商業化 , 它需要資本化 。\n",
            "2022-04-03 07:10:36 | INFO | hw5.seq2seq | example reference: 媒體商業如其他商業一樣 , 都需要資本 。\n",
            "2022-04-03 07:10:36 | INFO | hw5.seq2seq | validation loss:\t4.0583\n",
            "2022-04-03 07:10:36 | INFO | hw5.seq2seq | BLEU = 17.76 50.8/25.9/13.9/7.9 (BP = 0.912 ratio = 0.916 hyp_len = 102416 ref_len = 111811)\n",
            "2022-04-03 07:10:36 | INFO | hw5.seq2seq | saved epoch checkpoint: /home/spiderkiller/ML2022/hw5_machine_translation/checkpoints/rnn/checkpoint194.pt\n",
            "2022-04-03 07:10:36 | INFO | hw5.seq2seq | end of epoch 194\n"
          ]
        },
        {
          "data": {
            "application/vnd.jupyter.widget-view+json": {
              "model_id": "74de454a21304a2c808b670c0506e6d8",
              "version_major": 2,
              "version_minor": 0
            },
            "text/plain": [
              "train epoch 195:   0%|          | 0/791 [00:00<?, ?it/s]"
            ]
          },
          "metadata": {},
          "output_type": "display_data"
        },
        {
          "name": "stdout",
          "output_type": "stream",
          "text": [
            "2022-04-03 07:12:02 | INFO | hw5.seq2seq | training loss: 4.2313\n",
            "2022-04-03 07:12:02 | INFO | hw5.seq2seq | begin validation\n"
          ]
        },
        {
          "data": {
            "application/vnd.jupyter.widget-view+json": {
              "model_id": "bb74b260c66747ada3bf40affd9e411e",
              "version_major": 2,
              "version_minor": 0
            },
            "text/plain": [
              "validation:   0%|          | 0/22 [00:00<?, ?it/s]"
            ]
          },
          "metadata": {},
          "output_type": "display_data"
        },
        {
          "name": "stdout",
          "output_type": "stream",
          "text": [
            "2022-04-03 07:12:29 | INFO | hw5.seq2seq | example source: actually , these are really resilient ecosystems .\n",
            "2022-04-03 07:12:29 | INFO | hw5.seq2seq | example hypothesis: 事實上 , 這些是非常恢復的生態系統 。\n",
            "2022-04-03 07:12:29 | INFO | hw5.seq2seq | example reference: 事實上 , 這些生態系統極具韌性 。\n",
            "2022-04-03 07:12:29 | INFO | hw5.seq2seq | validation loss:\t4.0647\n",
            "2022-04-03 07:12:29 | INFO | hw5.seq2seq | BLEU = 17.80 50.7/25.8/13.9/7.9 (BP = 0.916 ratio = 0.919 hyp_len = 102741 ref_len = 111811)\n",
            "2022-04-03 07:12:30 | INFO | hw5.seq2seq | saved epoch checkpoint: /home/spiderkiller/ML2022/hw5_machine_translation/checkpoints/rnn/checkpoint195.pt\n",
            "2022-04-03 07:12:30 | INFO | hw5.seq2seq | end of epoch 195\n"
          ]
        },
        {
          "data": {
            "application/vnd.jupyter.widget-view+json": {
              "model_id": "f34610cf44ae447298995e526cdf4e55",
              "version_major": 2,
              "version_minor": 0
            },
            "text/plain": [
              "train epoch 196:   0%|          | 0/791 [00:00<?, ?it/s]"
            ]
          },
          "metadata": {},
          "output_type": "display_data"
        },
        {
          "name": "stdout",
          "output_type": "stream",
          "text": [
            "2022-04-03 07:13:59 | INFO | hw5.seq2seq | training loss: 4.2319\n",
            "2022-04-03 07:13:59 | INFO | hw5.seq2seq | begin validation\n"
          ]
        },
        {
          "data": {
            "application/vnd.jupyter.widget-view+json": {
              "model_id": "7beef02fe6b94b05b96d934ef93f1ba1",
              "version_major": 2,
              "version_minor": 0
            },
            "text/plain": [
              "validation:   0%|          | 0/22 [00:00<?, ?it/s]"
            ]
          },
          "metadata": {},
          "output_type": "display_data"
        },
        {
          "name": "stdout",
          "output_type": "stream",
          "text": [
            "2022-04-03 07:14:28 | INFO | hw5.seq2seq | example source: and mister rogers is there to make a kind of classic debate case , a really bold proposal: an increase in federal funding for public broadcasting .\n",
            "2022-04-03 07:14:28 | INFO | hw5.seq2seq | example hypothesis: 羅傑·羅傑是必須讓典型的辯論案例 , 一個非常冷膽的論點:在聯邦公眾廣告上增加 。\n",
            "2022-04-03 07:14:28 | INFO | hw5.seq2seq | example reference: 羅傑斯去那裡是要進行一件經典的辯論案 , 一個非常大膽的提議:增加聯邦對於公共廣播提撥的資金 。\n",
            "2022-04-03 07:14:28 | INFO | hw5.seq2seq | validation loss:\t4.0690\n",
            "2022-04-03 07:14:28 | INFO | hw5.seq2seq | BLEU = 17.30 51.9/26.5/14.3/8.1 (BP = 0.865 ratio = 0.873 hyp_len = 97617 ref_len = 111811)\n",
            "2022-04-03 07:14:28 | INFO | hw5.seq2seq | saved epoch checkpoint: /home/spiderkiller/ML2022/hw5_machine_translation/checkpoints/rnn/checkpoint196.pt\n",
            "2022-04-03 07:14:28 | INFO | hw5.seq2seq | end of epoch 196\n"
          ]
        },
        {
          "data": {
            "application/vnd.jupyter.widget-view+json": {
              "model_id": "394b0842877640dfb77ca4c4ba57e9ef",
              "version_major": 2,
              "version_minor": 0
            },
            "text/plain": [
              "train epoch 197:   0%|          | 0/791 [00:00<?, ?it/s]"
            ]
          },
          "metadata": {},
          "output_type": "display_data"
        },
        {
          "name": "stdout",
          "output_type": "stream",
          "text": [
            "2022-04-03 07:15:55 | INFO | hw5.seq2seq | training loss: 4.2304\n",
            "2022-04-03 07:15:55 | INFO | hw5.seq2seq | begin validation\n"
          ]
        },
        {
          "data": {
            "application/vnd.jupyter.widget-view+json": {
              "model_id": "8aee9778bc4848a29e483ff66bcdf61a",
              "version_major": 2,
              "version_minor": 0
            },
            "text/plain": [
              "validation:   0%|          | 0/22 [00:00<?, ?it/s]"
            ]
          },
          "metadata": {},
          "output_type": "display_data"
        },
        {
          "name": "stdout",
          "output_type": "stream",
          "text": [
            "2022-04-03 07:16:23 | INFO | hw5.seq2seq | example source: so , if we have a pure wave , we can measure its wavelength , and thus its momentum , but it has no position .\n",
            "2022-04-03 07:16:23 | INFO | hw5.seq2seq | example hypothesis: 所以 , 如果我們有純粹波長 , 我們可以測量它的波長 , 而thususususus , 但它沒有位置 。\n",
            "2022-04-03 07:16:23 | INFO | hw5.seq2seq | example reference: 如果我們有一個純粹的波就可以測量它的波長進而算出它的動量但是卻無法測出它的確實位置\n",
            "2022-04-03 07:16:23 | INFO | hw5.seq2seq | validation loss:\t4.0704\n",
            "2022-04-03 07:16:23 | INFO | hw5.seq2seq | BLEU = 17.50 51.7/26.4/14.3/8.2 (BP = 0.875 ratio = 0.883 hyp_len = 98688 ref_len = 111811)\n",
            "2022-04-03 07:16:23 | INFO | hw5.seq2seq | saved epoch checkpoint: /home/spiderkiller/ML2022/hw5_machine_translation/checkpoints/rnn/checkpoint197.pt\n",
            "2022-04-03 07:16:23 | INFO | hw5.seq2seq | end of epoch 197\n"
          ]
        },
        {
          "data": {
            "application/vnd.jupyter.widget-view+json": {
              "model_id": "8231a63473c94ffa915bb2a5a4729715",
              "version_major": 2,
              "version_minor": 0
            },
            "text/plain": [
              "train epoch 198:   0%|          | 0/791 [00:00<?, ?it/s]"
            ]
          },
          "metadata": {},
          "output_type": "display_data"
        },
        {
          "name": "stdout",
          "output_type": "stream",
          "text": [
            "2022-04-03 07:17:48 | INFO | hw5.seq2seq | training loss: 4.2293\n",
            "2022-04-03 07:17:48 | INFO | hw5.seq2seq | begin validation\n"
          ]
        },
        {
          "data": {
            "application/vnd.jupyter.widget-view+json": {
              "model_id": "b16ddcbdb3184e08adb52b476311bcb5",
              "version_major": 2,
              "version_minor": 0
            },
            "text/plain": [
              "validation:   0%|          | 0/22 [00:00<?, ?it/s]"
            ]
          },
          "metadata": {},
          "output_type": "display_data"
        },
        {
          "name": "stdout",
          "output_type": "stream",
          "text": [
            "2022-04-03 07:18:14 | INFO | hw5.seq2seq | example source: but it's an unusual building to protect this telescope .\n",
            "2022-04-03 07:18:14 | INFO | hw5.seq2seq | example hypothesis: 但這是個很不尋常的建築 。\n",
            "2022-04-03 07:18:14 | INFO | hw5.seq2seq | example reference: 為了保護這座望遠鏡它的設計不同於一般建築 ,\n",
            "2022-04-03 07:18:14 | INFO | hw5.seq2seq | validation loss:\t4.0727\n",
            "2022-04-03 07:18:14 | INFO | hw5.seq2seq | BLEU = 17.19 52.8/27.0/14.6/8.4 (BP = 0.840 ratio = 0.852 hyp_len = 95249 ref_len = 111811)\n",
            "2022-04-03 07:18:14 | INFO | hw5.seq2seq | saved epoch checkpoint: /home/spiderkiller/ML2022/hw5_machine_translation/checkpoints/rnn/checkpoint198.pt\n",
            "2022-04-03 07:18:14 | INFO | hw5.seq2seq | end of epoch 198\n"
          ]
        },
        {
          "data": {
            "application/vnd.jupyter.widget-view+json": {
              "model_id": "cdf9440fe2684d1fb0e3b4d000e357c1",
              "version_major": 2,
              "version_minor": 0
            },
            "text/plain": [
              "train epoch 199:   0%|          | 0/791 [00:00<?, ?it/s]"
            ]
          },
          "metadata": {},
          "output_type": "display_data"
        },
        {
          "name": "stdout",
          "output_type": "stream",
          "text": [
            "2022-04-03 07:19:39 | INFO | hw5.seq2seq | training loss: 4.2299\n",
            "2022-04-03 07:19:39 | INFO | hw5.seq2seq | begin validation\n"
          ]
        },
        {
          "data": {
            "application/vnd.jupyter.widget-view+json": {
              "model_id": "3df1ccdbafba4cc48e402acba455360b",
              "version_major": 2,
              "version_minor": 0
            },
            "text/plain": [
              "validation:   0%|          | 0/22 [00:00<?, ?it/s]"
            ]
          },
          "metadata": {},
          "output_type": "display_data"
        },
        {
          "name": "stdout",
          "output_type": "stream",
          "text": [
            "2022-04-03 07:20:05 | INFO | hw5.seq2seq | example source: so 95 percent of us will say that it is terribly wrong for our partner to lie about having an affair , but just about the same amount of us will say that that's exactly what we would do if we were having one .\n",
            "2022-04-03 07:20:05 | INFO | hw5.seq2seq | example hypothesis: 所以 , 百分之九十五的人會說 , 這對我們的伴侶感到不適 , 但只要我們有一大堆人會說這是我們會做的事 。\n",
            "2022-04-03 07:20:05 | INFO | hw5.seq2seq | example reference: 所以95%的人會說另一半因外遇說謊是很糟糕的行為但一樣多的人表示當我們外遇時也會這樣做 。\n",
            "2022-04-03 07:20:05 | INFO | hw5.seq2seq | validation loss:\t4.0639\n",
            "2022-04-03 07:20:05 | INFO | hw5.seq2seq | BLEU = 17.47 51.6/26.3/14.2/8.1 (BP = 0.878 ratio = 0.885 hyp_len = 98944 ref_len = 111811)\n",
            "2022-04-03 07:20:05 | INFO | hw5.seq2seq | saved epoch checkpoint: /home/spiderkiller/ML2022/hw5_machine_translation/checkpoints/rnn/checkpoint199.pt\n",
            "2022-04-03 07:20:05 | INFO | hw5.seq2seq | end of epoch 199\n"
          ]
        },
        {
          "data": {
            "application/vnd.jupyter.widget-view+json": {
              "model_id": "b9c3561459254974af16cdfcfbb2ff5c",
              "version_major": 2,
              "version_minor": 0
            },
            "text/plain": [
              "train epoch 200:   0%|          | 0/791 [00:00<?, ?it/s]"
            ]
          },
          "metadata": {},
          "output_type": "display_data"
        },
        {
          "name": "stdout",
          "output_type": "stream",
          "text": [
            "2022-04-03 07:21:31 | INFO | hw5.seq2seq | training loss: 4.2281\n",
            "2022-04-03 07:21:31 | INFO | hw5.seq2seq | begin validation\n"
          ]
        },
        {
          "data": {
            "application/vnd.jupyter.widget-view+json": {
              "model_id": "5e5dc8d9ac734983be002ae433d1b6f7",
              "version_major": 2,
              "version_minor": 0
            },
            "text/plain": [
              "validation:   0%|          | 0/22 [00:00<?, ?it/s]"
            ]
          },
          "metadata": {},
          "output_type": "display_data"
        },
        {
          "name": "stdout",
          "output_type": "stream",
          "text": [
            "2022-04-03 07:21:56 | INFO | hw5.seq2seq | example source: it's complex , and a lot of the terms are quite technical , so the average person probably doesn't need to know at least a third of it .\n",
            "2022-04-03 07:21:56 | INFO | hw5.seq2seq | example hypothesis: 它是複雜的 , 而且很多詞彙非常技術 , 所以平均人可能不需要知道至少三分之一 。\n",
            "2022-04-03 07:21:56 | INFO | hw5.seq2seq | example reference: 它很複雜 , 其中有很多專業詞彙 。 對一般人來說 , 有大概三分之一的詞彙都不用認識 。\n",
            "2022-04-03 07:21:56 | INFO | hw5.seq2seq | validation loss:\t4.0711\n",
            "2022-04-03 07:21:56 | INFO | hw5.seq2seq | BLEU = 17.47 52.0/26.7/14.4/8.2 (BP = 0.869 ratio = 0.877 hyp_len = 98042 ref_len = 111811)\n",
            "2022-04-03 07:21:56 | INFO | hw5.seq2seq | saved epoch checkpoint: /home/spiderkiller/ML2022/hw5_machine_translation/checkpoints/rnn/checkpoint200.pt\n",
            "2022-04-03 07:21:56 | INFO | hw5.seq2seq | end of epoch 200\n"
          ]
        },
        {
          "data": {
            "application/vnd.jupyter.widget-view+json": {
              "model_id": "84609c956e56402e9cce418294c37322",
              "version_major": 2,
              "version_minor": 0
            },
            "text/plain": [
              "train epoch 201:   0%|          | 0/791 [00:00<?, ?it/s]"
            ]
          },
          "metadata": {},
          "output_type": "display_data"
        },
        {
          "name": "stdout",
          "output_type": "stream",
          "text": [
            "2022-04-03 07:23:22 | INFO | hw5.seq2seq | training loss: 4.2297\n",
            "2022-04-03 07:23:22 | INFO | hw5.seq2seq | begin validation\n"
          ]
        },
        {
          "data": {
            "application/vnd.jupyter.widget-view+json": {
              "model_id": "6eb9ea1c94f34f8293a1f4718633202d",
              "version_major": 2,
              "version_minor": 0
            },
            "text/plain": [
              "validation:   0%|          | 0/22 [00:00<?, ?it/s]"
            ]
          },
          "metadata": {},
          "output_type": "display_data"
        },
        {
          "name": "stdout",
          "output_type": "stream",
          "text": [
            "2022-04-03 07:23:48 | INFO | hw5.seq2seq | example source: it's good for improving people's lives .\n",
            "2022-04-03 07:23:48 | INFO | hw5.seq2seq | example hypothesis: 為了改善人們的生活 。\n",
            "2022-04-03 07:23:48 | INFO | hw5.seq2seq | example reference: 可以促進生活品質\n",
            "2022-04-03 07:23:48 | INFO | hw5.seq2seq | validation loss:\t4.0736\n",
            "2022-04-03 07:23:48 | INFO | hw5.seq2seq | BLEU = 17.49 52.2/26.7/14.4/8.2 (BP = 0.868 ratio = 0.876 hyp_len = 97957 ref_len = 111811)\n",
            "2022-04-03 07:23:48 | INFO | hw5.seq2seq | saved epoch checkpoint: /home/spiderkiller/ML2022/hw5_machine_translation/checkpoints/rnn/checkpoint201.pt\n",
            "2022-04-03 07:23:48 | INFO | hw5.seq2seq | end of epoch 201\n"
          ]
        },
        {
          "data": {
            "application/vnd.jupyter.widget-view+json": {
              "model_id": "27f8d66cbc7d4a1c9de7b557ec519c06",
              "version_major": 2,
              "version_minor": 0
            },
            "text/plain": [
              "train epoch 202:   0%|          | 0/791 [00:00<?, ?it/s]"
            ]
          },
          "metadata": {},
          "output_type": "display_data"
        },
        {
          "name": "stdout",
          "output_type": "stream",
          "text": [
            "2022-04-03 07:25:14 | INFO | hw5.seq2seq | training loss: 4.2291\n",
            "2022-04-03 07:25:14 | INFO | hw5.seq2seq | begin validation\n"
          ]
        },
        {
          "data": {
            "application/vnd.jupyter.widget-view+json": {
              "model_id": "07dc987ccb5d4cbf8733de119eea14a2",
              "version_major": 2,
              "version_minor": 0
            },
            "text/plain": [
              "validation:   0%|          | 0/22 [00:00<?, ?it/s]"
            ]
          },
          "metadata": {},
          "output_type": "display_data"
        },
        {
          "name": "stdout",
          "output_type": "stream",
          "text": [
            "2022-04-03 07:25:41 | INFO | hw5.seq2seq | example source: i bet those prehistoric cave artists would have loved to know how to draw better .\n",
            "2022-04-03 07:25:41 | INFO | hw5.seq2seq | example hypothesis: 我打賭藝術家會很喜歡知道如何畫得更好 。\n",
            "2022-04-03 07:25:41 | INFO | hw5.seq2seq | example reference: 我敢說那些史前洞穴的畫家一定很想知道怎麼樣畫得更好 。\n",
            "2022-04-03 07:25:41 | INFO | hw5.seq2seq | validation loss:\t4.0620\n",
            "2022-04-03 07:25:41 | INFO | hw5.seq2seq | BLEU = 17.52 51.2/26.1/14.1/7.9 (BP = 0.892 ratio = 0.897 hyp_len = 100313 ref_len = 111811)\n",
            "2022-04-03 07:25:41 | INFO | hw5.seq2seq | saved epoch checkpoint: /home/spiderkiller/ML2022/hw5_machine_translation/checkpoints/rnn/checkpoint202.pt\n",
            "2022-04-03 07:25:41 | INFO | hw5.seq2seq | end of epoch 202\n"
          ]
        },
        {
          "data": {
            "application/vnd.jupyter.widget-view+json": {
              "model_id": "c60de78f701148318032ab8d01c467aa",
              "version_major": 2,
              "version_minor": 0
            },
            "text/plain": [
              "train epoch 203:   0%|          | 0/791 [00:00<?, ?it/s]"
            ]
          },
          "metadata": {},
          "output_type": "display_data"
        },
        {
          "name": "stdout",
          "output_type": "stream",
          "text": [
            "2022-04-03 07:27:06 | INFO | hw5.seq2seq | training loss: 4.2285\n",
            "2022-04-03 07:27:06 | INFO | hw5.seq2seq | begin validation\n"
          ]
        },
        {
          "data": {
            "application/vnd.jupyter.widget-view+json": {
              "model_id": "33fcb0514100432eaa622a58d65fc8a2",
              "version_major": 2,
              "version_minor": 0
            },
            "text/plain": [
              "validation:   0%|          | 0/22 [00:00<?, ?it/s]"
            ]
          },
          "metadata": {},
          "output_type": "display_data"
        },
        {
          "name": "stdout",
          "output_type": "stream",
          "text": [
            "2022-04-03 07:27:33 | INFO | hw5.seq2seq | example source: in return , the seer told them how to overcome the terrifying trial that lay ahead: the symplegades , a pair clashing rocks that reduced ships to splinters .\n",
            "2022-04-03 07:27:33 | INFO | hw5.seq2seq | example hypothesis: 在返回時 , 看到他們如何克服他們如何克服那些拉里斯:症狀、症狀 , 一對脊椎動物來說 , 一對脊椎動物的船隻 。\n",
            "2022-04-03 07:27:33 | INFO | hw5.seq2seq | example reference: 作為回報先知教他們如何克服接下來的可怕挑戰:撞岩一對會擊碎船隻的岩石\n",
            "2022-04-03 07:27:33 | INFO | hw5.seq2seq | validation loss:\t4.0684\n",
            "2022-04-03 07:27:33 | INFO | hw5.seq2seq | BLEU = 17.49 51.5/26.2/14.2/7.9 (BP = 0.886 ratio = 0.892 hyp_len = 99756 ref_len = 111811)\n",
            "2022-04-03 07:27:33 | INFO | hw5.seq2seq | saved epoch checkpoint: /home/spiderkiller/ML2022/hw5_machine_translation/checkpoints/rnn/checkpoint203.pt\n",
            "2022-04-03 07:27:33 | INFO | hw5.seq2seq | end of epoch 203\n"
          ]
        },
        {
          "data": {
            "application/vnd.jupyter.widget-view+json": {
              "model_id": "11c4202e1d494ede9e12272b58f23ac3",
              "version_major": 2,
              "version_minor": 0
            },
            "text/plain": [
              "train epoch 204:   0%|          | 0/791 [00:00<?, ?it/s]"
            ]
          },
          "metadata": {},
          "output_type": "display_data"
        },
        {
          "name": "stdout",
          "output_type": "stream",
          "text": [
            "2022-04-03 07:28:59 | INFO | hw5.seq2seq | training loss: 4.2297\n",
            "2022-04-03 07:28:59 | INFO | hw5.seq2seq | begin validation\n"
          ]
        },
        {
          "data": {
            "application/vnd.jupyter.widget-view+json": {
              "model_id": "ee29527e379f4fc38037323b7a3623af",
              "version_major": 2,
              "version_minor": 0
            },
            "text/plain": [
              "validation:   0%|          | 0/22 [00:00<?, ?it/s]"
            ]
          },
          "metadata": {},
          "output_type": "display_data"
        },
        {
          "name": "stdout",
          "output_type": "stream",
          "text": [
            "2022-04-03 07:29:28 | INFO | hw5.seq2seq | example source: but journalism isn't dead .\n",
            "2022-04-03 07:29:28 | INFO | hw5.seq2seq | example hypothesis: 但記者不是死了 。\n",
            "2022-04-03 07:29:28 | INFO | hw5.seq2seq | example reference: 但新聞業沒死 。\n",
            "2022-04-03 07:29:28 | INFO | hw5.seq2seq | validation loss:\t4.0595\n",
            "2022-04-03 07:29:28 | INFO | hw5.seq2seq | BLEU = 17.65 51.1/26.0/14.0/7.9 (BP = 0.902 ratio = 0.907 hyp_len = 101373 ref_len = 111811)\n",
            "2022-04-03 07:29:28 | INFO | hw5.seq2seq | saved epoch checkpoint: /home/spiderkiller/ML2022/hw5_machine_translation/checkpoints/rnn/checkpoint204.pt\n",
            "2022-04-03 07:29:28 | INFO | hw5.seq2seq | end of epoch 204\n"
          ]
        },
        {
          "data": {
            "application/vnd.jupyter.widget-view+json": {
              "model_id": "39969de8cad94fe29a119052f2a807f3",
              "version_major": 2,
              "version_minor": 0
            },
            "text/plain": [
              "train epoch 205:   0%|          | 0/791 [00:00<?, ?it/s]"
            ]
          },
          "metadata": {},
          "output_type": "display_data"
        },
        {
          "name": "stdout",
          "output_type": "stream",
          "text": [
            "2022-04-03 07:30:54 | INFO | hw5.seq2seq | training loss: 4.2283\n",
            "2022-04-03 07:30:54 | INFO | hw5.seq2seq | begin validation\n"
          ]
        },
        {
          "data": {
            "application/vnd.jupyter.widget-view+json": {
              "model_id": "845f52bd552148cbbe10959e5e0ef78d",
              "version_major": 2,
              "version_minor": 0
            },
            "text/plain": [
              "validation:   0%|          | 0/22 [00:00<?, ?it/s]"
            ]
          },
          "metadata": {},
          "output_type": "display_data"
        },
        {
          "name": "stdout",
          "output_type": "stream",
          "text": [
            "2022-04-03 07:31:19 | INFO | hw5.seq2seq | example source: so we're left with baby boomers by the end of the '90s .\n",
            "2022-04-03 07:31:19 | INFO | hw5.seq2seq | example hypothesis: 所以我們離開了嬰兒的底部 , 是90年代末期 。\n",
            "2022-04-03 07:31:19 | INFO | hw5.seq2seq | example reference: 90年代末期 , 我們就只有嬰兒潮時代出生的人 ,\n",
            "2022-04-03 07:31:19 | INFO | hw5.seq2seq | validation loss:\t4.0586\n",
            "2022-04-03 07:31:19 | INFO | hw5.seq2seq | BLEU = 17.43 51.9/26.5/14.3/8.1 (BP = 0.871 ratio = 0.879 hyp_len = 98261 ref_len = 111811)\n",
            "2022-04-03 07:31:19 | INFO | hw5.seq2seq | saved epoch checkpoint: /home/spiderkiller/ML2022/hw5_machine_translation/checkpoints/rnn/checkpoint205.pt\n",
            "2022-04-03 07:31:19 | INFO | hw5.seq2seq | end of epoch 205\n"
          ]
        },
        {
          "data": {
            "application/vnd.jupyter.widget-view+json": {
              "model_id": "eb07f05b3b5342569e55ed0a8650fc00",
              "version_major": 2,
              "version_minor": 0
            },
            "text/plain": [
              "train epoch 206:   0%|          | 0/791 [00:00<?, ?it/s]"
            ]
          },
          "metadata": {},
          "output_type": "display_data"
        },
        {
          "name": "stdout",
          "output_type": "stream",
          "text": [
            "2022-04-03 07:32:49 | INFO | hw5.seq2seq | training loss: 4.2295\n",
            "2022-04-03 07:32:49 | INFO | hw5.seq2seq | begin validation\n"
          ]
        },
        {
          "data": {
            "application/vnd.jupyter.widget-view+json": {
              "model_id": "13677c913817468cb43e9d66b8a662be",
              "version_major": 2,
              "version_minor": 0
            },
            "text/plain": [
              "validation:   0%|          | 0/22 [00:00<?, ?it/s]"
            ]
          },
          "metadata": {},
          "output_type": "display_data"
        },
        {
          "name": "stdout",
          "output_type": "stream",
          "text": [
            "2022-04-03 07:33:17 | INFO | hw5.seq2seq | example source: we have an instinct for language , allowing us to share the fruits of our ingenuity and experience .\n",
            "2022-04-03 07:33:17 | INFO | hw5.seq2seq | example hypothesis: 我們對語言的意義 , 讓我們能夠分享我們的靈感和經驗的果蠅 。\n",
            "2022-04-03 07:33:17 | INFO | hw5.seq2seq | example reference: 我們對於語言具有直覺 , 讓我們能分享我們心靈手巧和經驗的果實 。\n",
            "2022-04-03 07:33:17 | INFO | hw5.seq2seq | validation loss:\t4.0680\n",
            "2022-04-03 07:33:17 | INFO | hw5.seq2seq | BLEU = 17.25 52.8/27.0/14.6/8.3 (BP = 0.847 ratio = 0.858 hyp_len = 95920 ref_len = 111811)\n",
            "2022-04-03 07:33:17 | INFO | hw5.seq2seq | saved epoch checkpoint: /home/spiderkiller/ML2022/hw5_machine_translation/checkpoints/rnn/checkpoint206.pt\n",
            "2022-04-03 07:33:17 | INFO | hw5.seq2seq | end of epoch 206\n"
          ]
        },
        {
          "data": {
            "application/vnd.jupyter.widget-view+json": {
              "model_id": "b32696fc94db4c49bceffeea2fd2e535",
              "version_major": 2,
              "version_minor": 0
            },
            "text/plain": [
              "train epoch 207:   0%|          | 0/791 [00:00<?, ?it/s]"
            ]
          },
          "metadata": {},
          "output_type": "display_data"
        },
        {
          "name": "stdout",
          "output_type": "stream",
          "text": [
            "2022-04-03 07:34:44 | INFO | hw5.seq2seq | training loss: 4.2285\n",
            "2022-04-03 07:34:44 | INFO | hw5.seq2seq | begin validation\n"
          ]
        },
        {
          "data": {
            "application/vnd.jupyter.widget-view+json": {
              "model_id": "01d14d9191bf4972a837d3f7fa075038",
              "version_major": 2,
              "version_minor": 0
            },
            "text/plain": [
              "validation:   0%|          | 0/22 [00:00<?, ?it/s]"
            ]
          },
          "metadata": {},
          "output_type": "display_data"
        },
        {
          "name": "stdout",
          "output_type": "stream",
          "text": [
            "2022-04-03 07:35:10 | INFO | hw5.seq2seq | example source: and it is a really weird thing to do .\n",
            "2022-04-03 07:35:10 | INFO | hw5.seq2seq | example hypothesis: 這是個很奇怪的事 。\n",
            "2022-04-03 07:35:10 | INFO | hw5.seq2seq | example reference: 笑真的是一件非常奇怪的事 。\n",
            "2022-04-03 07:35:10 | INFO | hw5.seq2seq | validation loss:\t4.0569\n",
            "2022-04-03 07:35:10 | INFO | hw5.seq2seq | BLEU = 17.84 51.0/26.0/14.1/8.0 (BP = 0.908 ratio = 0.912 hyp_len = 101971 ref_len = 111811)\n",
            "2022-04-03 07:35:10 | INFO | hw5.seq2seq | saved epoch checkpoint: /home/spiderkiller/ML2022/hw5_machine_translation/checkpoints/rnn/checkpoint207.pt\n",
            "2022-04-03 07:35:10 | INFO | hw5.seq2seq | end of epoch 207\n"
          ]
        },
        {
          "data": {
            "application/vnd.jupyter.widget-view+json": {
              "model_id": "02e2f1878bf8486fbbe45bc63c27c30a",
              "version_major": 2,
              "version_minor": 0
            },
            "text/plain": [
              "train epoch 208:   0%|          | 0/791 [00:00<?, ?it/s]"
            ]
          },
          "metadata": {},
          "output_type": "display_data"
        },
        {
          "name": "stdout",
          "output_type": "stream",
          "text": [
            "2022-04-03 07:36:36 | INFO | hw5.seq2seq | training loss: 4.2279\n",
            "2022-04-03 07:36:36 | INFO | hw5.seq2seq | begin validation\n"
          ]
        },
        {
          "data": {
            "application/vnd.jupyter.widget-view+json": {
              "model_id": "bc35e01db866407ea30dd20a46b5cccf",
              "version_major": 2,
              "version_minor": 0
            },
            "text/plain": [
              "validation:   0%|          | 0/22 [00:00<?, ?it/s]"
            ]
          },
          "metadata": {},
          "output_type": "display_data"
        },
        {
          "name": "stdout",
          "output_type": "stream",
          "text": [
            "2022-04-03 07:37:00 | INFO | hw5.seq2seq | example source: it requires you only to show up as a citizen .\n",
            "2022-04-03 07:37:00 | INFO | hw5.seq2seq | example hypothesis: 它只需要讓你成為公民 。\n",
            "2022-04-03 07:37:00 | INFO | hw5.seq2seq | example reference: 它只要求你要以公民的身分出席 。\n",
            "2022-04-03 07:37:00 | INFO | hw5.seq2seq | validation loss:\t4.0672\n",
            "2022-04-03 07:37:00 | INFO | hw5.seq2seq | BLEU = 17.64 51.6/26.4/14.3/8.1 (BP = 0.886 ratio = 0.892 hyp_len = 99770 ref_len = 111811)\n",
            "2022-04-03 07:37:00 | INFO | hw5.seq2seq | saved epoch checkpoint: /home/spiderkiller/ML2022/hw5_machine_translation/checkpoints/rnn/checkpoint208.pt\n",
            "2022-04-03 07:37:00 | INFO | hw5.seq2seq | end of epoch 208\n"
          ]
        },
        {
          "data": {
            "application/vnd.jupyter.widget-view+json": {
              "model_id": "0ea8e9619e6b4079bfa2592a8b796c73",
              "version_major": 2,
              "version_minor": 0
            },
            "text/plain": [
              "train epoch 209:   0%|          | 0/791 [00:00<?, ?it/s]"
            ]
          },
          "metadata": {},
          "output_type": "display_data"
        },
        {
          "name": "stdout",
          "output_type": "stream",
          "text": [
            "2022-04-03 07:38:26 | INFO | hw5.seq2seq | training loss: 4.2295\n",
            "2022-04-03 07:38:26 | INFO | hw5.seq2seq | begin validation\n"
          ]
        },
        {
          "data": {
            "application/vnd.jupyter.widget-view+json": {
              "model_id": "9237ff8bee3042ad82287c051b7083f8",
              "version_major": 2,
              "version_minor": 0
            },
            "text/plain": [
              "validation:   0%|          | 0/22 [00:00<?, ?it/s]"
            ]
          },
          "metadata": {},
          "output_type": "display_data"
        },
        {
          "name": "stdout",
          "output_type": "stream",
          "text": [
            "2022-04-03 07:38:50 | INFO | hw5.seq2seq | example source: and it wasn't edited because it existed in only one manuscript which was so badly damaged during the firebombing of dresden in world war ii that generations of scholars had pronounced it lost .\n",
            "2022-04-03 07:38:50 | INFO | hw5.seq2seq | example hypothesis: 這不是編輯 , 因為它存在於只有一個人工業時代大戰期間 , 幾乎是損害的 , 在世界大戰期間 , 學者被宣佈 。\n",
            "2022-04-03 07:38:50 | INFO | hw5.seq2seq | example reference: 沒人編是因為它只存在一份手稿中 , 這稿在二戰炮轟德勒斯登時被嚴重損毀 , 世代學者都聲稱稿已經不見了 。\n",
            "2022-04-03 07:38:50 | INFO | hw5.seq2seq | validation loss:\t4.0782\n",
            "2022-04-03 07:38:50 | INFO | hw5.seq2seq | BLEU = 16.92 53.1/27.2/14.7/8.3 (BP = 0.825 ratio = 0.839 hyp_len = 93819 ref_len = 111811)\n",
            "2022-04-03 07:38:50 | INFO | hw5.seq2seq | saved epoch checkpoint: /home/spiderkiller/ML2022/hw5_machine_translation/checkpoints/rnn/checkpoint209.pt\n",
            "2022-04-03 07:38:50 | INFO | hw5.seq2seq | end of epoch 209\n"
          ]
        },
        {
          "data": {
            "application/vnd.jupyter.widget-view+json": {
              "model_id": "7d2823e0b8434cfea6d263b9c212b7ed",
              "version_major": 2,
              "version_minor": 0
            },
            "text/plain": [
              "train epoch 210:   0%|          | 0/791 [00:00<?, ?it/s]"
            ]
          },
          "metadata": {},
          "output_type": "display_data"
        },
        {
          "name": "stdout",
          "output_type": "stream",
          "text": [
            "2022-04-03 07:40:16 | INFO | hw5.seq2seq | training loss: 4.2283\n",
            "2022-04-03 07:40:16 | INFO | hw5.seq2seq | begin validation\n"
          ]
        },
        {
          "data": {
            "application/vnd.jupyter.widget-view+json": {
              "model_id": "b68e6a7562cf412285326033096c6edd",
              "version_major": 2,
              "version_minor": 0
            },
            "text/plain": [
              "validation:   0%|          | 0/22 [00:00<?, ?it/s]"
            ]
          },
          "metadata": {},
          "output_type": "display_data"
        },
        {
          "name": "stdout",
          "output_type": "stream",
          "text": [
            "2022-04-03 07:40:42 | INFO | hw5.seq2seq | example source: it's formless , featureless , depthless , scaleless , massless , purposeless and dimensionless .\n",
            "2022-04-03 07:40:42 | INFO | hw5.seq2seq | example hypothesis: 無論是無形的 , 不論是無限、無限、無限、無盡、無盡、無盡的 。\n",
            "2022-04-03 07:40:42 | INFO | hw5.seq2seq | example reference: 它沒有形式、特徵、深度、尺度、質量 , 也沒有目的、維度 。\n",
            "2022-04-03 07:40:42 | INFO | hw5.seq2seq | validation loss:\t4.0617\n",
            "2022-04-03 07:40:42 | INFO | hw5.seq2seq | BLEU = 17.62 51.8/26.5/14.3/8.1 (BP = 0.883 ratio = 0.890 hyp_len = 99467 ref_len = 111811)\n",
            "2022-04-03 07:40:42 | INFO | hw5.seq2seq | saved epoch checkpoint: /home/spiderkiller/ML2022/hw5_machine_translation/checkpoints/rnn/checkpoint210.pt\n",
            "2022-04-03 07:40:42 | INFO | hw5.seq2seq | end of epoch 210\n"
          ]
        },
        {
          "data": {
            "application/vnd.jupyter.widget-view+json": {
              "model_id": "4c0a5a233dba4d19a802d3a441e4334a",
              "version_major": 2,
              "version_minor": 0
            },
            "text/plain": [
              "train epoch 211:   0%|          | 0/791 [00:00<?, ?it/s]"
            ]
          },
          "metadata": {},
          "output_type": "display_data"
        },
        {
          "name": "stdout",
          "output_type": "stream",
          "text": [
            "2022-04-03 07:42:08 | INFO | hw5.seq2seq | training loss: 4.2288\n",
            "2022-04-03 07:42:08 | INFO | hw5.seq2seq | begin validation\n"
          ]
        },
        {
          "data": {
            "application/vnd.jupyter.widget-view+json": {
              "model_id": "01c02afbbedb4ee6b9bff11565d04272",
              "version_major": 2,
              "version_minor": 0
            },
            "text/plain": [
              "validation:   0%|          | 0/22 [00:00<?, ?it/s]"
            ]
          },
          "metadata": {},
          "output_type": "display_data"
        },
        {
          "name": "stdout",
          "output_type": "stream",
          "text": [
            "2022-04-03 07:42:35 | INFO | hw5.seq2seq | example source: it would be 10 times bigger than the size of that screen , going 10 times deeper as well .\n",
            "2022-04-03 07:42:35 | INFO | hw5.seq2seq | example hypothesis: 螢幕的大小 , 比螢幕的大小 , 比螢幕更深 。\n",
            "2022-04-03 07:42:35 | INFO | hw5.seq2seq | example reference: 會比屏幕的尺寸大十倍也比它深十倍\n",
            "2022-04-03 07:42:35 | INFO | hw5.seq2seq | validation loss:\t4.0577\n",
            "2022-04-03 07:42:35 | INFO | hw5.seq2seq | BLEU = 17.69 51.2/26.1/14.1/7.9 (BP = 0.900 ratio = 0.905 hyp_len = 101172 ref_len = 111811)\n",
            "2022-04-03 07:42:35 | INFO | hw5.seq2seq | saved epoch checkpoint: /home/spiderkiller/ML2022/hw5_machine_translation/checkpoints/rnn/checkpoint211.pt\n",
            "2022-04-03 07:42:35 | INFO | hw5.seq2seq | end of epoch 211\n"
          ]
        },
        {
          "data": {
            "application/vnd.jupyter.widget-view+json": {
              "model_id": "9e65c67e973140c69d4e6a4afe0f555b",
              "version_major": 2,
              "version_minor": 0
            },
            "text/plain": [
              "train epoch 212:   0%|          | 0/791 [00:00<?, ?it/s]"
            ]
          },
          "metadata": {},
          "output_type": "display_data"
        },
        {
          "name": "stdout",
          "output_type": "stream",
          "text": [
            "2022-04-03 07:44:00 | INFO | hw5.seq2seq | training loss: 4.2301\n",
            "2022-04-03 07:44:00 | INFO | hw5.seq2seq | begin validation\n"
          ]
        },
        {
          "data": {
            "application/vnd.jupyter.widget-view+json": {
              "model_id": "d48dc524097149d2bc856f7ae32d3523",
              "version_major": 2,
              "version_minor": 0
            },
            "text/plain": [
              "validation:   0%|          | 0/22 [00:00<?, ?it/s]"
            ]
          },
          "metadata": {},
          "output_type": "display_data"
        },
        {
          "name": "stdout",
          "output_type": "stream",
          "text": [
            "2022-04-03 07:44:24 | INFO | hw5.seq2seq | example source: now , if you notice that the first follower is actually an underestimated form of leadership in itself .\n",
            "2022-04-03 07:44:24 | INFO | hw5.seq2seq | example hypothesis: 如果你注意到第一個追隨者的注意力其實是一個最低的領導力 。\n",
            "2022-04-03 07:44:24 | INFO | hw5.seq2seq | example reference: 現在如果你注意到第一個跟隨者其實他本身就是一個被低估的領導者角色\n",
            "2022-04-03 07:44:24 | INFO | hw5.seq2seq | validation loss:\t4.0697\n",
            "2022-04-03 07:44:24 | INFO | hw5.seq2seq | BLEU = 17.18 52.2/26.7/14.4/8.1 (BP = 0.855 ratio = 0.864 hyp_len = 96653 ref_len = 111811)\n",
            "2022-04-03 07:44:24 | INFO | hw5.seq2seq | saved epoch checkpoint: /home/spiderkiller/ML2022/hw5_machine_translation/checkpoints/rnn/checkpoint212.pt\n",
            "2022-04-03 07:44:24 | INFO | hw5.seq2seq | end of epoch 212\n"
          ]
        },
        {
          "data": {
            "application/vnd.jupyter.widget-view+json": {
              "model_id": "130ec3a4e9b3478ab90e58c33ada1feb",
              "version_major": 2,
              "version_minor": 0
            },
            "text/plain": [
              "train epoch 213:   0%|          | 0/791 [00:00<?, ?it/s]"
            ]
          },
          "metadata": {},
          "output_type": "display_data"
        },
        {
          "name": "stdout",
          "output_type": "stream",
          "text": [
            "2022-04-03 07:45:50 | INFO | hw5.seq2seq | training loss: 4.2270\n",
            "2022-04-03 07:45:50 | INFO | hw5.seq2seq | begin validation\n"
          ]
        },
        {
          "data": {
            "application/vnd.jupyter.widget-view+json": {
              "model_id": "b1f58ccaf3604eddb18f8252f8c0914d",
              "version_major": 2,
              "version_minor": 0
            },
            "text/plain": [
              "validation:   0%|          | 0/22 [00:00<?, ?it/s]"
            ]
          },
          "metadata": {},
          "output_type": "display_data"
        },
        {
          "name": "stdout",
          "output_type": "stream",
          "text": [
            "2022-04-03 07:46:17 | INFO | hw5.seq2seq | example source: she was the person who , if you needed an extra pair of boots or a homecooked dinner , would be on your speed dial .\n",
            "2022-04-03 07:46:17 | INFO | hw5.seq2seq | example hypothesis: 她是誰 , 如果你需要一對靴子或家煮飯的人 , 會在你的演講中 , 會在你的演講中 。\n",
            "2022-04-03 07:46:17 | INFO | hw5.seq2seq | example reference: 如果你需要多一雙靴子 , 或是做一桌精美的晚餐 , 她會隨叫隨到 。\n",
            "2022-04-03 07:46:17 | INFO | hw5.seq2seq | validation loss:\t4.0628\n",
            "2022-04-03 07:46:17 | INFO | hw5.seq2seq | BLEU = 17.65 52.1/26.7/14.5/8.3 (BP = 0.874 ratio = 0.881 hyp_len = 98521 ref_len = 111811)\n",
            "2022-04-03 07:46:17 | INFO | hw5.seq2seq | saved epoch checkpoint: /home/spiderkiller/ML2022/hw5_machine_translation/checkpoints/rnn/checkpoint213.pt\n",
            "2022-04-03 07:46:17 | INFO | hw5.seq2seq | end of epoch 213\n"
          ]
        },
        {
          "data": {
            "application/vnd.jupyter.widget-view+json": {
              "model_id": "bc94a1f59e2e4db0a77b174231f105cf",
              "version_major": 2,
              "version_minor": 0
            },
            "text/plain": [
              "train epoch 214:   0%|          | 0/791 [00:00<?, ?it/s]"
            ]
          },
          "metadata": {},
          "output_type": "display_data"
        },
        {
          "name": "stdout",
          "output_type": "stream",
          "text": [
            "2022-04-03 07:47:43 | INFO | hw5.seq2seq | training loss: 4.2279\n",
            "2022-04-03 07:47:43 | INFO | hw5.seq2seq | begin validation\n"
          ]
        },
        {
          "data": {
            "application/vnd.jupyter.widget-view+json": {
              "model_id": "a3c9c29e868b4c0cbfcad07970d6b935",
              "version_major": 2,
              "version_minor": 0
            },
            "text/plain": [
              "validation:   0%|          | 0/22 [00:00<?, ?it/s]"
            ]
          },
          "metadata": {},
          "output_type": "display_data"
        },
        {
          "name": "stdout",
          "output_type": "stream",
          "text": [
            "2022-04-03 07:48:10 | INFO | hw5.seq2seq | example source: so if you go back about two and a half billion years , the earth was this big , sterile hunk of rock with a lot of chemicals floating around on it .\n",
            "2022-04-03 07:48:10 | INFO | hw5.seq2seq | example hypothesis: 如果你回到大約兩到五十億年 , 地球是這個巨大、刻板印象的岩石 。\n",
            "2022-04-03 07:48:10 | INFO | hw5.seq2seq | example reference: 如果回溯/所以如果你回溯個大概25億年 , 地球這麼大 , 貧瘠的大塊石頭上面浮著些化學物質 。\n",
            "2022-04-03 07:48:10 | INFO | hw5.seq2seq | validation loss:\t4.0680\n",
            "2022-04-03 07:48:10 | INFO | hw5.seq2seq | BLEU = 17.38 52.5/26.8/14.5/8.3 (BP = 0.857 ratio = 0.867 hyp_len = 96898 ref_len = 111811)\n",
            "2022-04-03 07:48:10 | INFO | hw5.seq2seq | saved epoch checkpoint: /home/spiderkiller/ML2022/hw5_machine_translation/checkpoints/rnn/checkpoint214.pt\n",
            "2022-04-03 07:48:10 | INFO | hw5.seq2seq | end of epoch 214\n"
          ]
        },
        {
          "data": {
            "application/vnd.jupyter.widget-view+json": {
              "model_id": "542f5b01548647268a1b3e8f6090a936",
              "version_major": 2,
              "version_minor": 0
            },
            "text/plain": [
              "train epoch 215:   0%|          | 0/791 [00:00<?, ?it/s]"
            ]
          },
          "metadata": {},
          "output_type": "display_data"
        },
        {
          "name": "stdout",
          "output_type": "stream",
          "text": [
            "2022-04-03 07:49:35 | INFO | hw5.seq2seq | training loss: 4.2284\n",
            "2022-04-03 07:49:35 | INFO | hw5.seq2seq | begin validation\n"
          ]
        },
        {
          "data": {
            "application/vnd.jupyter.widget-view+json": {
              "model_id": "d88bdfca123f4082a156d6540999c694",
              "version_major": 2,
              "version_minor": 0
            },
            "text/plain": [
              "validation:   0%|          | 0/22 [00:00<?, ?it/s]"
            ]
          },
          "metadata": {},
          "output_type": "display_data"
        },
        {
          "name": "stdout",
          "output_type": "stream",
          "text": [
            "2022-04-03 07:50:00 | INFO | hw5.seq2seq | example source: approved methods weren’t working , so they bent and broke rules to get handson practice with experts .\n",
            "2022-04-03 07:50:00 | INFO | hw5.seq2seq | example hypothesis: 應用程式並不是在工作 , 所以他們專家 , 打破專家 , 打破專家的規則 。\n",
            "2022-04-03 07:50:00 | INFO | hw5.seq2seq | example reference: 被准許的作法不可行 , 所以他們改變了遊戲規則 , 才得以與專家一同實際操作 。\n",
            "2022-04-03 07:50:00 | INFO | hw5.seq2seq | validation loss:\t4.0535\n",
            "2022-04-03 07:50:00 | INFO | hw5.seq2seq | BLEU = 17.48 51.6/26.3/14.3/8.1 (BP = 0.880 ratio = 0.887 hyp_len = 99130 ref_len = 111811)\n",
            "2022-04-03 07:50:00 | INFO | hw5.seq2seq | saved epoch checkpoint: /home/spiderkiller/ML2022/hw5_machine_translation/checkpoints/rnn/checkpoint215.pt\n",
            "2022-04-03 07:50:00 | INFO | hw5.seq2seq | end of epoch 215\n"
          ]
        },
        {
          "data": {
            "application/vnd.jupyter.widget-view+json": {
              "model_id": "3c6ca7cc6b66483d9850606d7646b145",
              "version_major": 2,
              "version_minor": 0
            },
            "text/plain": [
              "train epoch 216:   0%|          | 0/791 [00:00<?, ?it/s]"
            ]
          },
          "metadata": {},
          "output_type": "display_data"
        },
        {
          "name": "stdout",
          "output_type": "stream",
          "text": [
            "2022-04-03 07:51:25 | INFO | hw5.seq2seq | training loss: 4.2269\n",
            "2022-04-03 07:51:25 | INFO | hw5.seq2seq | begin validation\n"
          ]
        },
        {
          "data": {
            "application/vnd.jupyter.widget-view+json": {
              "model_id": "c9bf6e0041bc49ad8c1347420ae7b44b",
              "version_major": 2,
              "version_minor": 0
            },
            "text/plain": [
              "validation:   0%|          | 0/22 [00:00<?, ?it/s]"
            ]
          },
          "metadata": {},
          "output_type": "display_data"
        },
        {
          "name": "stdout",
          "output_type": "stream",
          "text": [
            "2022-04-03 07:51:50 | INFO | hw5.seq2seq | example source: clouds are blocking the view .\n",
            "2022-04-03 07:51:50 | INFO | hw5.seq2seq | example hypothesis: 雲朵正在阻擋這個觀點 。\n",
            "2022-04-03 07:51:50 | INFO | hw5.seq2seq | example reference: 雲朵會阻擋視線 。\n",
            "2022-04-03 07:51:50 | INFO | hw5.seq2seq | validation loss:\t4.0706\n",
            "2022-04-03 07:51:50 | INFO | hw5.seq2seq | BLEU = 17.35 51.9/26.5/14.3/8.1 (BP = 0.868 ratio = 0.876 hyp_len = 97911 ref_len = 111811)\n",
            "2022-04-03 07:51:50 | INFO | hw5.seq2seq | saved epoch checkpoint: /home/spiderkiller/ML2022/hw5_machine_translation/checkpoints/rnn/checkpoint216.pt\n",
            "2022-04-03 07:51:50 | INFO | hw5.seq2seq | end of epoch 216\n"
          ]
        },
        {
          "data": {
            "application/vnd.jupyter.widget-view+json": {
              "model_id": "fc5a921e6f8b4b67a5e639d291160092",
              "version_major": 2,
              "version_minor": 0
            },
            "text/plain": [
              "train epoch 217:   0%|          | 0/791 [00:00<?, ?it/s]"
            ]
          },
          "metadata": {},
          "output_type": "display_data"
        },
        {
          "name": "stdout",
          "output_type": "stream",
          "text": [
            "2022-04-03 07:53:21 | INFO | hw5.seq2seq | training loss: 4.2277\n",
            "2022-04-03 07:53:21 | INFO | hw5.seq2seq | begin validation\n"
          ]
        },
        {
          "data": {
            "application/vnd.jupyter.widget-view+json": {
              "model_id": "f9a624e96aa24c478b9b2c3cf526f30f",
              "version_major": 2,
              "version_minor": 0
            },
            "text/plain": [
              "validation:   0%|          | 0/22 [00:00<?, ?it/s]"
            ]
          },
          "metadata": {},
          "output_type": "display_data"
        },
        {
          "name": "stdout",
          "output_type": "stream",
          "text": [
            "2022-04-03 07:53:50 | INFO | hw5.seq2seq | example source: i'm actually going to describe an experience that i had that first crystallized the idea of coconspirators in my mind .\n",
            "2022-04-03 07:53:50 | INFO | hw5.seq2seq | example hypothesis: 我真的要描述一個經驗 , 我腦中第一個哭泣的概念 。\n",
            "2022-04-03 07:53:50 | INFO | hw5.seq2seq | example reference: 我打算要描述我的一段經歷 , 這段經歷使我腦中形成了對共謀者這個想法的雛型 。\n",
            "2022-04-03 07:53:50 | INFO | hw5.seq2seq | validation loss:\t4.0606\n",
            "2022-04-03 07:53:50 | INFO | hw5.seq2seq | BLEU = 17.37 51.3/26.1/14.1/7.9 (BP = 0.883 ratio = 0.890 hyp_len = 99463 ref_len = 111811)\n",
            "2022-04-03 07:53:50 | INFO | hw5.seq2seq | saved epoch checkpoint: /home/spiderkiller/ML2022/hw5_machine_translation/checkpoints/rnn/checkpoint217.pt\n",
            "2022-04-03 07:53:50 | INFO | hw5.seq2seq | end of epoch 217\n"
          ]
        },
        {
          "data": {
            "application/vnd.jupyter.widget-view+json": {
              "model_id": "56461f8fdb4f4819a2801d0e58f50e81",
              "version_major": 2,
              "version_minor": 0
            },
            "text/plain": [
              "train epoch 218:   0%|          | 0/791 [00:00<?, ?it/s]"
            ]
          },
          "metadata": {},
          "output_type": "display_data"
        },
        {
          "name": "stdout",
          "output_type": "stream",
          "text": [
            "2022-04-03 07:55:15 | INFO | hw5.seq2seq | training loss: 4.2260\n",
            "2022-04-03 07:55:15 | INFO | hw5.seq2seq | begin validation\n"
          ]
        },
        {
          "data": {
            "application/vnd.jupyter.widget-view+json": {
              "model_id": "0dd9a843217d428cbe7f8eb58ce5bcb6",
              "version_major": 2,
              "version_minor": 0
            },
            "text/plain": [
              "validation:   0%|          | 0/22 [00:00<?, ?it/s]"
            ]
          },
          "metadata": {},
          "output_type": "display_data"
        },
        {
          "name": "stdout",
          "output_type": "stream",
          "text": [
            "2022-04-03 07:55:41 | INFO | hw5.seq2seq | example source: the second page is simple: what might be the benefits of an attempt or a partial success ?\n",
            "2022-04-03 07:55:41 | INFO | hw5.seq2seq | example hypothesis: 第二頁是簡單的:什麼可能是試圖或部分成功的利益 ?\n",
            "2022-04-03 07:55:41 | INFO | hw5.seq2seq | example reference: 第二頁很簡單 , 如果去嘗試或是達成部分成功會有什麼益處 ?\n",
            "2022-04-03 07:55:41 | INFO | hw5.seq2seq | validation loss:\t4.0658\n",
            "2022-04-03 07:55:41 | INFO | hw5.seq2seq | BLEU = 17.44 52.3/26.7/14.5/8.2 (BP = 0.863 ratio = 0.872 hyp_len = 97466 ref_len = 111811)\n",
            "2022-04-03 07:55:41 | INFO | hw5.seq2seq | saved epoch checkpoint: /home/spiderkiller/ML2022/hw5_machine_translation/checkpoints/rnn/checkpoint218.pt\n",
            "2022-04-03 07:55:41 | INFO | hw5.seq2seq | end of epoch 218\n"
          ]
        },
        {
          "data": {
            "application/vnd.jupyter.widget-view+json": {
              "model_id": "8f67cae9179444f9816a62d7ea83965d",
              "version_major": 2,
              "version_minor": 0
            },
            "text/plain": [
              "train epoch 219:   0%|          | 0/791 [00:00<?, ?it/s]"
            ]
          },
          "metadata": {},
          "output_type": "display_data"
        },
        {
          "name": "stdout",
          "output_type": "stream",
          "text": [
            "2022-04-03 07:57:07 | INFO | hw5.seq2seq | training loss: 4.2279\n",
            "2022-04-03 07:57:07 | INFO | hw5.seq2seq | begin validation\n"
          ]
        },
        {
          "data": {
            "application/vnd.jupyter.widget-view+json": {
              "model_id": "673eacc724de46b1b1ac154932ccb1a2",
              "version_major": 2,
              "version_minor": 0
            },
            "text/plain": [
              "validation:   0%|          | 0/22 [00:00<?, ?it/s]"
            ]
          },
          "metadata": {},
          "output_type": "display_data"
        },
        {
          "name": "stdout",
          "output_type": "stream",
          "text": [
            "2022-04-03 07:57:31 | INFO | hw5.seq2seq | example source: one lovely experiment was done by kurt gray and dan wegner .\n",
            "2022-04-03 07:57:31 | INFO | hw5.seq2seq | example hypothesis: 一個很愛的實驗是由kurtgay和丹西西方的實驗 。\n",
            "2022-04-03 07:57:31 | INFO | hw5.seq2seq | example reference: 一項很可愛的實驗由kurtgray和danwegner所執行\n",
            "2022-04-03 07:57:31 | INFO | hw5.seq2seq | validation loss:\t4.0622\n",
            "2022-04-03 07:57:31 | INFO | hw5.seq2seq | BLEU = 17.79 51.8/26.6/14.4/8.2 (BP = 0.885 ratio = 0.891 hyp_len = 99613 ref_len = 111811)\n",
            "2022-04-03 07:57:31 | INFO | hw5.seq2seq | saved epoch checkpoint: /home/spiderkiller/ML2022/hw5_machine_translation/checkpoints/rnn/checkpoint219.pt\n",
            "2022-04-03 07:57:31 | INFO | hw5.seq2seq | end of epoch 219\n"
          ]
        },
        {
          "data": {
            "application/vnd.jupyter.widget-view+json": {
              "model_id": "02d395fb29de4f5ab486b855f3c76213",
              "version_major": 2,
              "version_minor": 0
            },
            "text/plain": [
              "train epoch 220:   0%|          | 0/791 [00:00<?, ?it/s]"
            ]
          },
          "metadata": {},
          "output_type": "display_data"
        },
        {
          "name": "stdout",
          "output_type": "stream",
          "text": [
            "2022-04-03 07:58:57 | INFO | hw5.seq2seq | training loss: 4.2270\n",
            "2022-04-03 07:58:57 | INFO | hw5.seq2seq | begin validation\n"
          ]
        },
        {
          "data": {
            "application/vnd.jupyter.widget-view+json": {
              "model_id": "ca68ede7b5b04ff3bf01a17462dfd7d6",
              "version_major": 2,
              "version_minor": 0
            },
            "text/plain": [
              "validation:   0%|          | 0/22 [00:00<?, ?it/s]"
            ]
          },
          "metadata": {},
          "output_type": "display_data"
        },
        {
          "name": "stdout",
          "output_type": "stream",
          "text": [
            "2022-04-03 07:59:22 | INFO | hw5.seq2seq | example source: and what that means is , you are going to walk around with your own personal genome on a smart card . it will be here .\n",
            "2022-04-03 07:59:22 | INFO | hw5.seq2seq | example hypothesis: 這意味著 , 你將要與自己個人基因組的基因組 。 它會在這裡 。\n",
            "2022-04-03 07:59:22 | INFO | hw5.seq2seq | example reference: 那將意味著 , 你能隨身攜帶一張附有你個人基因信息的智能卡 。 就像這張卡大小 。\n",
            "2022-04-03 07:59:22 | INFO | hw5.seq2seq | validation loss:\t4.0588\n",
            "2022-04-03 07:59:22 | INFO | hw5.seq2seq | BLEU = 17.98 50.2/25.6/13.9/7.8 (BP = 0.932 ratio = 0.934 hyp_len = 104472 ref_len = 111811)\n",
            "2022-04-03 07:59:22 | INFO | hw5.seq2seq | saved epoch checkpoint: /home/spiderkiller/ML2022/hw5_machine_translation/checkpoints/rnn/checkpoint220.pt\n",
            "2022-04-03 07:59:22 | INFO | hw5.seq2seq | end of epoch 220\n"
          ]
        },
        {
          "data": {
            "application/vnd.jupyter.widget-view+json": {
              "model_id": "16b5b52226c149a082d42cc7a1a6283a",
              "version_major": 2,
              "version_minor": 0
            },
            "text/plain": [
              "train epoch 221:   0%|          | 0/791 [00:00<?, ?it/s]"
            ]
          },
          "metadata": {},
          "output_type": "display_data"
        },
        {
          "name": "stdout",
          "output_type": "stream",
          "text": [
            "2022-04-03 08:00:47 | INFO | hw5.seq2seq | training loss: 4.2272\n",
            "2022-04-03 08:00:47 | INFO | hw5.seq2seq | begin validation\n"
          ]
        },
        {
          "data": {
            "application/vnd.jupyter.widget-view+json": {
              "model_id": "8d17812dae30495cb6e01dc57b8a7034",
              "version_major": 2,
              "version_minor": 0
            },
            "text/plain": [
              "validation:   0%|          | 0/22 [00:00<?, ?it/s]"
            ]
          },
          "metadata": {},
          "output_type": "display_data"
        },
        {
          "name": "stdout",
          "output_type": "stream",
          "text": [
            "2022-04-03 08:01:13 | INFO | hw5.seq2seq | example source: yes , more .\n",
            "2022-04-03 08:01:13 | INFO | hw5.seq2seq | example hypothesis: 是的 , 更多 。\n",
            "2022-04-03 08:01:13 | INFO | hw5.seq2seq | example reference: 沒錯 , 更多 。\n",
            "2022-04-03 08:01:13 | INFO | hw5.seq2seq | validation loss:\t4.0527\n",
            "2022-04-03 08:01:13 | INFO | hw5.seq2seq | BLEU = 17.60 51.5/26.3/14.2/8.1 (BP = 0.887 ratio = 0.893 hyp_len = 99804 ref_len = 111811)\n",
            "2022-04-03 08:01:13 | INFO | hw5.seq2seq | saved epoch checkpoint: /home/spiderkiller/ML2022/hw5_machine_translation/checkpoints/rnn/checkpoint221.pt\n",
            "2022-04-03 08:01:13 | INFO | hw5.seq2seq | end of epoch 221\n"
          ]
        },
        {
          "data": {
            "application/vnd.jupyter.widget-view+json": {
              "model_id": "5d23953519914acf9940e98b29442176",
              "version_major": 2,
              "version_minor": 0
            },
            "text/plain": [
              "train epoch 222:   0%|          | 0/791 [00:00<?, ?it/s]"
            ]
          },
          "metadata": {},
          "output_type": "display_data"
        },
        {
          "name": "stdout",
          "output_type": "stream",
          "text": [
            "2022-04-03 08:02:39 | INFO | hw5.seq2seq | training loss: 4.2252\n",
            "2022-04-03 08:02:39 | INFO | hw5.seq2seq | begin validation\n"
          ]
        },
        {
          "data": {
            "application/vnd.jupyter.widget-view+json": {
              "model_id": "160df6134f304cc3a24c211d5e146693",
              "version_major": 2,
              "version_minor": 0
            },
            "text/plain": [
              "validation:   0%|          | 0/22 [00:00<?, ?it/s]"
            ]
          },
          "metadata": {},
          "output_type": "display_data"
        },
        {
          "name": "stdout",
          "output_type": "stream",
          "text": [
            "2022-04-03 08:03:05 | INFO | hw5.seq2seq | example source: sleeping at night enhances our creativity .\n",
            "2022-04-03 08:03:05 | INFO | hw5.seq2seq | example hypothesis: 晚上睡覺 , 鼓舞我們的創意 。\n",
            "2022-04-03 08:03:05 | INFO | hw5.seq2seq | example reference: 睡眠讓我們更具創造力\n",
            "2022-04-03 08:03:05 | INFO | hw5.seq2seq | validation loss:\t4.0624\n",
            "2022-04-03 08:03:05 | INFO | hw5.seq2seq | BLEU = 17.52 51.9/26.5/14.4/8.2 (BP = 0.874 ratio = 0.881 hyp_len = 98560 ref_len = 111811)\n",
            "2022-04-03 08:03:05 | INFO | hw5.seq2seq | saved epoch checkpoint: /home/spiderkiller/ML2022/hw5_machine_translation/checkpoints/rnn/checkpoint222.pt\n",
            "2022-04-03 08:03:05 | INFO | hw5.seq2seq | end of epoch 222\n"
          ]
        },
        {
          "data": {
            "application/vnd.jupyter.widget-view+json": {
              "model_id": "9799fb4dff754ffcaa459d9fbf9da7e9",
              "version_major": 2,
              "version_minor": 0
            },
            "text/plain": [
              "train epoch 223:   0%|          | 0/791 [00:00<?, ?it/s]"
            ]
          },
          "metadata": {},
          "output_type": "display_data"
        },
        {
          "name": "stdout",
          "output_type": "stream",
          "text": [
            "2022-04-03 08:04:30 | INFO | hw5.seq2seq | training loss: 4.2253\n",
            "2022-04-03 08:04:30 | INFO | hw5.seq2seq | begin validation\n"
          ]
        },
        {
          "data": {
            "application/vnd.jupyter.widget-view+json": {
              "model_id": "b07b1b9444f5498db71723c81cf136f4",
              "version_major": 2,
              "version_minor": 0
            },
            "text/plain": [
              "validation:   0%|          | 0/22 [00:00<?, ?it/s]"
            ]
          },
          "metadata": {},
          "output_type": "display_data"
        },
        {
          "name": "stdout",
          "output_type": "stream",
          "text": [
            "2022-04-03 08:04:57 | INFO | hw5.seq2seq | example source: and most importantly , what we do is we use a rigorous , and often uncomfortable , process of physical therapy and occupational therapy to retrain the nerves in the nervous system to respond normally to the activities and sensory experiences that are part of everyday life .\n",
            "2022-04-03 08:04:57 | INFO | hw5.seq2seq | example hypothesis: 最重要的是 , 我們所做的是使用的 , 通常不舒服、不舒服的過程 , 通常是神經治療神經治療和感官體驗的神經系統來回回回應活動和感知經驗經驗 。\n",
            "2022-04-03 08:04:57 | INFO | hw5.seq2seq | example reference: 但最重要的方法是 , 我們採用很嚴格的 , 而且通常非常不舒服的物理治療及職業治療的過程來再教育神經系統裡的神經 , 反應正常 。 尤其是那些日常生活的一切正常活動與感官經驗 。\n",
            "2022-04-03 08:04:57 | INFO | hw5.seq2seq | validation loss:\t4.0639\n",
            "2022-04-03 08:04:57 | INFO | hw5.seq2seq | BLEU = 17.38 52.0/26.6/14.4/8.1 (BP = 0.867 ratio = 0.875 hyp_len = 97809 ref_len = 111811)\n",
            "2022-04-03 08:04:57 | INFO | hw5.seq2seq | saved epoch checkpoint: /home/spiderkiller/ML2022/hw5_machine_translation/checkpoints/rnn/checkpoint223.pt\n",
            "2022-04-03 08:04:57 | INFO | hw5.seq2seq | end of epoch 223\n"
          ]
        },
        {
          "data": {
            "application/vnd.jupyter.widget-view+json": {
              "model_id": "bc6b607ab19d4aa6bd487e91f964517d",
              "version_major": 2,
              "version_minor": 0
            },
            "text/plain": [
              "train epoch 224:   0%|          | 0/791 [00:00<?, ?it/s]"
            ]
          },
          "metadata": {},
          "output_type": "display_data"
        },
        {
          "name": "stdout",
          "output_type": "stream",
          "text": [
            "2022-04-03 08:06:23 | INFO | hw5.seq2seq | training loss: 4.2252\n",
            "2022-04-03 08:06:23 | INFO | hw5.seq2seq | begin validation\n"
          ]
        },
        {
          "data": {
            "application/vnd.jupyter.widget-view+json": {
              "model_id": "b24a155461c34af7a6eba7cc67afbeb1",
              "version_major": 2,
              "version_minor": 0
            },
            "text/plain": [
              "validation:   0%|          | 0/22 [00:00<?, ?it/s]"
            ]
          },
          "metadata": {},
          "output_type": "display_data"
        },
        {
          "name": "stdout",
          "output_type": "stream",
          "text": [
            "2022-04-03 08:06:49 | INFO | hw5.seq2seq | example source: the third step is to learn how to develop faith .\n",
            "2022-04-03 08:06:49 | INFO | hw5.seq2seq | example hypothesis: 第三步是學習如何發展信仰 。\n",
            "2022-04-03 08:06:49 | INFO | hw5.seq2seq | example reference: 第三步是學習如何發展出信仰 。\n",
            "2022-04-03 08:06:49 | INFO | hw5.seq2seq | validation loss:\t4.0654\n",
            "2022-04-03 08:06:49 | INFO | hw5.seq2seq | BLEU = 17.56 51.7/26.4/14.3/8.1 (BP = 0.880 ratio = 0.886 hyp_len = 99091 ref_len = 111811)\n",
            "2022-04-03 08:06:49 | INFO | hw5.seq2seq | saved epoch checkpoint: /home/spiderkiller/ML2022/hw5_machine_translation/checkpoints/rnn/checkpoint224.pt\n",
            "2022-04-03 08:06:49 | INFO | hw5.seq2seq | end of epoch 224\n"
          ]
        },
        {
          "data": {
            "application/vnd.jupyter.widget-view+json": {
              "model_id": "f94ef64e534c4618ad8f1eca174652e0",
              "version_major": 2,
              "version_minor": 0
            },
            "text/plain": [
              "train epoch 225:   0%|          | 0/791 [00:00<?, ?it/s]"
            ]
          },
          "metadata": {},
          "output_type": "display_data"
        },
        {
          "name": "stdout",
          "output_type": "stream",
          "text": [
            "2022-04-03 08:08:14 | INFO | hw5.seq2seq | training loss: 4.2257\n",
            "2022-04-03 08:08:14 | INFO | hw5.seq2seq | begin validation\n"
          ]
        },
        {
          "data": {
            "application/vnd.jupyter.widget-view+json": {
              "model_id": "c26e434e139841008b0bb2aec7524325",
              "version_major": 2,
              "version_minor": 0
            },
            "text/plain": [
              "validation:   0%|          | 0/22 [00:00<?, ?it/s]"
            ]
          },
          "metadata": {},
          "output_type": "display_data"
        },
        {
          "name": "stdout",
          "output_type": "stream",
          "text": [
            "2022-04-03 08:08:40 | INFO | hw5.seq2seq | example source: in 2020 , the number will go down to 15 , 000 due to improvements .\n",
            "2022-04-03 08:08:40 | INFO | hw5.seq2seq | example hypothesis: 2020年 , 數字將會下降到15 , 000個因為改善 。\n",
            "2022-04-03 08:08:40 | INFO | hw5.seq2seq | example reference: 不過到了2020年 , 因為交通工具的改善這個數字會降到1萬5千人\n",
            "2022-04-03 08:08:40 | INFO | hw5.seq2seq | validation loss:\t4.0655\n",
            "2022-04-03 08:08:40 | INFO | hw5.seq2seq | BLEU = 17.55 52.3/26.7/14.5/8.2 (BP = 0.870 ratio = 0.878 hyp_len = 98153 ref_len = 111811)\n",
            "2022-04-03 08:08:40 | INFO | hw5.seq2seq | saved epoch checkpoint: /home/spiderkiller/ML2022/hw5_machine_translation/checkpoints/rnn/checkpoint225.pt\n",
            "2022-04-03 08:08:40 | INFO | hw5.seq2seq | end of epoch 225\n"
          ]
        },
        {
          "data": {
            "application/vnd.jupyter.widget-view+json": {
              "model_id": "210e8a0e6a8a437cb9c641525d5cc92f",
              "version_major": 2,
              "version_minor": 0
            },
            "text/plain": [
              "train epoch 226:   0%|          | 0/791 [00:00<?, ?it/s]"
            ]
          },
          "metadata": {},
          "output_type": "display_data"
        },
        {
          "name": "stdout",
          "output_type": "stream",
          "text": [
            "2022-04-03 08:10:06 | INFO | hw5.seq2seq | training loss: 4.2262\n",
            "2022-04-03 08:10:06 | INFO | hw5.seq2seq | begin validation\n"
          ]
        },
        {
          "data": {
            "application/vnd.jupyter.widget-view+json": {
              "model_id": "cfef3985df7d4403a565564a91c96c7b",
              "version_major": 2,
              "version_minor": 0
            },
            "text/plain": [
              "validation:   0%|          | 0/22 [00:00<?, ?it/s]"
            ]
          },
          "metadata": {},
          "output_type": "display_data"
        },
        {
          "name": "stdout",
          "output_type": "stream",
          "text": [
            "2022-04-03 08:10:32 | INFO | hw5.seq2seq | example source: it is travel in time , travel on time .\n",
            "2022-04-03 08:10:32 | INFO | hw5.seq2seq | example hypothesis: 這是一段時間 , 旅行 。\n",
            "2022-04-03 08:10:32 | INFO | hw5.seq2seq | example reference: 搭地鐵是及行和準時地旅行 。\n",
            "2022-04-03 08:10:32 | INFO | hw5.seq2seq | validation loss:\t4.0681\n",
            "2022-04-03 08:10:32 | INFO | hw5.seq2seq | BLEU = 17.11 52.4/26.8/14.4/8.2 (BP = 0.848 ratio = 0.859 hyp_len = 96010 ref_len = 111811)\n",
            "2022-04-03 08:10:32 | INFO | hw5.seq2seq | saved epoch checkpoint: /home/spiderkiller/ML2022/hw5_machine_translation/checkpoints/rnn/checkpoint226.pt\n",
            "2022-04-03 08:10:32 | INFO | hw5.seq2seq | end of epoch 226\n"
          ]
        },
        {
          "data": {
            "application/vnd.jupyter.widget-view+json": {
              "model_id": "93e81eadb2df4542bf8dd11878b9985c",
              "version_major": 2,
              "version_minor": 0
            },
            "text/plain": [
              "train epoch 227:   0%|          | 0/791 [00:00<?, ?it/s]"
            ]
          },
          "metadata": {},
          "output_type": "display_data"
        },
        {
          "name": "stdout",
          "output_type": "stream",
          "text": [
            "2022-04-03 08:11:59 | INFO | hw5.seq2seq | training loss: 4.2258\n",
            "2022-04-03 08:11:59 | INFO | hw5.seq2seq | begin validation\n"
          ]
        },
        {
          "data": {
            "application/vnd.jupyter.widget-view+json": {
              "model_id": "87ec2b63598f414a8fcc9f6cded7b804",
              "version_major": 2,
              "version_minor": 0
            },
            "text/plain": [
              "validation:   0%|          | 0/22 [00:00<?, ?it/s]"
            ]
          },
          "metadata": {},
          "output_type": "display_data"
        },
        {
          "name": "stdout",
          "output_type": "stream",
          "text": [
            "2022-04-03 08:12:24 | INFO | hw5.seq2seq | example source: maybe some of you here have participated in a bandaid operation to an african country setting up alternative schools , building hospitals , digging wells because governments there either weren't or couldn't provide the services to their citizens .\n",
            "2022-04-03 08:12:24 | INFO | hw5.seq2seq | example hypothesis: 也許在座有些人參與了非洲各地參與了非洲國家建立了替代學校、建築醫院、建築醫院、建築醫院、診所、醫院、醫院、醫院、醫院 。\n",
            "2022-04-03 08:12:24 | INFO | hw5.seq2seq | example reference: 或許你們其中有些人曾經參與幫非洲國家貼上ok繃的過程──設立另類學校、建造醫院、挖水井──因為那裡的政府不願意或無法提供人民這些服務 。\n",
            "2022-04-03 08:12:24 | INFO | hw5.seq2seq | validation loss:\t4.0682\n",
            "2022-04-03 08:12:24 | INFO | hw5.seq2seq | BLEU = 17.05 52.1/26.7/14.5/8.2 (BP = 0.845 ratio = 0.856 hyp_len = 95712 ref_len = 111811)\n",
            "2022-04-03 08:12:24 | INFO | hw5.seq2seq | saved epoch checkpoint: /home/spiderkiller/ML2022/hw5_machine_translation/checkpoints/rnn/checkpoint227.pt\n",
            "2022-04-03 08:12:24 | INFO | hw5.seq2seq | end of epoch 227\n"
          ]
        },
        {
          "data": {
            "application/vnd.jupyter.widget-view+json": {
              "model_id": "846d78227d294392a483732049cd7be1",
              "version_major": 2,
              "version_minor": 0
            },
            "text/plain": [
              "train epoch 228:   0%|          | 0/791 [00:00<?, ?it/s]"
            ]
          },
          "metadata": {},
          "output_type": "display_data"
        },
        {
          "name": "stdout",
          "output_type": "stream",
          "text": [
            "2022-04-03 08:13:49 | INFO | hw5.seq2seq | training loss: 4.2232\n",
            "2022-04-03 08:13:49 | INFO | hw5.seq2seq | begin validation\n"
          ]
        },
        {
          "data": {
            "application/vnd.jupyter.widget-view+json": {
              "model_id": "bda54533a7f84322960a7239e6d22473",
              "version_major": 2,
              "version_minor": 0
            },
            "text/plain": [
              "validation:   0%|          | 0/22 [00:00<?, ?it/s]"
            ]
          },
          "metadata": {},
          "output_type": "display_data"
        },
        {
          "name": "stdout",
          "output_type": "stream",
          "text": [
            "2022-04-03 08:14:15 | INFO | hw5.seq2seq | example source: and i found something interesting , i thought , at that time .\n",
            "2022-04-03 08:14:15 | INFO | hw5.seq2seq | example hypothesis: 我發現了一些有趣的事 , 我當時想 ,\n",
            "2022-04-03 08:14:15 | INFO | hw5.seq2seq | example reference: 在那時我認為自己發現了很有趣的東西 。\n",
            "2022-04-03 08:14:15 | INFO | hw5.seq2seq | validation loss:\t4.0638\n",
            "2022-04-03 08:14:15 | INFO | hw5.seq2seq | BLEU = 17.47 52.1/26.7/14.4/8.2 (BP = 0.868 ratio = 0.876 hyp_len = 97985 ref_len = 111811)\n",
            "2022-04-03 08:14:15 | INFO | hw5.seq2seq | saved epoch checkpoint: /home/spiderkiller/ML2022/hw5_machine_translation/checkpoints/rnn/checkpoint228.pt\n",
            "2022-04-03 08:14:15 | INFO | hw5.seq2seq | end of epoch 228\n"
          ]
        },
        {
          "data": {
            "application/vnd.jupyter.widget-view+json": {
              "model_id": "926b4dad851d4796804b13d1cb486b42",
              "version_major": 2,
              "version_minor": 0
            },
            "text/plain": [
              "train epoch 229:   0%|          | 0/791 [00:00<?, ?it/s]"
            ]
          },
          "metadata": {},
          "output_type": "display_data"
        },
        {
          "name": "stdout",
          "output_type": "stream",
          "text": [
            "2022-04-03 08:15:45 | INFO | hw5.seq2seq | training loss: 4.2248\n",
            "2022-04-03 08:15:45 | INFO | hw5.seq2seq | begin validation\n"
          ]
        },
        {
          "data": {
            "application/vnd.jupyter.widget-view+json": {
              "model_id": "b5709e5650934efd90014bc7f65ba7c4",
              "version_major": 2,
              "version_minor": 0
            },
            "text/plain": [
              "validation:   0%|          | 0/22 [00:00<?, ?it/s]"
            ]
          },
          "metadata": {},
          "output_type": "display_data"
        },
        {
          "name": "stdout",
          "output_type": "stream",
          "text": [
            "2022-04-03 08:16:12 | INFO | hw5.seq2seq | example source: the syllabus doesn't mention even the fact that we're naked , let alone look for a reason to it .\n",
            "2022-04-03 08:16:12 | INFO | hw5.seq2seq | example hypothesis: 阿拉伯人甚至沒有提到我們被納入的事實 。\n",
            "2022-04-03 08:16:12 | INFO | hw5.seq2seq | example reference: 課程大綱甚至不提及我們是赤裸的事實更不用提背後的原因了\n",
            "2022-04-03 08:16:12 | INFO | hw5.seq2seq | validation loss:\t4.0613\n",
            "2022-04-03 08:16:12 | INFO | hw5.seq2seq | BLEU = 17.60 51.6/26.4/14.3/8.1 (BP = 0.883 ratio = 0.890 hyp_len = 99461 ref_len = 111811)\n",
            "2022-04-03 08:16:12 | INFO | hw5.seq2seq | saved epoch checkpoint: /home/spiderkiller/ML2022/hw5_machine_translation/checkpoints/rnn/checkpoint229.pt\n",
            "2022-04-03 08:16:12 | INFO | hw5.seq2seq | end of epoch 229\n"
          ]
        },
        {
          "data": {
            "application/vnd.jupyter.widget-view+json": {
              "model_id": "485d618bb05b4e51a5c7699f1e741ace",
              "version_major": 2,
              "version_minor": 0
            },
            "text/plain": [
              "train epoch 230:   0%|          | 0/791 [00:00<?, ?it/s]"
            ]
          },
          "metadata": {},
          "output_type": "display_data"
        },
        {
          "name": "stdout",
          "output_type": "stream",
          "text": [
            "2022-04-03 08:17:39 | INFO | hw5.seq2seq | training loss: 4.2268\n",
            "2022-04-03 08:17:39 | INFO | hw5.seq2seq | begin validation\n"
          ]
        },
        {
          "data": {
            "application/vnd.jupyter.widget-view+json": {
              "model_id": "16275a27e8d04e8e8e6ba390cb3990cf",
              "version_major": 2,
              "version_minor": 0
            },
            "text/plain": [
              "validation:   0%|          | 0/22 [00:00<?, ?it/s]"
            ]
          },
          "metadata": {},
          "output_type": "display_data"
        },
        {
          "name": "stdout",
          "output_type": "stream",
          "text": [
            "2022-04-03 08:18:05 | INFO | hw5.seq2seq | example source: it's done , it's out , you're cured of cancer .\n",
            "2022-04-03 08:18:05 | INFO | hw5.seq2seq | example hypothesis: 它完成了 , 結果是 , 你已經治癒癌症了 。\n",
            "2022-04-03 08:18:05 | INFO | hw5.seq2seq | example reference: 手術完成 , 切除了 , 癌症治好了\n",
            "2022-04-03 08:18:05 | INFO | hw5.seq2seq | validation loss:\t4.0585\n",
            "2022-04-03 08:18:05 | INFO | hw5.seq2seq | BLEU = 17.79 50.8/25.9/14.0/7.9 (BP = 0.912 ratio = 0.915 hyp_len = 102340 ref_len = 111811)\n",
            "2022-04-03 08:18:05 | INFO | hw5.seq2seq | saved epoch checkpoint: /home/spiderkiller/ML2022/hw5_machine_translation/checkpoints/rnn/checkpoint230.pt\n",
            "2022-04-03 08:18:05 | INFO | hw5.seq2seq | end of epoch 230\n"
          ]
        },
        {
          "data": {
            "application/vnd.jupyter.widget-view+json": {
              "model_id": "8247a23646784a249fa694852a0f1246",
              "version_major": 2,
              "version_minor": 0
            },
            "text/plain": [
              "train epoch 231:   0%|          | 0/791 [00:00<?, ?it/s]"
            ]
          },
          "metadata": {},
          "output_type": "display_data"
        },
        {
          "name": "stdout",
          "output_type": "stream",
          "text": [
            "2022-04-03 08:19:31 | INFO | hw5.seq2seq | training loss: 4.2233\n",
            "2022-04-03 08:19:31 | INFO | hw5.seq2seq | begin validation\n"
          ]
        },
        {
          "data": {
            "application/vnd.jupyter.widget-view+json": {
              "model_id": "c52ce56c51bc43da874ea6a4fe2e5345",
              "version_major": 2,
              "version_minor": 0
            },
            "text/plain": [
              "validation:   0%|          | 0/22 [00:00<?, ?it/s]"
            ]
          },
          "metadata": {},
          "output_type": "display_data"
        },
        {
          "name": "stdout",
          "output_type": "stream",
          "text": [
            "2022-04-03 08:19:56 | INFO | hw5.seq2seq | example source: that's the pantheon next to it .\n",
            "2022-04-03 08:19:56 | INFO | hw5.seq2seq | example hypothesis: 這是在旁邊 。\n",
            "2022-04-03 08:19:56 | INFO | hw5.seq2seq | example reference: 跟它旁邊的萬神殿排在一起會像這樣\n",
            "2022-04-03 08:19:56 | INFO | hw5.seq2seq | validation loss:\t4.0547\n",
            "2022-04-03 08:19:56 | INFO | hw5.seq2seq | BLEU = 17.78 51.1/26.0/14.0/8.0 (BP = 0.906 ratio = 0.910 hyp_len = 101728 ref_len = 111811)\n",
            "2022-04-03 08:19:56 | INFO | hw5.seq2seq | saved epoch checkpoint: /home/spiderkiller/ML2022/hw5_machine_translation/checkpoints/rnn/checkpoint231.pt\n",
            "2022-04-03 08:19:56 | INFO | hw5.seq2seq | end of epoch 231\n"
          ]
        },
        {
          "data": {
            "application/vnd.jupyter.widget-view+json": {
              "model_id": "3fa1d7a314a8446c860162491b497b05",
              "version_major": 2,
              "version_minor": 0
            },
            "text/plain": [
              "train epoch 232:   0%|          | 0/791 [00:00<?, ?it/s]"
            ]
          },
          "metadata": {},
          "output_type": "display_data"
        },
        {
          "name": "stdout",
          "output_type": "stream",
          "text": [
            "2022-04-03 08:21:22 | INFO | hw5.seq2seq | training loss: 4.2232\n",
            "2022-04-03 08:21:22 | INFO | hw5.seq2seq | begin validation\n"
          ]
        },
        {
          "data": {
            "application/vnd.jupyter.widget-view+json": {
              "model_id": "74f664d6e36b47c4b8afec66c38a26cb",
              "version_major": 2,
              "version_minor": 0
            },
            "text/plain": [
              "validation:   0%|          | 0/22 [00:00<?, ?it/s]"
            ]
          },
          "metadata": {},
          "output_type": "display_data"
        },
        {
          "name": "stdout",
          "output_type": "stream",
          "text": [
            "2022-04-03 08:21:48 | INFO | hw5.seq2seq | example source: the manufacturing method we used to actually make this material already exists at large volume scales .\n",
            "2022-04-03 08:21:48 | INFO | hw5.seq2seq | example hypothesis: 我們以前所使用的製造方法 , 實際上是大規模規模規模規模的規模 。\n",
            "2022-04-03 08:21:48 | INFO | hw5.seq2seq | example reference: 實際量產這種材料的方法已然存在 。\n",
            "2022-04-03 08:21:48 | INFO | hw5.seq2seq | validation loss:\t4.0532\n",
            "2022-04-03 08:21:48 | INFO | hw5.seq2seq | BLEU = 17.58 51.3/26.1/14.1/8.0 (BP = 0.890 ratio = 0.895 hyp_len = 100109 ref_len = 111811)\n",
            "2022-04-03 08:21:48 | INFO | hw5.seq2seq | saved epoch checkpoint: /home/spiderkiller/ML2022/hw5_machine_translation/checkpoints/rnn/checkpoint232.pt\n",
            "2022-04-03 08:21:48 | INFO | hw5.seq2seq | end of epoch 232\n"
          ]
        },
        {
          "data": {
            "application/vnd.jupyter.widget-view+json": {
              "model_id": "ad990e474c814e6781712a87804dd36f",
              "version_major": 2,
              "version_minor": 0
            },
            "text/plain": [
              "train epoch 233:   0%|          | 0/791 [00:00<?, ?it/s]"
            ]
          },
          "metadata": {},
          "output_type": "display_data"
        },
        {
          "name": "stdout",
          "output_type": "stream",
          "text": [
            "2022-04-03 08:23:14 | INFO | hw5.seq2seq | training loss: 4.2237\n",
            "2022-04-03 08:23:14 | INFO | hw5.seq2seq | begin validation\n"
          ]
        },
        {
          "data": {
            "application/vnd.jupyter.widget-view+json": {
              "model_id": "dbb792a75b1142c69ab48db4aeb32a35",
              "version_major": 2,
              "version_minor": 0
            },
            "text/plain": [
              "validation:   0%|          | 0/22 [00:00<?, ?it/s]"
            ]
          },
          "metadata": {},
          "output_type": "display_data"
        },
        {
          "name": "stdout",
          "output_type": "stream",
          "text": [
            "2022-04-03 08:23:41 | INFO | hw5.seq2seq | example source: take me anywhere you want to go .\n",
            "2022-04-03 08:23:41 | INFO | hw5.seq2seq | example hypothesis: 帶我去哪裡去 。\n",
            "2022-04-03 08:23:41 | INFO | hw5.seq2seq | example reference: 帶我去任何你想要去的地方 。\n",
            "2022-04-03 08:23:41 | INFO | hw5.seq2seq | validation loss:\t4.0611\n",
            "2022-04-03 08:23:41 | INFO | hw5.seq2seq | BLEU = 17.53 51.4/26.2/14.1/8.0 (BP = 0.887 ratio = 0.893 hyp_len = 99823 ref_len = 111811)\n",
            "2022-04-03 08:23:41 | INFO | hw5.seq2seq | saved epoch checkpoint: /home/spiderkiller/ML2022/hw5_machine_translation/checkpoints/rnn/checkpoint233.pt\n",
            "2022-04-03 08:23:41 | INFO | hw5.seq2seq | end of epoch 233\n"
          ]
        },
        {
          "data": {
            "application/vnd.jupyter.widget-view+json": {
              "model_id": "c20ff69809f04691aa9d4ca3250a0712",
              "version_major": 2,
              "version_minor": 0
            },
            "text/plain": [
              "train epoch 234:   0%|          | 0/791 [00:00<?, ?it/s]"
            ]
          },
          "metadata": {},
          "output_type": "display_data"
        },
        {
          "name": "stdout",
          "output_type": "stream",
          "text": [
            "2022-04-03 08:25:07 | INFO | hw5.seq2seq | training loss: 4.2245\n",
            "2022-04-03 08:25:07 | INFO | hw5.seq2seq | begin validation\n"
          ]
        },
        {
          "data": {
            "application/vnd.jupyter.widget-view+json": {
              "model_id": "b548a475ee29473192678cdee74e5cf7",
              "version_major": 2,
              "version_minor": 0
            },
            "text/plain": [
              "validation:   0%|          | 0/22 [00:00<?, ?it/s]"
            ]
          },
          "metadata": {},
          "output_type": "display_data"
        },
        {
          "name": "stdout",
          "output_type": "stream",
          "text": [
            "2022-04-03 08:25:33 | INFO | hw5.seq2seq | example source: shame is at the core of all of this .\n",
            "2022-04-03 08:25:33 | INFO | hw5.seq2seq | example hypothesis: 羞恥正處於所有這一點 。\n",
            "2022-04-03 08:25:33 | INFO | hw5.seq2seq | example reference: 這一切的核心就是羞恥 。\n",
            "2022-04-03 08:25:33 | INFO | hw5.seq2seq | validation loss:\t4.0592\n",
            "2022-04-03 08:25:33 | INFO | hw5.seq2seq | BLEU = 17.79 51.1/26.1/14.1/8.0 (BP = 0.902 ratio = 0.906 hyp_len = 101341 ref_len = 111811)\n",
            "2022-04-03 08:25:33 | INFO | hw5.seq2seq | saved epoch checkpoint: /home/spiderkiller/ML2022/hw5_machine_translation/checkpoints/rnn/checkpoint234.pt\n",
            "2022-04-03 08:25:33 | INFO | hw5.seq2seq | end of epoch 234\n"
          ]
        },
        {
          "data": {
            "application/vnd.jupyter.widget-view+json": {
              "model_id": "5949484a0d2c4b8183b09c515495fa69",
              "version_major": 2,
              "version_minor": 0
            },
            "text/plain": [
              "train epoch 235:   0%|          | 0/791 [00:00<?, ?it/s]"
            ]
          },
          "metadata": {},
          "output_type": "display_data"
        },
        {
          "name": "stdout",
          "output_type": "stream",
          "text": [
            "2022-04-03 08:26:59 | INFO | hw5.seq2seq | training loss: 4.2229\n",
            "2022-04-03 08:26:59 | INFO | hw5.seq2seq | begin validation\n"
          ]
        },
        {
          "data": {
            "application/vnd.jupyter.widget-view+json": {
              "model_id": "2d057f23d5b044dbbbca2695157d1fd0",
              "version_major": 2,
              "version_minor": 0
            },
            "text/plain": [
              "validation:   0%|          | 0/22 [00:00<?, ?it/s]"
            ]
          },
          "metadata": {},
          "output_type": "display_data"
        },
        {
          "name": "stdout",
          "output_type": "stream",
          "text": [
            "2022-04-03 08:27:25 | INFO | hw5.seq2seq | example source: most of what you see there is an asthma inhaler , but the top is a very small gps transceiver , which gives you the date and location of an asthma incident , giving you a new awareness of your vulnerability in relation to time and environmental factors .\n",
            "2022-04-03 08:27:25 | INFO | hw5.seq2seq | example hypothesis: 你們大部分人看到的是氣喘的氣喘 , 但最重要的是 , 最重要的gps轉移器 , 給你一個日期和氣喘的地點 , 給你一個新的意識意識 , 給你一個新的意識意識意識 。\n",
            "2022-04-03 08:27:25 | INFO | hw5.seq2seq | example reference: 你在那兒看到的大部分是吸入器 , 頂上是個很小的gps收發器 , 讓你知道哮喘發生的時間和地點給你對自身脆弱性與時間和環境因素間的關聯有一個全新的瞭解 。\n",
            "2022-04-03 08:27:25 | INFO | hw5.seq2seq | validation loss:\t4.0567\n",
            "2022-04-03 08:27:25 | INFO | hw5.seq2seq | BLEU = 17.78 51.2/26.1/14.2/8.0 (BP = 0.900 ratio = 0.905 hyp_len = 101141 ref_len = 111811)\n",
            "2022-04-03 08:27:26 | INFO | hw5.seq2seq | saved epoch checkpoint: /home/spiderkiller/ML2022/hw5_machine_translation/checkpoints/rnn/checkpoint235.pt\n",
            "2022-04-03 08:27:26 | INFO | hw5.seq2seq | end of epoch 235\n"
          ]
        },
        {
          "data": {
            "application/vnd.jupyter.widget-view+json": {
              "model_id": "19793ce74b074576935f7cbfdbfc87fe",
              "version_major": 2,
              "version_minor": 0
            },
            "text/plain": [
              "train epoch 236:   0%|          | 0/791 [00:00<?, ?it/s]"
            ]
          },
          "metadata": {},
          "output_type": "display_data"
        },
        {
          "name": "stdout",
          "output_type": "stream",
          "text": [
            "2022-04-03 08:28:51 | INFO | hw5.seq2seq | training loss: 4.2231\n",
            "2022-04-03 08:28:51 | INFO | hw5.seq2seq | begin validation\n"
          ]
        },
        {
          "data": {
            "application/vnd.jupyter.widget-view+json": {
              "model_id": "6a2d44022a3f460d85b74e484c53f48a",
              "version_major": 2,
              "version_minor": 0
            },
            "text/plain": [
              "validation:   0%|          | 0/22 [00:00<?, ?it/s]"
            ]
          },
          "metadata": {},
          "output_type": "display_data"
        },
        {
          "name": "stdout",
          "output_type": "stream",
          "text": [
            "2022-04-03 08:29:18 | INFO | hw5.seq2seq | example source: and because all of our data will be free and public , there will be transparency we'll all be able to see how much progress is being made and where .\n",
            "2022-04-03 08:29:18 | INFO | hw5.seq2seq | example hypothesis: 因為我們所有的資料都會自由和公共 , 我們都能看見多少進步 , 我們都能看見多少進步 。\n",
            "2022-04-03 08:29:18 | INFO | hw5.seq2seq | example reference: 因為我們所有的資料都是免費、公開的 , 具透明度大家都能看到進度與進程之所在 。\n",
            "2022-04-03 08:29:18 | INFO | hw5.seq2seq | validation loss:\t4.0761\n",
            "2022-04-03 08:29:18 | INFO | hw5.seq2seq | BLEU = 16.85 52.8/27.1/14.6/8.3 (BP = 0.826 ratio = 0.839 hyp_len = 93859 ref_len = 111811)\n",
            "2022-04-03 08:29:18 | INFO | hw5.seq2seq | saved epoch checkpoint: /home/spiderkiller/ML2022/hw5_machine_translation/checkpoints/rnn/checkpoint236.pt\n",
            "2022-04-03 08:29:18 | INFO | hw5.seq2seq | end of epoch 236\n"
          ]
        },
        {
          "data": {
            "application/vnd.jupyter.widget-view+json": {
              "model_id": "6a5ea1864f6947c8b3059521c62a819f",
              "version_major": 2,
              "version_minor": 0
            },
            "text/plain": [
              "train epoch 237:   0%|          | 0/791 [00:00<?, ?it/s]"
            ]
          },
          "metadata": {},
          "output_type": "display_data"
        },
        {
          "name": "stdout",
          "output_type": "stream",
          "text": [
            "2022-04-03 08:30:44 | INFO | hw5.seq2seq | training loss: 4.2235\n",
            "2022-04-03 08:30:44 | INFO | hw5.seq2seq | begin validation\n"
          ]
        },
        {
          "data": {
            "application/vnd.jupyter.widget-view+json": {
              "model_id": "83211b3c60454d209f09c19b136cfbb5",
              "version_major": 2,
              "version_minor": 0
            },
            "text/plain": [
              "validation:   0%|          | 0/22 [00:00<?, ?it/s]"
            ]
          },
          "metadata": {},
          "output_type": "display_data"
        },
        {
          "name": "stdout",
          "output_type": "stream",
          "text": [
            "2022-04-03 08:31:08 | INFO | hw5.seq2seq | example source: but of course , i could never say anything , because the uncle is a respected figure in the indian family .\n",
            "2022-04-03 08:31:08 | INFO | hw5.seq2seq | example hypothesis: 當然 , 我永遠不會說任何事 , 因為不確定是印度家庭的 。\n",
            "2022-04-03 08:31:08 | INFO | hw5.seq2seq | example reference: 但當然我不容罝喙 , 因為叔父在印度家庭中是受尊敬的人物 。\n",
            "2022-04-03 08:31:08 | INFO | hw5.seq2seq | validation loss:\t4.0646\n",
            "2022-04-03 08:31:08 | INFO | hw5.seq2seq | BLEU = 17.43 51.9/26.6/14.4/8.1 (BP = 0.870 ratio = 0.878 hyp_len = 98152 ref_len = 111811)\n",
            "2022-04-03 08:31:08 | INFO | hw5.seq2seq | saved epoch checkpoint: /home/spiderkiller/ML2022/hw5_machine_translation/checkpoints/rnn/checkpoint237.pt\n",
            "2022-04-03 08:31:08 | INFO | hw5.seq2seq | end of epoch 237\n"
          ]
        },
        {
          "data": {
            "application/vnd.jupyter.widget-view+json": {
              "model_id": "b3a7939a73304cd8bd07854de208a0e9",
              "version_major": 2,
              "version_minor": 0
            },
            "text/plain": [
              "train epoch 238:   0%|          | 0/791 [00:00<?, ?it/s]"
            ]
          },
          "metadata": {},
          "output_type": "display_data"
        },
        {
          "name": "stdout",
          "output_type": "stream",
          "text": [
            "2022-04-03 08:32:33 | INFO | hw5.seq2seq | training loss: 4.2227\n",
            "2022-04-03 08:32:33 | INFO | hw5.seq2seq | begin validation\n"
          ]
        },
        {
          "data": {
            "application/vnd.jupyter.widget-view+json": {
              "model_id": "8701dd338ce540d3a9e48ea46f888998",
              "version_major": 2,
              "version_minor": 0
            },
            "text/plain": [
              "validation:   0%|          | 0/22 [00:00<?, ?it/s]"
            ]
          },
          "metadata": {},
          "output_type": "display_data"
        },
        {
          "name": "stdout",
          "output_type": "stream",
          "text": [
            "2022-04-03 08:33:01 | INFO | hw5.seq2seq | example source: you have on your left an olive oil droplet , and this olive oil droplet gets attacked by enzymes .\n",
            "2022-04-03 08:33:01 | INFO | hw5.seq2seq | example hypothesis: 你左邊有個橄欖油乾旱的油滴 , 而這個橄欖油乾旱 。\n",
            "2022-04-03 08:33:01 | INFO | hw5.seq2seq | example reference: 在左邊的是橄欖油的油滴我們以酵素來分解這些油滴\n",
            "2022-04-03 08:33:01 | INFO | hw5.seq2seq | validation loss:\t4.0590\n",
            "2022-04-03 08:33:01 | INFO | hw5.seq2seq | BLEU = 17.75 51.2/26.1/14.1/8.0 (BP = 0.902 ratio = 0.907 hyp_len = 101400 ref_len = 111811)\n",
            "2022-04-03 08:33:01 | INFO | hw5.seq2seq | saved epoch checkpoint: /home/spiderkiller/ML2022/hw5_machine_translation/checkpoints/rnn/checkpoint238.pt\n",
            "2022-04-03 08:33:01 | INFO | hw5.seq2seq | end of epoch 238\n"
          ]
        },
        {
          "data": {
            "application/vnd.jupyter.widget-view+json": {
              "model_id": "88fe4b3df81346d6870db77348f86abc",
              "version_major": 2,
              "version_minor": 0
            },
            "text/plain": [
              "train epoch 239:   0%|          | 0/791 [00:00<?, ?it/s]"
            ]
          },
          "metadata": {},
          "output_type": "display_data"
        },
        {
          "name": "stdout",
          "output_type": "stream",
          "text": [
            "2022-04-03 08:34:25 | INFO | hw5.seq2seq | training loss: 4.2222\n",
            "2022-04-03 08:34:25 | INFO | hw5.seq2seq | begin validation\n"
          ]
        },
        {
          "data": {
            "application/vnd.jupyter.widget-view+json": {
              "model_id": "44a78e89b8f5463882199b62af5aa0bb",
              "version_major": 2,
              "version_minor": 0
            },
            "text/plain": [
              "validation:   0%|          | 0/22 [00:00<?, ?it/s]"
            ]
          },
          "metadata": {},
          "output_type": "display_data"
        },
        {
          "name": "stdout",
          "output_type": "stream",
          "text": [
            "2022-04-03 08:34:51 | INFO | hw5.seq2seq | example source: and i think that my mathematics , surprisingly enough , has been of great help to the surgeons studying lung illnesses and also kidney illnesses , all these branching systems , for which there was no geometry .\n",
            "2022-04-03 08:34:51 | INFO | hw5.seq2seq | example hypothesis: 我想 , 我的數學、令人驚訝的是 , 很驚訝的是 , 對外科醫生來說 , 對於肺科醫生的肺炎 , 所有這些技術都沒有幾何學 。\n",
            "2022-04-03 08:34:51 | INFO | hw5.seq2seq | example reference: 我想我的數學令人驚訝地可以帶來許多幫助給外科醫生幫助他們研究肺臟和腎臟這些分叉管的系統的疾病因爲在這些系統中沒有幾何學 。\n",
            "2022-04-03 08:34:51 | INFO | hw5.seq2seq | validation loss:\t4.0572\n",
            "2022-04-03 08:34:51 | INFO | hw5.seq2seq | BLEU = 17.65 51.5/26.3/14.3/8.1 (BP = 0.887 ratio = 0.893 hyp_len = 99827 ref_len = 111811)\n",
            "2022-04-03 08:34:52 | INFO | hw5.seq2seq | saved epoch checkpoint: /home/spiderkiller/ML2022/hw5_machine_translation/checkpoints/rnn/checkpoint239.pt\n",
            "2022-04-03 08:34:52 | INFO | hw5.seq2seq | end of epoch 239\n"
          ]
        },
        {
          "data": {
            "application/vnd.jupyter.widget-view+json": {
              "model_id": "8a385e853ea2475b8c370ad4e7646400",
              "version_major": 2,
              "version_minor": 0
            },
            "text/plain": [
              "train epoch 240:   0%|          | 0/791 [00:00<?, ?it/s]"
            ]
          },
          "metadata": {},
          "output_type": "display_data"
        },
        {
          "name": "stdout",
          "output_type": "stream",
          "text": [
            "2022-04-03 08:36:18 | INFO | hw5.seq2seq | training loss: 4.2233\n",
            "2022-04-03 08:36:18 | INFO | hw5.seq2seq | begin validation\n"
          ]
        },
        {
          "data": {
            "application/vnd.jupyter.widget-view+json": {
              "model_id": "a02554a9eaa74637afc81062487ec738",
              "version_major": 2,
              "version_minor": 0
            },
            "text/plain": [
              "validation:   0%|          | 0/22 [00:00<?, ?it/s]"
            ]
          },
          "metadata": {},
          "output_type": "display_data"
        },
        {
          "name": "stdout",
          "output_type": "stream",
          "text": [
            "2022-04-03 08:36:47 | INFO | hw5.seq2seq | example source: it's from trophy fish caught off the coast of florida .\n",
            "2022-04-03 08:36:47 | INFO | hw5.seq2seq | example hypothesis: 這是來自佛羅里達州海岸的海岸 。\n",
            "2022-04-03 08:36:47 | INFO | hw5.seq2seq | example reference: 這是在佛羅里達海岸捕捉到的漁獲 。\n",
            "2022-04-03 08:36:47 | INFO | hw5.seq2seq | validation loss:\t4.0579\n",
            "2022-04-03 08:36:47 | INFO | hw5.seq2seq | BLEU = 17.68 51.1/26.0/14.0/7.9 (BP = 0.902 ratio = 0.907 hyp_len = 101371 ref_len = 111811)\n",
            "2022-04-03 08:36:47 | INFO | hw5.seq2seq | saved epoch checkpoint: /home/spiderkiller/ML2022/hw5_machine_translation/checkpoints/rnn/checkpoint240.pt\n",
            "2022-04-03 08:36:47 | INFO | hw5.seq2seq | end of epoch 240\n"
          ]
        },
        {
          "data": {
            "application/vnd.jupyter.widget-view+json": {
              "model_id": "d4725c2fb23d47fbb54015176fbaf335",
              "version_major": 2,
              "version_minor": 0
            },
            "text/plain": [
              "train epoch 241:   0%|          | 0/791 [00:00<?, ?it/s]"
            ]
          },
          "metadata": {},
          "output_type": "display_data"
        },
        {
          "name": "stdout",
          "output_type": "stream",
          "text": [
            "2022-04-03 08:38:12 | INFO | hw5.seq2seq | training loss: 4.2222\n",
            "2022-04-03 08:38:12 | INFO | hw5.seq2seq | begin validation\n"
          ]
        },
        {
          "data": {
            "application/vnd.jupyter.widget-view+json": {
              "model_id": "198b6a4d0d434c80add03e6498613beb",
              "version_major": 2,
              "version_minor": 0
            },
            "text/plain": [
              "validation:   0%|          | 0/22 [00:00<?, ?it/s]"
            ]
          },
          "metadata": {},
          "output_type": "display_data"
        },
        {
          "name": "stdout",
          "output_type": "stream",
          "text": [
            "2022-04-03 08:38:39 | INFO | hw5.seq2seq | example source: it's not about individual recognition .\n",
            "2022-04-03 08:38:39 | INFO | hw5.seq2seq | example hypothesis: 這不是個人認知 。\n",
            "2022-04-03 08:38:39 | INFO | hw5.seq2seq | example reference: 讓嬰兒做出這種反應的 ,\n",
            "2022-04-03 08:38:39 | INFO | hw5.seq2seq | validation loss:\t4.0646\n",
            "2022-04-03 08:38:39 | INFO | hw5.seq2seq | BLEU = 17.52 52.0/26.6/14.3/8.1 (BP = 0.875 ratio = 0.882 hyp_len = 98666 ref_len = 111811)\n",
            "2022-04-03 08:38:40 | INFO | hw5.seq2seq | saved epoch checkpoint: /home/spiderkiller/ML2022/hw5_machine_translation/checkpoints/rnn/checkpoint241.pt\n",
            "2022-04-03 08:38:40 | INFO | hw5.seq2seq | end of epoch 241\n"
          ]
        },
        {
          "data": {
            "application/vnd.jupyter.widget-view+json": {
              "model_id": "1aa6a526135048c0864b336287ce23e1",
              "version_major": 2,
              "version_minor": 0
            },
            "text/plain": [
              "train epoch 242:   0%|          | 0/791 [00:00<?, ?it/s]"
            ]
          },
          "metadata": {},
          "output_type": "display_data"
        },
        {
          "name": "stdout",
          "output_type": "stream",
          "text": [
            "2022-04-03 08:40:05 | INFO | hw5.seq2seq | training loss: 4.2222\n",
            "2022-04-03 08:40:05 | INFO | hw5.seq2seq | begin validation\n"
          ]
        },
        {
          "data": {
            "application/vnd.jupyter.widget-view+json": {
              "model_id": "e59d6b144c2a44abbf93198bcff7e945",
              "version_major": 2,
              "version_minor": 0
            },
            "text/plain": [
              "validation:   0%|          | 0/22 [00:00<?, ?it/s]"
            ]
          },
          "metadata": {},
          "output_type": "display_data"
        },
        {
          "name": "stdout",
          "output_type": "stream",
          "text": [
            "2022-04-03 08:40:31 | INFO | hw5.seq2seq | example source: and like most people in my community , i had the misconception that depression was a sign of weakness , a character flaw .\n",
            "2022-04-03 08:40:31 | INFO | hw5.seq2seq | example hypothesis: 就像大多數人在我的社區裡 , 我有誤解 , 憂鬱是一種弱勢的徵兆 。\n",
            "2022-04-03 08:40:31 | INFO | hw5.seq2seq | example reference: 像我社群裡大多數人一樣 , 我對憂鬱症有種迷思 , 覺得那是弱者的象徵 , 是種缺陷 。\n",
            "2022-04-03 08:40:31 | INFO | hw5.seq2seq | validation loss:\t4.0689\n",
            "2022-04-03 08:40:31 | INFO | hw5.seq2seq | BLEU = 17.18 52.6/26.9/14.6/8.2 (BP = 0.847 ratio = 0.857 hyp_len = 95852 ref_len = 111811)\n",
            "2022-04-03 08:40:31 | INFO | hw5.seq2seq | saved epoch checkpoint: /home/spiderkiller/ML2022/hw5_machine_translation/checkpoints/rnn/checkpoint242.pt\n",
            "2022-04-03 08:40:31 | INFO | hw5.seq2seq | end of epoch 242\n"
          ]
        },
        {
          "data": {
            "application/vnd.jupyter.widget-view+json": {
              "model_id": "4f17ff410aea467e85091b07731df9df",
              "version_major": 2,
              "version_minor": 0
            },
            "text/plain": [
              "train epoch 243:   0%|          | 0/791 [00:00<?, ?it/s]"
            ]
          },
          "metadata": {},
          "output_type": "display_data"
        },
        {
          "name": "stdout",
          "output_type": "stream",
          "text": [
            "2022-04-03 08:41:56 | INFO | hw5.seq2seq | training loss: 4.2231\n",
            "2022-04-03 08:41:56 | INFO | hw5.seq2seq | begin validation\n"
          ]
        },
        {
          "data": {
            "application/vnd.jupyter.widget-view+json": {
              "model_id": "2bd14990ec274712af89bbcb9d6043b5",
              "version_major": 2,
              "version_minor": 0
            },
            "text/plain": [
              "validation:   0%|          | 0/22 [00:00<?, ?it/s]"
            ]
          },
          "metadata": {},
          "output_type": "display_data"
        },
        {
          "name": "stdout",
          "output_type": "stream",
          "text": [
            "2022-04-03 08:42:22 | INFO | hw5.seq2seq | example source: you see the sunbeams coming from the ventilation ducts and the train approaching .\n",
            "2022-04-03 08:42:22 | INFO | hw5.seq2seq | example hypothesis: 你可以看到太陽光蟲來自禿鷲和訓練的方法 。\n",
            "2022-04-03 08:42:22 | INFO | hw5.seq2seq | example reference: 你看到的是來自通風管的光束而火車正漸漸駛近\n",
            "2022-04-03 08:42:22 | INFO | hw5.seq2seq | validation loss:\t4.0700\n",
            "2022-04-03 08:42:22 | INFO | hw5.seq2seq | BLEU = 17.44 52.4/26.8/14.6/8.3 (BP = 0.859 ratio = 0.868 hyp_len = 97065 ref_len = 111811)\n",
            "2022-04-03 08:42:22 | INFO | hw5.seq2seq | saved epoch checkpoint: /home/spiderkiller/ML2022/hw5_machine_translation/checkpoints/rnn/checkpoint243.pt\n",
            "2022-04-03 08:42:22 | INFO | hw5.seq2seq | end of epoch 243\n"
          ]
        },
        {
          "data": {
            "application/vnd.jupyter.widget-view+json": {
              "model_id": "0c48ba03dbcf49169d9ff1824148dd25",
              "version_major": 2,
              "version_minor": 0
            },
            "text/plain": [
              "train epoch 244:   0%|          | 0/791 [00:00<?, ?it/s]"
            ]
          },
          "metadata": {},
          "output_type": "display_data"
        },
        {
          "name": "stdout",
          "output_type": "stream",
          "text": [
            "2022-04-03 08:43:49 | INFO | hw5.seq2seq | training loss: 4.2226\n",
            "2022-04-03 08:43:49 | INFO | hw5.seq2seq | begin validation\n"
          ]
        },
        {
          "data": {
            "application/vnd.jupyter.widget-view+json": {
              "model_id": "9851c6d18f144db295f30b0b4b22389e",
              "version_major": 2,
              "version_minor": 0
            },
            "text/plain": [
              "validation:   0%|          | 0/22 [00:00<?, ?it/s]"
            ]
          },
          "metadata": {},
          "output_type": "display_data"
        },
        {
          "name": "stdout",
          "output_type": "stream",
          "text": [
            "2022-04-03 08:44:15 | INFO | hw5.seq2seq | example source: sexually attractive people are hot .\n",
            "2022-04-03 08:44:15 | INFO | hw5.seq2seq | example hypothesis: 性行為上吸引力的人是熱情的 。\n",
            "2022-04-03 08:44:15 | INFO | hw5.seq2seq | example reference: 性感的人是火辣辣的\n",
            "2022-04-03 08:44:15 | INFO | hw5.seq2seq | validation loss:\t4.0530\n",
            "2022-04-03 08:44:15 | INFO | hw5.seq2seq | BLEU = 18.01 50.6/25.8/14.0/7.9 (BP = 0.923 ratio = 0.926 hyp_len = 103547 ref_len = 111811)\n",
            "2022-04-03 08:44:15 | INFO | hw5.seq2seq | saved epoch checkpoint: /home/spiderkiller/ML2022/hw5_machine_translation/checkpoints/rnn/checkpoint244.pt\n",
            "2022-04-03 08:44:15 | INFO | hw5.seq2seq | end of epoch 244\n"
          ]
        },
        {
          "data": {
            "application/vnd.jupyter.widget-view+json": {
              "model_id": "886e56e864d64a338c2522504f7a77ea",
              "version_major": 2,
              "version_minor": 0
            },
            "text/plain": [
              "train epoch 245:   0%|          | 0/791 [00:00<?, ?it/s]"
            ]
          },
          "metadata": {},
          "output_type": "display_data"
        },
        {
          "name": "stdout",
          "output_type": "stream",
          "text": [
            "2022-04-03 08:45:40 | INFO | hw5.seq2seq | training loss: 4.2212\n",
            "2022-04-03 08:45:40 | INFO | hw5.seq2seq | begin validation\n"
          ]
        },
        {
          "data": {
            "application/vnd.jupyter.widget-view+json": {
              "model_id": "79978999466440db951ea9665fab1670",
              "version_major": 2,
              "version_minor": 0
            },
            "text/plain": [
              "validation:   0%|          | 0/22 [00:00<?, ?it/s]"
            ]
          },
          "metadata": {},
          "output_type": "display_data"
        },
        {
          "name": "stdout",
          "output_type": "stream",
          "text": [
            "2022-04-03 08:46:06 | INFO | hw5.seq2seq | example source: what we're talking about today is also rocket science .\n",
            "2022-04-03 08:46:06 | INFO | hw5.seq2seq | example hypothesis: 我們今天所談的是岩石科學 。\n",
            "2022-04-03 08:46:06 | INFO | hw5.seq2seq | example reference: 我們今天所討論的問題就是高深的科學\n",
            "2022-04-03 08:46:06 | INFO | hw5.seq2seq | validation loss:\t4.0714\n",
            "2022-04-03 08:46:06 | INFO | hw5.seq2seq | BLEU = 17.08 52.8/27.0/14.6/8.3 (BP = 0.838 ratio = 0.850 hyp_len = 94999 ref_len = 111811)\n",
            "2022-04-03 08:46:06 | INFO | hw5.seq2seq | saved epoch checkpoint: /home/spiderkiller/ML2022/hw5_machine_translation/checkpoints/rnn/checkpoint245.pt\n",
            "2022-04-03 08:46:06 | INFO | hw5.seq2seq | end of epoch 245\n"
          ]
        },
        {
          "data": {
            "application/vnd.jupyter.widget-view+json": {
              "model_id": "dc8e46af2c7d45f5ad4d84fefd1e97a1",
              "version_major": 2,
              "version_minor": 0
            },
            "text/plain": [
              "train epoch 246:   0%|          | 0/791 [00:00<?, ?it/s]"
            ]
          },
          "metadata": {},
          "output_type": "display_data"
        },
        {
          "name": "stdout",
          "output_type": "stream",
          "text": [
            "2022-04-03 08:47:32 | INFO | hw5.seq2seq | training loss: 4.2227\n",
            "2022-04-03 08:47:32 | INFO | hw5.seq2seq | begin validation\n"
          ]
        },
        {
          "data": {
            "application/vnd.jupyter.widget-view+json": {
              "model_id": "7987d0f4969147c89f228ee4e98746b4",
              "version_major": 2,
              "version_minor": 0
            },
            "text/plain": [
              "validation:   0%|          | 0/22 [00:00<?, ?it/s]"
            ]
          },
          "metadata": {},
          "output_type": "display_data"
        },
        {
          "name": "stdout",
          "output_type": "stream",
          "text": [
            "2022-04-03 08:47:59 | INFO | hw5.seq2seq | example source: and trust me it was not that great back then .\n",
            "2022-04-03 08:47:59 | INFO | hw5.seq2seq | example hypothesis: 信任我不是那麼棒 。\n",
            "2022-04-03 08:47:59 | INFO | hw5.seq2seq | example reference: 相信我 , 那時候沒有現在這麼好 。\n",
            "2022-04-03 08:47:59 | INFO | hw5.seq2seq | validation loss:\t4.0750\n",
            "2022-04-03 08:47:59 | INFO | hw5.seq2seq | BLEU = 17.00 53.1/27.3/14.8/8.5 (BP = 0.823 ratio = 0.837 hyp_len = 93629 ref_len = 111811)\n",
            "2022-04-03 08:47:59 | INFO | hw5.seq2seq | saved epoch checkpoint: /home/spiderkiller/ML2022/hw5_machine_translation/checkpoints/rnn/checkpoint246.pt\n",
            "2022-04-03 08:47:59 | INFO | hw5.seq2seq | end of epoch 246\n"
          ]
        },
        {
          "data": {
            "application/vnd.jupyter.widget-view+json": {
              "model_id": "e5568e11f65e41a9862b5d239225356f",
              "version_major": 2,
              "version_minor": 0
            },
            "text/plain": [
              "train epoch 247:   0%|          | 0/791 [00:00<?, ?it/s]"
            ]
          },
          "metadata": {},
          "output_type": "display_data"
        },
        {
          "name": "stdout",
          "output_type": "stream",
          "text": [
            "2022-04-03 08:49:26 | INFO | hw5.seq2seq | training loss: 4.2214\n",
            "2022-04-03 08:49:26 | INFO | hw5.seq2seq | begin validation\n"
          ]
        },
        {
          "data": {
            "application/vnd.jupyter.widget-view+json": {
              "model_id": "7465628cf70344458c69fbd0f1b278a5",
              "version_major": 2,
              "version_minor": 0
            },
            "text/plain": [
              "validation:   0%|          | 0/22 [00:00<?, ?it/s]"
            ]
          },
          "metadata": {},
          "output_type": "display_data"
        },
        {
          "name": "stdout",
          "output_type": "stream",
          "text": [
            "2022-04-03 08:49:52 | INFO | hw5.seq2seq | example source: the second thing is , the health issue .\n",
            "2022-04-03 08:49:52 | INFO | hw5.seq2seq | example hypothesis: 第二件事是健康問題 。\n",
            "2022-04-03 08:49:52 | INFO | hw5.seq2seq | example reference: 再來是健康議題 ,\n",
            "2022-04-03 08:49:52 | INFO | hw5.seq2seq | validation loss:\t4.0611\n",
            "2022-04-03 08:49:52 | INFO | hw5.seq2seq | BLEU = 17.34 52.3/26.8/14.5/8.2 (BP = 0.858 ratio = 0.868 hyp_len = 97010 ref_len = 111811)\n",
            "2022-04-03 08:49:52 | INFO | hw5.seq2seq | saved epoch checkpoint: /home/spiderkiller/ML2022/hw5_machine_translation/checkpoints/rnn/checkpoint247.pt\n",
            "2022-04-03 08:49:52 | INFO | hw5.seq2seq | end of epoch 247\n"
          ]
        },
        {
          "data": {
            "application/vnd.jupyter.widget-view+json": {
              "model_id": "8885b681ee6c49bbb35e55c04e7b1ef0",
              "version_major": 2,
              "version_minor": 0
            },
            "text/plain": [
              "train epoch 248:   0%|          | 0/791 [00:00<?, ?it/s]"
            ]
          },
          "metadata": {},
          "output_type": "display_data"
        },
        {
          "name": "stdout",
          "output_type": "stream",
          "text": [
            "2022-04-03 08:51:18 | INFO | hw5.seq2seq | training loss: 4.2227\n",
            "2022-04-03 08:51:18 | INFO | hw5.seq2seq | begin validation\n"
          ]
        },
        {
          "data": {
            "application/vnd.jupyter.widget-view+json": {
              "model_id": "a1f5710ca1b04d71bc78a7edac2f8b8c",
              "version_major": 2,
              "version_minor": 0
            },
            "text/plain": [
              "validation:   0%|          | 0/22 [00:00<?, ?it/s]"
            ]
          },
          "metadata": {},
          "output_type": "display_data"
        },
        {
          "name": "stdout",
          "output_type": "stream",
          "text": [
            "2022-04-03 08:51:44 | INFO | hw5.seq2seq | example source: it was the first time the story of stonewall had been told to a national audience .\n",
            "2022-04-03 08:51:44 | INFO | hw5.seq2seq | example hypothesis: 這是石油的故事第一次被告知到一個國家觀眾 。\n",
            "2022-04-03 08:51:44 | INFO | hw5.seq2seq | example reference: 那是第一次 , 石牆暴動的故事得到全國人民關注 。\n",
            "2022-04-03 08:51:44 | INFO | hw5.seq2seq | validation loss:\t4.0682\n",
            "2022-04-03 08:51:44 | INFO | hw5.seq2seq | BLEU = 17.32 52.5/27.0/14.7/8.4 (BP = 0.847 ratio = 0.858 hyp_len = 95925 ref_len = 111811)\n",
            "2022-04-03 08:51:44 | INFO | hw5.seq2seq | saved epoch checkpoint: /home/spiderkiller/ML2022/hw5_machine_translation/checkpoints/rnn/checkpoint248.pt\n",
            "2022-04-03 08:51:44 | INFO | hw5.seq2seq | end of epoch 248\n"
          ]
        },
        {
          "data": {
            "application/vnd.jupyter.widget-view+json": {
              "model_id": "b6628925d72348ca875de746b560e5df",
              "version_major": 2,
              "version_minor": 0
            },
            "text/plain": [
              "train epoch 249:   0%|          | 0/791 [00:00<?, ?it/s]"
            ]
          },
          "metadata": {},
          "output_type": "display_data"
        },
        {
          "name": "stdout",
          "output_type": "stream",
          "text": [
            "2022-04-03 08:53:10 | INFO | hw5.seq2seq | training loss: 4.2189\n",
            "2022-04-03 08:53:10 | INFO | hw5.seq2seq | begin validation\n"
          ]
        },
        {
          "data": {
            "application/vnd.jupyter.widget-view+json": {
              "model_id": "4a07a5fe943d4d8bbe54532f5c22b06b",
              "version_major": 2,
              "version_minor": 0
            },
            "text/plain": [
              "validation:   0%|          | 0/22 [00:00<?, ?it/s]"
            ]
          },
          "metadata": {},
          "output_type": "display_data"
        },
        {
          "name": "stdout",
          "output_type": "stream",
          "text": [
            "2022-04-03 08:53:36 | INFO | hw5.seq2seq | example source: and i even took another month to do what was then the first theater play with a human and a robot acting together .\n",
            "2022-04-03 08:53:36 | INFO | hw5.seq2seq | example hypothesis: 我甚至花了另一個月的時間去做一個人類和機器人一起演奏的劇場 。\n",
            "2022-04-03 08:53:36 | INFO | hw5.seq2seq | example reference: 我甚至花了一個月的時間去做當時第一部由人類和機器人一起主演的戲劇 。\n",
            "2022-04-03 08:53:36 | INFO | hw5.seq2seq | validation loss:\t4.0599\n",
            "2022-04-03 08:53:36 | INFO | hw5.seq2seq | BLEU = 17.48 51.9/26.6/14.4/8.1 (BP = 0.872 ratio = 0.880 hyp_len = 98359 ref_len = 111811)\n",
            "2022-04-03 08:53:36 | INFO | hw5.seq2seq | saved epoch checkpoint: /home/spiderkiller/ML2022/hw5_machine_translation/checkpoints/rnn/checkpoint249.pt\n",
            "2022-04-03 08:53:36 | INFO | hw5.seq2seq | end of epoch 249\n"
          ]
        },
        {
          "data": {
            "application/vnd.jupyter.widget-view+json": {
              "model_id": "569fea636aae4c0ca638ba204c4fbd7e",
              "version_major": 2,
              "version_minor": 0
            },
            "text/plain": [
              "train epoch 250:   0%|          | 0/791 [00:00<?, ?it/s]"
            ]
          },
          "metadata": {},
          "output_type": "display_data"
        },
        {
          "name": "stdout",
          "output_type": "stream",
          "text": [
            "2022-04-03 08:55:02 | INFO | hw5.seq2seq | training loss: 4.2204\n",
            "2022-04-03 08:55:02 | INFO | hw5.seq2seq | begin validation\n"
          ]
        },
        {
          "data": {
            "application/vnd.jupyter.widget-view+json": {
              "model_id": "73de98613ea84ed1897512cc50844bc9",
              "version_major": 2,
              "version_minor": 0
            },
            "text/plain": [
              "validation:   0%|          | 0/22 [00:00<?, ?it/s]"
            ]
          },
          "metadata": {},
          "output_type": "display_data"
        },
        {
          "name": "stdout",
          "output_type": "stream",
          "text": [
            "2022-04-03 08:55:27 | INFO | hw5.seq2seq | example source: he felt like he had made a good choice with the design process because it was both energy efficient and it washed away the building's resident microbial landscape .\n",
            "2022-04-03 08:55:27 | INFO | hw5.seq2seq | example hypothesis: 他覺得他在設計過程中做出好選擇 , 因為這兩種能源效率 , 而且被拆除了建築物的微生物地景 。\n",
            "2022-04-03 08:55:27 | INFO | hw5.seq2seq | example reference: 他感到自己做了一個好選擇藉由設計過程因為這不僅符合能源效率需求也能帶走殘留在建築中的微生物\n",
            "2022-04-03 08:55:27 | INFO | hw5.seq2seq | validation loss:\t4.0784\n",
            "2022-04-03 08:55:27 | INFO | hw5.seq2seq | BLEU = 16.92 53.2/27.3/14.7/8.4 (BP = 0.823 ratio = 0.837 hyp_len = 93545 ref_len = 111811)\n",
            "2022-04-03 08:55:27 | INFO | hw5.seq2seq | saved epoch checkpoint: /home/spiderkiller/ML2022/hw5_machine_translation/checkpoints/rnn/checkpoint250.pt\n",
            "2022-04-03 08:55:27 | INFO | hw5.seq2seq | end of epoch 250\n"
          ]
        },
        {
          "data": {
            "application/vnd.jupyter.widget-view+json": {
              "model_id": "08dd56da32414a2584298cb4575902e9",
              "version_major": 2,
              "version_minor": 0
            },
            "text/plain": [
              "train epoch 251:   0%|          | 0/791 [00:00<?, ?it/s]"
            ]
          },
          "metadata": {},
          "output_type": "display_data"
        },
        {
          "name": "stdout",
          "output_type": "stream",
          "text": [
            "2022-04-03 08:56:53 | INFO | hw5.seq2seq | training loss: 4.2205\n",
            "2022-04-03 08:56:53 | INFO | hw5.seq2seq | begin validation\n"
          ]
        },
        {
          "data": {
            "application/vnd.jupyter.widget-view+json": {
              "model_id": "d2da93f767c34d268973ab16f1d1c334",
              "version_major": 2,
              "version_minor": 0
            },
            "text/plain": [
              "validation:   0%|          | 0/22 [00:00<?, ?it/s]"
            ]
          },
          "metadata": {},
          "output_type": "display_data"
        },
        {
          "name": "stdout",
          "output_type": "stream",
          "text": [
            "2022-04-03 08:57:18 | INFO | hw5.seq2seq | example source: so whatever you find in the cave , even a small cricket , has evolved in the dark in complete isolation .\n",
            "2022-04-03 08:57:18 | INFO | hw5.seq2seq | example hypothesis: 所以 , 無論你在洞穴裡找到的小雞 , 即使在黑暗中演化 。\n",
            "2022-04-03 08:57:18 | INFO | hw5.seq2seq | example reference: 不論你在洞穴裡找到什麼 , 就算只是一隻蟋蟀 , 也在黑暗和徹底的隔離下進行了演化 。\n",
            "2022-04-03 08:57:18 | INFO | hw5.seq2seq | validation loss:\t4.0592\n",
            "2022-04-03 08:57:18 | INFO | hw5.seq2seq | BLEU = 17.62 51.6/26.4/14.2/8.1 (BP = 0.886 ratio = 0.892 hyp_len = 99769 ref_len = 111811)\n",
            "2022-04-03 08:57:18 | INFO | hw5.seq2seq | saved epoch checkpoint: /home/spiderkiller/ML2022/hw5_machine_translation/checkpoints/rnn/checkpoint251.pt\n",
            "2022-04-03 08:57:18 | INFO | hw5.seq2seq | end of epoch 251\n"
          ]
        },
        {
          "data": {
            "application/vnd.jupyter.widget-view+json": {
              "model_id": "6246773b9fc54fa786e781e82a4bb9df",
              "version_major": 2,
              "version_minor": 0
            },
            "text/plain": [
              "train epoch 252:   0%|          | 0/791 [00:00<?, ?it/s]"
            ]
          },
          "metadata": {},
          "output_type": "display_data"
        },
        {
          "name": "stdout",
          "output_type": "stream",
          "text": [
            "2022-04-03 08:58:44 | INFO | hw5.seq2seq | training loss: 4.2243\n",
            "2022-04-03 08:58:44 | INFO | hw5.seq2seq | begin validation\n"
          ]
        },
        {
          "data": {
            "application/vnd.jupyter.widget-view+json": {
              "model_id": "e8b385ca4394485386864c516f7815e5",
              "version_major": 2,
              "version_minor": 0
            },
            "text/plain": [
              "validation:   0%|          | 0/22 [00:00<?, ?it/s]"
            ]
          },
          "metadata": {},
          "output_type": "display_data"
        },
        {
          "name": "stdout",
          "output_type": "stream",
          "text": [
            "2022-04-03 08:59:11 | INFO | hw5.seq2seq | example source: a long time ago , back in the early 1900s , museums were out looking for dinosaurs .\n",
            "2022-04-03 08:59:11 | INFO | hw5.seq2seq | example hypothesis: 很久以前 , 190年代初 , 博物館正在尋找恐龍 。\n",
            "2022-04-03 08:59:11 | INFO | hw5.seq2seq | example reference: 很久以前1900年代早期時博物館競相尋找恐龍\n",
            "2022-04-03 08:59:11 | INFO | hw5.seq2seq | validation loss:\t4.0576\n",
            "2022-04-03 08:59:11 | INFO | hw5.seq2seq | BLEU = 17.59 51.9/26.6/14.4/8.2 (BP = 0.876 ratio = 0.883 hyp_len = 98701 ref_len = 111811)\n",
            "2022-04-03 08:59:11 | INFO | hw5.seq2seq | saved epoch checkpoint: /home/spiderkiller/ML2022/hw5_machine_translation/checkpoints/rnn/checkpoint252.pt\n",
            "2022-04-03 08:59:11 | INFO | hw5.seq2seq | end of epoch 252\n"
          ]
        },
        {
          "data": {
            "application/vnd.jupyter.widget-view+json": {
              "model_id": "94979f9cc84e48698743561aa075edef",
              "version_major": 2,
              "version_minor": 0
            },
            "text/plain": [
              "train epoch 253:   0%|          | 0/791 [00:00<?, ?it/s]"
            ]
          },
          "metadata": {},
          "output_type": "display_data"
        },
        {
          "name": "stdout",
          "output_type": "stream",
          "text": [
            "2022-04-03 09:00:44 | INFO | hw5.seq2seq | training loss: 4.2194\n",
            "2022-04-03 09:00:44 | INFO | hw5.seq2seq | begin validation\n"
          ]
        },
        {
          "data": {
            "application/vnd.jupyter.widget-view+json": {
              "model_id": "5a4ff3377d3e4f72aa9f8c7bd2ad553e",
              "version_major": 2,
              "version_minor": 0
            },
            "text/plain": [
              "validation:   0%|          | 0/22 [00:00<?, ?it/s]"
            ]
          },
          "metadata": {},
          "output_type": "display_data"
        },
        {
          "name": "stdout",
          "output_type": "stream",
          "text": [
            "2022-04-03 09:01:13 | INFO | hw5.seq2seq | example source: so the three of us started an educational games company to bring science to life .\n",
            "2022-04-03 09:01:13 | INFO | hw5.seq2seq | example hypothesis: 所以 , 我們三個人開始了一個教育遊戲公司 , 讓科學成為生命 。\n",
            "2022-04-03 09:01:13 | INFO | hw5.seq2seq | example reference: 於是我們三人創立了一間教育遊戲公司 , 讓科學活起來 。\n",
            "2022-04-03 09:01:13 | INFO | hw5.seq2seq | validation loss:\t4.0573\n",
            "2022-04-03 09:01:13 | INFO | hw5.seq2seq | BLEU = 17.42 52.4/26.9/14.6/8.3 (BP = 0.856 ratio = 0.866 hyp_len = 96811 ref_len = 111811)\n",
            "2022-04-03 09:01:13 | INFO | hw5.seq2seq | saved epoch checkpoint: /home/spiderkiller/ML2022/hw5_machine_translation/checkpoints/rnn/checkpoint253.pt\n",
            "2022-04-03 09:01:13 | INFO | hw5.seq2seq | end of epoch 253\n"
          ]
        },
        {
          "data": {
            "application/vnd.jupyter.widget-view+json": {
              "model_id": "27691ed2ea3f4f5fb416a333fc503f6d",
              "version_major": 2,
              "version_minor": 0
            },
            "text/plain": [
              "train epoch 254:   0%|          | 0/791 [00:00<?, ?it/s]"
            ]
          },
          "metadata": {},
          "output_type": "display_data"
        },
        {
          "name": "stdout",
          "output_type": "stream",
          "text": [
            "2022-04-03 09:02:38 | INFO | hw5.seq2seq | training loss: 4.2203\n",
            "2022-04-03 09:02:38 | INFO | hw5.seq2seq | begin validation\n"
          ]
        },
        {
          "data": {
            "application/vnd.jupyter.widget-view+json": {
              "model_id": "97b71fc91acc4603b9f16a48cee5a259",
              "version_major": 2,
              "version_minor": 0
            },
            "text/plain": [
              "validation:   0%|          | 0/22 [00:00<?, ?it/s]"
            ]
          },
          "metadata": {},
          "output_type": "display_data"
        },
        {
          "name": "stdout",
          "output_type": "stream",
          "text": [
            "2022-04-03 09:03:03 | INFO | hw5.seq2seq | example source: immediately , you also realize that since the norwegian is at the end of the street , there's only one house next to him , which must be the one with the blue walls in clue fourteen .\n",
            "2022-04-03 09:03:03 | INFO | hw5.seq2seq | example hypothesis: 很快地 , 你也意識到 , 因為挪威人在街頭的末端 , 只有一間房子 , 只有一間房子的藍色牆 。\n",
            "2022-04-03 09:03:03 | INFO | hw5.seq2seq | example reference: 馬上就了解 , 既然挪威人住在街尾的那棟房子隔壁就只有一棟房子那一定就是線索14中有藍色內牆的房子\n",
            "2022-04-03 09:03:03 | INFO | hw5.seq2seq | validation loss:\t4.0550\n",
            "2022-04-03 09:03:03 | INFO | hw5.seq2seq | BLEU = 17.84 51.5/26.4/14.3/8.1 (BP = 0.897 ratio = 0.902 hyp_len = 100832 ref_len = 111811)\n",
            "2022-04-03 09:03:04 | INFO | hw5.seq2seq | saved epoch checkpoint: /home/spiderkiller/ML2022/hw5_machine_translation/checkpoints/rnn/checkpoint254.pt\n",
            "2022-04-03 09:03:04 | INFO | hw5.seq2seq | end of epoch 254\n"
          ]
        },
        {
          "data": {
            "application/vnd.jupyter.widget-view+json": {
              "model_id": "c171013f4d1544dfacd526598b161a26",
              "version_major": 2,
              "version_minor": 0
            },
            "text/plain": [
              "train epoch 255:   0%|          | 0/791 [00:00<?, ?it/s]"
            ]
          },
          "metadata": {},
          "output_type": "display_data"
        },
        {
          "name": "stdout",
          "output_type": "stream",
          "text": [
            "2022-04-03 09:04:29 | INFO | hw5.seq2seq | training loss: 4.2188\n",
            "2022-04-03 09:04:29 | INFO | hw5.seq2seq | begin validation\n"
          ]
        },
        {
          "data": {
            "application/vnd.jupyter.widget-view+json": {
              "model_id": "0b50dd62689f4194b12327e9e115f54a",
              "version_major": 2,
              "version_minor": 0
            },
            "text/plain": [
              "validation:   0%|          | 0/22 [00:00<?, ?it/s]"
            ]
          },
          "metadata": {},
          "output_type": "display_data"
        },
        {
          "name": "stdout",
          "output_type": "stream",
          "text": [
            "2022-04-03 09:04:55 | INFO | hw5.seq2seq | example source: when it was invented , in 1977 , it was estimated that it would take 40 quadrillion years to break a 426bit rsa key .\n",
            "2022-04-03 09:04:55 | INFO | hw5.seq2seq | example hypothesis: 1977年 , 在197年 , 估計 , 估計要花40公斤的馬拉關鍵 。\n",
            "2022-04-03 09:04:55 | INFO | hw5.seq2seq | example reference: 它在1977年被發明出來 , 當時估計需花上40萬億年才能破解426位元的rsa金鑰 。\n",
            "2022-04-03 09:04:55 | INFO | hw5.seq2seq | validation loss:\t4.0692\n",
            "2022-04-03 09:04:55 | INFO | hw5.seq2seq | BLEU = 17.58 52.4/26.9/14.6/8.4 (BP = 0.863 ratio = 0.871 hyp_len = 97420 ref_len = 111811)\n",
            "2022-04-03 09:04:55 | INFO | hw5.seq2seq | saved epoch checkpoint: /home/spiderkiller/ML2022/hw5_machine_translation/checkpoints/rnn/checkpoint255.pt\n",
            "2022-04-03 09:04:55 | INFO | hw5.seq2seq | end of epoch 255\n"
          ]
        },
        {
          "data": {
            "application/vnd.jupyter.widget-view+json": {
              "model_id": "7f269416f7ce436b9f026f4fcf16649d",
              "version_major": 2,
              "version_minor": 0
            },
            "text/plain": [
              "train epoch 256:   0%|          | 0/791 [00:00<?, ?it/s]"
            ]
          },
          "metadata": {},
          "output_type": "display_data"
        },
        {
          "name": "stdout",
          "output_type": "stream",
          "text": [
            "2022-04-03 09:06:21 | INFO | hw5.seq2seq | training loss: 4.2188\n",
            "2022-04-03 09:06:21 | INFO | hw5.seq2seq | begin validation\n"
          ]
        },
        {
          "data": {
            "application/vnd.jupyter.widget-view+json": {
              "model_id": "5010a1a6224042d8a0e8eb025690e73f",
              "version_major": 2,
              "version_minor": 0
            },
            "text/plain": [
              "validation:   0%|          | 0/22 [00:00<?, ?it/s]"
            ]
          },
          "metadata": {},
          "output_type": "display_data"
        },
        {
          "name": "stdout",
          "output_type": "stream",
          "text": [
            "2022-04-03 09:06:47 | INFO | hw5.seq2seq | example source: nowhere is that truer at burning man than at the temple .\n",
            "2022-04-03 09:06:47 | INFO | hw5.seq2seq | example hypothesis: 最重要的是 , 燃燒的男人比在寺廟中 。\n",
            "2022-04-03 09:06:47 | INFO | hw5.seq2seq | example reference: 在燃燒人節慶中 , 最真實的地方就是 「 寺廟 」 了 。\n",
            "2022-04-03 09:06:47 | INFO | hw5.seq2seq | validation loss:\t4.0666\n",
            "2022-04-03 09:06:47 | INFO | hw5.seq2seq | BLEU = 17.13 52.6/27.0/14.6/8.3 (BP = 0.842 ratio = 0.853 hyp_len = 95374 ref_len = 111811)\n",
            "2022-04-03 09:06:47 | INFO | hw5.seq2seq | saved epoch checkpoint: /home/spiderkiller/ML2022/hw5_machine_translation/checkpoints/rnn/checkpoint256.pt\n",
            "2022-04-03 09:06:47 | INFO | hw5.seq2seq | end of epoch 256\n"
          ]
        },
        {
          "data": {
            "application/vnd.jupyter.widget-view+json": {
              "model_id": "f02a69d433834825a9562646e5d4b628",
              "version_major": 2,
              "version_minor": 0
            },
            "text/plain": [
              "train epoch 257:   0%|          | 0/791 [00:00<?, ?it/s]"
            ]
          },
          "metadata": {},
          "output_type": "display_data"
        },
        {
          "name": "stdout",
          "output_type": "stream",
          "text": [
            "2022-04-03 09:08:13 | INFO | hw5.seq2seq | training loss: 4.2194\n",
            "2022-04-03 09:08:13 | INFO | hw5.seq2seq | begin validation\n"
          ]
        },
        {
          "data": {
            "application/vnd.jupyter.widget-view+json": {
              "model_id": "d04b218c013340fc8ccaea39a9108a60",
              "version_major": 2,
              "version_minor": 0
            },
            "text/plain": [
              "validation:   0%|          | 0/22 [00:00<?, ?it/s]"
            ]
          },
          "metadata": {},
          "output_type": "display_data"
        },
        {
          "name": "stdout",
          "output_type": "stream",
          "text": [
            "2022-04-03 09:08:39 | INFO | hw5.seq2seq | example source: but it was important to create a perfect place , so i tried to , in order to work and create .\n",
            "2022-04-03 09:08:39 | INFO | hw5.seq2seq | example hypothesis: 但要創造一個完美的地方 , 所以我試著創造一個完美的地方 。\n",
            "2022-04-03 09:08:39 | INFO | hw5.seq2seq | example reference: 但創造一個完美的地方也很重要所以我試著為了工作與發明\n",
            "2022-04-03 09:08:39 | INFO | hw5.seq2seq | validation loss:\t4.0539\n",
            "2022-04-03 09:08:39 | INFO | hw5.seq2seq | BLEU = 17.56 51.7/26.3/14.1/7.9 (BP = 0.889 ratio = 0.895 hyp_len = 100064 ref_len = 111811)\n",
            "2022-04-03 09:08:39 | INFO | hw5.seq2seq | saved epoch checkpoint: /home/spiderkiller/ML2022/hw5_machine_translation/checkpoints/rnn/checkpoint257.pt\n",
            "2022-04-03 09:08:39 | INFO | hw5.seq2seq | end of epoch 257\n"
          ]
        },
        {
          "data": {
            "application/vnd.jupyter.widget-view+json": {
              "model_id": "5d9c09a9fd2241b0867e1942cdee7cf8",
              "version_major": 2,
              "version_minor": 0
            },
            "text/plain": [
              "train epoch 258:   0%|          | 0/791 [00:00<?, ?it/s]"
            ]
          },
          "metadata": {},
          "output_type": "display_data"
        },
        {
          "name": "stdout",
          "output_type": "stream",
          "text": [
            "2022-04-03 09:10:04 | INFO | hw5.seq2seq | training loss: 4.2197\n",
            "2022-04-03 09:10:04 | INFO | hw5.seq2seq | begin validation\n"
          ]
        },
        {
          "data": {
            "application/vnd.jupyter.widget-view+json": {
              "model_id": "505790dacc1f4d1c8c0b617d4f49a101",
              "version_major": 2,
              "version_minor": 0
            },
            "text/plain": [
              "validation:   0%|          | 0/22 [00:00<?, ?it/s]"
            ]
          },
          "metadata": {},
          "output_type": "display_data"
        },
        {
          "name": "stdout",
          "output_type": "stream",
          "text": [
            "2022-04-03 09:10:28 | INFO | hw5.seq2seq | example source: every time i do a new story , somebody tells me , \" we can do all that . we can do it . we've figured it all out .\n",
            "2022-04-03 09:10:28 | INFO | hw5.seq2seq | example hypothesis: 每當我做一個新的故事 , 有人告訴我: 「 我們可以做到 。 我們都能做到 。 」\n",
            "2022-04-03 09:10:28 | INFO | hw5.seq2seq | example reference: 每次我做一個新報導 , 人們就說: 「 這些我們都可以做到 。 沒問題 。 我們已經有辦法了 。 」\n",
            "2022-04-03 09:10:28 | INFO | hw5.seq2seq | validation loss:\t4.0589\n",
            "2022-04-03 09:10:28 | INFO | hw5.seq2seq | BLEU = 17.33 52.1/26.6/14.4/8.2 (BP = 0.862 ratio = 0.870 hyp_len = 97306 ref_len = 111811)\n",
            "2022-04-03 09:10:28 | INFO | hw5.seq2seq | saved epoch checkpoint: /home/spiderkiller/ML2022/hw5_machine_translation/checkpoints/rnn/checkpoint258.pt\n",
            "2022-04-03 09:10:28 | INFO | hw5.seq2seq | end of epoch 258\n"
          ]
        },
        {
          "data": {
            "application/vnd.jupyter.widget-view+json": {
              "model_id": "37e76aafa25f4aefb4f6cc9a9d8bae18",
              "version_major": 2,
              "version_minor": 0
            },
            "text/plain": [
              "train epoch 259:   0%|          | 0/791 [00:00<?, ?it/s]"
            ]
          },
          "metadata": {},
          "output_type": "display_data"
        },
        {
          "name": "stdout",
          "output_type": "stream",
          "text": [
            "2022-04-03 09:11:54 | INFO | hw5.seq2seq | training loss: 4.2192\n",
            "2022-04-03 09:11:54 | INFO | hw5.seq2seq | begin validation\n"
          ]
        },
        {
          "data": {
            "application/vnd.jupyter.widget-view+json": {
              "model_id": "0958f1c499f346d2bf5e460cb3b81a17",
              "version_major": 2,
              "version_minor": 0
            },
            "text/plain": [
              "validation:   0%|          | 0/22 [00:00<?, ?it/s]"
            ]
          },
          "metadata": {},
          "output_type": "display_data"
        },
        {
          "name": "stdout",
          "output_type": "stream",
          "text": [
            "2022-04-03 09:12:20 | INFO | hw5.seq2seq | example source: the fear is that if i get killed , what would happen to the people who love me so much ?\n",
            "2022-04-03 09:12:20 | INFO | hw5.seq2seq | example hypothesis: 恐懼是 , 如果我殺了 , 那會發生什麼事 ?\n",
            "2022-04-03 09:12:20 | INFO | hw5.seq2seq | example reference: 這種恐懼是 , 如果我被殺了 , 對愛我之至的人會造成什麼影響 ?\n",
            "2022-04-03 09:12:20 | INFO | hw5.seq2seq | validation loss:\t4.0657\n",
            "2022-04-03 09:12:20 | INFO | hw5.seq2seq | BLEU = 17.35 52.2/26.8/14.5/8.2 (BP = 0.858 ratio = 0.867 hyp_len = 96978 ref_len = 111811)\n",
            "2022-04-03 09:12:20 | INFO | hw5.seq2seq | saved epoch checkpoint: /home/spiderkiller/ML2022/hw5_machine_translation/checkpoints/rnn/checkpoint259.pt\n",
            "2022-04-03 09:12:20 | INFO | hw5.seq2seq | end of epoch 259\n"
          ]
        },
        {
          "data": {
            "application/vnd.jupyter.widget-view+json": {
              "model_id": "8f10d47074534357a4ce2013e804f335",
              "version_major": 2,
              "version_minor": 0
            },
            "text/plain": [
              "train epoch 260:   0%|          | 0/791 [00:00<?, ?it/s]"
            ]
          },
          "metadata": {},
          "output_type": "display_data"
        },
        {
          "name": "stdout",
          "output_type": "stream",
          "text": [
            "2022-04-03 09:13:47 | INFO | hw5.seq2seq | training loss: 4.2184\n",
            "2022-04-03 09:13:47 | INFO | hw5.seq2seq | begin validation\n"
          ]
        },
        {
          "data": {
            "application/vnd.jupyter.widget-view+json": {
              "model_id": "ecca2f85f6334c7890f2ba011e51998b",
              "version_major": 2,
              "version_minor": 0
            },
            "text/plain": [
              "validation:   0%|          | 0/22 [00:00<?, ?it/s]"
            ]
          },
          "metadata": {},
          "output_type": "display_data"
        },
        {
          "name": "stdout",
          "output_type": "stream",
          "text": [
            "2022-04-03 09:14:13 | INFO | hw5.seq2seq | example source: now you think , \" close hand , \" and a little section of your chest contracts .\n",
            "2022-04-03 09:14:13 | INFO | hw5.seq2seq | example hypothesis: 現在你想: 「 閉上手 」 , 還有一些你的胸部 。\n",
            "2022-04-03 09:14:13 | INFO | hw5.seq2seq | example reference: 所以你在腦袋裡想 \" 握拳 \" , 胸肌就會收縮\n",
            "2022-04-03 09:14:13 | INFO | hw5.seq2seq | validation loss:\t4.0605\n",
            "2022-04-03 09:14:13 | INFO | hw5.seq2seq | BLEU = 17.39 52.2/26.7/14.5/8.2 (BP = 0.861 ratio = 0.870 hyp_len = 97267 ref_len = 111811)\n",
            "2022-04-03 09:14:14 | INFO | hw5.seq2seq | saved epoch checkpoint: /home/spiderkiller/ML2022/hw5_machine_translation/checkpoints/rnn/checkpoint260.pt\n",
            "2022-04-03 09:14:14 | INFO | hw5.seq2seq | end of epoch 260\n"
          ]
        },
        {
          "data": {
            "application/vnd.jupyter.widget-view+json": {
              "model_id": "afedb3f468d54f108ee0f4e75a1fd34d",
              "version_major": 2,
              "version_minor": 0
            },
            "text/plain": [
              "train epoch 261:   0%|          | 0/791 [00:00<?, ?it/s]"
            ]
          },
          "metadata": {},
          "output_type": "display_data"
        },
        {
          "name": "stdout",
          "output_type": "stream",
          "text": [
            "2022-04-03 09:15:39 | INFO | hw5.seq2seq | training loss: 4.2193\n",
            "2022-04-03 09:15:39 | INFO | hw5.seq2seq | begin validation\n"
          ]
        },
        {
          "data": {
            "application/vnd.jupyter.widget-view+json": {
              "model_id": "d3c620ba141842a4b3e7f2e9ca020b80",
              "version_major": 2,
              "version_minor": 0
            },
            "text/plain": [
              "validation:   0%|          | 0/22 [00:00<?, ?it/s]"
            ]
          },
          "metadata": {},
          "output_type": "display_data"
        },
        {
          "name": "stdout",
          "output_type": "stream",
          "text": [
            "2022-04-03 09:16:05 | INFO | hw5.seq2seq | example source: 'what are you talking about , elyn ? ' 'oh , you know , the usual . who's what , what's who , heaven and hell . let's go out on the roof .\n",
            "2022-04-03 09:16:05 | INFO | hw5.seq2seq | example hypothesis: 你說的 , 不是嗎 ? 伊林 ? 嗯 , 你知道嗎 , 通常是誰 , 天堂、天堂、天堂、天堂、天堂 。\n",
            "2022-04-03 09:16:05 | INFO | hw5.seq2seq | example reference: 『艾琳 , 妳在說什麼 ? 』『噢 , 你知道 , 如常 , 誰是什麼 , 什麼是誰 , 天堂、地獄 。 去屋頂吧 ,\n",
            "2022-04-03 09:16:05 | INFO | hw5.seq2seq | validation loss:\t4.0635\n",
            "2022-04-03 09:16:05 | INFO | hw5.seq2seq | BLEU = 17.49 52.4/26.9/14.6/8.3 (BP = 0.862 ratio = 0.870 hyp_len = 97323 ref_len = 111811)\n",
            "2022-04-03 09:16:05 | INFO | hw5.seq2seq | saved epoch checkpoint: /home/spiderkiller/ML2022/hw5_machine_translation/checkpoints/rnn/checkpoint261.pt\n",
            "2022-04-03 09:16:05 | INFO | hw5.seq2seq | end of epoch 261\n"
          ]
        },
        {
          "data": {
            "application/vnd.jupyter.widget-view+json": {
              "model_id": "6e8e81e8031148aaac9280e338102ba7",
              "version_major": 2,
              "version_minor": 0
            },
            "text/plain": [
              "train epoch 262:   0%|          | 0/791 [00:00<?, ?it/s]"
            ]
          },
          "metadata": {},
          "output_type": "display_data"
        },
        {
          "name": "stdout",
          "output_type": "stream",
          "text": [
            "2022-04-03 09:17:30 | INFO | hw5.seq2seq | training loss: 4.2181\n",
            "2022-04-03 09:17:30 | INFO | hw5.seq2seq | begin validation\n"
          ]
        },
        {
          "data": {
            "application/vnd.jupyter.widget-view+json": {
              "model_id": "54048d996820429382bd6affcadc2c80",
              "version_major": 2,
              "version_minor": 0
            },
            "text/plain": [
              "validation:   0%|          | 0/22 [00:00<?, ?it/s]"
            ]
          },
          "metadata": {},
          "output_type": "display_data"
        },
        {
          "name": "stdout",
          "output_type": "stream",
          "text": [
            "2022-04-03 09:17:54 | INFO | hw5.seq2seq | example source: \" and what do you mean with 'western world ? ' \" i said .\n",
            "2022-04-03 09:17:54 | INFO | hw5.seq2seq | example hypothesis: 「 西方世界有什麼意義 ? 」 我說過 。\n",
            "2022-04-03 09:17:54 | INFO | hw5.seq2seq | example reference: 我又問 \" 什麼是西方世界 ? \"\n",
            "2022-04-03 09:17:54 | INFO | hw5.seq2seq | validation loss:\t4.0742\n",
            "2022-04-03 09:17:54 | INFO | hw5.seq2seq | BLEU = 17.25 53.1/27.2/14.8/8.4 (BP = 0.838 ratio = 0.849 hyp_len = 94975 ref_len = 111811)\n",
            "2022-04-03 09:17:54 | INFO | hw5.seq2seq | saved epoch checkpoint: /home/spiderkiller/ML2022/hw5_machine_translation/checkpoints/rnn/checkpoint262.pt\n",
            "2022-04-03 09:17:54 | INFO | hw5.seq2seq | end of epoch 262\n"
          ]
        },
        {
          "data": {
            "application/vnd.jupyter.widget-view+json": {
              "model_id": "3838c57fade640aba3032e1fd067d3da",
              "version_major": 2,
              "version_minor": 0
            },
            "text/plain": [
              "train epoch 263:   0%|          | 0/791 [00:00<?, ?it/s]"
            ]
          },
          "metadata": {},
          "output_type": "display_data"
        },
        {
          "name": "stdout",
          "output_type": "stream",
          "text": [
            "2022-04-03 09:19:20 | INFO | hw5.seq2seq | training loss: 4.2194\n",
            "2022-04-03 09:19:20 | INFO | hw5.seq2seq | begin validation\n"
          ]
        },
        {
          "data": {
            "application/vnd.jupyter.widget-view+json": {
              "model_id": "6efccc1c6479497197bcc57a5b4d5d0e",
              "version_major": 2,
              "version_minor": 0
            },
            "text/plain": [
              "validation:   0%|          | 0/22 [00:00<?, ?it/s]"
            ]
          },
          "metadata": {},
          "output_type": "display_data"
        },
        {
          "name": "stdout",
          "output_type": "stream",
          "text": [
            "2022-04-03 09:19:46 | INFO | hw5.seq2seq | example source: what would we think of ourselves then ?\n",
            "2022-04-03 09:19:46 | INFO | hw5.seq2seq | example hypothesis: 我們要怎麼想呢 ?\n",
            "2022-04-03 09:19:46 | INFO | hw5.seq2seq | example reference: 那麼我們會如何看待我們自己 ?\n",
            "2022-04-03 09:19:46 | INFO | hw5.seq2seq | validation loss:\t4.0585\n",
            "2022-04-03 09:19:46 | INFO | hw5.seq2seq | BLEU = 17.48 51.8/26.4/14.3/8.1 (BP = 0.876 ratio = 0.883 hyp_len = 98750 ref_len = 111811)\n",
            "2022-04-03 09:19:46 | INFO | hw5.seq2seq | saved epoch checkpoint: /home/spiderkiller/ML2022/hw5_machine_translation/checkpoints/rnn/checkpoint263.pt\n",
            "2022-04-03 09:19:46 | INFO | hw5.seq2seq | end of epoch 263\n"
          ]
        },
        {
          "data": {
            "application/vnd.jupyter.widget-view+json": {
              "model_id": "3ea37f712f0040f4b7bb084734cbccf2",
              "version_major": 2,
              "version_minor": 0
            },
            "text/plain": [
              "train epoch 264:   0%|          | 0/791 [00:00<?, ?it/s]"
            ]
          },
          "metadata": {},
          "output_type": "display_data"
        },
        {
          "name": "stdout",
          "output_type": "stream",
          "text": [
            "2022-04-03 09:21:12 | INFO | hw5.seq2seq | training loss: 4.2205\n",
            "2022-04-03 09:21:12 | INFO | hw5.seq2seq | begin validation\n"
          ]
        },
        {
          "data": {
            "application/vnd.jupyter.widget-view+json": {
              "model_id": "acd960431cb4451594fa37774f9dbde8",
              "version_major": 2,
              "version_minor": 0
            },
            "text/plain": [
              "validation:   0%|          | 0/22 [00:00<?, ?it/s]"
            ]
          },
          "metadata": {},
          "output_type": "display_data"
        },
        {
          "name": "stdout",
          "output_type": "stream",
          "text": [
            "2022-04-03 09:21:36 | INFO | hw5.seq2seq | example source: and yet we also live at the moment when our ability to eliminate those conditions has reached a height we never imagined before .\n",
            "2022-04-03 09:21:36 | INFO | hw5.seq2seq | example hypothesis: 然而 , 我們同時生活在我們面臨這些條件的能力 , 同時 , 我們從未想像過的重量 。\n",
            "2022-04-03 09:21:36 | INFO | hw5.seq2seq | example reference: 然而此時此刻我們滅絕這些病症的能力也已經達到了超乎想像的高峰\n",
            "2022-04-03 09:21:36 | INFO | hw5.seq2seq | validation loss:\t4.0603\n",
            "2022-04-03 09:21:36 | INFO | hw5.seq2seq | BLEU = 17.75 51.7/26.5/14.4/8.2 (BP = 0.886 ratio = 0.892 hyp_len = 99782 ref_len = 111811)\n",
            "2022-04-03 09:21:36 | INFO | hw5.seq2seq | saved epoch checkpoint: /home/spiderkiller/ML2022/hw5_machine_translation/checkpoints/rnn/checkpoint264.pt\n",
            "2022-04-03 09:21:36 | INFO | hw5.seq2seq | end of epoch 264\n"
          ]
        },
        {
          "data": {
            "application/vnd.jupyter.widget-view+json": {
              "model_id": "7a49b496a33c4ef2975be5c5c8f35079",
              "version_major": 2,
              "version_minor": 0
            },
            "text/plain": [
              "train epoch 265:   0%|          | 0/791 [00:00<?, ?it/s]"
            ]
          },
          "metadata": {},
          "output_type": "display_data"
        },
        {
          "name": "stdout",
          "output_type": "stream",
          "text": [
            "2022-04-03 09:23:02 | INFO | hw5.seq2seq | training loss: 4.2176\n",
            "2022-04-03 09:23:02 | INFO | hw5.seq2seq | begin validation\n"
          ]
        },
        {
          "data": {
            "application/vnd.jupyter.widget-view+json": {
              "model_id": "31562a4a19a146bab5b399a62583e6fe",
              "version_major": 2,
              "version_minor": 0
            },
            "text/plain": [
              "validation:   0%|          | 0/22 [00:00<?, ?it/s]"
            ]
          },
          "metadata": {},
          "output_type": "display_data"
        },
        {
          "name": "stdout",
          "output_type": "stream",
          "text": [
            "2022-04-03 09:23:27 | INFO | hw5.seq2seq | example source: but when something like this happens , things are qualitatively changing .\n",
            "2022-04-03 09:23:27 | INFO | hw5.seq2seq | example hypothesis: 但當這樣發生時 , 事情是平等的 。\n",
            "2022-04-03 09:23:27 | INFO | hw5.seq2seq | example reference: 但是如果出現像這種質變的情況 。\n",
            "2022-04-03 09:23:27 | INFO | hw5.seq2seq | validation loss:\t4.0562\n",
            "2022-04-03 09:23:27 | INFO | hw5.seq2seq | BLEU = 17.61 52.0/26.6/14.4/8.2 (BP = 0.876 ratio = 0.883 hyp_len = 98735 ref_len = 111811)\n",
            "2022-04-03 09:23:27 | INFO | hw5.seq2seq | saved epoch checkpoint: /home/spiderkiller/ML2022/hw5_machine_translation/checkpoints/rnn/checkpoint265.pt\n",
            "2022-04-03 09:23:27 | INFO | hw5.seq2seq | end of epoch 265\n"
          ]
        },
        {
          "data": {
            "application/vnd.jupyter.widget-view+json": {
              "model_id": "d1e2c29c6bc3410fa4b3149a4dc8db44",
              "version_major": 2,
              "version_minor": 0
            },
            "text/plain": [
              "train epoch 266:   0%|          | 0/791 [00:00<?, ?it/s]"
            ]
          },
          "metadata": {},
          "output_type": "display_data"
        },
        {
          "name": "stdout",
          "output_type": "stream",
          "text": [
            "2022-04-03 09:24:59 | INFO | hw5.seq2seq | training loss: 4.2199\n",
            "2022-04-03 09:24:59 | INFO | hw5.seq2seq | begin validation\n"
          ]
        },
        {
          "data": {
            "application/vnd.jupyter.widget-view+json": {
              "model_id": "2a020763f7ca418cbb203335a41e01fc",
              "version_major": 2,
              "version_minor": 0
            },
            "text/plain": [
              "validation:   0%|          | 0/22 [00:00<?, ?it/s]"
            ]
          },
          "metadata": {},
          "output_type": "display_data"
        },
        {
          "name": "stdout",
          "output_type": "stream",
          "text": [
            "2022-04-03 09:25:27 | INFO | hw5.seq2seq | example source: you have taken the dreams of that nineyearold boy , which were impossible and dauntingly scary , dauntingly terrifying , and put them into practice , and figured out a way to reprogram yourself , to change your primal fear so that it allowed you to come back with a set of experiences and a level of inspiration for other people that never could have been possible otherwise .\n",
            "2022-04-03 09:25:27 | INFO | hw5.seq2seq | example hypothesis: 九歲男孩的夢想 , 九歲男孩的夢想 , 很可怕 , 危險地 , 把它們放進練習 , 然後把它們轉換成練習自己 , 找出一種方法 , 讓你回到原始恐懼中 , 讓你們回到原始恐懼中 , 使你從來沒有辦法過 。\n",
            "2022-04-03 09:25:27 | INFO | hw5.seq2seq | example reference: 你已經把那個九歲小男孩的夢想 , 本來不可能實現 , 而且還很嚇人、很恐怖的夢想 , 現在卻實現了 , 也搞清楚方法重新改造自己 , 改變你的原始恐懼 , 讓你能活著回來 , 帶著豐富的經驗及啟示傳授給別人 , 那是以前完全不可能發生的事 。\n",
            "2022-04-03 09:25:27 | INFO | hw5.seq2seq | validation loss:\t4.0606\n",
            "2022-04-03 09:25:27 | INFO | hw5.seq2seq | BLEU = 17.43 51.8/26.4/14.3/8.0 (BP = 0.877 ratio = 0.884 hyp_len = 98872 ref_len = 111811)\n",
            "2022-04-03 09:25:28 | INFO | hw5.seq2seq | saved epoch checkpoint: /home/spiderkiller/ML2022/hw5_machine_translation/checkpoints/rnn/checkpoint266.pt\n",
            "2022-04-03 09:25:28 | INFO | hw5.seq2seq | end of epoch 266\n"
          ]
        },
        {
          "data": {
            "application/vnd.jupyter.widget-view+json": {
              "model_id": "66431a061a7a4a27ab9faf4d8e6baf84",
              "version_major": 2,
              "version_minor": 0
            },
            "text/plain": [
              "train epoch 267:   0%|          | 0/791 [00:00<?, ?it/s]"
            ]
          },
          "metadata": {},
          "output_type": "display_data"
        },
        {
          "name": "stdout",
          "output_type": "stream",
          "text": [
            "2022-04-03 09:26:53 | INFO | hw5.seq2seq | training loss: 4.2185\n",
            "2022-04-03 09:26:53 | INFO | hw5.seq2seq | begin validation\n"
          ]
        },
        {
          "data": {
            "application/vnd.jupyter.widget-view+json": {
              "model_id": "cd5ac7b8dbcf47f9b4ec56ad09e690e0",
              "version_major": 2,
              "version_minor": 0
            },
            "text/plain": [
              "validation:   0%|          | 0/22 [00:00<?, ?it/s]"
            ]
          },
          "metadata": {},
          "output_type": "display_data"
        },
        {
          "name": "stdout",
          "output_type": "stream",
          "text": [
            "2022-04-03 09:27:19 | INFO | hw5.seq2seq | example source: their instructions: just walk normally .\n",
            "2022-04-03 09:27:19 | INFO | hw5.seq2seq | example hypothesis: 他們的建設:只是走路 。\n",
            "2022-04-03 09:27:19 | INFO | hw5.seq2seq | example reference: 它們的指令:照正常走路 。\n",
            "2022-04-03 09:27:19 | INFO | hw5.seq2seq | validation loss:\t4.0564\n",
            "2022-04-03 09:27:19 | INFO | hw5.seq2seq | BLEU = 17.71 51.4/26.3/14.2/8.0 (BP = 0.893 ratio = 0.898 hyp_len = 100458 ref_len = 111811)\n",
            "2022-04-03 09:27:19 | INFO | hw5.seq2seq | saved epoch checkpoint: /home/spiderkiller/ML2022/hw5_machine_translation/checkpoints/rnn/checkpoint267.pt\n",
            "2022-04-03 09:27:19 | INFO | hw5.seq2seq | end of epoch 267\n"
          ]
        },
        {
          "data": {
            "application/vnd.jupyter.widget-view+json": {
              "model_id": "102195710697406eaf5d36fc36e9b07e",
              "version_major": 2,
              "version_minor": 0
            },
            "text/plain": [
              "train epoch 268:   0%|          | 0/791 [00:00<?, ?it/s]"
            ]
          },
          "metadata": {},
          "output_type": "display_data"
        },
        {
          "name": "stdout",
          "output_type": "stream",
          "text": [
            "2022-04-03 09:28:44 | INFO | hw5.seq2seq | training loss: 4.2209\n",
            "2022-04-03 09:28:44 | INFO | hw5.seq2seq | begin validation\n"
          ]
        },
        {
          "data": {
            "application/vnd.jupyter.widget-view+json": {
              "model_id": "d571c93236d149f5aef016e6c2bdd572",
              "version_major": 2,
              "version_minor": 0
            },
            "text/plain": [
              "validation:   0%|          | 0/22 [00:00<?, ?it/s]"
            ]
          },
          "metadata": {},
          "output_type": "display_data"
        },
        {
          "name": "stdout",
          "output_type": "stream",
          "text": [
            "2022-04-03 09:29:08 | INFO | hw5.seq2seq | example source: when they don't work , someone or something is to blame .\n",
            "2022-04-03 09:29:08 | INFO | hw5.seq2seq | example hypothesis: 當他們不工作時 , 有人還是要怪罪 。\n",
            "2022-04-03 09:29:08 | INFO | hw5.seq2seq | example reference: 如果你不按照指導的去做 , 就有人或事要被責怪了 。\n",
            "2022-04-03 09:29:08 | INFO | hw5.seq2seq | validation loss:\t4.0590\n",
            "2022-04-03 09:29:08 | INFO | hw5.seq2seq | BLEU = 17.43 52.3/26.8/14.5/8.2 (BP = 0.860 ratio = 0.869 hyp_len = 97204 ref_len = 111811)\n",
            "2022-04-03 09:29:08 | INFO | hw5.seq2seq | saved epoch checkpoint: /home/spiderkiller/ML2022/hw5_machine_translation/checkpoints/rnn/checkpoint268.pt\n",
            "2022-04-03 09:29:08 | INFO | hw5.seq2seq | end of epoch 268\n"
          ]
        },
        {
          "data": {
            "application/vnd.jupyter.widget-view+json": {
              "model_id": "118a2f10872b43999f28a9fc112796b4",
              "version_major": 2,
              "version_minor": 0
            },
            "text/plain": [
              "train epoch 269:   0%|          | 0/791 [00:00<?, ?it/s]"
            ]
          },
          "metadata": {},
          "output_type": "display_data"
        },
        {
          "name": "stdout",
          "output_type": "stream",
          "text": [
            "2022-04-03 09:30:33 | INFO | hw5.seq2seq | training loss: 4.2174\n",
            "2022-04-03 09:30:33 | INFO | hw5.seq2seq | begin validation\n"
          ]
        },
        {
          "data": {
            "application/vnd.jupyter.widget-view+json": {
              "model_id": "ebcfcfd8c5e74a2d9a0e5d341427701f",
              "version_major": 2,
              "version_minor": 0
            },
            "text/plain": [
              "validation:   0%|          | 0/22 [00:00<?, ?it/s]"
            ]
          },
          "metadata": {},
          "output_type": "display_data"
        },
        {
          "name": "stdout",
          "output_type": "stream",
          "text": [
            "2022-04-03 09:30:58 | INFO | hw5.seq2seq | example source: we can put our stethoscopes to its backs , teach there , go to court there , make there , live there , pray there .\n",
            "2022-04-03 09:30:58 | INFO | hw5.seq2seq | example hypothesis: 我們可以把它放回來 , 教導它 , 教導 , 在那裡 , 在那裡 , 在那裡 , 在那裡 , 禱告在那裡 。\n",
            "2022-04-03 09:30:58 | INFO | hw5.seq2seq | example reference: 我們可以為她的背聽診 , 去那裡教書、開庭、製造、居住、祈禱 。\n",
            "2022-04-03 09:30:58 | INFO | hw5.seq2seq | validation loss:\t4.0590\n",
            "2022-04-03 09:30:58 | INFO | hw5.seq2seq | BLEU = 17.47 52.1/26.7/14.5/8.2 (BP = 0.865 ratio = 0.873 hyp_len = 97658 ref_len = 111811)\n",
            "2022-04-03 09:30:58 | INFO | hw5.seq2seq | saved epoch checkpoint: /home/spiderkiller/ML2022/hw5_machine_translation/checkpoints/rnn/checkpoint269.pt\n",
            "2022-04-03 09:30:58 | INFO | hw5.seq2seq | end of epoch 269\n"
          ]
        },
        {
          "data": {
            "application/vnd.jupyter.widget-view+json": {
              "model_id": "b8f60574ebbe41fab9292b62e9bd39cd",
              "version_major": 2,
              "version_minor": 0
            },
            "text/plain": [
              "train epoch 270:   0%|          | 0/791 [00:00<?, ?it/s]"
            ]
          },
          "metadata": {},
          "output_type": "display_data"
        },
        {
          "name": "stdout",
          "output_type": "stream",
          "text": [
            "2022-04-03 09:32:24 | INFO | hw5.seq2seq | training loss: 4.2161\n",
            "2022-04-03 09:32:24 | INFO | hw5.seq2seq | begin validation\n"
          ]
        },
        {
          "data": {
            "application/vnd.jupyter.widget-view+json": {
              "model_id": "801420a5b13440899f21ee3bf8ad35bd",
              "version_major": 2,
              "version_minor": 0
            },
            "text/plain": [
              "validation:   0%|          | 0/22 [00:00<?, ?it/s]"
            ]
          },
          "metadata": {},
          "output_type": "display_data"
        },
        {
          "name": "stdout",
          "output_type": "stream",
          "text": [
            "2022-04-03 09:32:50 | INFO | hw5.seq2seq | example source: it drives people from the smart part of the brain that dark , deep well of the subconscious , where instincts and experience , and all the other factors of creativity and good judgment are it drives us to the thin veneer of conscious logic .\n",
            "2022-04-03 09:32:50 | INFO | hw5.seq2seq | example hypothesis: 它驅動來自大腦中最聰明的部分 , 深層的潛意識 , 深層的潛意識 , 以及經驗的其他因素 , 以及所有創意和良好的判斷 。\n",
            "2022-04-03 09:32:50 | INFO | hw5.seq2seq | example reference: 它驅使人們離開大腦聰明的那部份那個潛意識的黑暗深井本能和經驗所在的地方以及所有其他創意的元素還有良好判斷力所在之處它迫使我們去到單薄又呆板有意識的邏輯 。\n",
            "2022-04-03 09:32:50 | INFO | hw5.seq2seq | validation loss:\t4.0598\n",
            "2022-04-03 09:32:50 | INFO | hw5.seq2seq | BLEU = 17.05 52.4/26.8/14.5/8.2 (BP = 0.842 ratio = 0.853 hyp_len = 95401 ref_len = 111811)\n",
            "2022-04-03 09:32:50 | INFO | hw5.seq2seq | saved epoch checkpoint: /home/spiderkiller/ML2022/hw5_machine_translation/checkpoints/rnn/checkpoint270.pt\n",
            "2022-04-03 09:32:50 | INFO | hw5.seq2seq | end of epoch 270\n"
          ]
        },
        {
          "data": {
            "application/vnd.jupyter.widget-view+json": {
              "model_id": "d73044e4b9244dbf982cf62443fabf76",
              "version_major": 2,
              "version_minor": 0
            },
            "text/plain": [
              "train epoch 271:   0%|          | 0/791 [00:00<?, ?it/s]"
            ]
          },
          "metadata": {},
          "output_type": "display_data"
        },
        {
          "name": "stdout",
          "output_type": "stream",
          "text": [
            "2022-04-03 09:34:16 | INFO | hw5.seq2seq | training loss: 4.2178\n",
            "2022-04-03 09:34:16 | INFO | hw5.seq2seq | begin validation\n"
          ]
        },
        {
          "data": {
            "application/vnd.jupyter.widget-view+json": {
              "model_id": "5af0ebc658524ef097b0722a33137fbb",
              "version_major": 2,
              "version_minor": 0
            },
            "text/plain": [
              "validation:   0%|          | 0/22 [00:00<?, ?it/s]"
            ]
          },
          "metadata": {},
          "output_type": "display_data"
        },
        {
          "name": "stdout",
          "output_type": "stream",
          "text": [
            "2022-04-03 09:34:43 | INFO | hw5.seq2seq | example source: i don't think we have to make that choice .\n",
            "2022-04-03 09:34:43 | INFO | hw5.seq2seq | example hypothesis: 我不認為我們必須做出選擇 。\n",
            "2022-04-03 09:34:43 | INFO | hw5.seq2seq | example reference: 但我不認為我們一定要非此即彼\n",
            "2022-04-03 09:34:43 | INFO | hw5.seq2seq | validation loss:\t4.0543\n",
            "2022-04-03 09:34:43 | INFO | hw5.seq2seq | BLEU = 17.68 51.4/26.3/14.3/8.1 (BP = 0.888 ratio = 0.894 hyp_len = 99940 ref_len = 111811)\n",
            "2022-04-03 09:34:43 | INFO | hw5.seq2seq | saved epoch checkpoint: /home/spiderkiller/ML2022/hw5_machine_translation/checkpoints/rnn/checkpoint271.pt\n",
            "2022-04-03 09:34:43 | INFO | hw5.seq2seq | end of epoch 271\n"
          ]
        },
        {
          "data": {
            "application/vnd.jupyter.widget-view+json": {
              "model_id": "64fbd99a5ada4ff28d20d2f51b619c61",
              "version_major": 2,
              "version_minor": 0
            },
            "text/plain": [
              "train epoch 272:   0%|          | 0/791 [00:00<?, ?it/s]"
            ]
          },
          "metadata": {},
          "output_type": "display_data"
        },
        {
          "name": "stdout",
          "output_type": "stream",
          "text": [
            "2022-04-03 09:36:08 | INFO | hw5.seq2seq | training loss: 4.2161\n",
            "2022-04-03 09:36:08 | INFO | hw5.seq2seq | begin validation\n"
          ]
        },
        {
          "data": {
            "application/vnd.jupyter.widget-view+json": {
              "model_id": "6d9c331d99834d4cb703ad6abf69d8ee",
              "version_major": 2,
              "version_minor": 0
            },
            "text/plain": [
              "validation:   0%|          | 0/22 [00:00<?, ?it/s]"
            ]
          },
          "metadata": {},
          "output_type": "display_data"
        },
        {
          "name": "stdout",
          "output_type": "stream",
          "text": [
            "2022-04-03 09:36:35 | INFO | hw5.seq2seq | example source: though many of these later appear in articles or broadcasts , keep in mind that these polished versions often combine the voice of the person who was there with the input of editors who weren't .\n",
            "2022-04-03 09:36:35 | INFO | hw5.seq2seq | example hypothesis: 雖然很多人後來在文章或廣播 , 請記住這些警察 , 記住這些警方的聲音 , 通常會結合在一起 。\n",
            "2022-04-03 09:36:35 | INFO | hw5.seq2seq | example reference: 雖然這些資料許多稍後會在報章雜誌或電視廣播中出現記得 , 這些經由修飾過的版本通常都夾雜了那在場記者與不在場編輯的兩種觀點\n",
            "2022-04-03 09:36:35 | INFO | hw5.seq2seq | validation loss:\t4.0560\n",
            "2022-04-03 09:36:35 | INFO | hw5.seq2seq | BLEU = 17.93 51.4/26.4/14.3/8.1 (BP = 0.900 ratio = 0.904 hyp_len = 101129 ref_len = 111811)\n",
            "2022-04-03 09:36:35 | INFO | hw5.seq2seq | saved epoch checkpoint: /home/spiderkiller/ML2022/hw5_machine_translation/checkpoints/rnn/checkpoint272.pt\n",
            "2022-04-03 09:36:35 | INFO | hw5.seq2seq | end of epoch 272\n"
          ]
        },
        {
          "data": {
            "application/vnd.jupyter.widget-view+json": {
              "model_id": "8fc19159d9a847f78a2cf0c2de003ce6",
              "version_major": 2,
              "version_minor": 0
            },
            "text/plain": [
              "train epoch 273:   0%|          | 0/791 [00:00<?, ?it/s]"
            ]
          },
          "metadata": {},
          "output_type": "display_data"
        },
        {
          "name": "stdout",
          "output_type": "stream",
          "text": [
            "2022-04-03 09:38:01 | INFO | hw5.seq2seq | training loss: 4.2182\n",
            "2022-04-03 09:38:01 | INFO | hw5.seq2seq | begin validation\n"
          ]
        },
        {
          "data": {
            "application/vnd.jupyter.widget-view+json": {
              "model_id": "bf736f87af634c2ab0b5aef797deeffc",
              "version_major": 2,
              "version_minor": 0
            },
            "text/plain": [
              "validation:   0%|          | 0/22 [00:00<?, ?it/s]"
            ]
          },
          "metadata": {},
          "output_type": "display_data"
        },
        {
          "name": "stdout",
          "output_type": "stream",
          "text": [
            "2022-04-03 09:38:28 | INFO | hw5.seq2seq | example source: maybe some of you here have participated in a bandaid operation to an african country setting up alternative schools , building hospitals , digging wells because governments there either weren't or couldn't provide the services to their citizens .\n",
            "2022-04-03 09:38:28 | INFO | hw5.seq2seq | example hypothesis: 也許你們當中有些人參與了非洲國家設立了選擇學校、醫院、建築醫院、建築物、建築醫院、建築物、醫院、診所、診所、不提供服務 。\n",
            "2022-04-03 09:38:28 | INFO | hw5.seq2seq | example reference: 或許你們其中有些人曾經參與幫非洲國家貼上ok繃的過程──設立另類學校、建造醫院、挖水井──因為那裡的政府不願意或無法提供人民這些服務 。\n",
            "2022-04-03 09:38:28 | INFO | hw5.seq2seq | validation loss:\t4.0698\n",
            "2022-04-03 09:38:28 | INFO | hw5.seq2seq | BLEU = 17.18 52.9/27.1/14.7/8.4 (BP = 0.838 ratio = 0.850 hyp_len = 95027 ref_len = 111811)\n",
            "2022-04-03 09:38:28 | INFO | hw5.seq2seq | saved epoch checkpoint: /home/spiderkiller/ML2022/hw5_machine_translation/checkpoints/rnn/checkpoint273.pt\n",
            "2022-04-03 09:38:28 | INFO | hw5.seq2seq | end of epoch 273\n"
          ]
        },
        {
          "data": {
            "application/vnd.jupyter.widget-view+json": {
              "model_id": "4aa419a0875c4eb4b677ed4340269425",
              "version_major": 2,
              "version_minor": 0
            },
            "text/plain": [
              "train epoch 274:   0%|          | 0/791 [00:00<?, ?it/s]"
            ]
          },
          "metadata": {},
          "output_type": "display_data"
        },
        {
          "name": "stdout",
          "output_type": "stream",
          "text": [
            "2022-04-03 09:39:53 | INFO | hw5.seq2seq | training loss: 4.2175\n",
            "2022-04-03 09:39:53 | INFO | hw5.seq2seq | begin validation\n"
          ]
        },
        {
          "data": {
            "application/vnd.jupyter.widget-view+json": {
              "model_id": "1235a6c465c94ef1b815697cd5ac842d",
              "version_major": 2,
              "version_minor": 0
            },
            "text/plain": [
              "validation:   0%|          | 0/22 [00:00<?, ?it/s]"
            ]
          },
          "metadata": {},
          "output_type": "display_data"
        },
        {
          "name": "stdout",
          "output_type": "stream",
          "text": [
            "2022-04-03 09:40:17 | INFO | hw5.seq2seq | example source: it doesn't happen ; you will have noticed if your grandmother had a hip replacement , she didn't come out as a junkie . and when i learned this , it seemed so weird to me , so contrary to everything i'd been told , everything i thought i knew , i just thought it couldn't be right , until i met a man called bruce alexander .\n",
            "2022-04-03 09:40:17 | INFO | hw5.seq2seq | example hypothesis: 它不會發生 ; 你不會注意到 , 如果你祖母有一隻髖骨取代 , 她並不會被告知 , 所以當我學會時 , 我覺得我很奇怪 。 所以當我學到了 , 所以我想我 , 一切都不對 , 直到我所知 , 我想 , 直到我遇到的男人 。\n",
            "2022-04-03 09:40:17 | INFO | hw5.seq2seq | example reference: 她不會出院後就成了癮君子吧我了解之後一切似乎很怪異所有我所學的跟我所以為的其實都相反這整件事都怪怪的直到我見到布魯斯‧亞歷山大他是溫哥華的心理學教授\n",
            "2022-04-03 09:40:17 | INFO | hw5.seq2seq | validation loss:\t4.0597\n",
            "2022-04-03 09:40:17 | INFO | hw5.seq2seq | BLEU = 17.26 52.5/26.9/14.6/8.3 (BP = 0.849 ratio = 0.860 hyp_len = 96105 ref_len = 111811)\n",
            "2022-04-03 09:40:17 | INFO | hw5.seq2seq | saved epoch checkpoint: /home/spiderkiller/ML2022/hw5_machine_translation/checkpoints/rnn/checkpoint274.pt\n",
            "2022-04-03 09:40:17 | INFO | hw5.seq2seq | end of epoch 274\n"
          ]
        },
        {
          "data": {
            "application/vnd.jupyter.widget-view+json": {
              "model_id": "6212ee305c1f431c86bc3670f7c9cc71",
              "version_major": 2,
              "version_minor": 0
            },
            "text/plain": [
              "train epoch 275:   0%|          | 0/791 [00:00<?, ?it/s]"
            ]
          },
          "metadata": {},
          "output_type": "display_data"
        },
        {
          "name": "stdout",
          "output_type": "stream",
          "text": [
            "2022-04-03 09:41:42 | INFO | hw5.seq2seq | training loss: 4.2167\n",
            "2022-04-03 09:41:42 | INFO | hw5.seq2seq | begin validation\n"
          ]
        },
        {
          "data": {
            "application/vnd.jupyter.widget-view+json": {
              "model_id": "18b2be42c57f4e03ac837fb99c8fac95",
              "version_major": 2,
              "version_minor": 0
            },
            "text/plain": [
              "validation:   0%|          | 0/22 [00:00<?, ?it/s]"
            ]
          },
          "metadata": {},
          "output_type": "display_data"
        },
        {
          "name": "stdout",
          "output_type": "stream",
          "text": [
            "2022-04-03 09:42:08 | INFO | hw5.seq2seq | example source: this happens after millions of years of heat and pressure have fused the star’s hydrogen into heavier elements like helium , carbon , and nitrogen— all the way to iron .\n",
            "2022-04-03 09:42:08 | INFO | hw5.seq2seq | example hypothesis: 這發生了數百萬年後 , 壓力和壓力已經融入了熱帶的元素 , 如氦、碳、氮、氮、氮氣、氮、氮氣、氮氣、氮氣、氮氣、氮氣、氮氣、氮氣、氮氣 。\n",
            "2022-04-03 09:42:08 | INFO | hw5.seq2seq | example reference: 會有這種情況 , 是因為數百萬年來 , 高熱和壓力將該星體的氫氣融入到更重的元素當中 , 如氦、碳、氮 , 一直到鐵 ,\n",
            "2022-04-03 09:42:08 | INFO | hw5.seq2seq | validation loss:\t4.0494\n",
            "2022-04-03 09:42:08 | INFO | hw5.seq2seq | BLEU = 17.84 51.0/26.0/14.1/8.0 (BP = 0.909 ratio = 0.913 hyp_len = 102090 ref_len = 111811)\n",
            "2022-04-03 09:42:08 | INFO | hw5.seq2seq | saved epoch checkpoint: /home/spiderkiller/ML2022/hw5_machine_translation/checkpoints/rnn/checkpoint275.pt\n",
            "2022-04-03 09:42:08 | INFO | hw5.seq2seq | end of epoch 275\n"
          ]
        },
        {
          "data": {
            "application/vnd.jupyter.widget-view+json": {
              "model_id": "5bcda1b8854c4ee3bf62aac2b08c09ae",
              "version_major": 2,
              "version_minor": 0
            },
            "text/plain": [
              "train epoch 276:   0%|          | 0/791 [00:00<?, ?it/s]"
            ]
          },
          "metadata": {},
          "output_type": "display_data"
        },
        {
          "name": "stdout",
          "output_type": "stream",
          "text": [
            "2022-04-03 09:43:34 | INFO | hw5.seq2seq | training loss: 4.2191\n",
            "2022-04-03 09:43:34 | INFO | hw5.seq2seq | begin validation\n"
          ]
        },
        {
          "data": {
            "application/vnd.jupyter.widget-view+json": {
              "model_id": "39bd04a660fc4565ba8bd7bf1aac70e5",
              "version_major": 2,
              "version_minor": 0
            },
            "text/plain": [
              "validation:   0%|          | 0/22 [00:00<?, ?it/s]"
            ]
          },
          "metadata": {},
          "output_type": "display_data"
        },
        {
          "name": "stdout",
          "output_type": "stream",
          "text": [
            "2022-04-03 09:44:00 | INFO | hw5.seq2seq | example source: configure your brain to cope the best in that situation .\n",
            "2022-04-03 09:44:00 | INFO | hw5.seq2seq | example hypothesis: 信心你的大腦去支撐最好的情況 。\n",
            "2022-04-03 09:44:00 | INFO | hw5.seq2seq | example reference: 能在壓力情境中發揮最大效益\n",
            "2022-04-03 09:44:00 | INFO | hw5.seq2seq | validation loss:\t4.0588\n",
            "2022-04-03 09:44:00 | INFO | hw5.seq2seq | BLEU = 17.45 51.8/26.4/14.3/8.0 (BP = 0.877 ratio = 0.884 hyp_len = 98835 ref_len = 111811)\n",
            "2022-04-03 09:44:00 | INFO | hw5.seq2seq | saved epoch checkpoint: /home/spiderkiller/ML2022/hw5_machine_translation/checkpoints/rnn/checkpoint276.pt\n",
            "2022-04-03 09:44:00 | INFO | hw5.seq2seq | end of epoch 276\n"
          ]
        },
        {
          "data": {
            "application/vnd.jupyter.widget-view+json": {
              "model_id": "2981e9c8e77a4ebbbe54df3efc52199a",
              "version_major": 2,
              "version_minor": 0
            },
            "text/plain": [
              "train epoch 277:   0%|          | 0/791 [00:00<?, ?it/s]"
            ]
          },
          "metadata": {},
          "output_type": "display_data"
        },
        {
          "name": "stdout",
          "output_type": "stream",
          "text": [
            "2022-04-03 09:45:27 | INFO | hw5.seq2seq | training loss: 4.2175\n",
            "2022-04-03 09:45:27 | INFO | hw5.seq2seq | begin validation\n"
          ]
        },
        {
          "data": {
            "application/vnd.jupyter.widget-view+json": {
              "model_id": "c32a4b2c60684fa28aa023f8fdbc2393",
              "version_major": 2,
              "version_minor": 0
            },
            "text/plain": [
              "validation:   0%|          | 0/22 [00:00<?, ?it/s]"
            ]
          },
          "metadata": {},
          "output_type": "display_data"
        },
        {
          "name": "stdout",
          "output_type": "stream",
          "text": [
            "2022-04-03 09:45:53 | INFO | hw5.seq2seq | example source: there's something about caves a shadowy opening in a limestone cliff that draws you in .\n",
            "2022-04-03 09:45:53 | INFO | hw5.seq2seq | example hypothesis: 洞穴裡有一些關於洞穴的開放 。\n",
            "2022-04-03 09:45:53 | INFO | hw5.seq2seq | example reference: 山洞散發著一股魅力--在石灰懸崖處迷人的幽暗開口\n",
            "2022-04-03 09:45:53 | INFO | hw5.seq2seq | validation loss:\t4.0599\n",
            "2022-04-03 09:45:53 | INFO | hw5.seq2seq | BLEU = 17.20 52.6/26.9/14.6/8.3 (BP = 0.845 ratio = 0.856 hyp_len = 95668 ref_len = 111811)\n",
            "2022-04-03 09:45:53 | INFO | hw5.seq2seq | saved epoch checkpoint: /home/spiderkiller/ML2022/hw5_machine_translation/checkpoints/rnn/checkpoint277.pt\n",
            "2022-04-03 09:45:53 | INFO | hw5.seq2seq | end of epoch 277\n"
          ]
        },
        {
          "data": {
            "application/vnd.jupyter.widget-view+json": {
              "model_id": "fb63cf3d9f284ab98e0392a635c9c667",
              "version_major": 2,
              "version_minor": 0
            },
            "text/plain": [
              "train epoch 278:   0%|          | 0/791 [00:00<?, ?it/s]"
            ]
          },
          "metadata": {},
          "output_type": "display_data"
        },
        {
          "name": "stdout",
          "output_type": "stream",
          "text": [
            "2022-04-03 09:47:18 | INFO | hw5.seq2seq | training loss: 4.2164\n",
            "2022-04-03 09:47:18 | INFO | hw5.seq2seq | begin validation\n"
          ]
        },
        {
          "data": {
            "application/vnd.jupyter.widget-view+json": {
              "model_id": "6684747bb6e74f21906278a5a3f7dd5f",
              "version_major": 2,
              "version_minor": 0
            },
            "text/plain": [
              "validation:   0%|          | 0/22 [00:00<?, ?it/s]"
            ]
          },
          "metadata": {},
          "output_type": "display_data"
        },
        {
          "name": "stdout",
          "output_type": "stream",
          "text": [
            "2022-04-03 09:47:44 | INFO | hw5.seq2seq | example source: so he decided he didn't need the opiates anymore , he didn't need the mdma anymore , and he was dropping out of the study .\n",
            "2022-04-03 09:47:44 | INFO | hw5.seq2seq | example hypothesis: 所以他決定不再需要氧氣 , 他不再需要mdma , 他不再需要mdma ,\n",
            "2022-04-03 09:47:44 | INFO | hw5.seq2seq | example reference: 所以 , 他下定決定 , 他不再需要鴉片劑了 , 他不再需要mdma了 , 他從研究中退出 。\n",
            "2022-04-03 09:47:44 | INFO | hw5.seq2seq | validation loss:\t4.0620\n",
            "2022-04-03 09:47:44 | INFO | hw5.seq2seq | BLEU = 17.32 52.4/26.8/14.5/8.2 (BP = 0.857 ratio = 0.866 hyp_len = 96866 ref_len = 111811)\n",
            "2022-04-03 09:47:44 | INFO | hw5.seq2seq | saved epoch checkpoint: /home/spiderkiller/ML2022/hw5_machine_translation/checkpoints/rnn/checkpoint278.pt\n",
            "2022-04-03 09:47:44 | INFO | hw5.seq2seq | end of epoch 278\n"
          ]
        },
        {
          "data": {
            "application/vnd.jupyter.widget-view+json": {
              "model_id": "fbd6e3c2f81845db9fc17422072ef427",
              "version_major": 2,
              "version_minor": 0
            },
            "text/plain": [
              "train epoch 279:   0%|          | 0/791 [00:00<?, ?it/s]"
            ]
          },
          "metadata": {},
          "output_type": "display_data"
        },
        {
          "name": "stdout",
          "output_type": "stream",
          "text": [
            "2022-04-03 09:49:09 | INFO | hw5.seq2seq | training loss: 4.2204\n",
            "2022-04-03 09:49:09 | INFO | hw5.seq2seq | begin validation\n"
          ]
        },
        {
          "data": {
            "application/vnd.jupyter.widget-view+json": {
              "model_id": "dbd9cb9a482d4a4fb036a4be572be394",
              "version_major": 2,
              "version_minor": 0
            },
            "text/plain": [
              "validation:   0%|          | 0/22 [00:00<?, ?it/s]"
            ]
          },
          "metadata": {},
          "output_type": "display_data"
        },
        {
          "name": "stdout",
          "output_type": "stream",
          "text": [
            "2022-04-03 09:49:34 | INFO | hw5.seq2seq | example source: if the average age in your country is 45 to 55 , now the average person is looking at diabetes , earlyonset diabetes , heart failure , coronary artery disease things that are inherently more difficult to treat , and much more expensive to treat .\n",
            "2022-04-03 09:49:34 | INFO | hw5.seq2seq | example hypothesis: 如果在你的國家的平均年齡45到555歲時 , 平均糖尿病、心臟衰竭、心臟衰竭、心臟衰竭、心臟衰竭、更昂貴的疾病 。\n",
            "2022-04-03 09:49:34 | INFO | hw5.seq2seq | example reference: 要是國家的平均年齡是45到55歲那麼普遍的疾病可能是糖尿病早發性糖尿病、心臟衰竭、心血管疾病這些疾病的治癒難度本來就較高且醫療成本也高出許多\n",
            "2022-04-03 09:49:34 | INFO | hw5.seq2seq | validation loss:\t4.0577\n",
            "2022-04-03 09:49:34 | INFO | hw5.seq2seq | BLEU = 17.46 51.7/26.3/14.2/8.0 (BP = 0.880 ratio = 0.887 hyp_len = 99136 ref_len = 111811)\n",
            "2022-04-03 09:49:34 | INFO | hw5.seq2seq | saved epoch checkpoint: /home/spiderkiller/ML2022/hw5_machine_translation/checkpoints/rnn/checkpoint279.pt\n",
            "2022-04-03 09:49:34 | INFO | hw5.seq2seq | end of epoch 279\n"
          ]
        },
        {
          "data": {
            "application/vnd.jupyter.widget-view+json": {
              "model_id": "4c6278d5b8f04fa7aabe8b581a159b12",
              "version_major": 2,
              "version_minor": 0
            },
            "text/plain": [
              "train epoch 280:   0%|          | 0/791 [00:00<?, ?it/s]"
            ]
          },
          "metadata": {},
          "output_type": "display_data"
        },
        {
          "name": "stdout",
          "output_type": "stream",
          "text": [
            "2022-04-03 09:51:07 | INFO | hw5.seq2seq | training loss: 4.2169\n",
            "2022-04-03 09:51:07 | INFO | hw5.seq2seq | begin validation\n"
          ]
        },
        {
          "data": {
            "application/vnd.jupyter.widget-view+json": {
              "model_id": "46e1214d1137422e9860528595e9c075",
              "version_major": 2,
              "version_minor": 0
            },
            "text/plain": [
              "validation:   0%|          | 0/22 [00:00<?, ?it/s]"
            ]
          },
          "metadata": {},
          "output_type": "display_data"
        },
        {
          "name": "stdout",
          "output_type": "stream",
          "text": [
            "2022-04-03 09:51:34 | INFO | hw5.seq2seq | example source: we've got to show these kids interesting stuff .\n",
            "2022-04-03 09:51:34 | INFO | hw5.seq2seq | example hypothesis: 我們必須展示這些孩子有趣的東西 。\n",
            "2022-04-03 09:51:34 | INFO | hw5.seq2seq | example reference: 我們必須展現給有趣的事物給孩子們\n",
            "2022-04-03 09:51:34 | INFO | hw5.seq2seq | validation loss:\t4.0525\n",
            "2022-04-03 09:51:34 | INFO | hw5.seq2seq | BLEU = 17.46 52.4/26.8/14.5/8.2 (BP = 0.864 ratio = 0.872 hyp_len = 97517 ref_len = 111811)\n",
            "2022-04-03 09:51:34 | INFO | hw5.seq2seq | saved epoch checkpoint: /home/spiderkiller/ML2022/hw5_machine_translation/checkpoints/rnn/checkpoint280.pt\n",
            "2022-04-03 09:51:34 | INFO | hw5.seq2seq | end of epoch 280\n"
          ]
        },
        {
          "data": {
            "application/vnd.jupyter.widget-view+json": {
              "model_id": "378375ebc184479783a4acd0908d7530",
              "version_major": 2,
              "version_minor": 0
            },
            "text/plain": [
              "train epoch 281:   0%|          | 0/791 [00:00<?, ?it/s]"
            ]
          },
          "metadata": {},
          "output_type": "display_data"
        },
        {
          "name": "stdout",
          "output_type": "stream",
          "text": [
            "2022-04-03 09:52:59 | INFO | hw5.seq2seq | training loss: 4.2142\n",
            "2022-04-03 09:52:59 | INFO | hw5.seq2seq | begin validation\n"
          ]
        },
        {
          "data": {
            "application/vnd.jupyter.widget-view+json": {
              "model_id": "3147972b626743c999e686baa546847e",
              "version_major": 2,
              "version_minor": 0
            },
            "text/plain": [
              "validation:   0%|          | 0/22 [00:00<?, ?it/s]"
            ]
          },
          "metadata": {},
          "output_type": "display_data"
        },
        {
          "name": "stdout",
          "output_type": "stream",
          "text": [
            "2022-04-03 09:53:26 | INFO | hw5.seq2seq | example source: this is a bleached coral , coral that died during the 1982'83 el nino .\n",
            "2022-04-03 09:53:26 | INFO | hw5.seq2seq | example hypothesis: 這是在1982年的珊瑚 , 珊瑚死於1982年的尼諾 。\n",
            "2022-04-03 09:53:26 | INFO | hw5.seq2seq | example reference: 這兒發生了珊瑚的白化現象 , 珊瑚因為1982-83年的聖嬰現象而死亡 。\n",
            "2022-04-03 09:53:26 | INFO | hw5.seq2seq | validation loss:\t4.0591\n",
            "2022-04-03 09:53:26 | INFO | hw5.seq2seq | BLEU = 17.51 52.3/26.8/14.5/8.3 (BP = 0.864 ratio = 0.872 hyp_len = 97523 ref_len = 111811)\n",
            "2022-04-03 09:53:26 | INFO | hw5.seq2seq | saved epoch checkpoint: /home/spiderkiller/ML2022/hw5_machine_translation/checkpoints/rnn/checkpoint281.pt\n",
            "2022-04-03 09:53:26 | INFO | hw5.seq2seq | end of epoch 281\n"
          ]
        },
        {
          "data": {
            "application/vnd.jupyter.widget-view+json": {
              "model_id": "8d0822e8c3fb40c99e8b97333caeb169",
              "version_major": 2,
              "version_minor": 0
            },
            "text/plain": [
              "train epoch 282:   0%|          | 0/791 [00:00<?, ?it/s]"
            ]
          },
          "metadata": {},
          "output_type": "display_data"
        },
        {
          "name": "stdout",
          "output_type": "stream",
          "text": [
            "2022-04-03 09:54:51 | INFO | hw5.seq2seq | training loss: 4.2165\n",
            "2022-04-03 09:54:51 | INFO | hw5.seq2seq | begin validation\n"
          ]
        },
        {
          "data": {
            "application/vnd.jupyter.widget-view+json": {
              "model_id": "f8b416433f904be9b10be30fae9cc65c",
              "version_major": 2,
              "version_minor": 0
            },
            "text/plain": [
              "validation:   0%|          | 0/22 [00:00<?, ?it/s]"
            ]
          },
          "metadata": {},
          "output_type": "display_data"
        },
        {
          "name": "stdout",
          "output_type": "stream",
          "text": [
            "2022-04-03 09:55:18 | INFO | hw5.seq2seq | example source: they sifted all the mountains of data that they had collected to try to work out what allowed the children who'd had a difficult start in life to go on and do well at school nevertheless .\n",
            "2022-04-03 09:55:18 | INFO | hw5.seq2seq | example hypothesis: 他們坐下了所有他們收集的資料 , 試圖找出他們在生活中有困難的孩童 , 除此之外 , 除此之外 , 除此之外 。\n",
            "2022-04-03 09:55:18 | INFO | hw5.seq2seq | example reference: 他們仔細探究了他們收集到的大量資料 , 試圖想要找出是什麼因素讓人生開端很困苦的孩童能繼續走下去並在學校表現出色 。\n",
            "2022-04-03 09:55:18 | INFO | hw5.seq2seq | validation loss:\t4.0623\n",
            "2022-04-03 09:55:18 | INFO | hw5.seq2seq | BLEU = 17.46 52.0/26.6/14.4/8.2 (BP = 0.868 ratio = 0.876 hyp_len = 97971 ref_len = 111811)\n",
            "2022-04-03 09:55:18 | INFO | hw5.seq2seq | saved epoch checkpoint: /home/spiderkiller/ML2022/hw5_machine_translation/checkpoints/rnn/checkpoint282.pt\n",
            "2022-04-03 09:55:18 | INFO | hw5.seq2seq | end of epoch 282\n"
          ]
        },
        {
          "data": {
            "application/vnd.jupyter.widget-view+json": {
              "model_id": "51c6086d07d9449a8cd14d506a28b325",
              "version_major": 2,
              "version_minor": 0
            },
            "text/plain": [
              "train epoch 283:   0%|          | 0/791 [00:00<?, ?it/s]"
            ]
          },
          "metadata": {},
          "output_type": "display_data"
        },
        {
          "name": "stdout",
          "output_type": "stream",
          "text": [
            "2022-04-03 09:56:43 | INFO | hw5.seq2seq | training loss: 4.2160\n",
            "2022-04-03 09:56:43 | INFO | hw5.seq2seq | begin validation\n"
          ]
        },
        {
          "data": {
            "application/vnd.jupyter.widget-view+json": {
              "model_id": "f743f33f280c4fcdaaa4a8e6994b52fa",
              "version_major": 2,
              "version_minor": 0
            },
            "text/plain": [
              "validation:   0%|          | 0/22 [00:00<?, ?it/s]"
            ]
          },
          "metadata": {},
          "output_type": "display_data"
        },
        {
          "name": "stdout",
          "output_type": "stream",
          "text": [
            "2022-04-03 09:57:10 | INFO | hw5.seq2seq | example source: and then , out of the blue , for the first time in my entire career , a male fitness magazine called me , and they said they wanted to honor me as one of their gamechangers .\n",
            "2022-04-03 09:57:10 | INFO | hw5.seq2seq | example hypothesis: 接著 , 在我整個職涯中 , 第一次在我整個職涯中第一次 , 他們說他們想要榮耀我 , 他們說他們想要榮耀我成為他們的遊戲交換者之一 。\n",
            "2022-04-03 09:57:10 | INFO | hw5.seq2seq | example reference: 突然間 , 在我職涯中頭一次 , 一本男性健身雜誌打電話給我 , 他們想給我一項榮耀 , 選我為他們的遊戲規則顛覆者之一 。\n",
            "2022-04-03 09:57:10 | INFO | hw5.seq2seq | validation loss:\t4.0569\n",
            "2022-04-03 09:57:10 | INFO | hw5.seq2seq | BLEU = 17.48 51.7/26.4/14.3/8.1 (BP = 0.877 ratio = 0.884 hyp_len = 98856 ref_len = 111811)\n",
            "2022-04-03 09:57:10 | INFO | hw5.seq2seq | saved epoch checkpoint: /home/spiderkiller/ML2022/hw5_machine_translation/checkpoints/rnn/checkpoint283.pt\n",
            "2022-04-03 09:57:10 | INFO | hw5.seq2seq | end of epoch 283\n"
          ]
        },
        {
          "data": {
            "application/vnd.jupyter.widget-view+json": {
              "model_id": "669f893a09ae4ec8a2830f49dd437574",
              "version_major": 2,
              "version_minor": 0
            },
            "text/plain": [
              "train epoch 284:   0%|          | 0/791 [00:00<?, ?it/s]"
            ]
          },
          "metadata": {},
          "output_type": "display_data"
        },
        {
          "name": "stdout",
          "output_type": "stream",
          "text": [
            "2022-04-03 09:58:37 | INFO | hw5.seq2seq | training loss: 4.2180\n",
            "2022-04-03 09:58:37 | INFO | hw5.seq2seq | begin validation\n"
          ]
        },
        {
          "data": {
            "application/vnd.jupyter.widget-view+json": {
              "model_id": "8afd531276df471f887f94662474c3c0",
              "version_major": 2,
              "version_minor": 0
            },
            "text/plain": [
              "validation:   0%|          | 0/22 [00:00<?, ?it/s]"
            ]
          },
          "metadata": {},
          "output_type": "display_data"
        },
        {
          "name": "stdout",
          "output_type": "stream",
          "text": [
            "2022-04-03 09:59:01 | INFO | hw5.seq2seq | example source: and it's within that song that we will all rediscover the possibility of being what we are: a fully conscious species , fully aware of ensuring that all peoples and all gardens find a way to flourish . and there are great moments of optimism .\n",
            "2022-04-03 09:59:01 | INFO | hw5.seq2seq | example hypothesis: 在那個歌曲中 , 我們都會重新發現我們所看到的是:一個充滿意識的物種 , 充滿意識的物種 , 充滿意識的物種 , 所有花園都找到一種方法 。\n",
            "2022-04-03 09:59:01 | INFO | hw5.seq2seq | example reference: 在這個歌聲中我們將會重新發現作為人類的別種可能:一個有完全意識的物種充分認識到我們必須保證所有種族和生物都是昌盛繁榮對生活充滿樂觀的\n",
            "2022-04-03 09:59:01 | INFO | hw5.seq2seq | validation loss:\t4.0609\n",
            "2022-04-03 09:59:01 | INFO | hw5.seq2seq | BLEU = 17.51 52.2/26.8/14.5/8.3 (BP = 0.866 ratio = 0.874 hyp_len = 97714 ref_len = 111811)\n",
            "2022-04-03 09:59:01 | INFO | hw5.seq2seq | saved epoch checkpoint: /home/spiderkiller/ML2022/hw5_machine_translation/checkpoints/rnn/checkpoint284.pt\n",
            "2022-04-03 09:59:01 | INFO | hw5.seq2seq | end of epoch 284\n"
          ]
        },
        {
          "data": {
            "application/vnd.jupyter.widget-view+json": {
              "model_id": "4732cfc6b3a14fab94680be0468f87f7",
              "version_major": 2,
              "version_minor": 0
            },
            "text/plain": [
              "train epoch 285:   0%|          | 0/791 [00:00<?, ?it/s]"
            ]
          },
          "metadata": {},
          "output_type": "display_data"
        },
        {
          "name": "stdout",
          "output_type": "stream",
          "text": [
            "2022-04-03 10:00:26 | INFO | hw5.seq2seq | training loss: 4.2167\n",
            "2022-04-03 10:00:26 | INFO | hw5.seq2seq | begin validation\n"
          ]
        },
        {
          "data": {
            "application/vnd.jupyter.widget-view+json": {
              "model_id": "7ab1cdcb7af64658b5edb94678c19d49",
              "version_major": 2,
              "version_minor": 0
            },
            "text/plain": [
              "validation:   0%|          | 0/22 [00:00<?, ?it/s]"
            ]
          },
          "metadata": {},
          "output_type": "display_data"
        },
        {
          "name": "stdout",
          "output_type": "stream",
          "text": [
            "2022-04-03 10:00:52 | INFO | hw5.seq2seq | example source: they are highly unpredictable .\n",
            "2022-04-03 10:00:52 | INFO | hw5.seq2seq | example hypothesis: 他們很不可思議 。\n",
            "2022-04-03 10:00:52 | INFO | hw5.seq2seq | example reference: 它們是高不可預測的 。\n",
            "2022-04-03 10:00:52 | INFO | hw5.seq2seq | validation loss:\t4.0589\n",
            "2022-04-03 10:00:52 | INFO | hw5.seq2seq | BLEU = 17.53 52.4/26.9/14.6/8.3 (BP = 0.862 ratio = 0.871 hyp_len = 97350 ref_len = 111811)\n",
            "2022-04-03 10:00:52 | INFO | hw5.seq2seq | saved epoch checkpoint: /home/spiderkiller/ML2022/hw5_machine_translation/checkpoints/rnn/checkpoint285.pt\n",
            "2022-04-03 10:00:52 | INFO | hw5.seq2seq | end of epoch 285\n"
          ]
        },
        {
          "data": {
            "application/vnd.jupyter.widget-view+json": {
              "model_id": "13be2b0e3a8f462cbd469c7b3ee3ff1c",
              "version_major": 2,
              "version_minor": 0
            },
            "text/plain": [
              "train epoch 286:   0%|          | 0/791 [00:00<?, ?it/s]"
            ]
          },
          "metadata": {},
          "output_type": "display_data"
        },
        {
          "name": "stdout",
          "output_type": "stream",
          "text": [
            "2022-04-03 10:02:18 | INFO | hw5.seq2seq | training loss: 4.2162\n",
            "2022-04-03 10:02:18 | INFO | hw5.seq2seq | begin validation\n"
          ]
        },
        {
          "data": {
            "application/vnd.jupyter.widget-view+json": {
              "model_id": "086935724679473aaa0b926f5bcab7eb",
              "version_major": 2,
              "version_minor": 0
            },
            "text/plain": [
              "validation:   0%|          | 0/22 [00:00<?, ?it/s]"
            ]
          },
          "metadata": {},
          "output_type": "display_data"
        },
        {
          "name": "stdout",
          "output_type": "stream",
          "text": [
            "2022-04-03 10:02:42 | INFO | hw5.seq2seq | example source: i got infected when i was 17 , when , as a student of the design college , i encountered adults who actually believed in my ideas , challenged me and had lots of cups of chai with me .\n",
            "2022-04-03 10:02:42 | INFO | hw5.seq2seq | example hypothesis: 當我十七歲的時候 , 我被感染到設計大學時 , 我遇到了一個成人 , 他們真的相信我的想法 , 挑戰我 , 挑戰我 , 挑戰我 , 挑戰了很多杯子 。\n",
            "2022-04-03 10:02:42 | INFO | hw5.seq2seq | example reference: 我是17歲受到 「 感染 」 的當時我主修設計有些大人很認同我的設計理念還會提出許多疑問、和我邊喝茶邊討論\n",
            "2022-04-03 10:02:42 | INFO | hw5.seq2seq | validation loss:\t4.0612\n",
            "2022-04-03 10:02:42 | INFO | hw5.seq2seq | BLEU = 17.64 52.4/26.9/14.6/8.3 (BP = 0.868 ratio = 0.876 hyp_len = 97904 ref_len = 111811)\n",
            "2022-04-03 10:02:42 | INFO | hw5.seq2seq | saved epoch checkpoint: /home/spiderkiller/ML2022/hw5_machine_translation/checkpoints/rnn/checkpoint286.pt\n",
            "2022-04-03 10:02:42 | INFO | hw5.seq2seq | end of epoch 286\n"
          ]
        },
        {
          "data": {
            "application/vnd.jupyter.widget-view+json": {
              "model_id": "7c9e94103d204c9586c50c5d96fdce17",
              "version_major": 2,
              "version_minor": 0
            },
            "text/plain": [
              "train epoch 287:   0%|          | 0/791 [00:00<?, ?it/s]"
            ]
          },
          "metadata": {},
          "output_type": "display_data"
        },
        {
          "name": "stdout",
          "output_type": "stream",
          "text": [
            "2022-04-03 10:04:08 | INFO | hw5.seq2seq | training loss: 4.2156\n",
            "2022-04-03 10:04:08 | INFO | hw5.seq2seq | begin validation\n"
          ]
        },
        {
          "data": {
            "application/vnd.jupyter.widget-view+json": {
              "model_id": "52708cb1a0ff43629ef2b126e7ad5d29",
              "version_major": 2,
              "version_minor": 0
            },
            "text/plain": [
              "validation:   0%|          | 0/22 [00:00<?, ?it/s]"
            ]
          },
          "metadata": {},
          "output_type": "display_data"
        },
        {
          "name": "stdout",
          "output_type": "stream",
          "text": [
            "2022-04-03 10:04:35 | INFO | hw5.seq2seq | example source: and deutsche bank even said world oil use could peak around 2016 .\n",
            "2022-04-03 10:04:35 | INFO | hw5.seq2seq | example hypothesis: 丹麥銀行甚至說世界石油用到2016年 。\n",
            "2022-04-03 10:04:35 | INFO | hw5.seq2seq | example reference: 德意志銀行甚至表示石油用量會在2016年達到高峰\n",
            "2022-04-03 10:04:35 | INFO | hw5.seq2seq | validation loss:\t4.0627\n",
            "2022-04-03 10:04:35 | INFO | hw5.seq2seq | BLEU = 17.42 52.2/26.7/14.4/8.2 (BP = 0.865 ratio = 0.873 hyp_len = 97664 ref_len = 111811)\n",
            "2022-04-03 10:04:35 | INFO | hw5.seq2seq | saved epoch checkpoint: /home/spiderkiller/ML2022/hw5_machine_translation/checkpoints/rnn/checkpoint287.pt\n",
            "2022-04-03 10:04:35 | INFO | hw5.seq2seq | end of epoch 287\n"
          ]
        },
        {
          "data": {
            "application/vnd.jupyter.widget-view+json": {
              "model_id": "6aff377a17084b809abc81bdca49deb6",
              "version_major": 2,
              "version_minor": 0
            },
            "text/plain": [
              "train epoch 288:   0%|          | 0/791 [00:00<?, ?it/s]"
            ]
          },
          "metadata": {},
          "output_type": "display_data"
        },
        {
          "name": "stdout",
          "output_type": "stream",
          "text": [
            "2022-04-03 10:06:00 | INFO | hw5.seq2seq | training loss: 4.2160\n",
            "2022-04-03 10:06:00 | INFO | hw5.seq2seq | begin validation\n"
          ]
        },
        {
          "data": {
            "application/vnd.jupyter.widget-view+json": {
              "model_id": "24f51af272004de4b62fb97491c36329",
              "version_major": 2,
              "version_minor": 0
            },
            "text/plain": [
              "validation:   0%|          | 0/22 [00:00<?, ?it/s]"
            ]
          },
          "metadata": {},
          "output_type": "display_data"
        },
        {
          "name": "stdout",
          "output_type": "stream",
          "text": [
            "2022-04-03 10:06:24 | INFO | hw5.seq2seq | example source: you know , i'm making a very important argument .\n",
            "2022-04-03 10:06:24 | INFO | hw5.seq2seq | example hypothesis: 你知道 , 我正在做一個非常重要的論點 。\n",
            "2022-04-03 10:06:24 | INFO | hw5.seq2seq | example reference: 你知嗎 ? 我正提出一個很重要的論點 。\n",
            "2022-04-03 10:06:24 | INFO | hw5.seq2seq | validation loss:\t4.0538\n",
            "2022-04-03 10:06:24 | INFO | hw5.seq2seq | BLEU = 17.87 51.4/26.4/14.3/8.1 (BP = 0.897 ratio = 0.902 hyp_len = 100800 ref_len = 111811)\n",
            "2022-04-03 10:06:24 | INFO | hw5.seq2seq | saved epoch checkpoint: /home/spiderkiller/ML2022/hw5_machine_translation/checkpoints/rnn/checkpoint288.pt\n",
            "2022-04-03 10:06:24 | INFO | hw5.seq2seq | end of epoch 288\n"
          ]
        },
        {
          "data": {
            "application/vnd.jupyter.widget-view+json": {
              "model_id": "f2d7578cee9b43e685338c89445e9a37",
              "version_major": 2,
              "version_minor": 0
            },
            "text/plain": [
              "train epoch 289:   0%|          | 0/791 [00:00<?, ?it/s]"
            ]
          },
          "metadata": {},
          "output_type": "display_data"
        },
        {
          "name": "stdout",
          "output_type": "stream",
          "text": [
            "2022-04-03 10:07:49 | INFO | hw5.seq2seq | training loss: 4.2140\n",
            "2022-04-03 10:07:49 | INFO | hw5.seq2seq | begin validation\n"
          ]
        },
        {
          "data": {
            "application/vnd.jupyter.widget-view+json": {
              "model_id": "d146b33c1dd945638788ad1ae04f362b",
              "version_major": 2,
              "version_minor": 0
            },
            "text/plain": [
              "validation:   0%|          | 0/22 [00:00<?, ?it/s]"
            ]
          },
          "metadata": {},
          "output_type": "display_data"
        },
        {
          "name": "stdout",
          "output_type": "stream",
          "text": [
            "2022-04-03 10:08:15 | INFO | hw5.seq2seq | example source: this is what the us congress and the national cancer institute declared just a few years ago , in 2003 .\n",
            "2022-04-03 10:08:15 | INFO | hw5.seq2seq | example hypothesis: 這是美國國會議院和國家癌症機構說的 。\n",
            "2022-04-03 10:08:15 | INFO | hw5.seq2seq | example reference: 這是美國國會和國家癌症協會聲稱的 , 就在幾年前 , 2003年 。\n",
            "2022-04-03 10:08:15 | INFO | hw5.seq2seq | validation loss:\t4.0626\n",
            "2022-04-03 10:08:15 | INFO | hw5.seq2seq | BLEU = 16.98 53.4/27.3/14.8/8.4 (BP = 0.822 ratio = 0.836 hyp_len = 93467 ref_len = 111811)\n",
            "2022-04-03 10:08:15 | INFO | hw5.seq2seq | saved epoch checkpoint: /home/spiderkiller/ML2022/hw5_machine_translation/checkpoints/rnn/checkpoint289.pt\n",
            "2022-04-03 10:08:15 | INFO | hw5.seq2seq | end of epoch 289\n"
          ]
        },
        {
          "data": {
            "application/vnd.jupyter.widget-view+json": {
              "model_id": "7e95f17430e24e40a516dbad267dc252",
              "version_major": 2,
              "version_minor": 0
            },
            "text/plain": [
              "train epoch 290:   0%|          | 0/791 [00:00<?, ?it/s]"
            ]
          },
          "metadata": {},
          "output_type": "display_data"
        },
        {
          "name": "stdout",
          "output_type": "stream",
          "text": [
            "2022-04-03 10:09:41 | INFO | hw5.seq2seq | training loss: 4.2149\n",
            "2022-04-03 10:09:41 | INFO | hw5.seq2seq | begin validation\n"
          ]
        },
        {
          "data": {
            "application/vnd.jupyter.widget-view+json": {
              "model_id": "4abd12c9c3664a04b7b42584fb8241b1",
              "version_major": 2,
              "version_minor": 0
            },
            "text/plain": [
              "validation:   0%|          | 0/22 [00:00<?, ?it/s]"
            ]
          },
          "metadata": {},
          "output_type": "display_data"
        },
        {
          "name": "stdout",
          "output_type": "stream",
          "text": [
            "2022-04-03 10:10:08 | INFO | hw5.seq2seq | example source: and these benefits would be significant .\n",
            "2022-04-03 10:10:08 | INFO | hw5.seq2seq | example hypothesis: 而這些益處將會非常重要 。\n",
            "2022-04-03 10:10:08 | INFO | hw5.seq2seq | example reference: 這些好處很重要 。\n",
            "2022-04-03 10:10:08 | INFO | hw5.seq2seq | validation loss:\t4.0523\n",
            "2022-04-03 10:10:08 | INFO | hw5.seq2seq | BLEU = 17.32 51.8/26.4/14.2/8.0 (BP = 0.873 ratio = 0.880 hyp_len = 98436 ref_len = 111811)\n",
            "2022-04-03 10:10:08 | INFO | hw5.seq2seq | saved epoch checkpoint: /home/spiderkiller/ML2022/hw5_machine_translation/checkpoints/rnn/checkpoint290.pt\n",
            "2022-04-03 10:10:08 | INFO | hw5.seq2seq | end of epoch 290\n"
          ]
        },
        {
          "data": {
            "application/vnd.jupyter.widget-view+json": {
              "model_id": "6b281029f2c149c59aa554a711cf06ce",
              "version_major": 2,
              "version_minor": 0
            },
            "text/plain": [
              "train epoch 291:   0%|          | 0/791 [00:00<?, ?it/s]"
            ]
          },
          "metadata": {},
          "output_type": "display_data"
        },
        {
          "name": "stdout",
          "output_type": "stream",
          "text": [
            "2022-04-03 10:11:35 | INFO | hw5.seq2seq | training loss: 4.2156\n",
            "2022-04-03 10:11:35 | INFO | hw5.seq2seq | begin validation\n"
          ]
        },
        {
          "data": {
            "application/vnd.jupyter.widget-view+json": {
              "model_id": "4f19143b7b9e4b39a63147438d9a4c9b",
              "version_major": 2,
              "version_minor": 0
            },
            "text/plain": [
              "validation:   0%|          | 0/22 [00:00<?, ?it/s]"
            ]
          },
          "metadata": {},
          "output_type": "display_data"
        },
        {
          "name": "stdout",
          "output_type": "stream",
          "text": [
            "2022-04-03 10:12:01 | INFO | hw5.seq2seq | example source: we add our values when it comes to women's health , lgbt health , alternative medicine , preventive health , and endoflife decisions .\n",
            "2022-04-03 10:12:01 | INFO | hw5.seq2seq | example hypothesis: 我們把價值加入女性健康、lgbt健康、gbt健康、algbt健康、終結決策 。\n",
            "2022-04-03 10:12:01 | INFO | hw5.seq2seq | example reference: 我們在談到婦女健康、非異性戀者的健康、另類醫療、預防保健和臨終決定時會提出自己的價值觀 。\n",
            "2022-04-03 10:12:01 | INFO | hw5.seq2seq | validation loss:\t4.0553\n",
            "2022-04-03 10:12:01 | INFO | hw5.seq2seq | BLEU = 17.50 51.7/26.4/14.3/8.1 (BP = 0.878 ratio = 0.884 hyp_len = 98891 ref_len = 111811)\n",
            "2022-04-03 10:12:01 | INFO | hw5.seq2seq | saved epoch checkpoint: /home/spiderkiller/ML2022/hw5_machine_translation/checkpoints/rnn/checkpoint291.pt\n",
            "2022-04-03 10:12:01 | INFO | hw5.seq2seq | end of epoch 291\n"
          ]
        },
        {
          "data": {
            "application/vnd.jupyter.widget-view+json": {
              "model_id": "1c659066af12409387933af01556c164",
              "version_major": 2,
              "version_minor": 0
            },
            "text/plain": [
              "train epoch 292:   0%|          | 0/791 [00:00<?, ?it/s]"
            ]
          },
          "metadata": {},
          "output_type": "display_data"
        },
        {
          "name": "stdout",
          "output_type": "stream",
          "text": [
            "2022-04-03 10:13:28 | INFO | hw5.seq2seq | training loss: 4.2153\n",
            "2022-04-03 10:13:28 | INFO | hw5.seq2seq | begin validation\n"
          ]
        },
        {
          "data": {
            "application/vnd.jupyter.widget-view+json": {
              "model_id": "581cd3c1611047e78c9f05708ad7321e",
              "version_major": 2,
              "version_minor": 0
            },
            "text/plain": [
              "validation:   0%|          | 0/22 [00:00<?, ?it/s]"
            ]
          },
          "metadata": {},
          "output_type": "display_data"
        },
        {
          "name": "stdout",
          "output_type": "stream",
          "text": [
            "2022-04-03 10:13:53 | INFO | hw5.seq2seq | example source: a victim or eyewitness identifies a suspected perpetrator through law enforcement's use of images .\n",
            "2022-04-03 10:13:53 | INFO | hw5.seq2seq | example hypothesis: 受害者或眼睛目睹受害者 , 透過執法執法執行者的使用 。\n",
            "2022-04-03 10:13:53 | INFO | hw5.seq2seq | example reference: 受害人、目擊證人指認出犯罪嫌疑人執法機關利用影像協助\n",
            "2022-04-03 10:13:53 | INFO | hw5.seq2seq | validation loss:\t4.0492\n",
            "2022-04-03 10:13:53 | INFO | hw5.seq2seq | BLEU = 17.49 51.9/26.5/14.4/8.2 (BP = 0.869 ratio = 0.877 hyp_len = 98073 ref_len = 111811)\n",
            "2022-04-03 10:13:53 | INFO | hw5.seq2seq | saved epoch checkpoint: /home/spiderkiller/ML2022/hw5_machine_translation/checkpoints/rnn/checkpoint292.pt\n",
            "2022-04-03 10:13:53 | INFO | hw5.seq2seq | end of epoch 292\n"
          ]
        },
        {
          "data": {
            "application/vnd.jupyter.widget-view+json": {
              "model_id": "f43c3d89b4c14a42a9d4181287a7d4cf",
              "version_major": 2,
              "version_minor": 0
            },
            "text/plain": [
              "train epoch 293:   0%|          | 0/791 [00:00<?, ?it/s]"
            ]
          },
          "metadata": {},
          "output_type": "display_data"
        },
        {
          "name": "stdout",
          "output_type": "stream",
          "text": [
            "2022-04-03 10:15:20 | INFO | hw5.seq2seq | training loss: 4.2144\n",
            "2022-04-03 10:15:20 | INFO | hw5.seq2seq | begin validation\n"
          ]
        },
        {
          "data": {
            "application/vnd.jupyter.widget-view+json": {
              "model_id": "26d5c07c865342dbac42cdd538b675a0",
              "version_major": 2,
              "version_minor": 0
            },
            "text/plain": [
              "validation:   0%|          | 0/22 [00:00<?, ?it/s]"
            ]
          },
          "metadata": {},
          "output_type": "display_data"
        },
        {
          "name": "stdout",
          "output_type": "stream",
          "text": [
            "2022-04-03 10:15:47 | INFO | hw5.seq2seq | example source: now , something else happened .\n",
            "2022-04-03 10:15:47 | INFO | hw5.seq2seq | example hypothesis: 現在 , 其他事情發生了 。\n",
            "2022-04-03 10:15:47 | INFO | hw5.seq2seq | example reference: 現在情況發生了變化 。\n",
            "2022-04-03 10:15:47 | INFO | hw5.seq2seq | validation loss:\t4.0585\n",
            "2022-04-03 10:15:47 | INFO | hw5.seq2seq | BLEU = 17.15 52.9/27.2/14.8/8.4 (BP = 0.834 ratio = 0.846 hyp_len = 94622 ref_len = 111811)\n",
            "2022-04-03 10:15:47 | INFO | hw5.seq2seq | saved epoch checkpoint: /home/spiderkiller/ML2022/hw5_machine_translation/checkpoints/rnn/checkpoint293.pt\n",
            "2022-04-03 10:15:47 | INFO | hw5.seq2seq | end of epoch 293\n"
          ]
        },
        {
          "data": {
            "application/vnd.jupyter.widget-view+json": {
              "model_id": "7e434b5b9a14420182409a9a9b50a358",
              "version_major": 2,
              "version_minor": 0
            },
            "text/plain": [
              "train epoch 294:   0%|          | 0/791 [00:00<?, ?it/s]"
            ]
          },
          "metadata": {},
          "output_type": "display_data"
        },
        {
          "name": "stdout",
          "output_type": "stream",
          "text": [
            "2022-04-03 10:17:16 | INFO | hw5.seq2seq | training loss: 4.2139\n",
            "2022-04-03 10:17:16 | INFO | hw5.seq2seq | begin validation\n"
          ]
        },
        {
          "data": {
            "application/vnd.jupyter.widget-view+json": {
              "model_id": "97e66be6b57b4eceaec3d9399cebf657",
              "version_major": 2,
              "version_minor": 0
            },
            "text/plain": [
              "validation:   0%|          | 0/22 [00:00<?, ?it/s]"
            ]
          },
          "metadata": {},
          "output_type": "display_data"
        },
        {
          "name": "stdout",
          "output_type": "stream",
          "text": [
            "2022-04-03 10:17:42 | INFO | hw5.seq2seq | example source: how many people are trying to learn english worldwide ?\n",
            "2022-04-03 10:17:42 | INFO | hw5.seq2seq | example hypothesis: 世界上有多少人試著學習英語 ?\n",
            "2022-04-03 10:17:42 | INFO | hw5.seq2seq | example reference: 杰•渥克:全世界有多少人正試著學英文 ?\n",
            "2022-04-03 10:17:42 | INFO | hw5.seq2seq | validation loss:\t4.0561\n",
            "2022-04-03 10:17:42 | INFO | hw5.seq2seq | BLEU = 17.50 52.3/26.8/14.5/8.2 (BP = 0.866 ratio = 0.875 hyp_len = 97785 ref_len = 111811)\n",
            "2022-04-03 10:17:42 | INFO | hw5.seq2seq | saved epoch checkpoint: /home/spiderkiller/ML2022/hw5_machine_translation/checkpoints/rnn/checkpoint294.pt\n",
            "2022-04-03 10:17:42 | INFO | hw5.seq2seq | end of epoch 294\n"
          ]
        },
        {
          "data": {
            "application/vnd.jupyter.widget-view+json": {
              "model_id": "7590499a981543b88afd59c3b3f806fb",
              "version_major": 2,
              "version_minor": 0
            },
            "text/plain": [
              "train epoch 295:   0%|          | 0/791 [00:00<?, ?it/s]"
            ]
          },
          "metadata": {},
          "output_type": "display_data"
        },
        {
          "name": "stdout",
          "output_type": "stream",
          "text": [
            "2022-04-03 10:19:15 | INFO | hw5.seq2seq | training loss: 4.2120\n",
            "2022-04-03 10:19:15 | INFO | hw5.seq2seq | begin validation\n"
          ]
        },
        {
          "data": {
            "application/vnd.jupyter.widget-view+json": {
              "model_id": "296c8f0945f743fdb1cd214ad433d5eb",
              "version_major": 2,
              "version_minor": 0
            },
            "text/plain": [
              "validation:   0%|          | 0/22 [00:00<?, ?it/s]"
            ]
          },
          "metadata": {},
          "output_type": "display_data"
        },
        {
          "name": "stdout",
          "output_type": "stream",
          "text": [
            "2022-04-03 10:19:43 | INFO | hw5.seq2seq | example source: he joined the communist party when black american’s civil rights were one of its priorities , but soon became disillusioned by the party’s authoritarian leanings and left .\n",
            "2022-04-03 10:19:43 | INFO | hw5.seq2seq | example hypothesis: 他加入了社區派對的公民權是當黑人時 , 他很快就變成了權威 , 但很快就變成了權威 。\n",
            "2022-04-03 10:19:43 | INFO | hw5.seq2seq | example reference: 當共產黨將美國黑人民權列為其優先事項之一時 , 他加入過共產黨 。 但很快就因共黨的專制傾而幻想破滅 , 脫離了他們 。\n",
            "2022-04-03 10:19:43 | INFO | hw5.seq2seq | validation loss:\t4.0571\n",
            "2022-04-03 10:19:43 | INFO | hw5.seq2seq | BLEU = 17.71 52.1/26.7/14.5/8.2 (BP = 0.878 ratio = 0.885 hyp_len = 98957 ref_len = 111811)\n",
            "2022-04-03 10:19:43 | INFO | hw5.seq2seq | saved epoch checkpoint: /home/spiderkiller/ML2022/hw5_machine_translation/checkpoints/rnn/checkpoint295.pt\n",
            "2022-04-03 10:19:43 | INFO | hw5.seq2seq | end of epoch 295\n"
          ]
        },
        {
          "data": {
            "application/vnd.jupyter.widget-view+json": {
              "model_id": "e1c335fa5bb44514b942be4f875eade3",
              "version_major": 2,
              "version_minor": 0
            },
            "text/plain": [
              "train epoch 296:   0%|          | 0/791 [00:00<?, ?it/s]"
            ]
          },
          "metadata": {},
          "output_type": "display_data"
        },
        {
          "name": "stdout",
          "output_type": "stream",
          "text": [
            "2022-04-03 10:21:08 | INFO | hw5.seq2seq | training loss: 4.2145\n",
            "2022-04-03 10:21:08 | INFO | hw5.seq2seq | begin validation\n"
          ]
        },
        {
          "data": {
            "application/vnd.jupyter.widget-view+json": {
              "model_id": "fed4904127fa434c8c77bed3f0f46597",
              "version_major": 2,
              "version_minor": 0
            },
            "text/plain": [
              "validation:   0%|          | 0/22 [00:00<?, ?it/s]"
            ]
          },
          "metadata": {},
          "output_type": "display_data"
        },
        {
          "name": "stdout",
          "output_type": "stream",
          "text": [
            "2022-04-03 10:21:32 | INFO | hw5.seq2seq | example source: another really surprising part of this picture is that it's not just the poor who are affected by inequality .\n",
            "2022-04-03 10:21:32 | INFO | hw5.seq2seq | example hypothesis: 另外一個真的令人驚訝的是 , 不僅僅是窮人受到不平等影響的窮人 。\n",
            "2022-04-03 10:21:32 | INFO | hw5.seq2seq | example reference: 在下一張圖中 , 我們會看到另一項驚人的事實 , 那就是 , 不是只有窮人才會受到經濟失衡影響 。\n",
            "2022-04-03 10:21:32 | INFO | hw5.seq2seq | validation loss:\t4.0546\n",
            "2022-04-03 10:21:32 | INFO | hw5.seq2seq | BLEU = 17.88 51.2/26.1/14.1/8.0 (BP = 0.906 ratio = 0.910 hyp_len = 101778 ref_len = 111811)\n",
            "2022-04-03 10:21:32 | INFO | hw5.seq2seq | saved epoch checkpoint: /home/spiderkiller/ML2022/hw5_machine_translation/checkpoints/rnn/checkpoint296.pt\n",
            "2022-04-03 10:21:32 | INFO | hw5.seq2seq | end of epoch 296\n"
          ]
        },
        {
          "data": {
            "application/vnd.jupyter.widget-view+json": {
              "model_id": "8db07c28c42e40a68a9d5ae3afea71a3",
              "version_major": 2,
              "version_minor": 0
            },
            "text/plain": [
              "train epoch 297:   0%|          | 0/791 [00:00<?, ?it/s]"
            ]
          },
          "metadata": {},
          "output_type": "display_data"
        },
        {
          "name": "stdout",
          "output_type": "stream",
          "text": [
            "2022-04-03 10:22:58 | INFO | hw5.seq2seq | training loss: 4.2127\n",
            "2022-04-03 10:22:58 | INFO | hw5.seq2seq | begin validation\n"
          ]
        },
        {
          "data": {
            "application/vnd.jupyter.widget-view+json": {
              "model_id": "a30496ed15114131be67c173190a5d7d",
              "version_major": 2,
              "version_minor": 0
            },
            "text/plain": [
              "validation:   0%|          | 0/22 [00:00<?, ?it/s]"
            ]
          },
          "metadata": {},
          "output_type": "display_data"
        },
        {
          "name": "stdout",
          "output_type": "stream",
          "text": [
            "2022-04-03 10:23:23 | INFO | hw5.seq2seq | example source: virtual reality seemed like a lowcost way of increasing access .\n",
            "2022-04-03 10:23:23 | INFO | hw5.seq2seq | example hypothesis: 虛擬現實看起來就像是低收入的低成本 。\n",
            "2022-04-03 10:23:23 | INFO | hw5.seq2seq | example reference: 若要增加可取得性 , 虛擬實境似乎是一種低成本的方式 。\n",
            "2022-04-03 10:23:23 | INFO | hw5.seq2seq | validation loss:\t4.0557\n",
            "2022-04-03 10:23:23 | INFO | hw5.seq2seq | BLEU = 17.42 52.3/26.7/14.5/8.2 (BP = 0.862 ratio = 0.871 hyp_len = 97401 ref_len = 111811)\n",
            "2022-04-03 10:23:23 | INFO | hw5.seq2seq | saved epoch checkpoint: /home/spiderkiller/ML2022/hw5_machine_translation/checkpoints/rnn/checkpoint297.pt\n",
            "2022-04-03 10:23:23 | INFO | hw5.seq2seq | end of epoch 297\n"
          ]
        },
        {
          "data": {
            "application/vnd.jupyter.widget-view+json": {
              "model_id": "8a63a1c1f33f4db2b1300f5fb0f784b2",
              "version_major": 2,
              "version_minor": 0
            },
            "text/plain": [
              "train epoch 298:   0%|          | 0/791 [00:00<?, ?it/s]"
            ]
          },
          "metadata": {},
          "output_type": "display_data"
        },
        {
          "name": "stdout",
          "output_type": "stream",
          "text": [
            "2022-04-03 10:24:49 | INFO | hw5.seq2seq | training loss: 4.2143\n",
            "2022-04-03 10:24:49 | INFO | hw5.seq2seq | begin validation\n"
          ]
        },
        {
          "data": {
            "application/vnd.jupyter.widget-view+json": {
              "model_id": "6dd3ddde736e4b6399f870352eff1b9d",
              "version_major": 2,
              "version_minor": 0
            },
            "text/plain": [
              "validation:   0%|          | 0/22 [00:00<?, ?it/s]"
            ]
          },
          "metadata": {},
          "output_type": "display_data"
        },
        {
          "name": "stdout",
          "output_type": "stream",
          "text": [
            "2022-04-03 10:25:15 | INFO | hw5.seq2seq | example source: \" please , help me .\n",
            "2022-04-03 10:25:15 | INFO | hw5.seq2seq | example hypothesis: 「 拜託 , 幫助我 。 」\n",
            "2022-04-03 10:25:15 | INFO | hw5.seq2seq | example reference: 「 請幫幫我 ,\n",
            "2022-04-03 10:25:15 | INFO | hw5.seq2seq | validation loss:\t4.0602\n",
            "2022-04-03 10:25:15 | INFO | hw5.seq2seq | BLEU = 17.25 52.7/27.0/14.6/8.3 (BP = 0.846 ratio = 0.857 hyp_len = 95836 ref_len = 111811)\n",
            "2022-04-03 10:25:15 | INFO | hw5.seq2seq | saved epoch checkpoint: /home/spiderkiller/ML2022/hw5_machine_translation/checkpoints/rnn/checkpoint298.pt\n",
            "2022-04-03 10:25:15 | INFO | hw5.seq2seq | end of epoch 298\n"
          ]
        },
        {
          "data": {
            "application/vnd.jupyter.widget-view+json": {
              "model_id": "6a18149e01504672a6ed41c00fcbe732",
              "version_major": 2,
              "version_minor": 0
            },
            "text/plain": [
              "train epoch 299:   0%|          | 0/791 [00:00<?, ?it/s]"
            ]
          },
          "metadata": {},
          "output_type": "display_data"
        },
        {
          "name": "stdout",
          "output_type": "stream",
          "text": [
            "2022-04-03 10:26:41 | INFO | hw5.seq2seq | training loss: 4.2137\n",
            "2022-04-03 10:26:41 | INFO | hw5.seq2seq | begin validation\n"
          ]
        },
        {
          "data": {
            "application/vnd.jupyter.widget-view+json": {
              "model_id": "2c12dcef797c4e6ea3f33dac92ec45d2",
              "version_major": 2,
              "version_minor": 0
            },
            "text/plain": [
              "validation:   0%|          | 0/22 [00:00<?, ?it/s]"
            ]
          },
          "metadata": {},
          "output_type": "display_data"
        },
        {
          "name": "stdout",
          "output_type": "stream",
          "text": [
            "2022-04-03 10:27:08 | INFO | hw5.seq2seq | example source: so our collective curiosity went into overdrive .\n",
            "2022-04-03 10:27:08 | INFO | hw5.seq2seq | example hypothesis: 所以我們的集體好奇心 ,\n",
            "2022-04-03 10:27:08 | INFO | hw5.seq2seq | example reference: 我們共同的好奇心促使我們加倍努力 。\n",
            "2022-04-03 10:27:08 | INFO | hw5.seq2seq | validation loss:\t4.0487\n",
            "2022-04-03 10:27:08 | INFO | hw5.seq2seq | BLEU = 17.85 51.4/26.3/14.3/8.1 (BP = 0.897 ratio = 0.902 hyp_len = 100880 ref_len = 111811)\n",
            "2022-04-03 10:27:08 | INFO | hw5.seq2seq | saved epoch checkpoint: /home/spiderkiller/ML2022/hw5_machine_translation/checkpoints/rnn/checkpoint299.pt\n",
            "2022-04-03 10:27:08 | INFO | hw5.seq2seq | end of epoch 299\n"
          ]
        },
        {
          "data": {
            "application/vnd.jupyter.widget-view+json": {
              "model_id": "b424fa84d38c4c0585841c283b834cf2",
              "version_major": 2,
              "version_minor": 0
            },
            "text/plain": [
              "train epoch 300:   0%|          | 0/791 [00:00<?, ?it/s]"
            ]
          },
          "metadata": {},
          "output_type": "display_data"
        },
        {
          "name": "stdout",
          "output_type": "stream",
          "text": [
            "2022-04-03 10:28:34 | INFO | hw5.seq2seq | training loss: 4.2134\n",
            "2022-04-03 10:28:34 | INFO | hw5.seq2seq | begin validation\n"
          ]
        },
        {
          "data": {
            "application/vnd.jupyter.widget-view+json": {
              "model_id": "a7159a1f010045c2bd7466c2b808140e",
              "version_major": 2,
              "version_minor": 0
            },
            "text/plain": [
              "validation:   0%|          | 0/22 [00:00<?, ?it/s]"
            ]
          },
          "metadata": {},
          "output_type": "display_data"
        },
        {
          "name": "stdout",
          "output_type": "stream",
          "text": [
            "2022-04-03 10:29:00 | INFO | hw5.seq2seq | example source: the woman knows that , in the hadzas' case here digging roots to share with men in exchange for meat she knows that all she has to do to get access to protein is to dig some extra roots and trade them for meat .\n",
            "2022-04-03 10:29:00 | INFO | hw5.seq2seq | example hypothesis: 女士知道 , 在阿茲海岸的案例中 , 與男性交換 , 她知道所有她必須要做蛋白質 , 就是要把蛋白質交換成肉 。\n",
            "2022-04-03 10:29:00 | INFO | hw5.seq2seq | example reference: 在這個哈扎人的例子中 , 這個女人知道要去挖植物根莖 , 以便跟男人換肉品 , 她知道想獲得更多蛋白質食品 , 就必須挖更多的根莖品去跟男人換肉 。\n",
            "2022-04-03 10:29:00 | INFO | hw5.seq2seq | validation loss:\t4.0604\n",
            "2022-04-03 10:29:00 | INFO | hw5.seq2seq | BLEU = 17.39 52.5/26.9/14.6/8.3 (BP = 0.856 ratio = 0.865 hyp_len = 96760 ref_len = 111811)\n",
            "2022-04-03 10:29:00 | INFO | hw5.seq2seq | saved epoch checkpoint: /home/spiderkiller/ML2022/hw5_machine_translation/checkpoints/rnn/checkpoint300.pt\n",
            "2022-04-03 10:29:00 | INFO | hw5.seq2seq | end of epoch 300\n"
          ]
        }
      ],
      "source": [
        "epoch_itr = load_data_iterator(task, \"train\", config.start_epoch, config.max_tokens, config.num_workers)\n",
        "try_load_checkpoint(model, optimizer, name=config.resume)\n",
        "while epoch_itr.next_epoch_idx <= config.max_epoch:\n",
        "    # train for one epoch\n",
        "    train_one_epoch(epoch_itr, model, task, criterion, optimizer, config.accum_steps)\n",
        "    stats = validate_and_save(model, task, criterion, optimizer, epoch=epoch_itr.epoch)\n",
        "    logger.info(\"end of epoch {}\".format(epoch_itr.epoch))    \n",
        "    epoch_itr = load_data_iterator(task, \"train\", epoch_itr.next_epoch_idx, config.max_tokens, config.num_workers)"
      ]
    },
    {
      "cell_type": "markdown",
      "metadata": {
        "id": "KyjRwllxPjtf"
      },
      "source": [
        "# Submission"
      ]
    },
    {
      "cell_type": "code",
      "execution_count": 138,
      "metadata": {
        "id": "N70Gc6smPi1d"
      },
      "outputs": [
        {
          "name": "stdout",
          "output_type": "stream",
          "text": [
            "Namespace(checkpoint_upper_bound=None, inputs=['./checkpoints/rnn'], num_epoch_checkpoints=5, num_update_checkpoints=None, output='./checkpoints/rnn/avg_last_5_checkpoint.pt')\n",
            "averaging checkpoints:  ['./checkpoints/rnn/checkpoint300.pt', './checkpoints/rnn/checkpoint299.pt', './checkpoints/rnn/checkpoint298.pt', './checkpoints/rnn/checkpoint297.pt', './checkpoints/rnn/checkpoint296.pt']\n",
            "Finished writing averaged checkpoint to ./checkpoints/rnn/avg_last_5_checkpoint.pt\n"
          ]
        }
      ],
      "source": [
        "# averaging a few checkpoints can have a similar effect to ensemble\n",
        "checkdir=config.savedir\n",
        "!python ./fairseq/scripts/average_checkpoints.py \\\n",
        "--inputs {checkdir} \\\n",
        "--num-epoch-checkpoints 5 \\\n",
        "--output {checkdir}/avg_last_5_checkpoint.pt"
      ]
    },
    {
      "cell_type": "markdown",
      "metadata": {
        "id": "BAGMiun8PnZy"
      },
      "source": [
        "## Confirm model weights used to generate submission"
      ]
    },
    {
      "cell_type": "code",
      "execution_count": 139,
      "metadata": {
        "id": "tvRdivVUPnsU"
      },
      "outputs": [
        {
          "name": "stdout",
          "output_type": "stream",
          "text": [
            "2022-04-03 10:29:02 | INFO | hw5.seq2seq | loaded checkpoint checkpoints/rnn/avg_last_5_checkpoint.pt: step=unknown loss=4.060352325439453 bleu=17.392919789231534\n",
            "2022-04-03 10:29:02 | INFO | hw5.seq2seq | begin validation\n"
          ]
        },
        {
          "data": {
            "application/vnd.jupyter.widget-view+json": {
              "model_id": "0e01295cd9e84633adbc84eb6381c62e",
              "version_major": 2,
              "version_minor": 0
            },
            "text/plain": [
              "validation:   0%|          | 0/22 [00:00<?, ?it/s]"
            ]
          },
          "metadata": {},
          "output_type": "display_data"
        },
        {
          "name": "stdout",
          "output_type": "stream",
          "text": [
            "2022-04-03 10:29:29 | INFO | hw5.seq2seq | example source: and in the movie , he plays a downandout lawyer who's become an ambulance chaser .\n",
            "2022-04-03 10:29:29 | INFO | hw5.seq2seq | example hypothesis: 在電影裡 , 他在電影中扮演了律師 , 他扮演了救護車 。\n",
            "2022-04-03 10:29:29 | INFO | hw5.seq2seq | example reference: 在這部電影裡 , 保羅紐曼飾演一個落魄的律師一個專攬車禍官司的律師\n",
            "2022-04-03 10:29:29 | INFO | hw5.seq2seq | validation loss:\t4.0499\n",
            "2022-04-03 10:29:29 | INFO | hw5.seq2seq | BLEU = 17.65 52.0/26.6/14.4/8.2 (BP = 0.877 ratio = 0.884 hyp_len = 98805 ref_len = 111811)\n"
          ]
        }
      ],
      "source": [
        "# checkpoint_last.pt : latest epoch\n",
        "# checkpoint_best.pt : highest validation bleu\n",
        "# avg_last_5_checkpoint.pt:　the average of last 5 epochs\n",
        "try_load_checkpoint(model, name=\"avg_last_5_checkpoint.pt\")\n",
        "validate(model, task, criterion, log_to_wandb=False)\n",
        "None"
      ]
    },
    {
      "cell_type": "markdown",
      "metadata": {
        "id": "ioAIflXpPsxt"
      },
      "source": [
        "## Generate Prediction"
      ]
    },
    {
      "cell_type": "code",
      "execution_count": 140,
      "metadata": {
        "id": "oYMxA8FlPtIq"
      },
      "outputs": [],
      "source": [
        "def generate_prediction(model, task, split=\"test\", outfile=\"./prediction.txt\"):    \n",
        "    task.load_dataset(split=split, epoch=1)\n",
        "    itr = load_data_iterator(task, split, 1, config.max_tokens, config.num_workers).next_epoch_itr(shuffle=False)\n",
        "    \n",
        "    idxs = []\n",
        "    hyps = []\n",
        "\n",
        "    model.eval()\n",
        "    progress = tqdm.tqdm(itr, desc=f\"prediction\")\n",
        "    with torch.no_grad():\n",
        "        for i, sample in enumerate(progress):\n",
        "            # validation loss\n",
        "            sample = utils.move_to_cuda(sample, device=device)\n",
        "\n",
        "            # do inference\n",
        "            s, h, r = inference_step(sample, model)\n",
        "            \n",
        "            hyps.extend(h)\n",
        "            idxs.extend(list(sample['id']))\n",
        "            \n",
        "    # sort based on the order before preprocess\n",
        "    hyps = [x for _,x in sorted(zip(idxs,hyps))]\n",
        "    \n",
        "    with open(outfile, \"w\") as f:\n",
        "        for h in hyps:\n",
        "            f.write(h+\"\\n\")"
      ]
    },
    {
      "cell_type": "code",
      "execution_count": 141,
      "metadata": {
        "id": "Le4RFWXxjmm0"
      },
      "outputs": [
        {
          "name": "stdout",
          "output_type": "stream",
          "text": [
            "2022-04-03 10:29:29 | INFO | fairseq.data.data_utils | loaded 4,000 examples from: ./DATA/data-bin/ted2020/test.en-zh.en\n",
            "2022-04-03 10:29:29 | INFO | fairseq.data.data_utils | loaded 4,000 examples from: ./DATA/data-bin/ted2020/test.en-zh.zh\n",
            "2022-04-03 10:29:29 | INFO | fairseq.tasks.translation | ./DATA/data-bin/ted2020 test en-zh 4000 examples\n"
          ]
        },
        {
          "data": {
            "application/vnd.jupyter.widget-view+json": {
              "model_id": "63185d5e9e724d9a8a86ecbbd896373a",
              "version_major": 2,
              "version_minor": 0
            },
            "text/plain": [
              "prediction:   0%|          | 0/17 [00:00<?, ?it/s]"
            ]
          },
          "metadata": {},
          "output_type": "display_data"
        }
      ],
      "source": [
        "generate_prediction(model, task)"
      ]
    },
    {
      "cell_type": "code",
      "execution_count": 142,
      "metadata": {
        "id": "wvenyi6BPwnD"
      },
      "outputs": [
        {
          "ename": "RuntimeError",
          "evalue": "No active exception to reraise",
          "output_type": "error",
          "traceback": [
            "\u001b[0;31m---------------------------------------------------------------------------\u001b[0m",
            "\u001b[0;31mRuntimeError\u001b[0m                              Traceback (most recent call last)",
            "\u001b[0;32m/tmp/ipykernel_9571/2235509928.py\u001b[0m in \u001b[0;36m<module>\u001b[0;34m\u001b[0m\n\u001b[0;32m----> 1\u001b[0;31m \u001b[0;32mraise\u001b[0m\u001b[0;34m\u001b[0m\u001b[0;34m\u001b[0m\u001b[0m\n\u001b[0m",
            "\u001b[0;31mRuntimeError\u001b[0m: No active exception to reraise"
          ]
        }
      ],
      "source": [
        "raise"
      ]
    },
    {
      "cell_type": "markdown",
      "metadata": {
        "id": "1z0cJE-wPzaU"
      },
      "source": [
        "# Back-translation"
      ]
    },
    {
      "cell_type": "markdown",
      "metadata": {
        "id": "5-7uPJ2CP0sm"
      },
      "source": [
        "## Train a backward translation model"
      ]
    },
    {
      "cell_type": "markdown",
      "metadata": {
        "id": "ppGHjg2ZP3sV"
      },
      "source": [
        "1. Switch the source_lang and target_lang in **config** \n",
        "2. Change the savedir in **config** (eg. \"./checkpoints/transformer-back\")\n",
        "3. Train model"
      ]
    },
    {
      "cell_type": "markdown",
      "metadata": {
        "id": "waTGz29UP6WI"
      },
      "source": [
        "## Generate synthetic data with backward model "
      ]
    },
    {
      "cell_type": "markdown",
      "metadata": {
        "id": "sIeTsPexP8FL"
      },
      "source": [
        "### Download monolingual data"
      ]
    },
    {
      "cell_type": "code",
      "execution_count": null,
      "metadata": {
        "id": "i7N4QlsbP8fh"
      },
      "outputs": [],
      "source": [
        "mono_dataset_name = 'mono'"
      ]
    },
    {
      "cell_type": "code",
      "execution_count": null,
      "metadata": {
        "id": "396saD9-QBPY"
      },
      "outputs": [],
      "source": [
        "mono_prefix = Path(data_dir).absolute() / mono_dataset_name\n",
        "mono_prefix.mkdir(parents=True, exist_ok=True)\n",
        "\n",
        "urls = (\n",
        "    \"https://github.com/yuhsinchan/ML2022-HW5Dataset/releases/download/v1.0.2/ted_zh_corpus.deduped.gz\",\n",
        ")\n",
        "file_names = (\n",
        "    'ted_zh_corpus.deduped.gz',\n",
        ")\n",
        "\n",
        "for u, f in zip(urls, file_names):\n",
        "    path = mono_prefix/f\n",
        "    if not path.exists():\n",
        "        !wget {u} -O {path}\n",
        "    else:\n",
        "        print(f'{f} is exist, skip downloading')\n",
        "    if path.suffix == \".tgz\":\n",
        "        !tar -xvf {path} -C {prefix}\n",
        "    elif path.suffix == \".zip\":\n",
        "        !unzip -o {path} -d {prefix}\n",
        "    elif path.suffix == \".gz\":\n",
        "        !gzip -fkd {path}"
      ]
    },
    {
      "cell_type": "markdown",
      "metadata": {
        "id": "JOVQRHzGQU4-"
      },
      "source": [
        "### TODO: clean corpus\n",
        "\n",
        "1. remove sentences that are too long or too short\n",
        "2. unify punctuation\n",
        "\n",
        "hint: you can use clean_s() defined above to do this"
      ]
    },
    {
      "cell_type": "code",
      "execution_count": null,
      "metadata": {
        "id": "eIYmxfUOQSov"
      },
      "outputs": [],
      "source": []
    },
    {
      "cell_type": "markdown",
      "metadata": {
        "id": "jegH0bvMQVmR"
      },
      "source": [
        "### TODO: Subword Units\n",
        "\n",
        "Use the spm model of the backward model to tokenize the data into subword units\n",
        "\n",
        "hint: spm model is located at DATA/raw-data/\\[dataset\\]/spm\\[vocab_num\\].model"
      ]
    },
    {
      "cell_type": "code",
      "execution_count": null,
      "metadata": {
        "id": "vqgR4uUMQZGY"
      },
      "outputs": [],
      "source": []
    },
    {
      "cell_type": "markdown",
      "metadata": {
        "id": "a65glBVXQZiE"
      },
      "source": [
        "### Binarize\n",
        "\n",
        "use fairseq to binarize data"
      ]
    },
    {
      "cell_type": "code",
      "execution_count": null,
      "metadata": {
        "id": "b803qA5aQaEu"
      },
      "outputs": [],
      "source": [
        "binpath = Path('./DATA/data-bin', mono_dataset_name)\n",
        "src_dict_file = './DATA/data-bin/ted2020/dict.en.txt'\n",
        "tgt_dict_file = src_dict_file\n",
        "monopref = str(mono_prefix/\"mono.tok\") # whatever filepath you get after applying subword tokenization\n",
        "if binpath.exists():\n",
        "    print(binpath, \"exists, will not overwrite!\")\n",
        "else:\n",
        "    !python -m fairseq_cli.preprocess\\\n",
        "        --source-lang 'zh'\\\n",
        "        --target-lang 'en'\\\n",
        "        --trainpref {monopref}\\\n",
        "        --destdir {binpath}\\\n",
        "        --srcdict {src_dict_file}\\\n",
        "        --tgtdict {tgt_dict_file}\\\n",
        "        --workers 2"
      ]
    },
    {
      "cell_type": "markdown",
      "metadata": {
        "id": "smA0JraEQdxz"
      },
      "source": [
        "### TODO: Generate synthetic data with backward model\n",
        "\n",
        "Add binarized monolingual data to the original data directory, and name it with \"split_name\"\n",
        "\n",
        "ex. ./DATA/data-bin/ted2020/\\[split_name\\].zh-en.\\[\"en\", \"zh\"\\].\\[\"bin\", \"idx\"\\]\n",
        "\n",
        "then you can use 'generate_prediction(model, task, split=\"split_name\")' to generate translation prediction"
      ]
    },
    {
      "cell_type": "code",
      "execution_count": null,
      "metadata": {
        "id": "jvaOVHeoQfkB"
      },
      "outputs": [],
      "source": [
        "# Add binarized monolingual data to the original data directory, and name it with \"split_name\"\n",
        "# ex. ./DATA/data-bin/ted2020/\\[split_name\\].zh-en.\\[\"en\", \"zh\"\\].\\[\"bin\", \"idx\"\\]\n",
        "!cp ./DATA/data-bin/mono/train.zh-en.zh.bin ./DATA/data-bin/ted2020/mono.zh-en.zh.bin\n",
        "!cp ./DATA/data-bin/mono/train.zh-en.zh.idx ./DATA/data-bin/ted2020/mono.zh-en.zh.idx\n",
        "!cp ./DATA/data-bin/mono/train.zh-en.en.bin ./DATA/data-bin/ted2020/mono.zh-en.en.bin\n",
        "!cp ./DATA/data-bin/mono/train.zh-en.en.idx ./DATA/data-bin/ted2020/mono.zh-en.en.idx"
      ]
    },
    {
      "cell_type": "code",
      "execution_count": null,
      "metadata": {
        "id": "fFEkxPu-Qhlc"
      },
      "outputs": [],
      "source": [
        "# hint: do prediction on split='mono' to create prediction_file\n",
        "# generate_prediction( ... ,split=... ,outfile=... )"
      ]
    },
    {
      "cell_type": "markdown",
      "metadata": {
        "id": "Jn4XeawpQjLk"
      },
      "source": [
        "### TODO: Create new dataset\n",
        "\n",
        "1. Combine the prediction data with monolingual data\n",
        "2. Use the original spm model to tokenize data into Subword Units\n",
        "3. Binarize data with fairseq"
      ]
    },
    {
      "cell_type": "code",
      "execution_count": null,
      "metadata": {
        "id": "3R35JTaTQjkm"
      },
      "outputs": [],
      "source": [
        "# Combine prediction_file (.en) and mono.zh (.zh) into a new dataset.\n",
        "# \n",
        "# hint: tokenize prediction_file with the spm model\n",
        "# spm_model.encode(line, out_type=str)\n",
        "# output: ./DATA/rawdata/mono/mono.tok.en & mono.tok.zh\n",
        "#\n",
        "# hint: use fairseq to binarize these two files again\n",
        "# binpath = Path('./DATA/data-bin/synthetic')\n",
        "# src_dict_file = './DATA/data-bin/ted2020/dict.en.txt'\n",
        "# tgt_dict_file = src_dict_file\n",
        "# monopref = ./DATA/rawdata/mono/mono.tok # or whatever path after applying subword tokenization, w/o the suffix (.zh/.en)\n",
        "# if binpath.exists():\n",
        "#     print(binpath, \"exists, will not overwrite!\")\n",
        "# else:\n",
        "#     !python -m fairseq_cli.preprocess\\\n",
        "#         --source-lang 'zh'\\\n",
        "#         --target-lang 'en'\\\n",
        "#         --trainpref {monopref}\\\n",
        "#         --destdir {binpath}\\\n",
        "#         --srcdict {src_dict_file}\\\n",
        "#         --tgtdict {tgt_dict_file}\\\n",
        "#         --workers 2"
      ]
    },
    {
      "cell_type": "code",
      "execution_count": null,
      "metadata": {
        "id": "MSkse1tyQnsR"
      },
      "outputs": [],
      "source": [
        "# create a new dataset from all the files prepared above\n",
        "!cp -r ./DATA/data-bin/ted2020/ ./DATA/data-bin/ted2020_with_mono/\n",
        "\n",
        "!cp ./DATA/data-bin/synthetic/train.zh-en.zh.bin ./DATA/data-bin/ted2020_with_mono/train1.en-zh.zh.bin\n",
        "!cp ./DATA/data-bin/synthetic/train.zh-en.zh.idx ./DATA/data-bin/ted2020_with_mono/train1.en-zh.zh.idx\n",
        "!cp ./DATA/data-bin/synthetic/train.zh-en.en.bin ./DATA/data-bin/ted2020_with_mono/train1.en-zh.en.bin\n",
        "!cp ./DATA/data-bin/synthetic/train.zh-en.en.idx ./DATA/data-bin/ted2020_with_mono/train1.en-zh.en.idx"
      ]
    },
    {
      "cell_type": "markdown",
      "metadata": {
        "id": "YVdxVGO3QrSs"
      },
      "source": [
        "Created new dataset \"ted2020_with_mono\"\n",
        "\n",
        "1. Change the datadir in **config** (\"./DATA/data-bin/ted2020_with_mono\")\n",
        "2. Switch back the source_lang and target_lang in **config** (\"en\", \"zh\")\n",
        "2. Change the savedir in **config** (eg. \"./checkpoints/transformer-bt\")\n",
        "3. Train model"
      ]
    },
    {
      "cell_type": "markdown",
      "metadata": {
        "id": "_CZU2beUQtl3"
      },
      "source": [
        "1. <a name=ott2019fairseq></a>Ott, M., Edunov, S., Baevski, A., Fan, A., Gross, S., Ng, N., ... & Auli, M. (2019, June). fairseq: A Fast, Extensible Toolkit for Sequence Modeling. In Proceedings of the 2019 Conference of the North American Chapter of the Association for Computational Linguistics (Demonstrations) (pp. 48-53).\n",
        "2. <a name=vaswani2017></a>Vaswani, A., Shazeer, N., Parmar, N., Uszkoreit, J., Jones, L., Gomez, A. N., ... & Polosukhin, I. (2017, December). Attention is all you need. In Proceedings of the 31st International Conference on Neural Information Processing Systems (pp. 6000-6010).\n",
        "3. <a name=reimers-2020-multilingual-sentence-bert></a>Reimers, N., & Gurevych, I. (2020, November). Making Monolingual Sentence Embeddings Multilingual Using Knowledge Distillation. In Proceedings of the 2020 Conference on Empirical Methods in Natural Language Processing (EMNLP) (pp. 4512-4525).\n",
        "4. <a name=tiedemann2012parallel></a>Tiedemann, J. (2012, May). Parallel Data, Tools and Interfaces in OPUS. In Lrec (Vol. 2012, pp. 2214-2218).\n",
        "5. <a name=kudo-richardson-2018-sentencepiece></a>Kudo, T., & Richardson, J. (2018, November). SentencePiece: A simple and language independent subword tokenizer and detokenizer for Neural Text Processing. In Proceedings of the 2018 Conference on Empirical Methods in Natural Language Processing: System Demonstrations (pp. 66-71).\n",
        "6. <a name=sennrich-etal-2016-improving></a>Sennrich, R., Haddow, B., & Birch, A. (2016, August). Improving Neural Machine Translation Models with Monolingual Data. In Proceedings of the 54th Annual Meeting of the Association for Computational Linguistics (Volume 1: Long Papers) (pp. 86-96).\n",
        "7. <a name=edunov-etal-2018-understanding></a>Edunov, S., Ott, M., Auli, M., & Grangier, D. (2018). Understanding Back-Translation at Scale. In Proceedings of the 2018 Conference on Empirical Methods in Natural Language Processing (pp. 489-500).\n",
        "8. https://github.com/ajinkyakulkarni14/TED-Multilingual-Parallel-Corpus\n",
        "9. https://ithelp.ithome.com.tw/articles/10233122\n",
        "10. https://nlp.seas.harvard.edu/2018/04/03/attention.html\n",
        "11. https://colab.research.google.com/github/ga642381/ML2021-Spring/blob/main/HW05/HW05.ipynb"
      ]
    },
    {
      "cell_type": "code",
      "execution_count": null,
      "metadata": {
        "id": "Rrfm6iLJQ0tS"
      },
      "outputs": [],
      "source": []
    }
  ],
  "metadata": {
    "accelerator": "GPU",
    "colab": {
      "collapsed_sections": [
        "nKb4u67-sT_Z",
        "n1rwQysTsdJq",
        "59si_C0Wsms7",
        "oOpG4EBRLwe_",
        "6ZlE_1JnMv56",
        "UDAPmxjRNEEL",
        "ce5n4eS7NQNy",
        "rUB9f1WCNgMH",
        "VFJlkOMONsc6",
        "Gt1lX3DRO_yU",
        "BAGMiun8PnZy",
        "JOVQRHzGQU4-",
        "jegH0bvMQVmR",
        "a65glBVXQZiE",
        "smA0JraEQdxz",
        "Jn4XeawpQjLk"
      ],
      "name": "HW05.ipynb",
      "provenance": []
    },
    "kernelspec": {
      "display_name": "Python 3",
      "name": "python3"
    },
    "language_info": {
      "codemirror_mode": {
        "name": "ipython",
        "version": 3
      },
      "file_extension": ".py",
      "mimetype": "text/x-python",
      "name": "python",
      "nbconvert_exporter": "python",
      "pygments_lexer": "ipython3",
      "version": "3.7.13"
    }
  },
  "nbformat": 4,
  "nbformat_minor": 0
}
